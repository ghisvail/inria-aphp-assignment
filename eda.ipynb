{
 "cells": [
  {
   "cell_type": "markdown",
   "metadata": {},
   "source": [
    "# Analyse de la prévalence de la maladie"
   ]
  },
  {
   "cell_type": "markdown",
   "metadata": {},
   "source": [
    "## Nettoyage des données"
   ]
  },
  {
   "cell_type": "markdown",
   "metadata": {},
   "source": [
    "Préambule"
   ]
  },
  {
   "cell_type": "code",
   "execution_count": null,
   "metadata": {},
   "outputs": [],
   "source": [
    "import matplotlib.pyplot as plt\n",
    "%matplotlib inline"
   ]
  },
  {
   "cell_type": "markdown",
   "metadata": {},
   "source": [
    "Chargement des données"
   ]
  },
  {
   "cell_type": "code",
   "execution_count": null,
   "metadata": {},
   "outputs": [],
   "source": [
    "from getting_started import df_patient, df_pcr, pd\n",
    "\n",
    "df_patient = df_patient.convert_dtypes()\n",
    "df_pcr = df_pcr.convert_dtypes()"
   ]
  },
  {
   "cell_type": "markdown",
   "metadata": {},
   "source": [
    "Nettoyage et déduplication"
   ]
  },
  {
   "cell_type": "code",
   "execution_count": null,
   "metadata": {},
   "outputs": [],
   "source": [
    "from entity_resolution import detect_duplicates\n",
    "\n",
    "df_patient = detect_duplicates(df_patient)"
   ]
  },
  {
   "cell_type": "code",
   "execution_count": null,
   "metadata": {},
   "outputs": [],
   "source": [
    "df_patient.head(10)"
   ]
  },
  {
   "cell_type": "code",
   "execution_count": null,
   "metadata": {
    "tags": []
   },
   "outputs": [],
   "source": [
    "df_patient[\"dedup_id\"] = df_patient.index.to_frame().astype(\"Int64\")\n",
    "\n",
    "df = df_patient[df_patient.duplicated(\"phone_number\", keep=False)].dropna().reset_index()\n",
    "df = df[[\"phone_number\", \"patient_id\"]]\n",
    "df = df.merge(df, on=\"phone_number\").drop(columns=\"phone_number\")\n",
    "df = df.groupby([\"patient_id_x\"]).min()\n",
    "df = df.rename_axis(\"patient_id\").rename(columns={\"patient_id_y\": \"dedup_id\"}).astype(\"Int64\")\n",
    "\n",
    "df_patient.update(df)\n",
    "df_patient = df_patient.convert_dtypes()\n",
    "\n",
    "df_patient"
   ]
  },
  {
   "cell_type": "code",
   "execution_count": null,
   "metadata": {
    "tags": []
   },
   "outputs": [],
   "source": [
    "df_patient.info()"
   ]
  },
  {
   "cell_type": "markdown",
   "metadata": {},
   "source": [
    "Taux de déduplication"
   ]
  },
  {
   "cell_type": "code",
   "execution_count": null,
   "metadata": {},
   "outputs": [],
   "source": [
    "len(df_patient[df_patient.dedup_id.duplicated(keep=False)]) / len(df_patient)"
   ]
  },
  {
   "cell_type": "markdown",
   "metadata": {},
   "source": [
    "Conversion des résultats de test PCR en variable catégorielle"
   ]
  },
  {
   "cell_type": "code",
   "execution_count": null,
   "metadata": {},
   "outputs": [],
   "source": [
    "df_pcr.pcr = pd.Categorical(df_pcr.pcr.str[0], categories=[\"N\", \"P\"], ordered=True)\n",
    "\n",
    "df_pcr.pcr.value_counts()"
   ]
  },
  {
   "cell_type": "markdown",
   "metadata": {},
   "source": [
    "Jointure avec le référentiel de patient"
   ]
  },
  {
   "cell_type": "code",
   "execution_count": null,
   "metadata": {},
   "outputs": [],
   "source": [
    "df_pcr = df_pcr.merge(df_patient[\"dedup_id\"], left_on=\"patient_id\", right_index=True, validate=\"m:1\")\n",
    "\n",
    "df_pcr.pcr.value_counts()"
   ]
  },
  {
   "cell_type": "markdown",
   "metadata": {},
   "source": [
    "Patients affectés par COVID-19"
   ]
  },
  {
   "cell_type": "code",
   "execution_count": null,
   "metadata": {
    "tags": []
   },
   "outputs": [],
   "source": [
    "df_prevalence = (\n",
    "    df_pcr[[\"dedup_id\", \"pcr\"]]\n",
    "    .groupby(\"dedup_id\").max()\n",
    "    .rename(columns={\"pcr\": \"affected\"})\n",
    "    .merge(df_patient, on=\"dedup_id\")\n",
    "    .set_index(\"dedup_id\")\n",
    ")\n",
    "\n",
    "df_prevalence"
   ]
  },
  {
   "cell_type": "markdown",
   "metadata": {},
   "source": [
    "Prévalance à l'échelle de l'âge"
   ]
  },
  {
   "cell_type": "code",
   "execution_count": null,
   "metadata": {},
   "outputs": [],
   "source": [
    "df_prevalence[\"age_category\"] = pd.cut(df_prevalence.age, bins=[0, 10, 20, 30, 40, 100], include_lowest=True, ordered=True)\n",
    "\n",
    "df_prevalence[[\"age\", \"age_category\"]]"
   ]
  },
  {
   "cell_type": "code",
   "execution_count": null,
   "metadata": {},
   "outputs": [],
   "source": [
    "df_prevalence_age = (\n",
    "    df_prevalence[[\"age_category\", \"affected\"]]\n",
    "    .replace({\"affected\": {\"N\": 0, \"P\": 1}})\n",
    "    .groupby(\"age_category\").agg([\"sum\", \"count\"])\n",
    "    .droplevel(level=0, axis=\"columns\")\n",
    "    .rename(columns={\"sum\": \"affected\", \"count\": \"tested\"})\n",
    ")\n",
    "\n",
    "fig, ax = plt.subplots(figsize=(20, 8))\n",
    "df_prevalence_age.plot.bar(stacked=True, ax=ax)"
   ]
  },
  {
   "cell_type": "markdown",
   "metadata": {},
   "source": [
    "Prévalance à l'échelle de l'état"
   ]
  },
  {
   "cell_type": "code",
   "execution_count": null,
   "metadata": {},
   "outputs": [],
   "source": [
    "df_prevalence_state = (\n",
    "    df_prevalance[[\"state\", \"affected\"]]\n",
    "    .replace({\"affected\": {\"N\": 0, \"P\": 1}})\n",
    "    .groupby(\"state\").agg([\"sum\", \"count\"])\n",
    "    .droplevel(level=0, axis=\"columns\")\n",
    "    .rename(columns={\"sum\": \"affected\", \"count\": \"tested\"})\n",
    ")\n",
    "\n",
    "fig, ax = plt.subplots(figsize=(20, 8))\n",
    "df_prevalence_state.plot.bar(stacked=True, ax=ax)"
   ]
  },
  {
   "cell_type": "markdown",
   "metadata": {},
   "source": [
    "Prévalance à l'échelle code postal"
   ]
  },
  {
   "cell_type": "code",
   "execution_count": null,
   "metadata": {},
   "outputs": [],
   "source": [
    "df_prevalence_postcode = (\n",
    "    df_prevalence[[\"postcode\", \"affected\"]]\n",
    "    .replace({\"affected\": {\"N\": 0, \"P\": 1}})\n",
    "    .groupby(\"postcode\").agg([\"sum\", \"count\"])\n",
    "    .droplevel(level=0, axis=\"columns\")\n",
    "    .rename(columns={\"sum\": \"affected\", \"count\": \"tested\"})\n",
    ")"
   ]
  },
  {
   "cell_type": "markdown",
   "metadata": {},
   "source": [
    "Cartography"
   ]
  },
  {
   "cell_type": "code",
   "execution_count": null,
   "metadata": {},
   "outputs": [],
   "source": [
    "from ipyleaflet import Map, basemaps\n",
    "\n",
    "map_ = Map(basemap=basemaps.OpenStreetMap.BlackAndWhite, center=(-25.8, 136.8698), zoom=4)"
   ]
  },
  {
   "cell_type": "code",
   "execution_count": null,
   "metadata": {
    "tags": []
   },
   "outputs": [],
   "source": [
    "from ipyleaflet import Choropleth\n",
    "from branca.colormap import linear\n",
    "import json\n",
    "\n",
    "geo_data = json.load(open(\"aus_state.geojson\"))\n",
    "\n",
    "choro_data = (\n",
    "    df_prevalence_state[\"affected\"]\n",
    "    .rename(index={\n",
    "        \"nsw\": 0,\n",
    "        \"vic\": 1,\n",
    "        \"qld\": 2,\n",
    "        \"sa\": 3,\n",
    "        \"wa\": 4,\n",
    "        \"tas\": 5,\n",
    "        \"nt\": 6,\n",
    "        \"act\": 7\n",
    "    })\n",
    ").to_dict()\n",
    "\n",
    "choro_data[8] = 0   # Other territories\n",
    "\n",
    "choropleth = Choropleth(\n",
    "    geo_data=geo_data,\n",
    "    choro_data=choro_data,\n",
    "    colormap=linear.YlOrRd_04,\n",
    "    style={'fillOpacity': 0.8, 'dashArray': '5, 5'},\n",
    ")\n",
    "\n",
    "map_.add_layer(choropleth)"
   ]
  },
  {
   "cell_type": "code",
   "execution_count": null,
   "metadata": {
    "tags": []
   },
   "outputs": [],
   "source": [
    "from ipyleaflet import Heatmap\n",
    "\n",
    "locations = (\n",
    "    pd.read_csv(\n",
    "        \"australian_postcodes.csv\",\n",
    "        index_col=\"id\",\n",
    "        usecols=(\"id\",\"postcode\", \"long\", \"lat\"),\n",
    "        dtype={\"id\": \"int64\", \"postcode\": \"str\", \"long\": \"float\", \"lat\": \"float\"}\n",
    "    )\n",
    "    .rename(columns={\"long\": \"longitude\", \"lat\": \"latitude\"})\n",
    "    .drop_duplicates(\"postcode\", keep=\"first\")\n",
    "    .assign(altitude=0.0)\n",
    "    .set_index(\"postcode\")\n",
    ")\n",
    "\n",
    "locations = (\n",
    "    df_prevalence.merge(locations, left_on=\"postcode\", right_index=True)\n",
    "    [[\"latitude\", \"longitude\", \"altitude\"]].values.tolist()\n",
    ")\n",
    "\n",
    "heatmap = Heatmap(locations=locations, radius=10, min_opacity=1)\n",
    "\n",
    "map_.add_layer(heatmap)"
   ]
  },
  {
   "cell_type": "code",
   "execution_count": null,
   "metadata": {},
   "outputs": [],
   "source": [
    "map_"
   ]
  },
  {
   "cell_type": "code",
   "execution_count": null,
   "metadata": {},
   "outputs": [],
   "source": []
  }
 ],
 "metadata": {
  "kernelspec": {
   "display_name": "Python 3",
   "name": "python3"
  },
  "language_info": {
   "codemirror_mode": {
    "name": "ipython",
    "version": 3
   },
   "file_extension": ".py",
   "mimetype": "text/x-python",
   "name": "python",
   "nbconvert_exporter": "python",
   "pygments_lexer": "ipython3",
   "version": "3.8.5-final"
  }
 },
 "nbformat": 4,
 "nbformat_minor": 2
}
