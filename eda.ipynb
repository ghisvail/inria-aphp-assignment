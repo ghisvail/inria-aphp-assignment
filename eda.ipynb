{
 "cells": [
  {
   "cell_type": "markdown",
   "metadata": {},
   "source": [
    "# Analyse de la prévalence de la maladie"
   ]
  },
  {
   "cell_type": "markdown",
   "metadata": {},
   "source": [
    "## Nettoyage des données"
   ]
  },
  {
   "cell_type": "markdown",
   "metadata": {},
   "source": [
    "Préambule"
   ]
  },
  {
   "cell_type": "code",
   "execution_count": null,
   "metadata": {},
   "outputs": [],
   "source": [
    "import matplotlib.pyplot as plt\n",
    "%matplotlib inline\n",
    "import seaborn as sns\n",
    "sns.set_style(\"whitegrid\")"
   ]
  },
  {
   "cell_type": "markdown",
   "metadata": {},
   "source": [
    "Chargement des données"
   ]
  },
  {
   "cell_type": "code",
   "execution_count": null,
   "metadata": {},
   "outputs": [],
   "source": [
    "from getting_started import df_patient, df_pcr, pd\n",
    "\n",
    "df_patient = df_patient.convert_dtypes()\n",
    "df_pcr = df_pcr.convert_dtypes()"
   ]
  },
  {
   "cell_type": "markdown",
   "metadata": {},
   "source": [
    "Nettoyage et déduplication"
   ]
  },
  {
   "cell_type": "code",
   "execution_count": null,
   "metadata": {},
   "outputs": [],
   "source": [
    "from entity_resolution import detect_duplicates\n",
    "\n",
    "df_patient = detect_duplicates(df_patient)"
   ]
  },
  {
   "cell_type": "code",
   "execution_count": null,
   "metadata": {},
   "outputs": [],
   "source": [
    "df_patient.head(10)"
   ]
  },
  {
   "cell_type": "code",
   "execution_count": null,
   "metadata": {
    "tags": []
   },
   "outputs": [],
   "source": [
    "df_patient[\"dedup_id\"] = df_patient.index.to_frame().astype(\"Int64\")\n",
    "\n",
    "df = df_patient[df_patient.duplicated(\"phone_number\", keep=False)].dropna().reset_index()\n",
    "df = df[[\"phone_number\", \"patient_id\"]]\n",
    "df = df.merge(df, on=\"phone_number\").drop(columns=\"phone_number\")\n",
    "df = df.groupby([\"patient_id_x\"]).min()\n",
    "df = df.rename_axis(\"patient_id\").rename(columns={\"patient_id_y\": \"dedup_id\"}).astype(\"Int64\")\n",
    "\n",
    "df_patient.update(df)\n",
    "df_patient = df_patient.convert_dtypes()\n",
    "\n",
    "df_patient"
   ]
  },
  {
   "cell_type": "code",
   "execution_count": null,
   "metadata": {
    "tags": []
   },
   "outputs": [],
   "source": [
    "df_patient.info()"
   ]
  },
  {
   "cell_type": "markdown",
   "metadata": {},
   "source": [
    "Taux de déduplication"
   ]
  },
  {
   "cell_type": "code",
   "execution_count": null,
   "metadata": {},
   "outputs": [],
   "source": [
    "len(df_patient[df_patient.dedup_id.duplicated(keep=False)]) / len(df_patient)"
   ]
  },
  {
   "cell_type": "markdown",
   "metadata": {},
   "source": [
    "Conversion des résultats de test PCR en variable catégorielle"
   ]
  },
  {
   "cell_type": "code",
   "execution_count": null,
   "metadata": {},
   "outputs": [],
   "source": [
    "df_pcr.pcr = pd.Categorical(df_pcr.pcr.str[0], categories=[\"N\", \"P\"], ordered=True)\n",
    "\n",
    "df_pcr.pcr.value_counts()"
   ]
  },
  {
   "cell_type": "markdown",
   "metadata": {},
   "source": [
    "Jointure avec le référentiel de patient"
   ]
  },
  {
   "cell_type": "code",
   "execution_count": null,
   "metadata": {},
   "outputs": [],
   "source": [
    "df_pcr = df_pcr.merge(df_patient[\"dedup_id\"], left_on=\"patient_id\", right_index=True, validate=\"m:1\")\n",
    "\n",
    "df_pcr.pcr.value_counts()"
   ]
  },
  {
   "cell_type": "markdown",
   "metadata": {},
   "source": [
    "Patients affectés par COVID-19"
   ]
  },
  {
   "cell_type": "code",
   "execution_count": null,
   "metadata": {
    "tags": []
   },
   "outputs": [],
   "source": [
    "df_prevalance = (\n",
    "    df_pcr[[\"dedup_id\", \"pcr\"]]\n",
    "    .groupby(\"dedup_id\").max()\n",
    "    .rename(columns={\"pcr\": \"affected\"})\n",
    "    .merge(df_patient, on=\"dedup_id\")\n",
    "    .set_index(\"dedup_id\")\n",
    ")\n",
    "\n",
    "df_prevalance"
   ]
  },
  {
   "cell_type": "markdown",
   "metadata": {},
   "source": [
    "Prévalance à l'échelle de l'âge"
   ]
  },
  {
   "cell_type": "code",
   "execution_count": null,
   "metadata": {},
   "outputs": [],
   "source": [
    "df_prevalance[\"age_category\"] = pd.cut(df_prevalance.age, bins=range(0, 101, 10))\n",
    "\n",
    "df_prevalance[[\"age\", \"age_category\"]]"
   ]
  },
  {
   "cell_type": "code",
   "execution_count": null,
   "metadata": {},
   "outputs": [],
   "source": [
    "df_prevalence_age = (\n",
    "    df_prevalance[[\"age_category\", \"affected\"]]\n",
    "    .replace({\"affected\": {\"N\": 0, \"P\": 1}})\n",
    "    .groupby(\"age_category\").agg([\"sum\", \"count\"])\n",
    "    .droplevel(level=0, axis=\"columns\")\n",
    "    .rename(columns={\"sum\": \"affected\", \"count\": \"tested\"})\n",
    ")\n",
    "\n",
    "fig, ax = plt.subplots(figsize=(20, 8))\n",
    "df_prevalence_age.plot.bar(stacked=True, ax=ax)"
   ]
  },
  {
   "cell_type": "markdown",
   "metadata": {},
   "source": [
    "Prévalance à l'échelle de l'état"
   ]
  },
  {
   "cell_type": "code",
   "execution_count": null,
   "metadata": {},
   "outputs": [],
   "source": [
    "df_prevalence_state = (\n",
    "    df_prevalance[[\"state\", \"affected\"]]\n",
    "    .replace({\"affected\": {\"N\": 0, \"P\": 1}})\n",
    "    .groupby(\"state\").agg([\"sum\", \"count\"])\n",
    "    .droplevel(level=0, axis=\"columns\")\n",
    "    .rename(columns={\"sum\": \"affected\", \"count\": \"tested\"})\n",
    ")\n",
    "\n",
    "fig, ax = plt.subplots(figsize=(20, 8))\n",
    "df_prevalence_state.plot.bar(stacked=True, ax=ax)"
   ]
  },
  {
   "cell_type": "markdown",
   "metadata": {},
   "source": [
    "Prévalance à l'échelle code postal"
   ]
  },
  {
   "cell_type": "code",
   "execution_count": null,
   "metadata": {},
   "outputs": [],
   "source": [
    "df_prevalence_postcode = (\n",
    "    df_prevalance[[\"postcode\", \"affected\"]]\n",
    "    .replace({\"affected\": {\"N\": 0, \"P\": 1}})\n",
    "    .groupby(\"postcode\").agg([\"sum\", \"count\"])\n",
    "    .droplevel(level=0, axis=\"columns\")\n",
    "    .rename(columns={\"sum\": \"affected\", \"count\": \"tested\"})\n",
    ")\n",
    "\n",
    "df_prevalence_postcode.sort_values(\"affected\", ascending=False)"
   ]
  },
  {
   "cell_type": "markdown",
   "metadata": {},
   "source": [
    "Cartography"
   ]
  },
  {
   "cell_type": "code",
   "execution_count": null,
   "metadata": {},
   "outputs": [],
   "source": [
    "from ipyleaflet import Choropleth, HeatMap, LegendControl, Map, basemaps\n",
    "from branca.colormap import linear\n",
    "import json\n",
    "\n",
    "map_ = Map(basemap=basemaps.OpenStreetMap.BlackAndWhite, center=(-25.8, 136.8698), zoom=4)\n",
    "\n",
    "geo_data = json.load(open(\"aus_state.geojson\"))\n",
    "\n",
    "choro_data = df_prevalence_state[\"affected\"].rename(index={\"nsw\":0, \"vic\":1, \"qld\":2, \"sa\":3, \"wa\":4, \"tas\":5, \"nt\":6, \"act\":7}).to_dict()\n",
    "choro_data.update({8: 0})\n",
    "\n",
    "choropleth = Choropleth(\n",
    "    geo_data=geo_data,\n",
    "    choro_data=choro_data,\n",
    "    colormap=linear.YlOrRd_04,\n",
    "    style={'fillOpacity': 0.8, 'dashArray': '5, 5'},\n",
    ")\n",
    "\n",
    "map_.add_layer(choropleth)\n",
    "\n",
    "# TODO\n",
    "locations = pd.read_csv(\"aus_postcode.csv\", dtype=str).set_index(\"postcode\").convert_dtypes()\n",
    "locations = df_prevalence.merge(locations, left_index=True, right_index=True)\n",
    "\n",
    "heatmap = Heatmap(\n",
    "    locations=locations,\n",
    "    radius=10,\n",
    "    min_opacity=1,\n",
    "    gradient={\n",
    "        0.4: 'blue',\n",
    "        0.6: 'cyan',\n",
    "        0.7: 'yellow',\n",
    "        0.8: 'orange',\n",
    "        1.0: 'red'\n",
    "    }\n",
    ")\n",
    "\n",
    "map_.add_layer(heatmap)\n",
    "\n",
    "map_"
   ]
  },
  {
   "cell_type": "code",
   "execution_count": null,
   "metadata": {},
   "outputs": [],
   "source": []
  }
 ],
 "metadata": {
  "kernelspec": {
   "display_name": "Python 3",
   "name": "python3"
  },
  "language_info": {
   "codemirror_mode": {
    "name": "ipython",
    "version": 3
   },
   "file_extension": ".py",
   "mimetype": "text/x-python",
   "name": "python",
   "nbconvert_exporter": "python",
   "pygments_lexer": "ipython3",
   "version": "3.8.5-final"
  }
 },
 "nbformat": 4,
 "nbformat_minor": 2
}