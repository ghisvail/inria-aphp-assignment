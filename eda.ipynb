{
 "metadata": {
  "language_info": {
   "codemirror_mode": {
    "name": "ipython",
    "version": 3
   },
   "file_extension": ".py",
   "mimetype": "text/x-python",
   "name": "python",
   "nbconvert_exporter": "python",
   "pygments_lexer": "ipython3",
   "version": "3.8.5-final"
  },
  "orig_nbformat": 2,
  "kernelspec": {
   "name": "python3",
   "display_name": "Python 3"
  }
 },
 "nbformat": 4,
 "nbformat_minor": 2,
 "cells": [
  {
   "cell_type": "markdown",
   "metadata": {},
   "source": [
    "# Analyse de la prévalence de la maladie"
   ]
  },
  {
   "cell_type": "markdown",
   "metadata": {},
   "source": [
    "## Nettoyage des données"
   ]
  },
  {
   "cell_type": "markdown",
   "metadata": {},
   "source": [
    "Chargement des données"
   ]
  },
  {
   "cell_type": "code",
   "execution_count": 1,
   "metadata": {},
   "outputs": [],
   "source": [
    "from getting_started import df_patient, df_pcr, pd\n",
    "\n",
    "df_patient = df_patient.convert_dtypes()\n",
    "df_pcr = df_pcr.convert_dtypes()"
   ]
  },
  {
   "cell_type": "markdown",
   "metadata": {},
   "source": [
    "Nettoyage et déduplication"
   ]
  },
  {
   "cell_type": "code",
   "execution_count": 2,
   "metadata": {},
   "outputs": [],
   "source": [
    "from entity_resolution import detect_duplicates\n",
    "\n",
    "df_patient = detect_duplicates(df_patient)"
   ]
  },
  {
   "cell_type": "code",
   "execution_count": 3,
   "metadata": {},
   "outputs": [
    {
     "output_type": "execute_result",
     "data": {
      "text/plain": "           given_name    surname street_number            address_1  \\\npatient_id                                                            \n221958        matisse     clarke            13          rene street   \n771155         joshua     elrick            23         andrea place   \n231932          alice     conboy            35     mountain circuit   \n465838         sienna   craswell            39  cumberlegeicrescent   \n359178         joshua  bastiaans           144        lowrie street   \n744167             ky      laing           448          nyawi place   \n210268        matthew      laing            11         barnes place   \n832180           jack    renfrey            27        osmand street   \n154886          adele       ryan            76        house circuit   \n237337       breeanne      wynne            12        cowper street   \n\n                   suburb postcode state date_of_birth  age phone_number  \\\npatient_id                                                                 \n221958         ellenbrook     2527   nsw    1971-07-08   32  08 86018809   \n771155       east preston     2074   nsw    1912-09-21   34  02 97793152   \n231932           prospect     2305   nsw    1981-09-05   22  02 20403934   \n465838              henty     3620   vic    1984-08-09   30  02 62832318   \n359178      campbell town     4051   qld    1934-04-30   31  03 69359594   \n744167            barmera     3556   vic    1905-09-19   32  03 59872070   \n210268          laurieton     2160   nsw    1906-10-18   29  02 86925029   \n832180        maribyrnong     2170   nsw    1961-05-18   31  03 15575583   \n154886           new farm     2200   nsw    1943-01-02   33  07 37444521   \n237337         bonnet bay     2062   nsw    1903-06-06   35  08 24888117   \n\n              address_2  \npatient_id               \n221958         westella  \n771155          foxdown  \n231932             <NA>  \n465838           jodane  \n359178             <NA>  \n744167             <NA>  \n210268             <NA>  \n832180      dhurringill  \n154886             <NA>  \n237337             <NA>  ",
      "text/html": "<div>\n<style scoped>\n    .dataframe tbody tr th:only-of-type {\n        vertical-align: middle;\n    }\n\n    .dataframe tbody tr th {\n        vertical-align: top;\n    }\n\n    .dataframe thead th {\n        text-align: right;\n    }\n</style>\n<table border=\"1\" class=\"dataframe\">\n  <thead>\n    <tr style=\"text-align: right;\">\n      <th></th>\n      <th>given_name</th>\n      <th>surname</th>\n      <th>street_number</th>\n      <th>address_1</th>\n      <th>suburb</th>\n      <th>postcode</th>\n      <th>state</th>\n      <th>date_of_birth</th>\n      <th>age</th>\n      <th>phone_number</th>\n      <th>address_2</th>\n    </tr>\n    <tr>\n      <th>patient_id</th>\n      <th></th>\n      <th></th>\n      <th></th>\n      <th></th>\n      <th></th>\n      <th></th>\n      <th></th>\n      <th></th>\n      <th></th>\n      <th></th>\n      <th></th>\n    </tr>\n  </thead>\n  <tbody>\n    <tr>\n      <th>221958</th>\n      <td>matisse</td>\n      <td>clarke</td>\n      <td>13</td>\n      <td>rene street</td>\n      <td>ellenbrook</td>\n      <td>2527</td>\n      <td>nsw</td>\n      <td>1971-07-08</td>\n      <td>32</td>\n      <td>08 86018809</td>\n      <td>westella</td>\n    </tr>\n    <tr>\n      <th>771155</th>\n      <td>joshua</td>\n      <td>elrick</td>\n      <td>23</td>\n      <td>andrea place</td>\n      <td>east preston</td>\n      <td>2074</td>\n      <td>nsw</td>\n      <td>1912-09-21</td>\n      <td>34</td>\n      <td>02 97793152</td>\n      <td>foxdown</td>\n    </tr>\n    <tr>\n      <th>231932</th>\n      <td>alice</td>\n      <td>conboy</td>\n      <td>35</td>\n      <td>mountain circuit</td>\n      <td>prospect</td>\n      <td>2305</td>\n      <td>nsw</td>\n      <td>1981-09-05</td>\n      <td>22</td>\n      <td>02 20403934</td>\n      <td>&lt;NA&gt;</td>\n    </tr>\n    <tr>\n      <th>465838</th>\n      <td>sienna</td>\n      <td>craswell</td>\n      <td>39</td>\n      <td>cumberlegeicrescent</td>\n      <td>henty</td>\n      <td>3620</td>\n      <td>vic</td>\n      <td>1984-08-09</td>\n      <td>30</td>\n      <td>02 62832318</td>\n      <td>jodane</td>\n    </tr>\n    <tr>\n      <th>359178</th>\n      <td>joshua</td>\n      <td>bastiaans</td>\n      <td>144</td>\n      <td>lowrie street</td>\n      <td>campbell town</td>\n      <td>4051</td>\n      <td>qld</td>\n      <td>1934-04-30</td>\n      <td>31</td>\n      <td>03 69359594</td>\n      <td>&lt;NA&gt;</td>\n    </tr>\n    <tr>\n      <th>744167</th>\n      <td>ky</td>\n      <td>laing</td>\n      <td>448</td>\n      <td>nyawi place</td>\n      <td>barmera</td>\n      <td>3556</td>\n      <td>vic</td>\n      <td>1905-09-19</td>\n      <td>32</td>\n      <td>03 59872070</td>\n      <td>&lt;NA&gt;</td>\n    </tr>\n    <tr>\n      <th>210268</th>\n      <td>matthew</td>\n      <td>laing</td>\n      <td>11</td>\n      <td>barnes place</td>\n      <td>laurieton</td>\n      <td>2160</td>\n      <td>nsw</td>\n      <td>1906-10-18</td>\n      <td>29</td>\n      <td>02 86925029</td>\n      <td>&lt;NA&gt;</td>\n    </tr>\n    <tr>\n      <th>832180</th>\n      <td>jack</td>\n      <td>renfrey</td>\n      <td>27</td>\n      <td>osmand street</td>\n      <td>maribyrnong</td>\n      <td>2170</td>\n      <td>nsw</td>\n      <td>1961-05-18</td>\n      <td>31</td>\n      <td>03 15575583</td>\n      <td>dhurringill</td>\n    </tr>\n    <tr>\n      <th>154886</th>\n      <td>adele</td>\n      <td>ryan</td>\n      <td>76</td>\n      <td>house circuit</td>\n      <td>new farm</td>\n      <td>2200</td>\n      <td>nsw</td>\n      <td>1943-01-02</td>\n      <td>33</td>\n      <td>07 37444521</td>\n      <td>&lt;NA&gt;</td>\n    </tr>\n    <tr>\n      <th>237337</th>\n      <td>breeanne</td>\n      <td>wynne</td>\n      <td>12</td>\n      <td>cowper street</td>\n      <td>bonnet bay</td>\n      <td>2062</td>\n      <td>nsw</td>\n      <td>1903-06-06</td>\n      <td>35</td>\n      <td>08 24888117</td>\n      <td>&lt;NA&gt;</td>\n    </tr>\n  </tbody>\n</table>\n</div>"
     },
     "metadata": {},
     "execution_count": 3
    }
   ],
   "source": [
    "df_patient.head(10)"
   ]
  },
  {
   "cell_type": "code",
   "execution_count": 4,
   "metadata": {
    "tags": []
   },
   "outputs": [
    {
     "output_type": "execute_result",
     "data": {
      "text/plain": "           given_name    surname street_number              address_1  \\\npatient_id                                                              \n221958        matisse     clarke            13            rene street   \n771155         joshua     elrick            23           andrea place   \n231932          alice     conboy            35       mountain circuit   \n465838         sienna   craswell            39    cumberlegeicrescent   \n359178         joshua  bastiaans           144          lowrie street   \n...               ...        ...           ...                    ...   \n368617           abby       <NA>            19  john cleland crescent   \n796658           dale     priest            19  bellchambers crescent   \n511885        alessia     mawlai             4          miller street   \n985932         hannah      mason             1         halligan place   \n925217           jack    mcveigh             5           alinda place   \n\n                      suburb postcode state date_of_birth   age phone_number  \\\npatient_id                                                                     \n221958            ellenbrook     2527   nsw    1971-07-08    32  08 86018809   \n771155          east preston     2074   nsw    1912-09-21    34  02 97793152   \n231932              prospect     2305   nsw    1981-09-05    22  02 20403934   \n465838                 henty     3620   vic    1984-08-09    30  02 62832318   \n359178         campbell town     4051   qld    1934-04-30    31  03 69359594   \n...                      ...      ...   ...           ...   ...          ...   \n368617          boyne island     2290   nsw    1957-02-10  <NA>  02 92489054   \n796658      hoppers crossing     3033   vic    1959-06-19    31  07 20549476   \n511885            smithfield     3616   vic           NaT    26  03 83466737   \n985932             beaumaris     2443   nsw    1914-03-04    25  04 41125514   \n925217            thornlands     4350   qld    1923-05-21    26  07 52535106   \n\n           address_2 dedup_id  \npatient_id                     \n221958      westella   221958  \n771155       foxdown   771155  \n231932          <NA>   231932  \n465838        jodane   465838  \n359178          <NA>   359178  \n...              ...      ...  \n368617      glenmore   368617  \n796658          <NA>   796658  \n511885          <NA>   511885  \n985932          <NA>   985932  \n925217          <NA>   925217  \n\n[19597 rows x 12 columns]",
      "text/html": "<div>\n<style scoped>\n    .dataframe tbody tr th:only-of-type {\n        vertical-align: middle;\n    }\n\n    .dataframe tbody tr th {\n        vertical-align: top;\n    }\n\n    .dataframe thead th {\n        text-align: right;\n    }\n</style>\n<table border=\"1\" class=\"dataframe\">\n  <thead>\n    <tr style=\"text-align: right;\">\n      <th></th>\n      <th>given_name</th>\n      <th>surname</th>\n      <th>street_number</th>\n      <th>address_1</th>\n      <th>suburb</th>\n      <th>postcode</th>\n      <th>state</th>\n      <th>date_of_birth</th>\n      <th>age</th>\n      <th>phone_number</th>\n      <th>address_2</th>\n      <th>dedup_id</th>\n    </tr>\n    <tr>\n      <th>patient_id</th>\n      <th></th>\n      <th></th>\n      <th></th>\n      <th></th>\n      <th></th>\n      <th></th>\n      <th></th>\n      <th></th>\n      <th></th>\n      <th></th>\n      <th></th>\n      <th></th>\n    </tr>\n  </thead>\n  <tbody>\n    <tr>\n      <th>221958</th>\n      <td>matisse</td>\n      <td>clarke</td>\n      <td>13</td>\n      <td>rene street</td>\n      <td>ellenbrook</td>\n      <td>2527</td>\n      <td>nsw</td>\n      <td>1971-07-08</td>\n      <td>32</td>\n      <td>08 86018809</td>\n      <td>westella</td>\n      <td>221958</td>\n    </tr>\n    <tr>\n      <th>771155</th>\n      <td>joshua</td>\n      <td>elrick</td>\n      <td>23</td>\n      <td>andrea place</td>\n      <td>east preston</td>\n      <td>2074</td>\n      <td>nsw</td>\n      <td>1912-09-21</td>\n      <td>34</td>\n      <td>02 97793152</td>\n      <td>foxdown</td>\n      <td>771155</td>\n    </tr>\n    <tr>\n      <th>231932</th>\n      <td>alice</td>\n      <td>conboy</td>\n      <td>35</td>\n      <td>mountain circuit</td>\n      <td>prospect</td>\n      <td>2305</td>\n      <td>nsw</td>\n      <td>1981-09-05</td>\n      <td>22</td>\n      <td>02 20403934</td>\n      <td>&lt;NA&gt;</td>\n      <td>231932</td>\n    </tr>\n    <tr>\n      <th>465838</th>\n      <td>sienna</td>\n      <td>craswell</td>\n      <td>39</td>\n      <td>cumberlegeicrescent</td>\n      <td>henty</td>\n      <td>3620</td>\n      <td>vic</td>\n      <td>1984-08-09</td>\n      <td>30</td>\n      <td>02 62832318</td>\n      <td>jodane</td>\n      <td>465838</td>\n    </tr>\n    <tr>\n      <th>359178</th>\n      <td>joshua</td>\n      <td>bastiaans</td>\n      <td>144</td>\n      <td>lowrie street</td>\n      <td>campbell town</td>\n      <td>4051</td>\n      <td>qld</td>\n      <td>1934-04-30</td>\n      <td>31</td>\n      <td>03 69359594</td>\n      <td>&lt;NA&gt;</td>\n      <td>359178</td>\n    </tr>\n    <tr>\n      <th>...</th>\n      <td>...</td>\n      <td>...</td>\n      <td>...</td>\n      <td>...</td>\n      <td>...</td>\n      <td>...</td>\n      <td>...</td>\n      <td>...</td>\n      <td>...</td>\n      <td>...</td>\n      <td>...</td>\n      <td>...</td>\n    </tr>\n    <tr>\n      <th>368617</th>\n      <td>abby</td>\n      <td>&lt;NA&gt;</td>\n      <td>19</td>\n      <td>john cleland crescent</td>\n      <td>boyne island</td>\n      <td>2290</td>\n      <td>nsw</td>\n      <td>1957-02-10</td>\n      <td>&lt;NA&gt;</td>\n      <td>02 92489054</td>\n      <td>glenmore</td>\n      <td>368617</td>\n    </tr>\n    <tr>\n      <th>796658</th>\n      <td>dale</td>\n      <td>priest</td>\n      <td>19</td>\n      <td>bellchambers crescent</td>\n      <td>hoppers crossing</td>\n      <td>3033</td>\n      <td>vic</td>\n      <td>1959-06-19</td>\n      <td>31</td>\n      <td>07 20549476</td>\n      <td>&lt;NA&gt;</td>\n      <td>796658</td>\n    </tr>\n    <tr>\n      <th>511885</th>\n      <td>alessia</td>\n      <td>mawlai</td>\n      <td>4</td>\n      <td>miller street</td>\n      <td>smithfield</td>\n      <td>3616</td>\n      <td>vic</td>\n      <td>NaT</td>\n      <td>26</td>\n      <td>03 83466737</td>\n      <td>&lt;NA&gt;</td>\n      <td>511885</td>\n    </tr>\n    <tr>\n      <th>985932</th>\n      <td>hannah</td>\n      <td>mason</td>\n      <td>1</td>\n      <td>halligan place</td>\n      <td>beaumaris</td>\n      <td>2443</td>\n      <td>nsw</td>\n      <td>1914-03-04</td>\n      <td>25</td>\n      <td>04 41125514</td>\n      <td>&lt;NA&gt;</td>\n      <td>985932</td>\n    </tr>\n    <tr>\n      <th>925217</th>\n      <td>jack</td>\n      <td>mcveigh</td>\n      <td>5</td>\n      <td>alinda place</td>\n      <td>thornlands</td>\n      <td>4350</td>\n      <td>qld</td>\n      <td>1923-05-21</td>\n      <td>26</td>\n      <td>07 52535106</td>\n      <td>&lt;NA&gt;</td>\n      <td>925217</td>\n    </tr>\n  </tbody>\n</table>\n<p>19597 rows × 12 columns</p>\n</div>"
     },
     "metadata": {},
     "execution_count": 4
    }
   ],
   "source": [
    "df_patient[\"dedup_id\"] = df_patient.index.to_frame()\n",
    "\n",
    "df = df_patient[df_patient.duplicated(\"phone_number\", keep=False)].dropna().reset_index()\n",
    "\n",
    "df = df[[\"phone_number\", \"patient_id\"]]\n",
    "df = df.merge(df, on=\"phone_number\").drop(columns=\"phone_number\")\n",
    "df = df.groupby([\"patient_id_x\"]).min()\n",
    "df = df.rename_axis(\"patient_id\").rename(columns={\"patient_id_y\": \"dedup_id\"})\n",
    "\n",
    "df_patient.update(df)\n",
    "\n",
    "df_patient"
   ]
  },
  {
   "cell_type": "markdown",
   "metadata": {},
   "source": [
    "Taux de déduplication"
   ]
  },
  {
   "cell_type": "code",
   "execution_count": 5,
   "metadata": {},
   "outputs": [
    {
     "output_type": "execute_result",
     "data": {
      "text/plain": "0.016992396795427873"
     },
     "metadata": {},
     "execution_count": 5
    }
   ],
   "source": [
    "len(df_patient[df_patient.dedup_id.duplicated(keep=False)]) / len(df_patient)"
   ]
  },
  {
   "cell_type": "markdown",
   "metadata": {},
   "source": [
    "Conversion des résultats de test PCR en variable catégorielle"
   ]
  },
  {
   "cell_type": "code",
   "execution_count": 6,
   "metadata": {},
   "outputs": [
    {
     "output_type": "execute_result",
     "data": {
      "text/plain": "N    6616\nP    2184\nName: pcr, dtype: int64"
     },
     "metadata": {},
     "execution_count": 6
    }
   ],
   "source": [
    "df_pcr.pcr = pd.Categorical(df_pcr.pcr.str[0], categories=[\"N\", \"P\"], ordered=True)\n",
    "\n",
    "df_pcr.pcr.value_counts()"
   ]
  },
  {
   "cell_type": "markdown",
   "metadata": {},
   "source": [
    "Jointure avec le référentiel de patient"
   ]
  },
  {
   "cell_type": "code",
   "execution_count": 7,
   "metadata": {},
   "outputs": [
    {
     "output_type": "execute_result",
     "data": {
      "text/plain": "N    6491\nP    2141\nName: pcr, dtype: int64"
     },
     "metadata": {},
     "execution_count": 7
    }
   ],
   "source": [
    "df_pcr = df_pcr.merge(df_patient, left_on=\"patient_id\", right_index=True, validate=\"m:1\")\n",
    "\n",
    "df_pcr.pcr.value_counts()"
   ]
  },
  {
   "cell_type": "code",
   "execution_count": 8,
   "metadata": {},
   "outputs": [
    {
     "output_type": "execute_result",
     "data": {
      "text/plain": "       tested  affected\nstate                  \nnsw      2898       739\nvic      2135       516\nqld      1639       410\nwa        808       198\nsa        677       175\ntas       234        66\nact       156        36\nnt         75        20",
      "text/html": "<div>\n<style scoped>\n    .dataframe tbody tr th:only-of-type {\n        vertical-align: middle;\n    }\n\n    .dataframe tbody tr th {\n        vertical-align: top;\n    }\n\n    .dataframe thead th {\n        text-align: right;\n    }\n</style>\n<table border=\"1\" class=\"dataframe\">\n  <thead>\n    <tr style=\"text-align: right;\">\n      <th></th>\n      <th>tested</th>\n      <th>affected</th>\n    </tr>\n    <tr>\n      <th>state</th>\n      <th></th>\n      <th></th>\n    </tr>\n  </thead>\n  <tbody>\n    <tr>\n      <th>nsw</th>\n      <td>2898</td>\n      <td>739</td>\n    </tr>\n    <tr>\n      <th>vic</th>\n      <td>2135</td>\n      <td>516</td>\n    </tr>\n    <tr>\n      <th>qld</th>\n      <td>1639</td>\n      <td>410</td>\n    </tr>\n    <tr>\n      <th>wa</th>\n      <td>808</td>\n      <td>198</td>\n    </tr>\n    <tr>\n      <th>sa</th>\n      <td>677</td>\n      <td>175</td>\n    </tr>\n    <tr>\n      <th>tas</th>\n      <td>234</td>\n      <td>66</td>\n    </tr>\n    <tr>\n      <th>act</th>\n      <td>156</td>\n      <td>36</td>\n    </tr>\n    <tr>\n      <th>nt</th>\n      <td>75</td>\n      <td>20</td>\n    </tr>\n  </tbody>\n</table>\n</div>"
     },
     "metadata": {},
     "execution_count": 8
    }
   ],
   "source": [
    "df_prevalence_state = (\n",
    "    df_pcr[[\"dedup_id\", \"pcr\"]]\n",
    "    .groupby(\"dedup_id\").max()\n",
    "    .replace({\"N\": 0, \"P\": 1})\n",
    "    .merge(df_pcr[[\"dedup_id\", \"state\"]], on=\"dedup_id\")\n",
    "    .groupby(\"state\").aggregate({\"dedup_id\": \"count\", \"pcr\": \"sum\"})\n",
    "    .rename(columns={\"dedup_id\": \"tested\", \"pcr\": \"affected\"})\n",
    ")\n",
    "\n",
    "df_prevalence_state.sort_values(\"affected\", ascending=False)"
   ]
  },
  {
   "cell_type": "code",
   "execution_count": 9,
   "metadata": {},
   "outputs": [
    {
     "output_type": "execute_result",
     "data": {
      "text/plain": "          tested  affected\npostcode                  \n2170          35        18\n4740          31        13\n4305          27         9\n4215          24         9\n3690          17         8\n...          ...       ...\n3786           1         0\n3787           2         0\n3791           1         0\n3796           2         0\n7469           1         0\n\n[1665 rows x 2 columns]",
      "text/html": "<div>\n<style scoped>\n    .dataframe tbody tr th:only-of-type {\n        vertical-align: middle;\n    }\n\n    .dataframe tbody tr th {\n        vertical-align: top;\n    }\n\n    .dataframe thead th {\n        text-align: right;\n    }\n</style>\n<table border=\"1\" class=\"dataframe\">\n  <thead>\n    <tr style=\"text-align: right;\">\n      <th></th>\n      <th>tested</th>\n      <th>affected</th>\n    </tr>\n    <tr>\n      <th>postcode</th>\n      <th></th>\n      <th></th>\n    </tr>\n  </thead>\n  <tbody>\n    <tr>\n      <th>2170</th>\n      <td>35</td>\n      <td>18</td>\n    </tr>\n    <tr>\n      <th>4740</th>\n      <td>31</td>\n      <td>13</td>\n    </tr>\n    <tr>\n      <th>4305</th>\n      <td>27</td>\n      <td>9</td>\n    </tr>\n    <tr>\n      <th>4215</th>\n      <td>24</td>\n      <td>9</td>\n    </tr>\n    <tr>\n      <th>3690</th>\n      <td>17</td>\n      <td>8</td>\n    </tr>\n    <tr>\n      <th>...</th>\n      <td>...</td>\n      <td>...</td>\n    </tr>\n    <tr>\n      <th>3786</th>\n      <td>1</td>\n      <td>0</td>\n    </tr>\n    <tr>\n      <th>3787</th>\n      <td>2</td>\n      <td>0</td>\n    </tr>\n    <tr>\n      <th>3791</th>\n      <td>1</td>\n      <td>0</td>\n    </tr>\n    <tr>\n      <th>3796</th>\n      <td>2</td>\n      <td>0</td>\n    </tr>\n    <tr>\n      <th>7469</th>\n      <td>1</td>\n      <td>0</td>\n    </tr>\n  </tbody>\n</table>\n<p>1665 rows × 2 columns</p>\n</div>"
     },
     "metadata": {},
     "execution_count": 9
    }
   ],
   "source": [
    "df_prevalence_postcode = (\n",
    "    df_pcr[[\"dedup_id\", \"pcr\"]]\n",
    "    .groupby(\"dedup_id\").max()\n",
    "    .replace({\"N\": 0, \"P\": 1})\n",
    "    .merge(df_pcr[[\"dedup_id\", \"postcode\"]], on=\"dedup_id\")\n",
    "    .groupby(\"postcode\").aggregate({\"dedup_id\": \"count\", \"pcr\": \"sum\"})\n",
    "    .rename(columns={\"dedup_id\": \"tested\", \"pcr\": \"affected\"})\n",
    ")\n",
    "\n",
    "df_prevalence_postcode.sort_values(\"affected\", ascending=False)"
   ]
  },
  {
   "cell_type": "markdown",
   "metadata": {},
   "source": [
    "Carto"
   ]
  },
  {
   "cell_type": "code",
   "execution_count": 37,
   "metadata": {},
   "outputs": [
    {
     "output_type": "display_data",
     "data": {
      "text/plain": "Map(center=[-25.8, 136.8698], controls=(ZoomControl(options=['position', 'zoom_in_text', 'zoom_in_title', 'zoo…",
      "application/vnd.jupyter.widget-view+json": {
       "version_major": 2,
       "version_minor": 0,
       "model_id": "1a3d0fe5d5974c57b8abaf4c63e67ab0"
      }
     },
     "metadata": {}
    }
   ],
   "source": [
    "from ipyleaflet import Choropleth, LegendControl, Map\n",
    "from branca.colormap import linear\n",
    "import json\n",
    "\n",
    "geo_data = json.load(open(\"states.geojson\"))\n",
    "\n",
    "choro_data = df_prevalence_state[\"affected\"].rename(index={\"nsw\":0, \"vic\":1, \"qld\":2, \"sa\":3, \"wa\":4, \"tas\":5, \"nt\":6, \"act\":7}).to_dict()\n",
    "\n",
    "choropleth = Choropleth(\n",
    "    geo_data=geo_data,\n",
    "    choro_data=choro_data,\n",
    "    colormap=linear.YlOrRd_04,\n",
    "    style={'fillOpacity': 0.8, 'dashArray': '5, 5'},\n",
    ")\n",
    "\n",
    "map_ = Map(center=(-25.8, 136.8698), zoom=4)\n",
    "map_.add_layer(choropleth)\n",
    "\n",
    "map_"
   ]
  },
  {
   "cell_type": "code",
   "execution_count": null,
   "metadata": {},
   "outputs": [],
   "source": []
  }
 ]
}