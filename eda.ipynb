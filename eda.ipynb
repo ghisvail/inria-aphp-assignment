{
 "cells": [
  {
   "cell_type": "markdown",
   "metadata": {},
   "source": [
    "# Analyse de la prévalence de la maladie"
   ]
  },
  {
   "cell_type": "markdown",
   "metadata": {},
   "source": [
    "## Nettoyage des données"
   ]
  },
  {
   "cell_type": "markdown",
   "metadata": {},
   "source": [
    "Préambule"
   ]
  },
  {
   "cell_type": "code",
   "execution_count": null,
   "metadata": {},
   "outputs": [],
   "source": [
    "import matplotlib.pyplot as plt\n",
    "%matplotlib inline\n",
    "\n",
    "plt.rcParams[\"figure.figsize\"] = (12, 8)\n",
    "plt.rcParams['figure.dpi'] = 100"
   ]
  },
  {
   "cell_type": "markdown",
   "metadata": {},
   "source": [
    "Chargement des données"
   ]
  },
  {
   "cell_type": "code",
   "execution_count": null,
   "metadata": {},
   "outputs": [],
   "source": [
    "from getting_started import df_patient, df_pcr, pd\n",
    "\n",
    "df_patient = df_patient.convert_dtypes()\n",
    "df_pcr = df_pcr.convert_dtypes()"
   ]
  },
  {
   "cell_type": "markdown",
   "metadata": {},
   "source": [
    "Nettoyage et déduplication"
   ]
  },
  {
   "cell_type": "code",
   "execution_count": null,
   "metadata": {},
   "outputs": [],
   "source": [
    "from entity_resolution import detect_duplicates\n",
    "\n",
    "df_patient = detect_duplicates(df_patient)"
   ]
  },
  {
   "cell_type": "code",
   "execution_count": null,
   "metadata": {},
   "outputs": [],
   "source": [
    "df_patient.head(10)"
   ]
  },
  {
   "cell_type": "code",
   "execution_count": null,
   "metadata": {
    "tags": []
   },
   "outputs": [],
   "source": [
    "import recordlinkage as rl\n",
    "\n",
    "# Every attribute but address_2\n",
    "df = df_patient[df_patient.duplicated(subset=df_patient.columns[::-1], keep=False)]\n",
    "\n",
    "pairs = rl.Index(rl.index.Full()).index(df)\n",
    "\n",
    "comparator = rl.Compare()\n",
    "for col in df.columns:\n",
    "    comparator.exact(col, col, label=col)\n",
    "\n",
    "features = comparator.compute(pairs, df)\n",
    "\n",
    "min_notna = df.notna().sum(axis=1).min()\n",
    "\n",
    "features[features.sum(axis=1) >= min_notna].index"
   ]
  },
  {
   "cell_type": "code",
   "execution_count": null,
   "metadata": {},
   "outputs": [],
   "source": [
    "df = df_patient.dropna(subset=[\"phone_number\"])\n",
    "\n",
    "pairs = rl.Index(rl.index.Block(\"phone_number\")).index(df)\n",
    "\n",
    "comparator = rl.Compare(n_jobs=4)\n",
    "#comparator.exact(\"street_number\", \"street_number\", label=\"street_number\")\n",
    "#comparator.exact(\"suburb\", \"suburb\", label=\"suburb\")\n",
    "comparator.exact(\"postcode\", \"postcode\", label=\"postcode\")\n",
    "#comparator.exact(\"state\", \"state\", label=\"state\")\n",
    "comparator.exact(\"age\", \"age\", label=\"age\")\n",
    "comparator.string(\"given_name\", \"given_name\", label=\"given_name\", method=\"jarowinkler\", threshold=.85)\n",
    "comparator.string(\"surname\", \"surname\", label=\"surname\", method=\"jarowinkler\", threshold=.85)\n",
    "comparator.string(\"given_name\", \"surname\", label=\"given_name_surname\", method=\"jarowinkler\", threshold=.85)\n",
    "comparator.string(\"surname\", \"given_name\", label=\"surname_given_name\", method=\"jarowinkler\", threshold=.85)\n",
    "#comparator.string(\"address_1\", \"address_1\", label=\"address_1\", method=\"jarowinkler\", threshold=.8)\n",
    "#comparator.string(\"address_2\", \"address_2\", label=\"address_2\", method=\"jarowinkler\", threshold=.8)\n",
    "#comparator.string(\"address_1\", \"address_2\", label=\"address_1_2\", method=\"jarowinkler\", threshold=.8)\n",
    "#comparator.string(\"address_2\", \"address_1\", label=\"address_2_1\", method=\"jarowinkler\", threshold=.8)\n",
    "\n",
    "features = comparator.compute(pairs, df)\n",
    "\n",
    "features.sum(axis=1).value_counts().sort_index()\n",
    "\n",
    "# threshold à 3"
   ]
  },
  {
   "cell_type": "code",
   "execution_count": null,
   "metadata": {},
   "outputs": [],
   "source": [
    "df = df_patient.dropna(subset=[\"phone_number\"])\n",
    "\n",
    "pairs = rl.Index(rl.index.Block(\"phone_number\")).index(df)\n",
    "\n",
    "comparator = rl.Compare(n_jobs=4)\n",
    "comparator.exact(\"street_number\", \"street_number\", label=\"street_number\")\n",
    "comparator.string(\"suburb\", \"suburb\", label=\"suburb\", method=\"jarowinkler\", threshold=.9)\n",
    "comparator.exact(\"postcode\", \"postcode\", label=\"postcode\")\n",
    "comparator.exact(\"state\", \"state\", label=\"state\")\n",
    "comparator.exact(\"age\", \"age\", label=\"age\")\n",
    "comparator.string(\"address_1\", \"address_1\", label=\"address_1\", method=\"jarowinkler\", threshold=.9)\n",
    "comparator.string(\"address_2\", \"address_2\", label=\"address_2\", method=\"jarowinkler\", threshold=.9)\n",
    "comparator.string(\"address_1\", \"address_2\", label=\"address_1_2\", method=\"jarowinkler\", threshold=.9)\n",
    "comparator.string(\"address_2\", \"address_1\", label=\"address_2_1\", method=\"jarowinkler\", threshold=.9)\n",
    "\n",
    "features = comparator.compute(pairs, df)\n",
    "\n",
    "features.sum(axis=1).value_counts().sort_index()\n",
    "\n",
    "#threshold à 4"
   ]
  },
  {
   "cell_type": "code",
   "execution_count": null,
   "metadata": {},
   "outputs": [],
   "source": [
    "df = df_patient.dropna(subset=[\"postcode\"])\n",
    "\n",
    "pairs = rl.Index(rl.index.Block(\"postcode\")).index(df)\n",
    "\n",
    "comparator = rl.Compare(n_jobs=4)\n",
    "comparator.exact(\"street_number\", \"street_number\", label=\"street_number\")\n",
    "comparator.string(\"suburb\", \"suburb\", label=\"suburb\", method=\"jarowinkler\", threshold=.9)\n",
    "comparator.exact(\"age\", \"age\", label=\"age\")\n",
    "comparator.exact(\"phone_number\", \"phone_number\", label=\"phone_number\")\n",
    "comparator.string(\"address_1\", \"address_1\", label=\"address_1\", method=\"jarowinkler\", threshold=.9)\n",
    "comparator.string(\"address_2\", \"address_2\", label=\"address_2\", method=\"jarowinkler\", threshold=.9)\n",
    "comparator.string(\"address_1\", \"address_2\", label=\"address_1_2\", method=\"jarowinkler\", threshold=.9)\n",
    "comparator.string(\"address_2\", \"address_1\", label=\"address_2_1\", method=\"jarowinkler\", threshold=.9)\n",
    "\n",
    "features = comparator.compute(pairs, df)\n",
    "\n",
    "# threshold 4\n",
    "features.sum(axis=1).value_counts().sort_index()"
   ]
  },
  {
   "cell_type": "code",
   "execution_count": null,
   "metadata": {},
   "outputs": [],
   "source": [
    "df = df_patient.dropna(subset=[\"postcode\"])\n",
    "\n",
    "pairs = rl.Index(rl.index.Block(\"postcode\")).index(df)\n",
    "\n",
    "comparator = rl.Compare(n_jobs=4)\n",
    "comparator.exact(\"age\", \"age\", label=\"age\")\n",
    "comparator.exact(\"phone_number\", \"phone_number\", label=\"age\")\n",
    "comparator.string(\"given_name\", \"given_name\", label=\"given_name\", method=\"jarowinkler\", threshold=.85)\n",
    "comparator.string(\"surname\", \"surname\", label=\"surname\", method=\"jarowinkler\", threshold=.85)\n",
    "comparator.string(\"given_name\", \"surname\", label=\"given_name_surname\", method=\"jarowinkler\", threshold=.85)\n",
    "comparator.string(\"surname\", \"given_name\", label=\"surname_given_name\", method=\"jarowinkler\", threshold=.85)\n",
    "\n",
    "features = comparator.compute(pairs, df)\n",
    "\n",
    "# threshold 3\n",
    "features.sum(axis=1).value_counts().sort_index()"
   ]
  },
  {
   "cell_type": "code",
   "execution_count": null,
   "metadata": {
    "tags": []
   },
   "outputs": [],
   "source": [
    "df_patient[\"dedup_id\"] = df_patient.index.to_frame().astype(\"Int64\")\n",
    "\n",
    "df = df_patient[df_patient.duplicated(\"phone_number\", keep=False)].dropna().reset_index()\n",
    "df = df[[\"phone_number\", \"patient_id\"]]\n",
    "df = df.merge(df, on=\"phone_number\").drop(columns=\"phone_number\")\n",
    "df = df.groupby([\"patient_id_x\"]).min()\n",
    "df = df.rename_axis(\"patient_id\").rename(columns={\"patient_id_y\": \"dedup_id\"}).astype(\"Int64\")\n",
    "\n",
    "df_patient.update(df)\n",
    "df_patient = df_patient.convert_dtypes()\n",
    "\n",
    "df_patient"
   ]
  },
  {
   "cell_type": "code",
   "execution_count": null,
   "metadata": {
    "tags": []
   },
   "outputs": [],
   "source": [
    "df_patient.info()"
   ]
  },
  {
   "cell_type": "markdown",
   "metadata": {},
   "source": [
    "Taux de déduplication"
   ]
  },
  {
   "cell_type": "code",
   "execution_count": null,
   "metadata": {},
   "outputs": [],
   "source": [
    "len(df_patient[df_patient.dedup_id.duplicated(keep=False)]) / len(df_patient)"
   ]
  },
  {
   "cell_type": "markdown",
   "metadata": {},
   "source": [
    "Conversion des résultats de test PCR en variable catégorielle"
   ]
  },
  {
   "cell_type": "code",
   "execution_count": null,
   "metadata": {},
   "outputs": [],
   "source": [
    "df_pcr.pcr = pd.Categorical(df_pcr.pcr.str[0], categories=[\"N\", \"P\"], ordered=True)\n",
    "\n",
    "df_pcr.pcr.value_counts()"
   ]
  },
  {
   "cell_type": "markdown",
   "metadata": {},
   "source": [
    "Jointure avec le référentiel de patient"
   ]
  },
  {
   "cell_type": "code",
   "execution_count": null,
   "metadata": {},
   "outputs": [],
   "source": [
    "df_pcr = df_pcr.merge(df_patient[\"dedup_id\"], left_on=\"patient_id\", right_index=True, validate=\"m:1\")\n",
    "\n",
    "df_pcr.pcr.value_counts()"
   ]
  },
  {
   "cell_type": "markdown",
   "metadata": {},
   "source": [
    "## Prévalance à l'échelle nationale"
   ]
  },
  {
   "cell_type": "code",
   "execution_count": null,
   "metadata": {
    "tags": []
   },
   "outputs": [],
   "source": [
    "df_prevalence = (\n",
    "    df_pcr[[\"dedup_id\", \"pcr\"]]\n",
    "    .groupby(\"dedup_id\").max()\n",
    "    .rename(columns={\"pcr\": \"affected\"})\n",
    "    .merge(df_patient, on=\"dedup_id\")\n",
    "    .set_index(\"dedup_id\")\n",
    ")\n",
    "\n",
    "df_prevalence"
   ]
  },
  {
   "cell_type": "markdown",
   "metadata": {},
   "source": [
    "## Prévalance par catégorie d'âge"
   ]
  },
  {
   "cell_type": "code",
   "execution_count": null,
   "metadata": {},
   "outputs": [],
   "source": [
    "df_prevalence[\"age_category\"] = pd.cut(df_prevalence.age, bins=[0, 10, 20, 30, 40, 100], include_lowest=True, ordered=True)\n",
    "\n",
    "df_prevalence_age = (\n",
    "    df_prevalence[[\"age_category\", \"affected\"]]\n",
    "    .replace({\"affected\": {\"N\": 0, \"P\": 1}})\n",
    "    .groupby(\"age_category\").agg([\"sum\", \"count\"])\n",
    "    .droplevel(level=0, axis=\"columns\")\n",
    "    .rename(columns={\"sum\": \"affected\", \"count\": \"tested\"})\n",
    ")"
   ]
  },
  {
   "cell_type": "code",
   "execution_count": null,
   "metadata": {},
   "outputs": [],
   "source": [
    "fig, ax = plt.subplots(ncols=2, figsize=(20, 8))\n",
    "labels = [\"0-9\", \"10-19\", \"20-29\", \"30-39\", \"40+\"]\n",
    "df_prevalence_age.affected.plot.pie(ax=ax[0], labels=labels)\n",
    "ax[0].set_title(\"Distribution of affected patients\")\n",
    "ax[0].yaxis.set_visible(False)\n",
    "df_prevalence_age.plot.bar(stacked=True, rot=False, ax=ax[1])\n",
    "_ = ax[1].xaxis.set_ticklabels(labels)"
   ]
  },
  {
   "cell_type": "markdown",
   "metadata": {},
   "source": [
    "## Prévalance par état"
   ]
  },
  {
   "cell_type": "code",
   "execution_count": null,
   "metadata": {},
   "outputs": [],
   "source": [
    "df_prevalence_state = (\n",
    "    df_prevalence[[\"state\", \"affected\"]]\n",
    "    .replace({\"affected\": {\"N\": 0, \"P\": 1}})\n",
    "    .groupby(\"state\").agg([\"sum\", \"count\"])\n",
    "    .droplevel(level=0, axis=\"columns\")\n",
    "    .rename(columns={\"sum\": \"affected\", \"count\": \"tested\"})\n",
    ")"
   ]
  },
  {
   "cell_type": "code",
   "execution_count": null,
   "metadata": {},
   "outputs": [],
   "source": [
    "fig, ax = plt.subplots(ncols=2, figsize=(20, 8))\n",
    "df_prevalence_state.affected.plot.pie(ax=ax[0])\n",
    "ax[0].set_title(\"Distribution of affected patients\")\n",
    "ax[0].yaxis.set_visible(False)\n",
    "df_prevalence_state.plot.bar(stacked=True, rot=False, ax=ax[1])"
   ]
  },
  {
   "source": [
    "## Cartography"
   ],
   "cell_type": "markdown",
   "metadata": {}
  },
  {
   "source": [
    "Choropleth"
   ],
   "cell_type": "markdown",
   "metadata": {}
  },
  {
   "cell_type": "code",
   "execution_count": null,
   "metadata": {},
   "outputs": [],
   "source": [
    "from ipyleaflet import Choropleth\n",
    "from branca.colormap import linear\n",
    "import json\n",
    "\n",
    "geo_data = json.load(open(\"aus_state.geojson\"))\n",
    "\n",
    "choro_data = (\n",
    "    df_prevalence_state[\"affected\"]\n",
    "    .rename(index={\n",
    "        \"nsw\": 0,\n",
    "        \"vic\": 1,\n",
    "        \"qld\": 2,\n",
    "        \"sa\": 3,\n",
    "        \"wa\": 4,\n",
    "        \"tas\": 5,\n",
    "        \"nt\": 6,\n",
    "        \"act\": 7\n",
    "    })\n",
    ").to_dict()\n",
    "\n",
    "choro_data[8] = 0   # Other territories\n",
    "\n",
    "choropleth = Choropleth(\n",
    "    geo_data=geo_data,\n",
    "    choro_data=choro_data,\n",
    "    colormap=linear.YlOrRd_04,\n",
    "    style={'fillOpacity': 0.6, 'dashArray': '5, 5'},\n",
    "    name=\"choropleth\"\n",
    ")"
   ]
  },
  {
   "source": [
    "Marker cluster"
   ],
   "cell_type": "markdown",
   "metadata": {}
  },
  {
   "cell_type": "code",
   "execution_count": null,
   "metadata": {},
   "outputs": [],
   "source": [
    "from ipyleaflet import AwesomeIcon, Marker, MarkerCluster\n",
    "\n",
    "locations = (\n",
    "    pd.read_csv(\n",
    "        \"australian_postcodes.csv\",\n",
    "        index_col=\"id\",\n",
    "        usecols=(\"id\",\"postcode\", \"long\", \"lat\"),\n",
    "        dtype={\n",
    "            \"id\": \"int64\",\n",
    "            \"postcode\": \"str\",\n",
    "            \"long\": \"float\",\n",
    "            \"lat\": \"float\",\n",
    "        }\n",
    "    )\n",
    "    .rename(columns={\"long\": \"longitude\", \"lat\": \"latitude\"})\n",
    "    .drop_duplicates(\"postcode\", keep=\"first\")\n",
    "    .set_index(\"postcode\")\n",
    ")\n",
    "\n",
    "locations = (\n",
    "    df_prevalence.merge(locations, left_on=\"postcode\", right_index=True)\n",
    "    [[\"latitude\", \"longitude\"]].values.tolist()\n",
    ")\n",
    "\n",
    "icon = AwesomeIcon(\n",
    "    name=\"plus-square\",\n",
    "    icon_color=\"white\",\n",
    "    marker_color=\"black\",\n",
    ")\n",
    "\n",
    "markers = [\n",
    "    Marker(icon=icon, location=location)\n",
    "    for location in locations\n",
    "]\n",
    "\n",
    "marker_cluster = MarkerCluster(markers=markers, name=\"clusters\")"
   ]
  },
  {
   "source": [
    "Interactive map"
   ],
   "cell_type": "markdown",
   "metadata": {}
  },
  {
   "cell_type": "code",
   "execution_count": null,
   "metadata": {
    "tags": []
   },
   "outputs": [],
   "source": [
    "from ipywidgets import Layout\n",
    "from ipyleaflet import Choropleth, Map, basemaps\n",
    "from ipyleaflet import LayersControl, SearchControl\n",
    "\n",
    "# Base map\n",
    "map_ = Map(\n",
    "    basemap=basemaps.OpenStreetMap.BlackAndWhite,\n",
    "    center=(-25.8, 136.8698),\n",
    "    zoom=5,\n",
    "    scroll_wheel_zoom=True,\n",
    "    layout=Layout(width=\"100%\", height=\"800px\")\n",
    ")\n",
    "\n",
    "# Layer control\n",
    "layer_control = LayersControl(position=\"topleft\")\n",
    "\n",
    "\n",
    "# Search control\n",
    "search_marker = Marker(icon=AwesomeIcon(name=\"cirle\"))\n",
    "\n",
    "search_control = SearchControl(\n",
    "    position=\"topright\",\n",
    "    url=\"https://nominatim.openstreetmap.org/search?format=json&q={s}\",\n",
    "    zoom=10,\n",
    "    marker=search_marker,\n",
    ")\n",
    "\n",
    "# Compose layers\n",
    "map_.add_layer(choropleth)\n",
    "map_.add_layer(marker_cluster)\n",
    "\n",
    "# Compose controls\n",
    "map_.add_control(layer_control)\n",
    "map_.add_control(search_control)\n",
    "\n",
    "# Display map\n",
    "map_"
   ]
  },
  {
   "cell_type": "code",
   "execution_count": null,
   "metadata": {},
   "outputs": [],
   "source": []
  }
 ],
 "metadata": {
  "kernelspec": {
   "display_name": "Python 3",
   "name": "python3"
  },
  "language_info": {
   "codemirror_mode": {
    "name": "ipython",
    "version": 3
   },
   "file_extension": ".py",
   "mimetype": "text/x-python",
   "name": "python",
   "nbconvert_exporter": "python",
   "pygments_lexer": "ipython3",
   "version": "3.8.5-final"
  }
 },
 "nbformat": 4,
 "nbformat_minor": 2
}