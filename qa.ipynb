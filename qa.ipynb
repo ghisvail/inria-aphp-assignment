{
 "metadata": {
  "language_info": {
   "codemirror_mode": {
    "name": "ipython",
    "version": 3
   },
   "file_extension": ".py",
   "mimetype": "text/x-python",
   "name": "python",
   "nbconvert_exporter": "python",
   "pygments_lexer": "ipython3",
   "version": "3.8.5-final"
  },
  "orig_nbformat": 2,
  "kernelspec": {
   "name": "python3",
   "display_name": "Python 3"
  }
 },
 "nbformat": 4,
 "nbformat_minor": 2,
 "cells": [
  {
   "cell_type": "markdown",
   "metadata": {},
   "source": [
    "# Analyse de la qualité des données"
   ]
  },
  {
   "cell_type": "markdown",
   "metadata": {},
   "source": [
    "## Prise de connaissance avec le jeu de données"
   ]
  },
  {
   "cell_type": "markdown",
   "metadata": {},
   "source": [
    "### Chargement des données brut"
   ]
  },
  {
   "cell_type": "code",
   "execution_count": 103,
   "metadata": {},
   "outputs": [],
   "source": [
    "from getting_started import df_patient, df_pcr, pd"
   ]
  },
  {
   "cell_type": "markdown",
   "metadata": {},
   "source": [
    "Conversion de chaque attribut du référentiel en un type de données plus spécifique."
   ]
  },
  {
   "cell_type": "code",
   "execution_count": 105,
   "metadata": {
    "tags": []
   },
   "outputs": [
    {
     "output_type": "stream",
     "name": "stdout",
     "text": "<class 'pandas.core.frame.DataFrame'>\nRangeIndex: 20000 entries, 0 to 19999\nData columns (total 12 columns):\n #   Column         Non-Null Count  Dtype \n---  ------         --------------  ----- \n 0   patient_id     20000 non-null  Int64 \n 1   given_name     19560 non-null  string\n 2   surname        19575 non-null  string\n 3   street_number  19618 non-null  Int64 \n 4   address_1      19204 non-null  string\n 5   suburb         19788 non-null  string\n 6   postcode       19801 non-null  string\n 7   state          18010 non-null  string\n 8   date_of_birth  17989 non-null  Int64 \n 9   age            16003 non-null  Int64 \n 10  phone_number   19081 non-null  string\n 11  address_2      7893 non-null   string\ndtypes: Int64(4), string(8)\nmemory usage: 1.9 MB\n"
    }
   ],
   "source": [
    "df_patient = df_patient.convert_dtypes()\n",
    "\n",
    "df_patient.info()"
   ]
  },
  {
   "cell_type": "markdown",
   "metadata": {},
   "source": [
    "Conversion de chaque attribut de l'échantillon en un type de données plus spécifique."
   ]
  },
  {
   "cell_type": "code",
   "execution_count": 107,
   "metadata": {
    "tags": []
   },
   "outputs": [
    {
     "output_type": "stream",
     "name": "stdout",
     "text": "<class 'pandas.core.frame.DataFrame'>\nRangeIndex: 8800 entries, 0 to 8799\nData columns (total 2 columns):\n #   Column      Non-Null Count  Dtype \n---  ------      --------------  ----- \n 0   patient_id  8800 non-null   Int64 \n 1   pcr         8800 non-null   string\ndtypes: Int64(1), string(1)\nmemory usage: 146.2 KB\n"
    }
   ],
   "source": [
    "df_pcr = df_pcr.convert_dtypes()\n",
    "\n",
    "df_pcr.info()"
   ]
  },
  {
   "cell_type": "markdown",
   "metadata": {},
   "source": [
    "### Présence de doublons sur l'identifiant"
   ]
  },
  {
   "cell_type": "code",
   "execution_count": 109,
   "metadata": {},
   "outputs": [
    {
     "output_type": "execute_result",
     "data": {
      "text/plain": "       patient_id given_name        surname  street_number  \\\n12117      109304    zachary      farronato             30   \n14839      109304     bailey      donaldson             20   \n4386       110207       toby          brock              4   \n12989      110207       zali          brock             32   \n10184      115791     hannah         clarke             70   \n...           ...        ...            ...            ...   \n10507      990695       erin       braunack             49   \n8764       990936        amy          royle             90   \n12563      990936   samantha          green             21   \n2385       994235      trent  stewart-jones            129   \n7961       994235     teresa      chowdhury             60   \n\n                 address_1        suburb postcode state  date_of_birth   age  \\\n12117       outtrim avenue          como     2196   vic       19090801    31   \n14839       tardent street          ryde     0812   qld       19580310    26   \n4386     merriman crescent      baralaba     3025   nsw       19000424    35   \n12989        hedger street        toorak     5038   act           <NA>    22   \n10184      galmarra street      mayfield     7010   vic       19830828    25   \n...                    ...           ...      ...   ...            ...   ...   \n10507     moondarra street   broken hill     2640   qld       19830122    30   \n8764     whittell crescent       coramba     5032    sa       19950326  <NA>   \n12563       brierly street     ardrossan     2140  <NA>       19380210    29   \n2385   macfarland crescent    wangaratta     2732   nsw           <NA>  <NA>   \n7961                  <NA>  chester hill     2147   vic       19010407    27   \n\n      phone_number       address_2  \n12117  07 22894061       the reefs  \n14839  07 13479210            <NA>  \n4386   08 33842007         leitrim  \n12989  08 96818512            <NA>  \n10184  04 70760611            <NA>  \n...            ...             ...  \n10507  03 69523317         yuulong  \n8764   08 07309295  tewantin plaza  \n12563  02 51600621            <NA>  \n2385   07 98662458       mountview  \n7961   02 83271460            <NA>  \n\n[403 rows x 12 columns]",
      "text/html": "<div>\n<style scoped>\n    .dataframe tbody tr th:only-of-type {\n        vertical-align: middle;\n    }\n\n    .dataframe tbody tr th {\n        vertical-align: top;\n    }\n\n    .dataframe thead th {\n        text-align: right;\n    }\n</style>\n<table border=\"1\" class=\"dataframe\">\n  <thead>\n    <tr style=\"text-align: right;\">\n      <th></th>\n      <th>patient_id</th>\n      <th>given_name</th>\n      <th>surname</th>\n      <th>street_number</th>\n      <th>address_1</th>\n      <th>suburb</th>\n      <th>postcode</th>\n      <th>state</th>\n      <th>date_of_birth</th>\n      <th>age</th>\n      <th>phone_number</th>\n      <th>address_2</th>\n    </tr>\n  </thead>\n  <tbody>\n    <tr>\n      <th>12117</th>\n      <td>109304</td>\n      <td>zachary</td>\n      <td>farronato</td>\n      <td>30</td>\n      <td>outtrim avenue</td>\n      <td>como</td>\n      <td>2196</td>\n      <td>vic</td>\n      <td>19090801</td>\n      <td>31</td>\n      <td>07 22894061</td>\n      <td>the reefs</td>\n    </tr>\n    <tr>\n      <th>14839</th>\n      <td>109304</td>\n      <td>bailey</td>\n      <td>donaldson</td>\n      <td>20</td>\n      <td>tardent street</td>\n      <td>ryde</td>\n      <td>0812</td>\n      <td>qld</td>\n      <td>19580310</td>\n      <td>26</td>\n      <td>07 13479210</td>\n      <td>&lt;NA&gt;</td>\n    </tr>\n    <tr>\n      <th>4386</th>\n      <td>110207</td>\n      <td>toby</td>\n      <td>brock</td>\n      <td>4</td>\n      <td>merriman crescent</td>\n      <td>baralaba</td>\n      <td>3025</td>\n      <td>nsw</td>\n      <td>19000424</td>\n      <td>35</td>\n      <td>08 33842007</td>\n      <td>leitrim</td>\n    </tr>\n    <tr>\n      <th>12989</th>\n      <td>110207</td>\n      <td>zali</td>\n      <td>brock</td>\n      <td>32</td>\n      <td>hedger street</td>\n      <td>toorak</td>\n      <td>5038</td>\n      <td>act</td>\n      <td>&lt;NA&gt;</td>\n      <td>22</td>\n      <td>08 96818512</td>\n      <td>&lt;NA&gt;</td>\n    </tr>\n    <tr>\n      <th>10184</th>\n      <td>115791</td>\n      <td>hannah</td>\n      <td>clarke</td>\n      <td>70</td>\n      <td>galmarra street</td>\n      <td>mayfield</td>\n      <td>7010</td>\n      <td>vic</td>\n      <td>19830828</td>\n      <td>25</td>\n      <td>04 70760611</td>\n      <td>&lt;NA&gt;</td>\n    </tr>\n    <tr>\n      <th>...</th>\n      <td>...</td>\n      <td>...</td>\n      <td>...</td>\n      <td>...</td>\n      <td>...</td>\n      <td>...</td>\n      <td>...</td>\n      <td>...</td>\n      <td>...</td>\n      <td>...</td>\n      <td>...</td>\n      <td>...</td>\n    </tr>\n    <tr>\n      <th>10507</th>\n      <td>990695</td>\n      <td>erin</td>\n      <td>braunack</td>\n      <td>49</td>\n      <td>moondarra street</td>\n      <td>broken hill</td>\n      <td>2640</td>\n      <td>qld</td>\n      <td>19830122</td>\n      <td>30</td>\n      <td>03 69523317</td>\n      <td>yuulong</td>\n    </tr>\n    <tr>\n      <th>8764</th>\n      <td>990936</td>\n      <td>amy</td>\n      <td>royle</td>\n      <td>90</td>\n      <td>whittell crescent</td>\n      <td>coramba</td>\n      <td>5032</td>\n      <td>sa</td>\n      <td>19950326</td>\n      <td>&lt;NA&gt;</td>\n      <td>08 07309295</td>\n      <td>tewantin plaza</td>\n    </tr>\n    <tr>\n      <th>12563</th>\n      <td>990936</td>\n      <td>samantha</td>\n      <td>green</td>\n      <td>21</td>\n      <td>brierly street</td>\n      <td>ardrossan</td>\n      <td>2140</td>\n      <td>&lt;NA&gt;</td>\n      <td>19380210</td>\n      <td>29</td>\n      <td>02 51600621</td>\n      <td>&lt;NA&gt;</td>\n    </tr>\n    <tr>\n      <th>2385</th>\n      <td>994235</td>\n      <td>trent</td>\n      <td>stewart-jones</td>\n      <td>129</td>\n      <td>macfarland crescent</td>\n      <td>wangaratta</td>\n      <td>2732</td>\n      <td>nsw</td>\n      <td>&lt;NA&gt;</td>\n      <td>&lt;NA&gt;</td>\n      <td>07 98662458</td>\n      <td>mountview</td>\n    </tr>\n    <tr>\n      <th>7961</th>\n      <td>994235</td>\n      <td>teresa</td>\n      <td>chowdhury</td>\n      <td>60</td>\n      <td>&lt;NA&gt;</td>\n      <td>chester hill</td>\n      <td>2147</td>\n      <td>vic</td>\n      <td>19010407</td>\n      <td>27</td>\n      <td>02 83271460</td>\n      <td>&lt;NA&gt;</td>\n    </tr>\n  </tbody>\n</table>\n<p>403 rows × 12 columns</p>\n</div>"
     },
     "metadata": {},
     "execution_count": 109
    }
   ],
   "source": [
    "with_duplicated_id = df_patient.patient_id.duplicated(keep=False)\n",
    "\n",
    "df_patient[with_duplicated_id].sort_values(\"patient_id\")"
   ]
  },
  {
   "cell_type": "markdown",
   "metadata": {},
   "source": [
    "Il y a 403 patients qui doublonnent sur l'identifiant."
   ]
  },
  {
   "cell_type": "markdown",
   "metadata": {},
   "source": [
    "### Présence de doublons sur l'ensemble des attributs"
   ]
  },
  {
   "cell_type": "code",
   "execution_count": 111,
   "metadata": {},
   "outputs": [
    {
     "output_type": "execute_result",
     "data": {
      "text/plain": "       patient_id given_name   surname  street_number         address_1  \\\n6981       804259    charlie    gamlin             33    nungara street   \n12438      107928    charlie    gamlin             33    nungara street   \n15184      744576      freya   jaffres             50        hart place   \n17522      449738      freya   jaffres             50        hart place   \n5729       973030    delaney   kermeen              9      wallen place   \n15337      373129    delaney   kermeen              9      wallen place   \n1052       664037   samantha    laundy              2   mannheim street   \n18867      421721   samantha    laundy              2   mannheim street   \n1863       658924      lewis  matthews             24     allawah flats   \n1944       669936      lewis  matthews             24     allawah flats   \n942        943523     taliah    monaco             15  national circuit   \n1769       437054     taliah    monaco             15  national circuit   \n8900       395901       <NA>     polak             35        jess place   \n16552      279300       <NA>     polak             35        jess place   \n4440       220263      ebony  rawlings             83      spica street   \n9421       950181      ebony  rawlings             83      spica street   \n4819       396208       kyle  sherriff              5   jim pike avenue   \n9724       794186       kyle  sherriff              5   jim pike avenue   \n5393       887301        ava      tsun             75  twamley crescent   \n17752      122873        ava      tsun             75  twamley crescent   \n8228       834172  gabrielle      <NA>             56    langdon avenue   \n17344      369594  gabrielle      <NA>             56    langdon avenue   \n\n               suburb postcode state  date_of_birth   age phone_number  \\\n6981        bayswater     5251   qld       19190111    24  04 33326042   \n12438       bayswater     5251   qld       19190111    24  04 33326042   \n15184  biggera waters     4413    wa           <NA>    33  07 76055136   \n17522  biggera waters     4413    wa           <NA>    33  07 76055136   \n5729    st kilda east     4405   qld       19391226    25  08 37919311   \n15337   st kilda east     4405   qld       19391226    25  08 37919311   \n1052       quairading     4740   qld       19480111  <NA>  02 37735421   \n18867      quairading     4740   qld       19480111  <NA>  02 37735421   \n1863          attunga     3216    wa       19690623    26  03 95122427   \n1944          attunga     3216    wa       19690623    26  03 95122427   \n942          hillside     4211   nsw       19171005    37         <NA>   \n1769         hillside     4211   nsw       19171005    37         <NA>   \n8900        annandale     2250   qld       19531130  <NA>  03 33180608   \n16552       annandale     2250   qld       19531130  <NA>  03 33180608   \n4440     albany creek     3156   qld           <NA>    30         <NA>   \n9421     albany creek     3156   qld           <NA>    30         <NA>   \n4819     bossley park     6111   nsw       19480823  <NA>  02 22087371   \n9724     bossley park     6111   nsw       19480823  <NA>  02 22087371   \n5393            eaton     5109   nsw       19231129    36  07 70215543   \n17752           eaton     5109   nsw       19231129    36  07 70215543   \n8228      castle cove     2564   qld       19350604    14  02 92453197   \n17344     castle cove     2564   qld       19350604    14  02 92453197   \n\n             address_2  \n6981              <NA>  \n12438             <NA>  \n15184             <NA>  \n17522             <NA>  \n5729              <NA>  \n15337             <NA>  \n1052           stanton  \n18867          stanton  \n1863              <NA>  \n1944              <NA>  \n942               <NA>  \n1769              <NA>  \n8900       bonnie doon  \n16552      bonnie doon  \n4440       sunny braes  \n9421       sunny braes  \n4819   cuthberts court  \n9724   cuthberts court  \n5393              <NA>  \n17752             <NA>  \n8228              <NA>  \n17344             <NA>  ",
      "text/html": "<div>\n<style scoped>\n    .dataframe tbody tr th:only-of-type {\n        vertical-align: middle;\n    }\n\n    .dataframe tbody tr th {\n        vertical-align: top;\n    }\n\n    .dataframe thead th {\n        text-align: right;\n    }\n</style>\n<table border=\"1\" class=\"dataframe\">\n  <thead>\n    <tr style=\"text-align: right;\">\n      <th></th>\n      <th>patient_id</th>\n      <th>given_name</th>\n      <th>surname</th>\n      <th>street_number</th>\n      <th>address_1</th>\n      <th>suburb</th>\n      <th>postcode</th>\n      <th>state</th>\n      <th>date_of_birth</th>\n      <th>age</th>\n      <th>phone_number</th>\n      <th>address_2</th>\n    </tr>\n  </thead>\n  <tbody>\n    <tr>\n      <th>6981</th>\n      <td>804259</td>\n      <td>charlie</td>\n      <td>gamlin</td>\n      <td>33</td>\n      <td>nungara street</td>\n      <td>bayswater</td>\n      <td>5251</td>\n      <td>qld</td>\n      <td>19190111</td>\n      <td>24</td>\n      <td>04 33326042</td>\n      <td>&lt;NA&gt;</td>\n    </tr>\n    <tr>\n      <th>12438</th>\n      <td>107928</td>\n      <td>charlie</td>\n      <td>gamlin</td>\n      <td>33</td>\n      <td>nungara street</td>\n      <td>bayswater</td>\n      <td>5251</td>\n      <td>qld</td>\n      <td>19190111</td>\n      <td>24</td>\n      <td>04 33326042</td>\n      <td>&lt;NA&gt;</td>\n    </tr>\n    <tr>\n      <th>15184</th>\n      <td>744576</td>\n      <td>freya</td>\n      <td>jaffres</td>\n      <td>50</td>\n      <td>hart place</td>\n      <td>biggera waters</td>\n      <td>4413</td>\n      <td>wa</td>\n      <td>&lt;NA&gt;</td>\n      <td>33</td>\n      <td>07 76055136</td>\n      <td>&lt;NA&gt;</td>\n    </tr>\n    <tr>\n      <th>17522</th>\n      <td>449738</td>\n      <td>freya</td>\n      <td>jaffres</td>\n      <td>50</td>\n      <td>hart place</td>\n      <td>biggera waters</td>\n      <td>4413</td>\n      <td>wa</td>\n      <td>&lt;NA&gt;</td>\n      <td>33</td>\n      <td>07 76055136</td>\n      <td>&lt;NA&gt;</td>\n    </tr>\n    <tr>\n      <th>5729</th>\n      <td>973030</td>\n      <td>delaney</td>\n      <td>kermeen</td>\n      <td>9</td>\n      <td>wallen place</td>\n      <td>st kilda east</td>\n      <td>4405</td>\n      <td>qld</td>\n      <td>19391226</td>\n      <td>25</td>\n      <td>08 37919311</td>\n      <td>&lt;NA&gt;</td>\n    </tr>\n    <tr>\n      <th>15337</th>\n      <td>373129</td>\n      <td>delaney</td>\n      <td>kermeen</td>\n      <td>9</td>\n      <td>wallen place</td>\n      <td>st kilda east</td>\n      <td>4405</td>\n      <td>qld</td>\n      <td>19391226</td>\n      <td>25</td>\n      <td>08 37919311</td>\n      <td>&lt;NA&gt;</td>\n    </tr>\n    <tr>\n      <th>1052</th>\n      <td>664037</td>\n      <td>samantha</td>\n      <td>laundy</td>\n      <td>2</td>\n      <td>mannheim street</td>\n      <td>quairading</td>\n      <td>4740</td>\n      <td>qld</td>\n      <td>19480111</td>\n      <td>&lt;NA&gt;</td>\n      <td>02 37735421</td>\n      <td>stanton</td>\n    </tr>\n    <tr>\n      <th>18867</th>\n      <td>421721</td>\n      <td>samantha</td>\n      <td>laundy</td>\n      <td>2</td>\n      <td>mannheim street</td>\n      <td>quairading</td>\n      <td>4740</td>\n      <td>qld</td>\n      <td>19480111</td>\n      <td>&lt;NA&gt;</td>\n      <td>02 37735421</td>\n      <td>stanton</td>\n    </tr>\n    <tr>\n      <th>1863</th>\n      <td>658924</td>\n      <td>lewis</td>\n      <td>matthews</td>\n      <td>24</td>\n      <td>allawah flats</td>\n      <td>attunga</td>\n      <td>3216</td>\n      <td>wa</td>\n      <td>19690623</td>\n      <td>26</td>\n      <td>03 95122427</td>\n      <td>&lt;NA&gt;</td>\n    </tr>\n    <tr>\n      <th>1944</th>\n      <td>669936</td>\n      <td>lewis</td>\n      <td>matthews</td>\n      <td>24</td>\n      <td>allawah flats</td>\n      <td>attunga</td>\n      <td>3216</td>\n      <td>wa</td>\n      <td>19690623</td>\n      <td>26</td>\n      <td>03 95122427</td>\n      <td>&lt;NA&gt;</td>\n    </tr>\n    <tr>\n      <th>942</th>\n      <td>943523</td>\n      <td>taliah</td>\n      <td>monaco</td>\n      <td>15</td>\n      <td>national circuit</td>\n      <td>hillside</td>\n      <td>4211</td>\n      <td>nsw</td>\n      <td>19171005</td>\n      <td>37</td>\n      <td>&lt;NA&gt;</td>\n      <td>&lt;NA&gt;</td>\n    </tr>\n    <tr>\n      <th>1769</th>\n      <td>437054</td>\n      <td>taliah</td>\n      <td>monaco</td>\n      <td>15</td>\n      <td>national circuit</td>\n      <td>hillside</td>\n      <td>4211</td>\n      <td>nsw</td>\n      <td>19171005</td>\n      <td>37</td>\n      <td>&lt;NA&gt;</td>\n      <td>&lt;NA&gt;</td>\n    </tr>\n    <tr>\n      <th>8900</th>\n      <td>395901</td>\n      <td>&lt;NA&gt;</td>\n      <td>polak</td>\n      <td>35</td>\n      <td>jess place</td>\n      <td>annandale</td>\n      <td>2250</td>\n      <td>qld</td>\n      <td>19531130</td>\n      <td>&lt;NA&gt;</td>\n      <td>03 33180608</td>\n      <td>bonnie doon</td>\n    </tr>\n    <tr>\n      <th>16552</th>\n      <td>279300</td>\n      <td>&lt;NA&gt;</td>\n      <td>polak</td>\n      <td>35</td>\n      <td>jess place</td>\n      <td>annandale</td>\n      <td>2250</td>\n      <td>qld</td>\n      <td>19531130</td>\n      <td>&lt;NA&gt;</td>\n      <td>03 33180608</td>\n      <td>bonnie doon</td>\n    </tr>\n    <tr>\n      <th>4440</th>\n      <td>220263</td>\n      <td>ebony</td>\n      <td>rawlings</td>\n      <td>83</td>\n      <td>spica street</td>\n      <td>albany creek</td>\n      <td>3156</td>\n      <td>qld</td>\n      <td>&lt;NA&gt;</td>\n      <td>30</td>\n      <td>&lt;NA&gt;</td>\n      <td>sunny braes</td>\n    </tr>\n    <tr>\n      <th>9421</th>\n      <td>950181</td>\n      <td>ebony</td>\n      <td>rawlings</td>\n      <td>83</td>\n      <td>spica street</td>\n      <td>albany creek</td>\n      <td>3156</td>\n      <td>qld</td>\n      <td>&lt;NA&gt;</td>\n      <td>30</td>\n      <td>&lt;NA&gt;</td>\n      <td>sunny braes</td>\n    </tr>\n    <tr>\n      <th>4819</th>\n      <td>396208</td>\n      <td>kyle</td>\n      <td>sherriff</td>\n      <td>5</td>\n      <td>jim pike avenue</td>\n      <td>bossley park</td>\n      <td>6111</td>\n      <td>nsw</td>\n      <td>19480823</td>\n      <td>&lt;NA&gt;</td>\n      <td>02 22087371</td>\n      <td>cuthberts court</td>\n    </tr>\n    <tr>\n      <th>9724</th>\n      <td>794186</td>\n      <td>kyle</td>\n      <td>sherriff</td>\n      <td>5</td>\n      <td>jim pike avenue</td>\n      <td>bossley park</td>\n      <td>6111</td>\n      <td>nsw</td>\n      <td>19480823</td>\n      <td>&lt;NA&gt;</td>\n      <td>02 22087371</td>\n      <td>cuthberts court</td>\n    </tr>\n    <tr>\n      <th>5393</th>\n      <td>887301</td>\n      <td>ava</td>\n      <td>tsun</td>\n      <td>75</td>\n      <td>twamley crescent</td>\n      <td>eaton</td>\n      <td>5109</td>\n      <td>nsw</td>\n      <td>19231129</td>\n      <td>36</td>\n      <td>07 70215543</td>\n      <td>&lt;NA&gt;</td>\n    </tr>\n    <tr>\n      <th>17752</th>\n      <td>122873</td>\n      <td>ava</td>\n      <td>tsun</td>\n      <td>75</td>\n      <td>twamley crescent</td>\n      <td>eaton</td>\n      <td>5109</td>\n      <td>nsw</td>\n      <td>19231129</td>\n      <td>36</td>\n      <td>07 70215543</td>\n      <td>&lt;NA&gt;</td>\n    </tr>\n    <tr>\n      <th>8228</th>\n      <td>834172</td>\n      <td>gabrielle</td>\n      <td>&lt;NA&gt;</td>\n      <td>56</td>\n      <td>langdon avenue</td>\n      <td>castle cove</td>\n      <td>2564</td>\n      <td>qld</td>\n      <td>19350604</td>\n      <td>14</td>\n      <td>02 92453197</td>\n      <td>&lt;NA&gt;</td>\n    </tr>\n    <tr>\n      <th>17344</th>\n      <td>369594</td>\n      <td>gabrielle</td>\n      <td>&lt;NA&gt;</td>\n      <td>56</td>\n      <td>langdon avenue</td>\n      <td>castle cove</td>\n      <td>2564</td>\n      <td>qld</td>\n      <td>19350604</td>\n      <td>14</td>\n      <td>02 92453197</td>\n      <td>&lt;NA&gt;</td>\n    </tr>\n  </tbody>\n</table>\n</div>"
     },
     "metadata": {},
     "execution_count": 111
    }
   ],
   "source": [
    "with_same_attributes = df_patient.drop(columns=\"patient_id\").duplicated(keep=False)\n",
    "\n",
    "df_patient[with_same_attributes].sort_values(by=[\"surname\", \"given_name\"])"
   ]
  },
  {
   "cell_type": "markdown",
   "metadata": {},
   "source": [
    "Il y 22 patients qui doublonnent sur tous les attributs hors identifiant."
   ]
  },
  {
   "cell_type": "markdown",
   "metadata": {},
   "source": [
    "### Nombre d'attributs non renseignés par patient"
   ]
  },
  {
   "cell_type": "code",
   "execution_count": 113,
   "metadata": {},
   "outputs": [
    {
     "output_type": "execute_result",
     "data": {
      "text/plain": "<AxesSubplot:xlabel='attributs non renseignés', ylabel='patients'>"
     },
     "metadata": {},
     "execution_count": 113
    },
    {
     "output_type": "display_data",
     "data": {
      "text/plain": "<Figure size 432x288 with 1 Axes>",
      "image/svg+xml": "<?xml version=\"1.0\" encoding=\"utf-8\" standalone=\"no\"?>\n<!DOCTYPE svg PUBLIC \"-//W3C//DTD SVG 1.1//EN\"\n  \"http://www.w3.org/Graphics/SVG/1.1/DTD/svg11.dtd\">\n<!-- Created with matplotlib (https://matplotlib.org/) -->\n<svg height=\"259.280625pt\" version=\"1.1\" viewBox=\"0 0 395.328125 259.280625\" width=\"395.328125pt\" xmlns=\"http://www.w3.org/2000/svg\" xmlns:xlink=\"http://www.w3.org/1999/xlink\">\n <metadata>\n  <rdf:RDF xmlns:cc=\"http://creativecommons.org/ns#\" xmlns:dc=\"http://purl.org/dc/elements/1.1/\" xmlns:rdf=\"http://www.w3.org/1999/02/22-rdf-syntax-ns#\">\n   <cc:Work>\n    <dc:type rdf:resource=\"http://purl.org/dc/dcmitype/StillImage\"/>\n    <dc:date>2020-09-14T17:26:17.856609</dc:date>\n    <dc:format>image/svg+xml</dc:format>\n    <dc:creator>\n     <cc:Agent>\n      <dc:title>Matplotlib v3.3.1, https://matplotlib.org/</dc:title>\n     </cc:Agent>\n    </dc:creator>\n   </cc:Work>\n  </rdf:RDF>\n </metadata>\n <defs>\n  <style type=\"text/css\">*{stroke-linecap:butt;stroke-linejoin:round;}</style>\n </defs>\n <g id=\"figure_1\">\n  <g id=\"patch_1\">\n   <path d=\"M 0 259.280625 \nL 395.328125 259.280625 \nL 395.328125 0 \nL 0 0 \nz\n\" style=\"fill:none;\"/>\n  </g>\n  <g id=\"axes_1\">\n   <g id=\"patch_2\">\n    <path d=\"M 53.328125 224.64 \nL 388.128125 224.64 \nL 388.128125 7.2 \nL 53.328125 7.2 \nz\n\" style=\"fill:#ffffff;\"/>\n   </g>\n   <g id=\"patch_3\">\n    <path clip-path=\"url(#pb8d1713463)\" d=\"M 65.285268 224.64 \nL 89.199554 224.64 \nL 89.199554 131.064363 \nL 65.285268 131.064363 \nz\n\" style=\"fill:#1f77b4;\"/>\n   </g>\n   <g id=\"patch_4\">\n    <path clip-path=\"url(#pb8d1713463)\" d=\"M 113.113839 224.64 \nL 137.028125 224.64 \nL 137.028125 17.554286 \nL 113.113839 17.554286 \nz\n\" style=\"fill:#1f77b4;\"/>\n   </g>\n   <g id=\"patch_5\">\n    <path clip-path=\"url(#pb8d1713463)\" d=\"M 160.942411 224.64 \nL 184.856696 224.64 \nL 184.856696 115.165057 \nL 160.942411 115.165057 \nz\n\" style=\"fill:#1f77b4;\"/>\n   </g>\n   <g id=\"patch_6\">\n    <path clip-path=\"url(#pb8d1713463)\" d=\"M 208.770982 224.64 \nL 232.685268 224.64 \nL 232.685268 199.310761 \nL 208.770982 199.310761 \nz\n\" style=\"fill:#1f77b4;\"/>\n   </g>\n   <g id=\"patch_7\">\n    <path clip-path=\"url(#pb8d1713463)\" d=\"M 256.599554 224.64 \nL 280.513839 224.64 \nL 280.513839 221.78909 \nL 256.599554 221.78909 \nz\n\" style=\"fill:#1f77b4;\"/>\n   </g>\n   <g id=\"patch_8\">\n    <path clip-path=\"url(#pb8d1713463)\" d=\"M 304.428125 224.64 \nL 328.342411 224.64 \nL 328.342411 224.376839 \nL 304.428125 224.376839 \nz\n\" style=\"fill:#1f77b4;\"/>\n   </g>\n   <g id=\"patch_9\">\n    <path clip-path=\"url(#pb8d1713463)\" d=\"M 352.256696 224.64 \nL 376.170982 224.64 \nL 376.170982 224.61807 \nL 352.256696 224.61807 \nz\n\" style=\"fill:#1f77b4;\"/>\n   </g>\n   <g id=\"matplotlib.axis_1\">\n    <g id=\"xtick_1\">\n     <g id=\"line2d_1\">\n      <defs>\n       <path d=\"M 0 0 \nL 0 3.5 \n\" id=\"m7056752323\" style=\"stroke:#000000;stroke-width:0.8;\"/>\n      </defs>\n      <g>\n       <use style=\"stroke:#000000;stroke-width:0.8;\" x=\"77.242411\" xlink:href=\"#m7056752323\" y=\"224.64\"/>\n      </g>\n     </g>\n     <g id=\"text_1\">\n      <!-- 0 -->\n      <g transform=\"translate(80.001786 238.0025)rotate(-90)scale(0.1 -0.1)\">\n       <defs>\n        <path d=\"M 31.78125 66.40625 \nQ 24.171875 66.40625 20.328125 58.90625 \nQ 16.5 51.421875 16.5 36.375 \nQ 16.5 21.390625 20.328125 13.890625 \nQ 24.171875 6.390625 31.78125 6.390625 \nQ 39.453125 6.390625 43.28125 13.890625 \nQ 47.125 21.390625 47.125 36.375 \nQ 47.125 51.421875 43.28125 58.90625 \nQ 39.453125 66.40625 31.78125 66.40625 \nz\nM 31.78125 74.21875 \nQ 44.046875 74.21875 50.515625 64.515625 \nQ 56.984375 54.828125 56.984375 36.375 \nQ 56.984375 17.96875 50.515625 8.265625 \nQ 44.046875 -1.421875 31.78125 -1.421875 \nQ 19.53125 -1.421875 13.0625 8.265625 \nQ 6.59375 17.96875 6.59375 36.375 \nQ 6.59375 54.828125 13.0625 64.515625 \nQ 19.53125 74.21875 31.78125 74.21875 \nz\n\" id=\"DejaVuSans-48\"/>\n       </defs>\n       <use xlink:href=\"#DejaVuSans-48\"/>\n      </g>\n     </g>\n    </g>\n    <g id=\"xtick_2\">\n     <g id=\"line2d_2\">\n      <g>\n       <use style=\"stroke:#000000;stroke-width:0.8;\" x=\"125.070982\" xlink:href=\"#m7056752323\" y=\"224.64\"/>\n      </g>\n     </g>\n     <g id=\"text_2\">\n      <!-- 1 -->\n      <g transform=\"translate(127.830357 238.0025)rotate(-90)scale(0.1 -0.1)\">\n       <defs>\n        <path d=\"M 12.40625 8.296875 \nL 28.515625 8.296875 \nL 28.515625 63.921875 \nL 10.984375 60.40625 \nL 10.984375 69.390625 \nL 28.421875 72.90625 \nL 38.28125 72.90625 \nL 38.28125 8.296875 \nL 54.390625 8.296875 \nL 54.390625 0 \nL 12.40625 0 \nz\n\" id=\"DejaVuSans-49\"/>\n       </defs>\n       <use xlink:href=\"#DejaVuSans-49\"/>\n      </g>\n     </g>\n    </g>\n    <g id=\"xtick_3\">\n     <g id=\"line2d_3\">\n      <g>\n       <use style=\"stroke:#000000;stroke-width:0.8;\" x=\"172.899554\" xlink:href=\"#m7056752323\" y=\"224.64\"/>\n      </g>\n     </g>\n     <g id=\"text_3\">\n      <!-- 2 -->\n      <g transform=\"translate(175.658929 238.0025)rotate(-90)scale(0.1 -0.1)\">\n       <defs>\n        <path d=\"M 19.1875 8.296875 \nL 53.609375 8.296875 \nL 53.609375 0 \nL 7.328125 0 \nL 7.328125 8.296875 \nQ 12.9375 14.109375 22.625 23.890625 \nQ 32.328125 33.6875 34.8125 36.53125 \nQ 39.546875 41.84375 41.421875 45.53125 \nQ 43.3125 49.21875 43.3125 52.78125 \nQ 43.3125 58.59375 39.234375 62.25 \nQ 35.15625 65.921875 28.609375 65.921875 \nQ 23.96875 65.921875 18.8125 64.3125 \nQ 13.671875 62.703125 7.8125 59.421875 \nL 7.8125 69.390625 \nQ 13.765625 71.78125 18.9375 73 \nQ 24.125 74.21875 28.421875 74.21875 \nQ 39.75 74.21875 46.484375 68.546875 \nQ 53.21875 62.890625 53.21875 53.421875 \nQ 53.21875 48.921875 51.53125 44.890625 \nQ 49.859375 40.875 45.40625 35.40625 \nQ 44.1875 33.984375 37.640625 27.21875 \nQ 31.109375 20.453125 19.1875 8.296875 \nz\n\" id=\"DejaVuSans-50\"/>\n       </defs>\n       <use xlink:href=\"#DejaVuSans-50\"/>\n      </g>\n     </g>\n    </g>\n    <g id=\"xtick_4\">\n     <g id=\"line2d_4\">\n      <g>\n       <use style=\"stroke:#000000;stroke-width:0.8;\" x=\"220.728125\" xlink:href=\"#m7056752323\" y=\"224.64\"/>\n      </g>\n     </g>\n     <g id=\"text_4\">\n      <!-- 3 -->\n      <g transform=\"translate(223.4875 238.0025)rotate(-90)scale(0.1 -0.1)\">\n       <defs>\n        <path d=\"M 40.578125 39.3125 \nQ 47.65625 37.796875 51.625 33 \nQ 55.609375 28.21875 55.609375 21.1875 \nQ 55.609375 10.40625 48.1875 4.484375 \nQ 40.765625 -1.421875 27.09375 -1.421875 \nQ 22.515625 -1.421875 17.65625 -0.515625 \nQ 12.796875 0.390625 7.625 2.203125 \nL 7.625 11.71875 \nQ 11.71875 9.328125 16.59375 8.109375 \nQ 21.484375 6.890625 26.8125 6.890625 \nQ 36.078125 6.890625 40.9375 10.546875 \nQ 45.796875 14.203125 45.796875 21.1875 \nQ 45.796875 27.640625 41.28125 31.265625 \nQ 36.765625 34.90625 28.71875 34.90625 \nL 20.21875 34.90625 \nL 20.21875 43.015625 \nL 29.109375 43.015625 \nQ 36.375 43.015625 40.234375 45.921875 \nQ 44.09375 48.828125 44.09375 54.296875 \nQ 44.09375 59.90625 40.109375 62.90625 \nQ 36.140625 65.921875 28.71875 65.921875 \nQ 24.65625 65.921875 20.015625 65.03125 \nQ 15.375 64.15625 9.8125 62.3125 \nL 9.8125 71.09375 \nQ 15.4375 72.65625 20.34375 73.4375 \nQ 25.25 74.21875 29.59375 74.21875 \nQ 40.828125 74.21875 47.359375 69.109375 \nQ 53.90625 64.015625 53.90625 55.328125 \nQ 53.90625 49.265625 50.4375 45.09375 \nQ 46.96875 40.921875 40.578125 39.3125 \nz\n\" id=\"DejaVuSans-51\"/>\n       </defs>\n       <use xlink:href=\"#DejaVuSans-51\"/>\n      </g>\n     </g>\n    </g>\n    <g id=\"xtick_5\">\n     <g id=\"line2d_5\">\n      <g>\n       <use style=\"stroke:#000000;stroke-width:0.8;\" x=\"268.556696\" xlink:href=\"#m7056752323\" y=\"224.64\"/>\n      </g>\n     </g>\n     <g id=\"text_5\">\n      <!-- 4 -->\n      <g transform=\"translate(271.316071 238.0025)rotate(-90)scale(0.1 -0.1)\">\n       <defs>\n        <path d=\"M 37.796875 64.3125 \nL 12.890625 25.390625 \nL 37.796875 25.390625 \nz\nM 35.203125 72.90625 \nL 47.609375 72.90625 \nL 47.609375 25.390625 \nL 58.015625 25.390625 \nL 58.015625 17.1875 \nL 47.609375 17.1875 \nL 47.609375 0 \nL 37.796875 0 \nL 37.796875 17.1875 \nL 4.890625 17.1875 \nL 4.890625 26.703125 \nz\n\" id=\"DejaVuSans-52\"/>\n       </defs>\n       <use xlink:href=\"#DejaVuSans-52\"/>\n      </g>\n     </g>\n    </g>\n    <g id=\"xtick_6\">\n     <g id=\"line2d_6\">\n      <g>\n       <use style=\"stroke:#000000;stroke-width:0.8;\" x=\"316.385268\" xlink:href=\"#m7056752323\" y=\"224.64\"/>\n      </g>\n     </g>\n     <g id=\"text_6\">\n      <!-- 5 -->\n      <g transform=\"translate(319.144643 238.0025)rotate(-90)scale(0.1 -0.1)\">\n       <defs>\n        <path d=\"M 10.796875 72.90625 \nL 49.515625 72.90625 \nL 49.515625 64.59375 \nL 19.828125 64.59375 \nL 19.828125 46.734375 \nQ 21.96875 47.46875 24.109375 47.828125 \nQ 26.265625 48.1875 28.421875 48.1875 \nQ 40.625 48.1875 47.75 41.5 \nQ 54.890625 34.8125 54.890625 23.390625 \nQ 54.890625 11.625 47.5625 5.09375 \nQ 40.234375 -1.421875 26.90625 -1.421875 \nQ 22.3125 -1.421875 17.546875 -0.640625 \nQ 12.796875 0.140625 7.71875 1.703125 \nL 7.71875 11.625 \nQ 12.109375 9.234375 16.796875 8.0625 \nQ 21.484375 6.890625 26.703125 6.890625 \nQ 35.15625 6.890625 40.078125 11.328125 \nQ 45.015625 15.765625 45.015625 23.390625 \nQ 45.015625 31 40.078125 35.4375 \nQ 35.15625 39.890625 26.703125 39.890625 \nQ 22.75 39.890625 18.8125 39.015625 \nQ 14.890625 38.140625 10.796875 36.28125 \nz\n\" id=\"DejaVuSans-53\"/>\n       </defs>\n       <use xlink:href=\"#DejaVuSans-53\"/>\n      </g>\n     </g>\n    </g>\n    <g id=\"xtick_7\">\n     <g id=\"line2d_7\">\n      <g>\n       <use style=\"stroke:#000000;stroke-width:0.8;\" x=\"364.213839\" xlink:href=\"#m7056752323\" y=\"224.64\"/>\n      </g>\n     </g>\n     <g id=\"text_7\">\n      <!-- 6 -->\n      <g transform=\"translate(366.973214 238.0025)rotate(-90)scale(0.1 -0.1)\">\n       <defs>\n        <path d=\"M 33.015625 40.375 \nQ 26.375 40.375 22.484375 35.828125 \nQ 18.609375 31.296875 18.609375 23.390625 \nQ 18.609375 15.53125 22.484375 10.953125 \nQ 26.375 6.390625 33.015625 6.390625 \nQ 39.65625 6.390625 43.53125 10.953125 \nQ 47.40625 15.53125 47.40625 23.390625 \nQ 47.40625 31.296875 43.53125 35.828125 \nQ 39.65625 40.375 33.015625 40.375 \nz\nM 52.59375 71.296875 \nL 52.59375 62.3125 \nQ 48.875 64.0625 45.09375 64.984375 \nQ 41.3125 65.921875 37.59375 65.921875 \nQ 27.828125 65.921875 22.671875 59.328125 \nQ 17.53125 52.734375 16.796875 39.40625 \nQ 19.671875 43.65625 24.015625 45.921875 \nQ 28.375 48.1875 33.59375 48.1875 \nQ 44.578125 48.1875 50.953125 41.515625 \nQ 57.328125 34.859375 57.328125 23.390625 \nQ 57.328125 12.15625 50.6875 5.359375 \nQ 44.046875 -1.421875 33.015625 -1.421875 \nQ 20.359375 -1.421875 13.671875 8.265625 \nQ 6.984375 17.96875 6.984375 36.375 \nQ 6.984375 53.65625 15.1875 63.9375 \nQ 23.390625 74.21875 37.203125 74.21875 \nQ 40.921875 74.21875 44.703125 73.484375 \nQ 48.484375 72.75 52.59375 71.296875 \nz\n\" id=\"DejaVuSans-54\"/>\n       </defs>\n       <use xlink:href=\"#DejaVuSans-54\"/>\n      </g>\n     </g>\n    </g>\n    <g id=\"text_8\">\n     <!-- attributs non renseignés -->\n     <g transform=\"translate(159.533594 250.000937)scale(0.1 -0.1)\">\n      <defs>\n       <path d=\"M 34.28125 27.484375 \nQ 23.390625 27.484375 19.1875 25 \nQ 14.984375 22.515625 14.984375 16.5 \nQ 14.984375 11.71875 18.140625 8.90625 \nQ 21.296875 6.109375 26.703125 6.109375 \nQ 34.1875 6.109375 38.703125 11.40625 \nQ 43.21875 16.703125 43.21875 25.484375 \nL 43.21875 27.484375 \nz\nM 52.203125 31.203125 \nL 52.203125 0 \nL 43.21875 0 \nL 43.21875 8.296875 \nQ 40.140625 3.328125 35.546875 0.953125 \nQ 30.953125 -1.421875 24.3125 -1.421875 \nQ 15.921875 -1.421875 10.953125 3.296875 \nQ 6 8.015625 6 15.921875 \nQ 6 25.140625 12.171875 29.828125 \nQ 18.359375 34.515625 30.609375 34.515625 \nL 43.21875 34.515625 \nL 43.21875 35.40625 \nQ 43.21875 41.609375 39.140625 45 \nQ 35.0625 48.390625 27.6875 48.390625 \nQ 23 48.390625 18.546875 47.265625 \nQ 14.109375 46.140625 10.015625 43.890625 \nL 10.015625 52.203125 \nQ 14.9375 54.109375 19.578125 55.046875 \nQ 24.21875 56 28.609375 56 \nQ 40.484375 56 46.34375 49.84375 \nQ 52.203125 43.703125 52.203125 31.203125 \nz\n\" id=\"DejaVuSans-97\"/>\n       <path d=\"M 18.3125 70.21875 \nL 18.3125 54.6875 \nL 36.8125 54.6875 \nL 36.8125 47.703125 \nL 18.3125 47.703125 \nL 18.3125 18.015625 \nQ 18.3125 11.328125 20.140625 9.421875 \nQ 21.96875 7.515625 27.59375 7.515625 \nL 36.8125 7.515625 \nL 36.8125 0 \nL 27.59375 0 \nQ 17.1875 0 13.234375 3.875 \nQ 9.28125 7.765625 9.28125 18.015625 \nL 9.28125 47.703125 \nL 2.6875 47.703125 \nL 2.6875 54.6875 \nL 9.28125 54.6875 \nL 9.28125 70.21875 \nz\n\" id=\"DejaVuSans-116\"/>\n       <path d=\"M 41.109375 46.296875 \nQ 39.59375 47.171875 37.8125 47.578125 \nQ 36.03125 48 33.890625 48 \nQ 26.265625 48 22.1875 43.046875 \nQ 18.109375 38.09375 18.109375 28.8125 \nL 18.109375 0 \nL 9.078125 0 \nL 9.078125 54.6875 \nL 18.109375 54.6875 \nL 18.109375 46.1875 \nQ 20.953125 51.171875 25.484375 53.578125 \nQ 30.03125 56 36.53125 56 \nQ 37.453125 56 38.578125 55.875 \nQ 39.703125 55.765625 41.0625 55.515625 \nz\n\" id=\"DejaVuSans-114\"/>\n       <path d=\"M 9.421875 54.6875 \nL 18.40625 54.6875 \nL 18.40625 0 \nL 9.421875 0 \nz\nM 9.421875 75.984375 \nL 18.40625 75.984375 \nL 18.40625 64.59375 \nL 9.421875 64.59375 \nz\n\" id=\"DejaVuSans-105\"/>\n       <path d=\"M 48.6875 27.296875 \nQ 48.6875 37.203125 44.609375 42.84375 \nQ 40.53125 48.484375 33.40625 48.484375 \nQ 26.265625 48.484375 22.1875 42.84375 \nQ 18.109375 37.203125 18.109375 27.296875 \nQ 18.109375 17.390625 22.1875 11.75 \nQ 26.265625 6.109375 33.40625 6.109375 \nQ 40.53125 6.109375 44.609375 11.75 \nQ 48.6875 17.390625 48.6875 27.296875 \nz\nM 18.109375 46.390625 \nQ 20.953125 51.265625 25.265625 53.625 \nQ 29.59375 56 35.59375 56 \nQ 45.5625 56 51.78125 48.09375 \nQ 58.015625 40.1875 58.015625 27.296875 \nQ 58.015625 14.40625 51.78125 6.484375 \nQ 45.5625 -1.421875 35.59375 -1.421875 \nQ 29.59375 -1.421875 25.265625 0.953125 \nQ 20.953125 3.328125 18.109375 8.203125 \nL 18.109375 0 \nL 9.078125 0 \nL 9.078125 75.984375 \nL 18.109375 75.984375 \nz\n\" id=\"DejaVuSans-98\"/>\n       <path d=\"M 8.5 21.578125 \nL 8.5 54.6875 \nL 17.484375 54.6875 \nL 17.484375 21.921875 \nQ 17.484375 14.15625 20.5 10.265625 \nQ 23.53125 6.390625 29.59375 6.390625 \nQ 36.859375 6.390625 41.078125 11.03125 \nQ 45.3125 15.671875 45.3125 23.6875 \nL 45.3125 54.6875 \nL 54.296875 54.6875 \nL 54.296875 0 \nL 45.3125 0 \nL 45.3125 8.40625 \nQ 42.046875 3.421875 37.71875 1 \nQ 33.40625 -1.421875 27.6875 -1.421875 \nQ 18.265625 -1.421875 13.375 4.4375 \nQ 8.5 10.296875 8.5 21.578125 \nz\nM 31.109375 56 \nz\n\" id=\"DejaVuSans-117\"/>\n       <path d=\"M 44.28125 53.078125 \nL 44.28125 44.578125 \nQ 40.484375 46.53125 36.375 47.5 \nQ 32.28125 48.484375 27.875 48.484375 \nQ 21.1875 48.484375 17.84375 46.4375 \nQ 14.5 44.390625 14.5 40.28125 \nQ 14.5 37.15625 16.890625 35.375 \nQ 19.28125 33.59375 26.515625 31.984375 \nL 29.59375 31.296875 \nQ 39.15625 29.25 43.1875 25.515625 \nQ 47.21875 21.78125 47.21875 15.09375 \nQ 47.21875 7.46875 41.1875 3.015625 \nQ 35.15625 -1.421875 24.609375 -1.421875 \nQ 20.21875 -1.421875 15.453125 -0.5625 \nQ 10.6875 0.296875 5.421875 2 \nL 5.421875 11.28125 \nQ 10.40625 8.6875 15.234375 7.390625 \nQ 20.0625 6.109375 24.8125 6.109375 \nQ 31.15625 6.109375 34.5625 8.28125 \nQ 37.984375 10.453125 37.984375 14.40625 \nQ 37.984375 18.0625 35.515625 20.015625 \nQ 33.0625 21.96875 24.703125 23.78125 \nL 21.578125 24.515625 \nQ 13.234375 26.265625 9.515625 29.90625 \nQ 5.8125 33.546875 5.8125 39.890625 \nQ 5.8125 47.609375 11.28125 51.796875 \nQ 16.75 56 26.8125 56 \nQ 31.78125 56 36.171875 55.265625 \nQ 40.578125 54.546875 44.28125 53.078125 \nz\n\" id=\"DejaVuSans-115\"/>\n       <path id=\"DejaVuSans-32\"/>\n       <path d=\"M 54.890625 33.015625 \nL 54.890625 0 \nL 45.90625 0 \nL 45.90625 32.71875 \nQ 45.90625 40.484375 42.875 44.328125 \nQ 39.84375 48.1875 33.796875 48.1875 \nQ 26.515625 48.1875 22.3125 43.546875 \nQ 18.109375 38.921875 18.109375 30.90625 \nL 18.109375 0 \nL 9.078125 0 \nL 9.078125 54.6875 \nL 18.109375 54.6875 \nL 18.109375 46.1875 \nQ 21.34375 51.125 25.703125 53.5625 \nQ 30.078125 56 35.796875 56 \nQ 45.21875 56 50.046875 50.171875 \nQ 54.890625 44.34375 54.890625 33.015625 \nz\n\" id=\"DejaVuSans-110\"/>\n       <path d=\"M 30.609375 48.390625 \nQ 23.390625 48.390625 19.1875 42.75 \nQ 14.984375 37.109375 14.984375 27.296875 \nQ 14.984375 17.484375 19.15625 11.84375 \nQ 23.34375 6.203125 30.609375 6.203125 \nQ 37.796875 6.203125 41.984375 11.859375 \nQ 46.1875 17.53125 46.1875 27.296875 \nQ 46.1875 37.015625 41.984375 42.703125 \nQ 37.796875 48.390625 30.609375 48.390625 \nz\nM 30.609375 56 \nQ 42.328125 56 49.015625 48.375 \nQ 55.71875 40.765625 55.71875 27.296875 \nQ 55.71875 13.875 49.015625 6.21875 \nQ 42.328125 -1.421875 30.609375 -1.421875 \nQ 18.84375 -1.421875 12.171875 6.21875 \nQ 5.515625 13.875 5.515625 27.296875 \nQ 5.515625 40.765625 12.171875 48.375 \nQ 18.84375 56 30.609375 56 \nz\n\" id=\"DejaVuSans-111\"/>\n       <path d=\"M 56.203125 29.59375 \nL 56.203125 25.203125 \nL 14.890625 25.203125 \nQ 15.484375 15.921875 20.484375 11.0625 \nQ 25.484375 6.203125 34.421875 6.203125 \nQ 39.59375 6.203125 44.453125 7.46875 \nQ 49.3125 8.734375 54.109375 11.28125 \nL 54.109375 2.78125 \nQ 49.265625 0.734375 44.1875 -0.34375 \nQ 39.109375 -1.421875 33.890625 -1.421875 \nQ 20.796875 -1.421875 13.15625 6.1875 \nQ 5.515625 13.8125 5.515625 26.8125 \nQ 5.515625 40.234375 12.765625 48.109375 \nQ 20.015625 56 32.328125 56 \nQ 43.359375 56 49.78125 48.890625 \nQ 56.203125 41.796875 56.203125 29.59375 \nz\nM 47.21875 32.234375 \nQ 47.125 39.59375 43.09375 43.984375 \nQ 39.0625 48.390625 32.421875 48.390625 \nQ 24.90625 48.390625 20.390625 44.140625 \nQ 15.875 39.890625 15.1875 32.171875 \nz\n\" id=\"DejaVuSans-101\"/>\n       <path d=\"M 45.40625 27.984375 \nQ 45.40625 37.75 41.375 43.109375 \nQ 37.359375 48.484375 30.078125 48.484375 \nQ 22.859375 48.484375 18.828125 43.109375 \nQ 14.796875 37.75 14.796875 27.984375 \nQ 14.796875 18.265625 18.828125 12.890625 \nQ 22.859375 7.515625 30.078125 7.515625 \nQ 37.359375 7.515625 41.375 12.890625 \nQ 45.40625 18.265625 45.40625 27.984375 \nz\nM 54.390625 6.78125 \nQ 54.390625 -7.171875 48.1875 -13.984375 \nQ 42 -20.796875 29.203125 -20.796875 \nQ 24.46875 -20.796875 20.265625 -20.09375 \nQ 16.0625 -19.390625 12.109375 -17.921875 \nL 12.109375 -9.1875 \nQ 16.0625 -11.328125 19.921875 -12.34375 \nQ 23.78125 -13.375 27.78125 -13.375 \nQ 36.625 -13.375 41.015625 -8.765625 \nQ 45.40625 -4.15625 45.40625 5.171875 \nL 45.40625 9.625 \nQ 42.625 4.78125 38.28125 2.390625 \nQ 33.9375 0 27.875 0 \nQ 17.828125 0 11.671875 7.65625 \nQ 5.515625 15.328125 5.515625 27.984375 \nQ 5.515625 40.671875 11.671875 48.328125 \nQ 17.828125 56 27.875 56 \nQ 33.9375 56 38.28125 53.609375 \nQ 42.625 51.21875 45.40625 46.390625 \nL 45.40625 54.6875 \nL 54.390625 54.6875 \nz\n\" id=\"DejaVuSans-103\"/>\n       <path d=\"M 56.203125 29.59375 \nL 56.203125 25.203125 \nL 14.890625 25.203125 \nQ 15.484375 15.921875 20.484375 11.0625 \nQ 25.484375 6.203125 34.421875 6.203125 \nQ 39.59375 6.203125 44.453125 7.46875 \nQ 49.3125 8.734375 54.109375 11.28125 \nL 54.109375 2.78125 \nQ 49.265625 0.734375 44.1875 -0.34375 \nQ 39.109375 -1.421875 33.890625 -1.421875 \nQ 20.796875 -1.421875 13.15625 6.1875 \nQ 5.515625 13.8125 5.515625 26.8125 \nQ 5.515625 40.234375 12.765625 48.109375 \nQ 20.015625 56 32.328125 56 \nQ 43.359375 56 49.78125 48.890625 \nQ 56.203125 41.796875 56.203125 29.59375 \nz\nM 47.21875 32.234375 \nQ 47.125 39.59375 43.09375 43.984375 \nQ 39.0625 48.390625 32.421875 48.390625 \nQ 24.90625 48.390625 20.390625 44.140625 \nQ 15.875 39.890625 15.1875 32.171875 \nz\nM 38.53125 79.984375 \nL 48.25 79.984375 \nL 32.34375 61.625 \nL 24.859375 61.625 \nz\n\" id=\"DejaVuSans-233\"/>\n      </defs>\n      <use xlink:href=\"#DejaVuSans-97\"/>\n      <use x=\"61.279297\" xlink:href=\"#DejaVuSans-116\"/>\n      <use x=\"100.488281\" xlink:href=\"#DejaVuSans-116\"/>\n      <use x=\"139.697266\" xlink:href=\"#DejaVuSans-114\"/>\n      <use x=\"180.810547\" xlink:href=\"#DejaVuSans-105\"/>\n      <use x=\"208.59375\" xlink:href=\"#DejaVuSans-98\"/>\n      <use x=\"272.070312\" xlink:href=\"#DejaVuSans-117\"/>\n      <use x=\"335.449219\" xlink:href=\"#DejaVuSans-116\"/>\n      <use x=\"374.658203\" xlink:href=\"#DejaVuSans-115\"/>\n      <use x=\"426.757812\" xlink:href=\"#DejaVuSans-32\"/>\n      <use x=\"458.544922\" xlink:href=\"#DejaVuSans-110\"/>\n      <use x=\"521.923828\" xlink:href=\"#DejaVuSans-111\"/>\n      <use x=\"583.105469\" xlink:href=\"#DejaVuSans-110\"/>\n      <use x=\"646.484375\" xlink:href=\"#DejaVuSans-32\"/>\n      <use x=\"678.271484\" xlink:href=\"#DejaVuSans-114\"/>\n      <use x=\"717.134766\" xlink:href=\"#DejaVuSans-101\"/>\n      <use x=\"778.658203\" xlink:href=\"#DejaVuSans-110\"/>\n      <use x=\"842.037109\" xlink:href=\"#DejaVuSans-115\"/>\n      <use x=\"894.136719\" xlink:href=\"#DejaVuSans-101\"/>\n      <use x=\"955.660156\" xlink:href=\"#DejaVuSans-105\"/>\n      <use x=\"983.443359\" xlink:href=\"#DejaVuSans-103\"/>\n      <use x=\"1046.919922\" xlink:href=\"#DejaVuSans-110\"/>\n      <use x=\"1110.298828\" xlink:href=\"#DejaVuSans-233\"/>\n      <use x=\"1171.822266\" xlink:href=\"#DejaVuSans-115\"/>\n     </g>\n    </g>\n   </g>\n   <g id=\"matplotlib.axis_2\">\n    <g id=\"ytick_1\">\n     <g id=\"line2d_8\">\n      <defs>\n       <path d=\"M 0 0 \nL -3.5 0 \n\" id=\"m40951caa51\" style=\"stroke:#000000;stroke-width:0.8;\"/>\n      </defs>\n      <g>\n       <use style=\"stroke:#000000;stroke-width:0.8;\" x=\"53.328125\" xlink:href=\"#m40951caa51\" y=\"224.64\"/>\n      </g>\n     </g>\n     <g id=\"text_9\">\n      <!-- 0 -->\n      <g transform=\"translate(39.965625 228.439219)scale(0.1 -0.1)\">\n       <use xlink:href=\"#DejaVuSans-48\"/>\n      </g>\n     </g>\n    </g>\n    <g id=\"ytick_2\">\n     <g id=\"line2d_9\">\n      <g>\n       <use style=\"stroke:#000000;stroke-width:0.8;\" x=\"53.328125\" xlink:href=\"#m40951caa51\" y=\"180.779847\"/>\n      </g>\n     </g>\n     <g id=\"text_10\">\n      <!-- 2000 -->\n      <g transform=\"translate(20.878125 184.579065)scale(0.1 -0.1)\">\n       <use xlink:href=\"#DejaVuSans-50\"/>\n       <use x=\"63.623047\" xlink:href=\"#DejaVuSans-48\"/>\n       <use x=\"127.246094\" xlink:href=\"#DejaVuSans-48\"/>\n       <use x=\"190.869141\" xlink:href=\"#DejaVuSans-48\"/>\n      </g>\n     </g>\n    </g>\n    <g id=\"ytick_3\">\n     <g id=\"line2d_10\">\n      <g>\n       <use style=\"stroke:#000000;stroke-width:0.8;\" x=\"53.328125\" xlink:href=\"#m40951caa51\" y=\"136.919693\"/>\n      </g>\n     </g>\n     <g id=\"text_11\">\n      <!-- 4000 -->\n      <g transform=\"translate(20.878125 140.718912)scale(0.1 -0.1)\">\n       <use xlink:href=\"#DejaVuSans-52\"/>\n       <use x=\"63.623047\" xlink:href=\"#DejaVuSans-48\"/>\n       <use x=\"127.246094\" xlink:href=\"#DejaVuSans-48\"/>\n       <use x=\"190.869141\" xlink:href=\"#DejaVuSans-48\"/>\n      </g>\n     </g>\n    </g>\n    <g id=\"ytick_4\">\n     <g id=\"line2d_11\">\n      <g>\n       <use style=\"stroke:#000000;stroke-width:0.8;\" x=\"53.328125\" xlink:href=\"#m40951caa51\" y=\"93.05954\"/>\n      </g>\n     </g>\n     <g id=\"text_12\">\n      <!-- 6000 -->\n      <g transform=\"translate(20.878125 96.858759)scale(0.1 -0.1)\">\n       <use xlink:href=\"#DejaVuSans-54\"/>\n       <use x=\"63.623047\" xlink:href=\"#DejaVuSans-48\"/>\n       <use x=\"127.246094\" xlink:href=\"#DejaVuSans-48\"/>\n       <use x=\"190.869141\" xlink:href=\"#DejaVuSans-48\"/>\n      </g>\n     </g>\n    </g>\n    <g id=\"ytick_5\">\n     <g id=\"line2d_12\">\n      <g>\n       <use style=\"stroke:#000000;stroke-width:0.8;\" x=\"53.328125\" xlink:href=\"#m40951caa51\" y=\"49.199386\"/>\n      </g>\n     </g>\n     <g id=\"text_13\">\n      <!-- 8000 -->\n      <g transform=\"translate(20.878125 52.998605)scale(0.1 -0.1)\">\n       <defs>\n        <path d=\"M 31.78125 34.625 \nQ 24.75 34.625 20.71875 30.859375 \nQ 16.703125 27.09375 16.703125 20.515625 \nQ 16.703125 13.921875 20.71875 10.15625 \nQ 24.75 6.390625 31.78125 6.390625 \nQ 38.8125 6.390625 42.859375 10.171875 \nQ 46.921875 13.96875 46.921875 20.515625 \nQ 46.921875 27.09375 42.890625 30.859375 \nQ 38.875 34.625 31.78125 34.625 \nz\nM 21.921875 38.8125 \nQ 15.578125 40.375 12.03125 44.71875 \nQ 8.5 49.078125 8.5 55.328125 \nQ 8.5 64.0625 14.71875 69.140625 \nQ 20.953125 74.21875 31.78125 74.21875 \nQ 42.671875 74.21875 48.875 69.140625 \nQ 55.078125 64.0625 55.078125 55.328125 \nQ 55.078125 49.078125 51.53125 44.71875 \nQ 48 40.375 41.703125 38.8125 \nQ 48.828125 37.15625 52.796875 32.3125 \nQ 56.78125 27.484375 56.78125 20.515625 \nQ 56.78125 9.90625 50.3125 4.234375 \nQ 43.84375 -1.421875 31.78125 -1.421875 \nQ 19.734375 -1.421875 13.25 4.234375 \nQ 6.78125 9.90625 6.78125 20.515625 \nQ 6.78125 27.484375 10.78125 32.3125 \nQ 14.796875 37.15625 21.921875 38.8125 \nz\nM 18.3125 54.390625 \nQ 18.3125 48.734375 21.84375 45.5625 \nQ 25.390625 42.390625 31.78125 42.390625 \nQ 38.140625 42.390625 41.71875 45.5625 \nQ 45.3125 48.734375 45.3125 54.390625 \nQ 45.3125 60.0625 41.71875 63.234375 \nQ 38.140625 66.40625 31.78125 66.40625 \nQ 25.390625 66.40625 21.84375 63.234375 \nQ 18.3125 60.0625 18.3125 54.390625 \nz\n\" id=\"DejaVuSans-56\"/>\n       </defs>\n       <use xlink:href=\"#DejaVuSans-56\"/>\n       <use x=\"63.623047\" xlink:href=\"#DejaVuSans-48\"/>\n       <use x=\"127.246094\" xlink:href=\"#DejaVuSans-48\"/>\n       <use x=\"190.869141\" xlink:href=\"#DejaVuSans-48\"/>\n      </g>\n     </g>\n    </g>\n    <g id=\"text_14\">\n     <!-- patients -->\n     <g transform=\"translate(14.798438 136.317656)rotate(-90)scale(0.1 -0.1)\">\n      <defs>\n       <path d=\"M 18.109375 8.203125 \nL 18.109375 -20.796875 \nL 9.078125 -20.796875 \nL 9.078125 54.6875 \nL 18.109375 54.6875 \nL 18.109375 46.390625 \nQ 20.953125 51.265625 25.265625 53.625 \nQ 29.59375 56 35.59375 56 \nQ 45.5625 56 51.78125 48.09375 \nQ 58.015625 40.1875 58.015625 27.296875 \nQ 58.015625 14.40625 51.78125 6.484375 \nQ 45.5625 -1.421875 35.59375 -1.421875 \nQ 29.59375 -1.421875 25.265625 0.953125 \nQ 20.953125 3.328125 18.109375 8.203125 \nz\nM 48.6875 27.296875 \nQ 48.6875 37.203125 44.609375 42.84375 \nQ 40.53125 48.484375 33.40625 48.484375 \nQ 26.265625 48.484375 22.1875 42.84375 \nQ 18.109375 37.203125 18.109375 27.296875 \nQ 18.109375 17.390625 22.1875 11.75 \nQ 26.265625 6.109375 33.40625 6.109375 \nQ 40.53125 6.109375 44.609375 11.75 \nQ 48.6875 17.390625 48.6875 27.296875 \nz\n\" id=\"DejaVuSans-112\"/>\n      </defs>\n      <use xlink:href=\"#DejaVuSans-112\"/>\n      <use x=\"63.476562\" xlink:href=\"#DejaVuSans-97\"/>\n      <use x=\"124.755859\" xlink:href=\"#DejaVuSans-116\"/>\n      <use x=\"163.964844\" xlink:href=\"#DejaVuSans-105\"/>\n      <use x=\"191.748047\" xlink:href=\"#DejaVuSans-101\"/>\n      <use x=\"253.271484\" xlink:href=\"#DejaVuSans-110\"/>\n      <use x=\"316.650391\" xlink:href=\"#DejaVuSans-116\"/>\n      <use x=\"355.859375\" xlink:href=\"#DejaVuSans-115\"/>\n     </g>\n    </g>\n   </g>\n   <g id=\"patch_10\">\n    <path d=\"M 53.328125 224.64 \nL 53.328125 7.2 \n\" style=\"fill:none;stroke:#000000;stroke-linecap:square;stroke-linejoin:miter;stroke-width:0.8;\"/>\n   </g>\n   <g id=\"patch_11\">\n    <path d=\"M 388.128125 224.64 \nL 388.128125 7.2 \n\" style=\"fill:none;stroke:#000000;stroke-linecap:square;stroke-linejoin:miter;stroke-width:0.8;\"/>\n   </g>\n   <g id=\"patch_12\">\n    <path d=\"M 53.328125 224.64 \nL 388.128125 224.64 \n\" style=\"fill:none;stroke:#000000;stroke-linecap:square;stroke-linejoin:miter;stroke-width:0.8;\"/>\n   </g>\n   <g id=\"patch_13\">\n    <path d=\"M 53.328125 7.2 \nL 388.128125 7.2 \n\" style=\"fill:none;stroke:#000000;stroke-linecap:square;stroke-linejoin:miter;stroke-width:0.8;\"/>\n   </g>\n  </g>\n </g>\n <defs>\n  <clipPath id=\"pb8d1713463\">\n   <rect height=\"217.44\" width=\"334.8\" x=\"53.328125\" y=\"7.2\"/>\n  </clipPath>\n </defs>\n</svg>\n",
      "image/png": "[encoded data removed]"
     },
     "metadata": {
      "needs_background": "light"
     }
    }
   ],
   "source": [
    "df_patient.isna().sum(axis=\"columns\").value_counts().sort_index().plot.bar(xlabel=\"attributs non renseignés\", ylabel=\"patients\")"
   ]
  },
  {
   "cell_type": "markdown",
   "metadata": {},
   "source": [
    "La majorité des patients ont jusqu'à 2 attributs non renseignés.\n",
    "\n",
    "Il y aura des cas extrêmes à rapprocher avec 5 voire 6 attributs manquants."
   ]
  },
  {
   "cell_type": "markdown",
   "metadata": {},
   "source": [
    "### Répartition des valeurs du test PCR"
   ]
  },
  {
   "cell_type": "code",
   "execution_count": 115,
   "metadata": {},
   "outputs": [
    {
     "output_type": "execute_result",
     "data": {
      "text/plain": "N           3482\nNegative    3134\nPositive    1283\nP            901\nName: pcr, dtype: Int64"
     },
     "metadata": {},
     "execution_count": 115
    }
   ],
   "source": [
    "df_pcr.pcr.value_counts()"
   ]
  },
  {
   "cell_type": "markdown",
   "metadata": {},
   "source": [
    "Deux conventions sont utilisées pour représenter les deux valeurs possibles d'un test PCR (négatif ou positif) : `N / P` et `Negative / Positive`.\n",
    "\n",
    "Il faudra normaliser ces résultats dans une variable catégorielle ordonnée."
   ]
  },
  {
   "cell_type": "markdown",
   "metadata": {},
   "source": [
    "### Exhaustivité du référentiel"
   ]
  },
  {
   "cell_type": "code",
   "execution_count": 117,
   "metadata": {},
   "outputs": [
    {
     "output_type": "execute_result",
     "data": {
      "text/plain": "True"
     },
     "metadata": {},
     "execution_count": 117
    }
   ],
   "source": [
    "df_pcr.patient_id.isin(df_patient.patient_id).all()"
   ]
  },
  {
   "cell_type": "markdown",
   "metadata": {},
   "source": [
    "L'intégralité des identifiants associés aux tests de l'échantillon sont présents dans le référenciel."
   ]
  },
  {
   "cell_type": "markdown",
   "metadata": {},
   "source": [
    "## Analyse du référenciel de patients"
   ]
  },
  {
   "cell_type": "markdown",
   "metadata": {},
   "source": [
    "### Nom et prénom"
   ]
  },
  {
   "cell_type": "markdown",
   "metadata": {},
   "source": [
    "#### Valeurs manquantes"
   ]
  },
  {
   "cell_type": "code",
   "execution_count": 119,
   "metadata": {},
   "outputs": [
    {
     "output_type": "execute_result",
     "data": {
      "text/plain": "surname  given_name\nFalse    False         19139\n         True            436\nTrue     False           421\n         True              4\ndtype: int64"
     },
     "metadata": {},
     "execution_count": 119
    }
   ],
   "source": [
    "df_na_in_patient_name = df_patient[[\"surname\", \"given_name\"]].isna()\n",
    "\n",
    "df_na_in_patient_name.value_counts()"
   ]
  },
  {
   "cell_type": "markdown",
   "metadata": {},
   "source": [
    "Il y a 861 patients dont le nom et / ou prénom ne sont pas renseignés."
   ]
  },
  {
   "cell_type": "markdown",
   "metadata": {},
   "source": [
    "#### Fautes typographiques"
   ]
  },
  {
   "cell_type": "code",
   "execution_count": 121,
   "metadata": {},
   "outputs": [],
   "source": [
    "from jellyfish import damerau_levenshtein_distance\n",
    "\n",
    "df_patient[\"full_name\"] = df_patient.agg(\n",
    "    lambda x: f\"{x.given_name} {x.surname}\", axis=\"columns\")\n",
    "\n",
    "df_full_name = df_patient[[\"patient_id\", \"full_name\", \"phone_number\"]].dropna()\n",
    "df_full_name = df_full_name.merge(df_full_name, on=\"phone_number\")\n",
    "df_full_name = df_full_name[df_full_name.patient_id_x != df_full_name.patient_id_y]\n",
    "df_full_name[\"linked_ids\"] = df_full_name[[\"patient_id_x\", \"patient_id_y\"]].apply(\n",
    "    lambda row: tuple(sorted(row)), axis=\"columns\")\n",
    "df_full_name.drop_duplicates(\"linked_ids\", inplace=True)\n",
    "df_full_name[\"distance\"] = df_full_name.apply(\n",
    "    lambda row: damerau_levenshtein_distance(row.full_name_x, row.full_name_y), axis=\"columns\")\n",
    "\n",
    "df_full_name = df_full_name[df_full_name.distance >= 1]"
   ]
  },
  {
   "cell_type": "markdown",
   "metadata": {},
   "source": [
    "Cette cellule procède à un rapprochement des patients partageant un même numéro de téléphone et calcule la similarité entre leurs noms complets sous forme d'une distance.\n",
    "\n",
    "Le numéro de téléphone, quand il est fourni, est un attribut à forte valeur distinctive d'où son utilisation dans le cross-join.\n",
    "\n",
    "La distance choisie est Damerau-Levenshtein car elle est particulièrement adaptée pour détecter les fautes humaines qui peuvent arriver lors de la saisie répétée de texte brut."
   ]
  },
  {
   "cell_type": "code",
   "execution_count": 123,
   "metadata": {},
   "outputs": [
    {
     "output_type": "execute_result",
     "data": {
      "text/plain": "       patient_id_x         full_name_x phone_number  patient_id_y  \\\n4192         311830         taaila <NA>  02 00325977        210155   \n4193         311830         taaila <NA>  02 00325977        525466   \n990          123387      adam schumajnn  02 01272164        505218   \n991          123387      adam schumajnn  02 01272164        375877   \n985          431593       adam schumann  02 01272164        123387   \n1827         489678       jacob svenson  02 03546747        909797   \n1831         669354       jacob svenson  02 03546747        909797   \n1835         576055       jacob svenson  02 03546747        909797   \n570          736584       <NA> petersen  02 03687263        399260   \n574          950122       <NA> petersen  02 03687263        399260   \n579          399260      <NA> peterssen  02 03687263        776651   \n589          471602     briekle tippuns  02 04356284        106764   \n585          718467     brielle tippins  02 04356284        471602   \n4075         131348     timothy britten  02 08766786        646113   \n11786        935726       rachel clarke  02 12378670        669503   \n16241        280680  chelsea martincvic  02 12938957        163146   \n16242        280680  chelsea martincvic  02 12938957        775371   \n14905        311463         claire zilm  02 13744238        858141   \n18189        722323      montana feeney  02 15127378        196917   \n18193        196917     montana feeaney  02 15127378        615188   \n\n              full_name_y        linked_ids  distance  \n4192          taalia <NA>  (210155, 311830)         1  \n4193          taalia <NA>  (311830, 525466)         1  \n990         adam schumann  (123387, 505218)         1  \n991         adam schumann  (123387, 375877)         1  \n985        adam schumajnn  (123387, 431593)         1  \n1827         jaob svenson  (489678, 909797)         1  \n1831         jaob svenson  (669354, 909797)         1  \n1835         jaob svenson  (576055, 909797)         1  \n570        <NA> peterssen  (399260, 736584)         1  \n574        <NA> peterssen  (399260, 950122)         1  \n579         <NA> petersen  (399260, 776651)         1  \n589       brielle tippins  (106764, 471602)         2  \n585       briekle tippuns  (471602, 718467)         2  \n4075       timothy bripen  (131348, 646113)         2  \n11786       rachel clsrke  (669503, 935726)         1  \n16241  chelsea martinovic  (163146, 280680)         1  \n16242  chelsea martinovic  (280680, 775371)         1  \n14905         claire ziln  (311463, 858141)         1  \n18189     montana feeaney  (196917, 722323)         1  \n18193      montana feeney  (196917, 615188)         1  ",
      "text/html": "<div>\n<style scoped>\n    .dataframe tbody tr th:only-of-type {\n        vertical-align: middle;\n    }\n\n    .dataframe tbody tr th {\n        vertical-align: top;\n    }\n\n    .dataframe thead th {\n        text-align: right;\n    }\n</style>\n<table border=\"1\" class=\"dataframe\">\n  <thead>\n    <tr style=\"text-align: right;\">\n      <th></th>\n      <th>patient_id_x</th>\n      <th>full_name_x</th>\n      <th>phone_number</th>\n      <th>patient_id_y</th>\n      <th>full_name_y</th>\n      <th>linked_ids</th>\n      <th>distance</th>\n    </tr>\n  </thead>\n  <tbody>\n    <tr>\n      <th>4192</th>\n      <td>311830</td>\n      <td>taaila &lt;NA&gt;</td>\n      <td>02 00325977</td>\n      <td>210155</td>\n      <td>taalia &lt;NA&gt;</td>\n      <td>(210155, 311830)</td>\n      <td>1</td>\n    </tr>\n    <tr>\n      <th>4193</th>\n      <td>311830</td>\n      <td>taaila &lt;NA&gt;</td>\n      <td>02 00325977</td>\n      <td>525466</td>\n      <td>taalia &lt;NA&gt;</td>\n      <td>(311830, 525466)</td>\n      <td>1</td>\n    </tr>\n    <tr>\n      <th>990</th>\n      <td>123387</td>\n      <td>adam schumajnn</td>\n      <td>02 01272164</td>\n      <td>505218</td>\n      <td>adam schumann</td>\n      <td>(123387, 505218)</td>\n      <td>1</td>\n    </tr>\n    <tr>\n      <th>991</th>\n      <td>123387</td>\n      <td>adam schumajnn</td>\n      <td>02 01272164</td>\n      <td>375877</td>\n      <td>adam schumann</td>\n      <td>(123387, 375877)</td>\n      <td>1</td>\n    </tr>\n    <tr>\n      <th>985</th>\n      <td>431593</td>\n      <td>adam schumann</td>\n      <td>02 01272164</td>\n      <td>123387</td>\n      <td>adam schumajnn</td>\n      <td>(123387, 431593)</td>\n      <td>1</td>\n    </tr>\n    <tr>\n      <th>1827</th>\n      <td>489678</td>\n      <td>jacob svenson</td>\n      <td>02 03546747</td>\n      <td>909797</td>\n      <td>jaob svenson</td>\n      <td>(489678, 909797)</td>\n      <td>1</td>\n    </tr>\n    <tr>\n      <th>1831</th>\n      <td>669354</td>\n      <td>jacob svenson</td>\n      <td>02 03546747</td>\n      <td>909797</td>\n      <td>jaob svenson</td>\n      <td>(669354, 909797)</td>\n      <td>1</td>\n    </tr>\n    <tr>\n      <th>1835</th>\n      <td>576055</td>\n      <td>jacob svenson</td>\n      <td>02 03546747</td>\n      <td>909797</td>\n      <td>jaob svenson</td>\n      <td>(576055, 909797)</td>\n      <td>1</td>\n    </tr>\n    <tr>\n      <th>570</th>\n      <td>736584</td>\n      <td>&lt;NA&gt; petersen</td>\n      <td>02 03687263</td>\n      <td>399260</td>\n      <td>&lt;NA&gt; peterssen</td>\n      <td>(399260, 736584)</td>\n      <td>1</td>\n    </tr>\n    <tr>\n      <th>574</th>\n      <td>950122</td>\n      <td>&lt;NA&gt; petersen</td>\n      <td>02 03687263</td>\n      <td>399260</td>\n      <td>&lt;NA&gt; peterssen</td>\n      <td>(399260, 950122)</td>\n      <td>1</td>\n    </tr>\n    <tr>\n      <th>579</th>\n      <td>399260</td>\n      <td>&lt;NA&gt; peterssen</td>\n      <td>02 03687263</td>\n      <td>776651</td>\n      <td>&lt;NA&gt; petersen</td>\n      <td>(399260, 776651)</td>\n      <td>1</td>\n    </tr>\n    <tr>\n      <th>589</th>\n      <td>471602</td>\n      <td>briekle tippuns</td>\n      <td>02 04356284</td>\n      <td>106764</td>\n      <td>brielle tippins</td>\n      <td>(106764, 471602)</td>\n      <td>2</td>\n    </tr>\n    <tr>\n      <th>585</th>\n      <td>718467</td>\n      <td>brielle tippins</td>\n      <td>02 04356284</td>\n      <td>471602</td>\n      <td>briekle tippuns</td>\n      <td>(471602, 718467)</td>\n      <td>2</td>\n    </tr>\n    <tr>\n      <th>4075</th>\n      <td>131348</td>\n      <td>timothy britten</td>\n      <td>02 08766786</td>\n      <td>646113</td>\n      <td>timothy bripen</td>\n      <td>(131348, 646113)</td>\n      <td>2</td>\n    </tr>\n    <tr>\n      <th>11786</th>\n      <td>935726</td>\n      <td>rachel clarke</td>\n      <td>02 12378670</td>\n      <td>669503</td>\n      <td>rachel clsrke</td>\n      <td>(669503, 935726)</td>\n      <td>1</td>\n    </tr>\n    <tr>\n      <th>16241</th>\n      <td>280680</td>\n      <td>chelsea martincvic</td>\n      <td>02 12938957</td>\n      <td>163146</td>\n      <td>chelsea martinovic</td>\n      <td>(163146, 280680)</td>\n      <td>1</td>\n    </tr>\n    <tr>\n      <th>16242</th>\n      <td>280680</td>\n      <td>chelsea martincvic</td>\n      <td>02 12938957</td>\n      <td>775371</td>\n      <td>chelsea martinovic</td>\n      <td>(280680, 775371)</td>\n      <td>1</td>\n    </tr>\n    <tr>\n      <th>14905</th>\n      <td>311463</td>\n      <td>claire zilm</td>\n      <td>02 13744238</td>\n      <td>858141</td>\n      <td>claire ziln</td>\n      <td>(311463, 858141)</td>\n      <td>1</td>\n    </tr>\n    <tr>\n      <th>18189</th>\n      <td>722323</td>\n      <td>montana feeney</td>\n      <td>02 15127378</td>\n      <td>196917</td>\n      <td>montana feeaney</td>\n      <td>(196917, 722323)</td>\n      <td>1</td>\n    </tr>\n    <tr>\n      <th>18193</th>\n      <td>196917</td>\n      <td>montana feeaney</td>\n      <td>02 15127378</td>\n      <td>615188</td>\n      <td>montana feeney</td>\n      <td>(196917, 615188)</td>\n      <td>1</td>\n    </tr>\n  </tbody>\n</table>\n</div>"
     },
     "metadata": {},
     "execution_count": 123
    }
   ],
   "source": [
    "df_full_name[df_full_name.distance <= 2].sort_values(\"phone_number\").head(20)"
   ]
  },
  {
   "cell_type": "markdown",
   "metadata": {},
   "source": [
    "Dans le cas d'une distance faible, on retrouve les fautes typographiques suivantes :\n",
    "\n",
    "- Ajout de caractère (schumajnn -> schumann)\n",
    "- Omission de caractère (jaob -> jacob)\n",
    "- Substitution de caractère (martincvic -> martinovic)\n",
    "- Transposition de caractère (taaila -> taalia)"
   ]
  },
  {
   "cell_type": "markdown",
   "metadata": {},
   "source": [
    "### Autres différences"
   ]
  },
  {
   "cell_type": "code",
   "execution_count": 125,
   "metadata": {},
   "outputs": [
    {
     "output_type": "execute_result",
     "data": {
      "text/plain": "       patient_id_x             full_name_x phone_number  patient_id_y  \\\n6144         953966              to godfrey  02 01871708        405442   \n16219        382081              james <NA>  02 03755662        687453   \n5702         970678           stacia seddon  02 05657798        963018   \n5705         496474           stacia seddon  02 05657798        963018   \n10877        898204       jordan ballantyne  02 13710140        494861   \n10878        898204       jordan ballantyne  02 13710140        219095   \n10881        740337       jordan ballantyne  02 13710140        494861   \n10886        494861       ballantyne jordan  02 13710140        219095   \n10882        740337       jordan ballantyne  02 13710140        219095   \n15131        414444            joshua white  02 14864045        388581   \n3592         947982             max needham  02 17609707        254607   \n3593         947982             max needham  02 17609707        627169   \n3408         490530  millie rimsky-korsakov  02 23986599        609850   \n3412         609850  emiily rimsky-korsakov  02 23986599        301474   \n1706         609930        taloa chowdgurdy  02 25001242        890074   \n1702         366776         talia chowdhury  02 25001242        609930   \n8042         455752         mitchdkl bishop  02 26075601        493920   \n11072        821754          <NA> crosswell  02 30358152        508873   \n11068        921412          toby crosswell  02 30358152        821754   \n6313         509064            <NA> hoffman  02 41170093        192529   \n\n                  full_name_y        linked_ids  distance  \n6144           thomas godfrey  (405442, 953966)         4  \n16219                jim <NA>  (382081, 687453)         3  \n5702         anastasia seddon  (963018, 970678)         4  \n5705         anastasia seddon  (496474, 963018)         4  \n10877       ballantyne jordan  (494861, 898204)        14  \n10878         <NA> ballantyne  (219095, 898204)         6  \n10881       ballantyne jordan  (494861, 740337)        14  \n10886         <NA> ballantyne  (219095, 494861)        12  \n10882         <NA> ballantyne  (219095, 740337)         6  \n15131            joshua wight  (388581, 414444)         3  \n3592              max wilkins  (254607, 947982)         7  \n3593              mad wilkins  (627169, 947982)         8  \n3408   emiily rimsky-korsakov  (490530, 609850)         4  \n3412   millie rimsky-kersakov  (301474, 609850)         5  \n1706          talia chowdhury  (609930, 890074)         3  \n1702         taloa chowdgurdy  (366776, 609930)         3  \n8042          mitcehll bishop  (455752, 493920)         3  \n11072          toby crosswell  (508873, 821754)         4  \n11068          <NA> crosswell  (821754, 921412)         4  \n6313             tara hoffman  (192529, 509064)         4  ",
      "text/html": "<div>\n<style scoped>\n    .dataframe tbody tr th:only-of-type {\n        vertical-align: middle;\n    }\n\n    .dataframe tbody tr th {\n        vertical-align: top;\n    }\n\n    .dataframe thead th {\n        text-align: right;\n    }\n</style>\n<table border=\"1\" class=\"dataframe\">\n  <thead>\n    <tr style=\"text-align: right;\">\n      <th></th>\n      <th>patient_id_x</th>\n      <th>full_name_x</th>\n      <th>phone_number</th>\n      <th>patient_id_y</th>\n      <th>full_name_y</th>\n      <th>linked_ids</th>\n      <th>distance</th>\n    </tr>\n  </thead>\n  <tbody>\n    <tr>\n      <th>6144</th>\n      <td>953966</td>\n      <td>to godfrey</td>\n      <td>02 01871708</td>\n      <td>405442</td>\n      <td>thomas godfrey</td>\n      <td>(405442, 953966)</td>\n      <td>4</td>\n    </tr>\n    <tr>\n      <th>16219</th>\n      <td>382081</td>\n      <td>james &lt;NA&gt;</td>\n      <td>02 03755662</td>\n      <td>687453</td>\n      <td>jim &lt;NA&gt;</td>\n      <td>(382081, 687453)</td>\n      <td>3</td>\n    </tr>\n    <tr>\n      <th>5702</th>\n      <td>970678</td>\n      <td>stacia seddon</td>\n      <td>02 05657798</td>\n      <td>963018</td>\n      <td>anastasia seddon</td>\n      <td>(963018, 970678)</td>\n      <td>4</td>\n    </tr>\n    <tr>\n      <th>5705</th>\n      <td>496474</td>\n      <td>stacia seddon</td>\n      <td>02 05657798</td>\n      <td>963018</td>\n      <td>anastasia seddon</td>\n      <td>(496474, 963018)</td>\n      <td>4</td>\n    </tr>\n    <tr>\n      <th>10877</th>\n      <td>898204</td>\n      <td>jordan ballantyne</td>\n      <td>02 13710140</td>\n      <td>494861</td>\n      <td>ballantyne jordan</td>\n      <td>(494861, 898204)</td>\n      <td>14</td>\n    </tr>\n    <tr>\n      <th>10878</th>\n      <td>898204</td>\n      <td>jordan ballantyne</td>\n      <td>02 13710140</td>\n      <td>219095</td>\n      <td>&lt;NA&gt; ballantyne</td>\n      <td>(219095, 898204)</td>\n      <td>6</td>\n    </tr>\n    <tr>\n      <th>10881</th>\n      <td>740337</td>\n      <td>jordan ballantyne</td>\n      <td>02 13710140</td>\n      <td>494861</td>\n      <td>ballantyne jordan</td>\n      <td>(494861, 740337)</td>\n      <td>14</td>\n    </tr>\n    <tr>\n      <th>10886</th>\n      <td>494861</td>\n      <td>ballantyne jordan</td>\n      <td>02 13710140</td>\n      <td>219095</td>\n      <td>&lt;NA&gt; ballantyne</td>\n      <td>(219095, 494861)</td>\n      <td>12</td>\n    </tr>\n    <tr>\n      <th>10882</th>\n      <td>740337</td>\n      <td>jordan ballantyne</td>\n      <td>02 13710140</td>\n      <td>219095</td>\n      <td>&lt;NA&gt; ballantyne</td>\n      <td>(219095, 740337)</td>\n      <td>6</td>\n    </tr>\n    <tr>\n      <th>15131</th>\n      <td>414444</td>\n      <td>joshua white</td>\n      <td>02 14864045</td>\n      <td>388581</td>\n      <td>joshua wight</td>\n      <td>(388581, 414444)</td>\n      <td>3</td>\n    </tr>\n    <tr>\n      <th>3592</th>\n      <td>947982</td>\n      <td>max needham</td>\n      <td>02 17609707</td>\n      <td>254607</td>\n      <td>max wilkins</td>\n      <td>(254607, 947982)</td>\n      <td>7</td>\n    </tr>\n    <tr>\n      <th>3593</th>\n      <td>947982</td>\n      <td>max needham</td>\n      <td>02 17609707</td>\n      <td>627169</td>\n      <td>mad wilkins</td>\n      <td>(627169, 947982)</td>\n      <td>8</td>\n    </tr>\n    <tr>\n      <th>3408</th>\n      <td>490530</td>\n      <td>millie rimsky-korsakov</td>\n      <td>02 23986599</td>\n      <td>609850</td>\n      <td>emiily rimsky-korsakov</td>\n      <td>(490530, 609850)</td>\n      <td>4</td>\n    </tr>\n    <tr>\n      <th>3412</th>\n      <td>609850</td>\n      <td>emiily rimsky-korsakov</td>\n      <td>02 23986599</td>\n      <td>301474</td>\n      <td>millie rimsky-kersakov</td>\n      <td>(301474, 609850)</td>\n      <td>5</td>\n    </tr>\n    <tr>\n      <th>1706</th>\n      <td>609930</td>\n      <td>taloa chowdgurdy</td>\n      <td>02 25001242</td>\n      <td>890074</td>\n      <td>talia chowdhury</td>\n      <td>(609930, 890074)</td>\n      <td>3</td>\n    </tr>\n    <tr>\n      <th>1702</th>\n      <td>366776</td>\n      <td>talia chowdhury</td>\n      <td>02 25001242</td>\n      <td>609930</td>\n      <td>taloa chowdgurdy</td>\n      <td>(366776, 609930)</td>\n      <td>3</td>\n    </tr>\n    <tr>\n      <th>8042</th>\n      <td>455752</td>\n      <td>mitchdkl bishop</td>\n      <td>02 26075601</td>\n      <td>493920</td>\n      <td>mitcehll bishop</td>\n      <td>(455752, 493920)</td>\n      <td>3</td>\n    </tr>\n    <tr>\n      <th>11072</th>\n      <td>821754</td>\n      <td>&lt;NA&gt; crosswell</td>\n      <td>02 30358152</td>\n      <td>508873</td>\n      <td>toby crosswell</td>\n      <td>(508873, 821754)</td>\n      <td>4</td>\n    </tr>\n    <tr>\n      <th>11068</th>\n      <td>921412</td>\n      <td>toby crosswell</td>\n      <td>02 30358152</td>\n      <td>821754</td>\n      <td>&lt;NA&gt; crosswell</td>\n      <td>(821754, 921412)</td>\n      <td>4</td>\n    </tr>\n    <tr>\n      <th>6313</th>\n      <td>509064</td>\n      <td>&lt;NA&gt; hoffman</td>\n      <td>02 41170093</td>\n      <td>192529</td>\n      <td>tara hoffman</td>\n      <td>(192529, 509064)</td>\n      <td>4</td>\n    </tr>\n  </tbody>\n</table>\n</div>"
     },
     "metadata": {},
     "execution_count": 125
    }
   ],
   "source": [
    "df_full_name[df_full_name.distance > 2].sort_values(\"phone_number\").head(20)"
   ]
  },
  {
   "cell_type": "markdown",
   "metadata": {},
   "source": [
    "Pour les cas où la distance est plus forte, on relève d'autres différences :\n",
    "\n",
    "- Faute lexicale (wight -> white)\n",
    "- Diminutif du prénom (thomas -> to, anastasia -> stacia)\n",
    "- Substitution du prénom (james -> jim, emiily -> millie)\n",
    "- Inversion des nom et prénom\n",
    "- Omission du prénom ou du nom"
   ]
  },
  {
   "cell_type": "markdown",
   "metadata": {},
   "source": [
    "## Âge et date de naissance"
   ]
  },
  {
   "cell_type": "markdown",
   "metadata": {},
   "source": [
    "### Valeurs manquantes"
   ]
  },
  {
   "cell_type": "code",
   "execution_count": 127,
   "metadata": {},
   "outputs": [
    {
     "output_type": "execute_result",
     "data": {
      "text/plain": "date_of_birth  age  \nFalse          False    14391\n               True      3598\nTrue           False     1612\n               True       399\ndtype: int64"
     },
     "metadata": {},
     "execution_count": 127
    }
   ],
   "source": [
    "df_patient[[\"date_of_birth\", \"age\"]].isna().value_counts()"
   ]
  },
  {
   "cell_type": "markdown",
   "metadata": {},
   "source": [
    "### Répartition des âges"
   ]
  },
  {
   "cell_type": "code",
   "execution_count": 129,
   "metadata": {},
   "outputs": [
    {
     "output_type": "execute_result",
     "data": {
      "text/plain": "count    16003.000000\nmean        27.534337\nstd          7.807008\nmin          0.000000\n25%         24.000000\n50%         29.000000\n75%         33.000000\nmax         92.000000\nName: age, dtype: float64"
     },
     "metadata": {},
     "execution_count": 129
    }
   ],
   "source": [
    "df_patient.age.describe()"
   ]
  },
  {
   "cell_type": "code",
   "execution_count": 131,
   "metadata": {},
   "outputs": [
    {
     "output_type": "execute_result",
     "data": {
      "text/plain": "<AxesSubplot:xlabel=\"catégorie d'âge\", ylabel='patients'>"
     },
     "metadata": {},
     "execution_count": 131
    },
    {
     "output_type": "display_data",
     "data": {
      "text/plain": "<Figure size 432x288 with 1 Axes>",
      "image/svg+xml": "<?xml version=\"1.0\" encoding=\"utf-8\" standalone=\"no\"?>\n<!DOCTYPE svg PUBLIC \"-//W3C//DTD SVG 1.1//EN\"\n  \"http://www.w3.org/Graphics/SVG/1.1/DTD/svg11.dtd\">\n<!-- Created with matplotlib (https://matplotlib.org/) -->\n<svg height=\"298.89pt\" version=\"1.1\" viewBox=\"0 0 395.328125 298.89\" width=\"395.328125pt\" xmlns=\"http://www.w3.org/2000/svg\" xmlns:xlink=\"http://www.w3.org/1999/xlink\">\n <metadata>\n  <rdf:RDF xmlns:cc=\"http://creativecommons.org/ns#\" xmlns:dc=\"http://purl.org/dc/elements/1.1/\" xmlns:rdf=\"http://www.w3.org/1999/02/22-rdf-syntax-ns#\">\n   <cc:Work>\n    <dc:type rdf:resource=\"http://purl.org/dc/dcmitype/StillImage\"/>\n    <dc:date>2020-09-14T17:26:33.373340</dc:date>\n    <dc:format>image/svg+xml</dc:format>\n    <dc:creator>\n     <cc:Agent>\n      <dc:title>Matplotlib v3.3.1, https://matplotlib.org/</dc:title>\n     </cc:Agent>\n    </dc:creator>\n   </cc:Work>\n  </rdf:RDF>\n </metadata>\n <defs>\n  <style type=\"text/css\">*{stroke-linecap:butt;stroke-linejoin:round;}</style>\n </defs>\n <g id=\"figure_1\">\n  <g id=\"patch_1\">\n   <path d=\"M 0 298.89 \nL 395.328125 298.89 \nL 395.328125 0 \nL 0 0 \nz\n\" style=\"fill:none;\"/>\n  </g>\n  <g id=\"axes_1\">\n   <g id=\"patch_2\">\n    <path d=\"M 53.328125 224.64 \nL 388.128125 224.64 \nL 388.128125 7.2 \nL 53.328125 7.2 \nz\n\" style=\"fill:#ffffff;\"/>\n   </g>\n   <g id=\"patch_3\">\n    <path clip-path=\"url(#p3a5a2bb78d)\" d=\"M 61.698125 224.64 \nL 78.438125 224.64 \nL 78.438125 206.561088 \nL 61.698125 206.561088 \nz\n\" style=\"fill:#1f77b4;\"/>\n   </g>\n   <g id=\"patch_4\">\n    <path clip-path=\"url(#p3a5a2bb78d)\" d=\"M 95.178125 224.64 \nL 111.918125 224.64 \nL 111.918125 187.836501 \nL 95.178125 187.836501 \nz\n\" style=\"fill:#1f77b4;\"/>\n   </g>\n   <g id=\"patch_5\">\n    <path clip-path=\"url(#p3a5a2bb78d)\" d=\"M 128.658125 224.64 \nL 145.398125 224.64 \nL 145.398125 17.554286 \nL 128.658125 17.554286 \nz\n\" style=\"fill:#1f77b4;\"/>\n   </g>\n   <g id=\"patch_6\">\n    <path clip-path=\"url(#p3a5a2bb78d)\" d=\"M 162.138125 224.64 \nL 178.878125 224.64 \nL 178.878125 30.555841 \nL 162.138125 30.555841 \nz\n\" style=\"fill:#1f77b4;\"/>\n   </g>\n   <g id=\"patch_7\">\n    <path clip-path=\"url(#p3a5a2bb78d)\" d=\"M 195.618125 224.64 \nL 212.358125 224.64 \nL 212.358125 211.462352 \nL 195.618125 211.462352 \nz\n\" style=\"fill:#1f77b4;\"/>\n   </g>\n   <g id=\"patch_8\">\n    <path clip-path=\"url(#p3a5a2bb78d)\" d=\"M 229.098125 224.64 \nL 245.838125 224.64 \nL 245.838125 224.522604 \nL 229.098125 224.522604 \nz\n\" style=\"fill:#1f77b4;\"/>\n   </g>\n   <g id=\"patch_9\">\n    <path clip-path=\"url(#p3a5a2bb78d)\" d=\"M 262.578125 224.64 \nL 279.318125 224.64 \nL 279.318125 224.581302 \nL 262.578125 224.581302 \nz\n\" style=\"fill:#1f77b4;\"/>\n   </g>\n   <g id=\"patch_10\">\n    <path clip-path=\"url(#p3a5a2bb78d)\" d=\"M 296.058125 224.64 \nL 312.798125 224.64 \nL 312.798125 224.610651 \nL 296.058125 224.610651 \nz\n\" style=\"fill:#1f77b4;\"/>\n   </g>\n   <g id=\"patch_11\">\n    <path clip-path=\"url(#p3a5a2bb78d)\" d=\"M 329.538125 224.64 \nL 346.278125 224.64 \nL 346.278125 224.493256 \nL 329.538125 224.493256 \nz\n\" style=\"fill:#1f77b4;\"/>\n   </g>\n   <g id=\"patch_12\">\n    <path clip-path=\"url(#p3a5a2bb78d)\" d=\"M 363.018125 224.64 \nL 379.758125 224.64 \nL 379.758125 224.551953 \nL 363.018125 224.551953 \nz\n\" style=\"fill:#1f77b4;\"/>\n   </g>\n   <g id=\"matplotlib.axis_1\">\n    <g id=\"xtick_1\">\n     <g id=\"line2d_1\">\n      <defs>\n       <path d=\"M 0 0 \nL 0 3.5 \n\" id=\"m512ab75e91\" style=\"stroke:#000000;stroke-width:0.8;\"/>\n      </defs>\n      <g>\n       <use style=\"stroke:#000000;stroke-width:0.8;\" x=\"70.068125\" xlink:href=\"#m512ab75e91\" y=\"224.64\"/>\n      </g>\n     </g>\n     <g id=\"text_1\">\n      <!-- [0, 10) -->\n      <g transform=\"translate(72.8275 264.886875)rotate(-90)scale(0.1 -0.1)\">\n       <defs>\n        <path d=\"M 8.59375 75.984375 \nL 29.296875 75.984375 \nL 29.296875 69 \nL 17.578125 69 \nL 17.578125 -6.203125 \nL 29.296875 -6.203125 \nL 29.296875 -13.1875 \nL 8.59375 -13.1875 \nz\n\" id=\"DejaVuSans-91\"/>\n        <path d=\"M 31.78125 66.40625 \nQ 24.171875 66.40625 20.328125 58.90625 \nQ 16.5 51.421875 16.5 36.375 \nQ 16.5 21.390625 20.328125 13.890625 \nQ 24.171875 6.390625 31.78125 6.390625 \nQ 39.453125 6.390625 43.28125 13.890625 \nQ 47.125 21.390625 47.125 36.375 \nQ 47.125 51.421875 43.28125 58.90625 \nQ 39.453125 66.40625 31.78125 66.40625 \nz\nM 31.78125 74.21875 \nQ 44.046875 74.21875 50.515625 64.515625 \nQ 56.984375 54.828125 56.984375 36.375 \nQ 56.984375 17.96875 50.515625 8.265625 \nQ 44.046875 -1.421875 31.78125 -1.421875 \nQ 19.53125 -1.421875 13.0625 8.265625 \nQ 6.59375 17.96875 6.59375 36.375 \nQ 6.59375 54.828125 13.0625 64.515625 \nQ 19.53125 74.21875 31.78125 74.21875 \nz\n\" id=\"DejaVuSans-48\"/>\n        <path d=\"M 11.71875 12.40625 \nL 22.015625 12.40625 \nL 22.015625 4 \nL 14.015625 -11.625 \nL 7.71875 -11.625 \nL 11.71875 4 \nz\n\" id=\"DejaVuSans-44\"/>\n        <path id=\"DejaVuSans-32\"/>\n        <path d=\"M 12.40625 8.296875 \nL 28.515625 8.296875 \nL 28.515625 63.921875 \nL 10.984375 60.40625 \nL 10.984375 69.390625 \nL 28.421875 72.90625 \nL 38.28125 72.90625 \nL 38.28125 8.296875 \nL 54.390625 8.296875 \nL 54.390625 0 \nL 12.40625 0 \nz\n\" id=\"DejaVuSans-49\"/>\n        <path d=\"M 8.015625 75.875 \nL 15.828125 75.875 \nQ 23.140625 64.359375 26.78125 53.3125 \nQ 30.421875 42.28125 30.421875 31.390625 \nQ 30.421875 20.453125 26.78125 9.375 \nQ 23.140625 -1.703125 15.828125 -13.1875 \nL 8.015625 -13.1875 \nQ 14.5 -2 17.703125 9.0625 \nQ 20.90625 20.125 20.90625 31.390625 \nQ 20.90625 42.671875 17.703125 53.65625 \nQ 14.5 64.65625 8.015625 75.875 \nz\n\" id=\"DejaVuSans-41\"/>\n       </defs>\n       <use xlink:href=\"#DejaVuSans-91\"/>\n       <use x=\"39.013672\" xlink:href=\"#DejaVuSans-48\"/>\n       <use x=\"102.636719\" xlink:href=\"#DejaVuSans-44\"/>\n       <use x=\"134.423828\" xlink:href=\"#DejaVuSans-32\"/>\n       <use x=\"166.210938\" xlink:href=\"#DejaVuSans-49\"/>\n       <use x=\"229.833984\" xlink:href=\"#DejaVuSans-48\"/>\n       <use x=\"293.457031\" xlink:href=\"#DejaVuSans-41\"/>\n      </g>\n     </g>\n    </g>\n    <g id=\"xtick_2\">\n     <g id=\"line2d_2\">\n      <g>\n       <use style=\"stroke:#000000;stroke-width:0.8;\" x=\"103.548125\" xlink:href=\"#m512ab75e91\" y=\"224.64\"/>\n      </g>\n     </g>\n     <g id=\"text_2\">\n      <!-- [10, 20) -->\n      <g transform=\"translate(106.3075 271.249375)rotate(-90)scale(0.1 -0.1)\">\n       <defs>\n        <path d=\"M 19.1875 8.296875 \nL 53.609375 8.296875 \nL 53.609375 0 \nL 7.328125 0 \nL 7.328125 8.296875 \nQ 12.9375 14.109375 22.625 23.890625 \nQ 32.328125 33.6875 34.8125 36.53125 \nQ 39.546875 41.84375 41.421875 45.53125 \nQ 43.3125 49.21875 43.3125 52.78125 \nQ 43.3125 58.59375 39.234375 62.25 \nQ 35.15625 65.921875 28.609375 65.921875 \nQ 23.96875 65.921875 18.8125 64.3125 \nQ 13.671875 62.703125 7.8125 59.421875 \nL 7.8125 69.390625 \nQ 13.765625 71.78125 18.9375 73 \nQ 24.125 74.21875 28.421875 74.21875 \nQ 39.75 74.21875 46.484375 68.546875 \nQ 53.21875 62.890625 53.21875 53.421875 \nQ 53.21875 48.921875 51.53125 44.890625 \nQ 49.859375 40.875 45.40625 35.40625 \nQ 44.1875 33.984375 37.640625 27.21875 \nQ 31.109375 20.453125 19.1875 8.296875 \nz\n\" id=\"DejaVuSans-50\"/>\n       </defs>\n       <use xlink:href=\"#DejaVuSans-91\"/>\n       <use x=\"39.013672\" xlink:href=\"#DejaVuSans-49\"/>\n       <use x=\"102.636719\" xlink:href=\"#DejaVuSans-48\"/>\n       <use x=\"166.259766\" xlink:href=\"#DejaVuSans-44\"/>\n       <use x=\"198.046875\" xlink:href=\"#DejaVuSans-32\"/>\n       <use x=\"229.833984\" xlink:href=\"#DejaVuSans-50\"/>\n       <use x=\"293.457031\" xlink:href=\"#DejaVuSans-48\"/>\n       <use x=\"357.080078\" xlink:href=\"#DejaVuSans-41\"/>\n      </g>\n     </g>\n    </g>\n    <g id=\"xtick_3\">\n     <g id=\"line2d_3\">\n      <g>\n       <use style=\"stroke:#000000;stroke-width:0.8;\" x=\"137.028125\" xlink:href=\"#m512ab75e91\" y=\"224.64\"/>\n      </g>\n     </g>\n     <g id=\"text_3\">\n      <!-- [20, 30) -->\n      <g transform=\"translate(139.7875 271.249375)rotate(-90)scale(0.1 -0.1)\">\n       <defs>\n        <path d=\"M 40.578125 39.3125 \nQ 47.65625 37.796875 51.625 33 \nQ 55.609375 28.21875 55.609375 21.1875 \nQ 55.609375 10.40625 48.1875 4.484375 \nQ 40.765625 -1.421875 27.09375 -1.421875 \nQ 22.515625 -1.421875 17.65625 -0.515625 \nQ 12.796875 0.390625 7.625 2.203125 \nL 7.625 11.71875 \nQ 11.71875 9.328125 16.59375 8.109375 \nQ 21.484375 6.890625 26.8125 6.890625 \nQ 36.078125 6.890625 40.9375 10.546875 \nQ 45.796875 14.203125 45.796875 21.1875 \nQ 45.796875 27.640625 41.28125 31.265625 \nQ 36.765625 34.90625 28.71875 34.90625 \nL 20.21875 34.90625 \nL 20.21875 43.015625 \nL 29.109375 43.015625 \nQ 36.375 43.015625 40.234375 45.921875 \nQ 44.09375 48.828125 44.09375 54.296875 \nQ 44.09375 59.90625 40.109375 62.90625 \nQ 36.140625 65.921875 28.71875 65.921875 \nQ 24.65625 65.921875 20.015625 65.03125 \nQ 15.375 64.15625 9.8125 62.3125 \nL 9.8125 71.09375 \nQ 15.4375 72.65625 20.34375 73.4375 \nQ 25.25 74.21875 29.59375 74.21875 \nQ 40.828125 74.21875 47.359375 69.109375 \nQ 53.90625 64.015625 53.90625 55.328125 \nQ 53.90625 49.265625 50.4375 45.09375 \nQ 46.96875 40.921875 40.578125 39.3125 \nz\n\" id=\"DejaVuSans-51\"/>\n       </defs>\n       <use xlink:href=\"#DejaVuSans-91\"/>\n       <use x=\"39.013672\" xlink:href=\"#DejaVuSans-50\"/>\n       <use x=\"102.636719\" xlink:href=\"#DejaVuSans-48\"/>\n       <use x=\"166.259766\" xlink:href=\"#DejaVuSans-44\"/>\n       <use x=\"198.046875\" xlink:href=\"#DejaVuSans-32\"/>\n       <use x=\"229.833984\" xlink:href=\"#DejaVuSans-51\"/>\n       <use x=\"293.457031\" xlink:href=\"#DejaVuSans-48\"/>\n       <use x=\"357.080078\" xlink:href=\"#DejaVuSans-41\"/>\n      </g>\n     </g>\n    </g>\n    <g id=\"xtick_4\">\n     <g id=\"line2d_4\">\n      <g>\n       <use style=\"stroke:#000000;stroke-width:0.8;\" x=\"170.508125\" xlink:href=\"#m512ab75e91\" y=\"224.64\"/>\n      </g>\n     </g>\n     <g id=\"text_4\">\n      <!-- [30, 40) -->\n      <g transform=\"translate(173.2675 271.249375)rotate(-90)scale(0.1 -0.1)\">\n       <defs>\n        <path d=\"M 37.796875 64.3125 \nL 12.890625 25.390625 \nL 37.796875 25.390625 \nz\nM 35.203125 72.90625 \nL 47.609375 72.90625 \nL 47.609375 25.390625 \nL 58.015625 25.390625 \nL 58.015625 17.1875 \nL 47.609375 17.1875 \nL 47.609375 0 \nL 37.796875 0 \nL 37.796875 17.1875 \nL 4.890625 17.1875 \nL 4.890625 26.703125 \nz\n\" id=\"DejaVuSans-52\"/>\n       </defs>\n       <use xlink:href=\"#DejaVuSans-91\"/>\n       <use x=\"39.013672\" xlink:href=\"#DejaVuSans-51\"/>\n       <use x=\"102.636719\" xlink:href=\"#DejaVuSans-48\"/>\n       <use x=\"166.259766\" xlink:href=\"#DejaVuSans-44\"/>\n       <use x=\"198.046875\" xlink:href=\"#DejaVuSans-32\"/>\n       <use x=\"229.833984\" xlink:href=\"#DejaVuSans-52\"/>\n       <use x=\"293.457031\" xlink:href=\"#DejaVuSans-48\"/>\n       <use x=\"357.080078\" xlink:href=\"#DejaVuSans-41\"/>\n      </g>\n     </g>\n    </g>\n    <g id=\"xtick_5\">\n     <g id=\"line2d_5\">\n      <g>\n       <use style=\"stroke:#000000;stroke-width:0.8;\" x=\"203.988125\" xlink:href=\"#m512ab75e91\" y=\"224.64\"/>\n      </g>\n     </g>\n     <g id=\"text_5\">\n      <!-- [40, 50) -->\n      <g transform=\"translate(206.7475 271.249375)rotate(-90)scale(0.1 -0.1)\">\n       <defs>\n        <path d=\"M 10.796875 72.90625 \nL 49.515625 72.90625 \nL 49.515625 64.59375 \nL 19.828125 64.59375 \nL 19.828125 46.734375 \nQ 21.96875 47.46875 24.109375 47.828125 \nQ 26.265625 48.1875 28.421875 48.1875 \nQ 40.625 48.1875 47.75 41.5 \nQ 54.890625 34.8125 54.890625 23.390625 \nQ 54.890625 11.625 47.5625 5.09375 \nQ 40.234375 -1.421875 26.90625 -1.421875 \nQ 22.3125 -1.421875 17.546875 -0.640625 \nQ 12.796875 0.140625 7.71875 1.703125 \nL 7.71875 11.625 \nQ 12.109375 9.234375 16.796875 8.0625 \nQ 21.484375 6.890625 26.703125 6.890625 \nQ 35.15625 6.890625 40.078125 11.328125 \nQ 45.015625 15.765625 45.015625 23.390625 \nQ 45.015625 31 40.078125 35.4375 \nQ 35.15625 39.890625 26.703125 39.890625 \nQ 22.75 39.890625 18.8125 39.015625 \nQ 14.890625 38.140625 10.796875 36.28125 \nz\n\" id=\"DejaVuSans-53\"/>\n       </defs>\n       <use xlink:href=\"#DejaVuSans-91\"/>\n       <use x=\"39.013672\" xlink:href=\"#DejaVuSans-52\"/>\n       <use x=\"102.636719\" xlink:href=\"#DejaVuSans-48\"/>\n       <use x=\"166.259766\" xlink:href=\"#DejaVuSans-44\"/>\n       <use x=\"198.046875\" xlink:href=\"#DejaVuSans-32\"/>\n       <use x=\"229.833984\" xlink:href=\"#DejaVuSans-53\"/>\n       <use x=\"293.457031\" xlink:href=\"#DejaVuSans-48\"/>\n       <use x=\"357.080078\" xlink:href=\"#DejaVuSans-41\"/>\n      </g>\n     </g>\n    </g>\n    <g id=\"xtick_6\">\n     <g id=\"line2d_6\">\n      <g>\n       <use style=\"stroke:#000000;stroke-width:0.8;\" x=\"237.468125\" xlink:href=\"#m512ab75e91\" y=\"224.64\"/>\n      </g>\n     </g>\n     <g id=\"text_6\">\n      <!-- [50, 60) -->\n      <g transform=\"translate(240.2275 271.249375)rotate(-90)scale(0.1 -0.1)\">\n       <defs>\n        <path d=\"M 33.015625 40.375 \nQ 26.375 40.375 22.484375 35.828125 \nQ 18.609375 31.296875 18.609375 23.390625 \nQ 18.609375 15.53125 22.484375 10.953125 \nQ 26.375 6.390625 33.015625 6.390625 \nQ 39.65625 6.390625 43.53125 10.953125 \nQ 47.40625 15.53125 47.40625 23.390625 \nQ 47.40625 31.296875 43.53125 35.828125 \nQ 39.65625 40.375 33.015625 40.375 \nz\nM 52.59375 71.296875 \nL 52.59375 62.3125 \nQ 48.875 64.0625 45.09375 64.984375 \nQ 41.3125 65.921875 37.59375 65.921875 \nQ 27.828125 65.921875 22.671875 59.328125 \nQ 17.53125 52.734375 16.796875 39.40625 \nQ 19.671875 43.65625 24.015625 45.921875 \nQ 28.375 48.1875 33.59375 48.1875 \nQ 44.578125 48.1875 50.953125 41.515625 \nQ 57.328125 34.859375 57.328125 23.390625 \nQ 57.328125 12.15625 50.6875 5.359375 \nQ 44.046875 -1.421875 33.015625 -1.421875 \nQ 20.359375 -1.421875 13.671875 8.265625 \nQ 6.984375 17.96875 6.984375 36.375 \nQ 6.984375 53.65625 15.1875 63.9375 \nQ 23.390625 74.21875 37.203125 74.21875 \nQ 40.921875 74.21875 44.703125 73.484375 \nQ 48.484375 72.75 52.59375 71.296875 \nz\n\" id=\"DejaVuSans-54\"/>\n       </defs>\n       <use xlink:href=\"#DejaVuSans-91\"/>\n       <use x=\"39.013672\" xlink:href=\"#DejaVuSans-53\"/>\n       <use x=\"102.636719\" xlink:href=\"#DejaVuSans-48\"/>\n       <use x=\"166.259766\" xlink:href=\"#DejaVuSans-44\"/>\n       <use x=\"198.046875\" xlink:href=\"#DejaVuSans-32\"/>\n       <use x=\"229.833984\" xlink:href=\"#DejaVuSans-54\"/>\n       <use x=\"293.457031\" xlink:href=\"#DejaVuSans-48\"/>\n       <use x=\"357.080078\" xlink:href=\"#DejaVuSans-41\"/>\n      </g>\n     </g>\n    </g>\n    <g id=\"xtick_7\">\n     <g id=\"line2d_7\">\n      <g>\n       <use style=\"stroke:#000000;stroke-width:0.8;\" x=\"270.948125\" xlink:href=\"#m512ab75e91\" y=\"224.64\"/>\n      </g>\n     </g>\n     <g id=\"text_7\">\n      <!-- [60, 70) -->\n      <g transform=\"translate(273.7075 271.249375)rotate(-90)scale(0.1 -0.1)\">\n       <defs>\n        <path d=\"M 8.203125 72.90625 \nL 55.078125 72.90625 \nL 55.078125 68.703125 \nL 28.609375 0 \nL 18.3125 0 \nL 43.21875 64.59375 \nL 8.203125 64.59375 \nz\n\" id=\"DejaVuSans-55\"/>\n       </defs>\n       <use xlink:href=\"#DejaVuSans-91\"/>\n       <use x=\"39.013672\" xlink:href=\"#DejaVuSans-54\"/>\n       <use x=\"102.636719\" xlink:href=\"#DejaVuSans-48\"/>\n       <use x=\"166.259766\" xlink:href=\"#DejaVuSans-44\"/>\n       <use x=\"198.046875\" xlink:href=\"#DejaVuSans-32\"/>\n       <use x=\"229.833984\" xlink:href=\"#DejaVuSans-55\"/>\n       <use x=\"293.457031\" xlink:href=\"#DejaVuSans-48\"/>\n       <use x=\"357.080078\" xlink:href=\"#DejaVuSans-41\"/>\n      </g>\n     </g>\n    </g>\n    <g id=\"xtick_8\">\n     <g id=\"line2d_8\">\n      <g>\n       <use style=\"stroke:#000000;stroke-width:0.8;\" x=\"304.428125\" xlink:href=\"#m512ab75e91\" y=\"224.64\"/>\n      </g>\n     </g>\n     <g id=\"text_8\">\n      <!-- [70, 80) -->\n      <g transform=\"translate(307.1875 271.249375)rotate(-90)scale(0.1 -0.1)\">\n       <defs>\n        <path d=\"M 31.78125 34.625 \nQ 24.75 34.625 20.71875 30.859375 \nQ 16.703125 27.09375 16.703125 20.515625 \nQ 16.703125 13.921875 20.71875 10.15625 \nQ 24.75 6.390625 31.78125 6.390625 \nQ 38.8125 6.390625 42.859375 10.171875 \nQ 46.921875 13.96875 46.921875 20.515625 \nQ 46.921875 27.09375 42.890625 30.859375 \nQ 38.875 34.625 31.78125 34.625 \nz\nM 21.921875 38.8125 \nQ 15.578125 40.375 12.03125 44.71875 \nQ 8.5 49.078125 8.5 55.328125 \nQ 8.5 64.0625 14.71875 69.140625 \nQ 20.953125 74.21875 31.78125 74.21875 \nQ 42.671875 74.21875 48.875 69.140625 \nQ 55.078125 64.0625 55.078125 55.328125 \nQ 55.078125 49.078125 51.53125 44.71875 \nQ 48 40.375 41.703125 38.8125 \nQ 48.828125 37.15625 52.796875 32.3125 \nQ 56.78125 27.484375 56.78125 20.515625 \nQ 56.78125 9.90625 50.3125 4.234375 \nQ 43.84375 -1.421875 31.78125 -1.421875 \nQ 19.734375 -1.421875 13.25 4.234375 \nQ 6.78125 9.90625 6.78125 20.515625 \nQ 6.78125 27.484375 10.78125 32.3125 \nQ 14.796875 37.15625 21.921875 38.8125 \nz\nM 18.3125 54.390625 \nQ 18.3125 48.734375 21.84375 45.5625 \nQ 25.390625 42.390625 31.78125 42.390625 \nQ 38.140625 42.390625 41.71875 45.5625 \nQ 45.3125 48.734375 45.3125 54.390625 \nQ 45.3125 60.0625 41.71875 63.234375 \nQ 38.140625 66.40625 31.78125 66.40625 \nQ 25.390625 66.40625 21.84375 63.234375 \nQ 18.3125 60.0625 18.3125 54.390625 \nz\n\" id=\"DejaVuSans-56\"/>\n       </defs>\n       <use xlink:href=\"#DejaVuSans-91\"/>\n       <use x=\"39.013672\" xlink:href=\"#DejaVuSans-55\"/>\n       <use x=\"102.636719\" xlink:href=\"#DejaVuSans-48\"/>\n       <use x=\"166.259766\" xlink:href=\"#DejaVuSans-44\"/>\n       <use x=\"198.046875\" xlink:href=\"#DejaVuSans-32\"/>\n       <use x=\"229.833984\" xlink:href=\"#DejaVuSans-56\"/>\n       <use x=\"293.457031\" xlink:href=\"#DejaVuSans-48\"/>\n       <use x=\"357.080078\" xlink:href=\"#DejaVuSans-41\"/>\n      </g>\n     </g>\n    </g>\n    <g id=\"xtick_9\">\n     <g id=\"line2d_9\">\n      <g>\n       <use style=\"stroke:#000000;stroke-width:0.8;\" x=\"337.908125\" xlink:href=\"#m512ab75e91\" y=\"224.64\"/>\n      </g>\n     </g>\n     <g id=\"text_9\">\n      <!-- [80, 90) -->\n      <g transform=\"translate(340.6675 271.249375)rotate(-90)scale(0.1 -0.1)\">\n       <defs>\n        <path d=\"M 10.984375 1.515625 \nL 10.984375 10.5 \nQ 14.703125 8.734375 18.5 7.8125 \nQ 22.3125 6.890625 25.984375 6.890625 \nQ 35.75 6.890625 40.890625 13.453125 \nQ 46.046875 20.015625 46.78125 33.40625 \nQ 43.953125 29.203125 39.59375 26.953125 \nQ 35.25 24.703125 29.984375 24.703125 \nQ 19.046875 24.703125 12.671875 31.3125 \nQ 6.296875 37.9375 6.296875 49.421875 \nQ 6.296875 60.640625 12.9375 67.421875 \nQ 19.578125 74.21875 30.609375 74.21875 \nQ 43.265625 74.21875 49.921875 64.515625 \nQ 56.59375 54.828125 56.59375 36.375 \nQ 56.59375 19.140625 48.40625 8.859375 \nQ 40.234375 -1.421875 26.421875 -1.421875 \nQ 22.703125 -1.421875 18.890625 -0.6875 \nQ 15.09375 0.046875 10.984375 1.515625 \nz\nM 30.609375 32.421875 \nQ 37.25 32.421875 41.125 36.953125 \nQ 45.015625 41.5 45.015625 49.421875 \nQ 45.015625 57.28125 41.125 61.84375 \nQ 37.25 66.40625 30.609375 66.40625 \nQ 23.96875 66.40625 20.09375 61.84375 \nQ 16.21875 57.28125 16.21875 49.421875 \nQ 16.21875 41.5 20.09375 36.953125 \nQ 23.96875 32.421875 30.609375 32.421875 \nz\n\" id=\"DejaVuSans-57\"/>\n       </defs>\n       <use xlink:href=\"#DejaVuSans-91\"/>\n       <use x=\"39.013672\" xlink:href=\"#DejaVuSans-56\"/>\n       <use x=\"102.636719\" xlink:href=\"#DejaVuSans-48\"/>\n       <use x=\"166.259766\" xlink:href=\"#DejaVuSans-44\"/>\n       <use x=\"198.046875\" xlink:href=\"#DejaVuSans-32\"/>\n       <use x=\"229.833984\" xlink:href=\"#DejaVuSans-57\"/>\n       <use x=\"293.457031\" xlink:href=\"#DejaVuSans-48\"/>\n       <use x=\"357.080078\" xlink:href=\"#DejaVuSans-41\"/>\n      </g>\n     </g>\n    </g>\n    <g id=\"xtick_10\">\n     <g id=\"line2d_10\">\n      <g>\n       <use style=\"stroke:#000000;stroke-width:0.8;\" x=\"371.388125\" xlink:href=\"#m512ab75e91\" y=\"224.64\"/>\n      </g>\n     </g>\n     <g id=\"text_10\">\n      <!-- [90, 100) -->\n      <g transform=\"translate(374.1475 277.611875)rotate(-90)scale(0.1 -0.1)\">\n       <use xlink:href=\"#DejaVuSans-91\"/>\n       <use x=\"39.013672\" xlink:href=\"#DejaVuSans-57\"/>\n       <use x=\"102.636719\" xlink:href=\"#DejaVuSans-48\"/>\n       <use x=\"166.259766\" xlink:href=\"#DejaVuSans-44\"/>\n       <use x=\"198.046875\" xlink:href=\"#DejaVuSans-32\"/>\n       <use x=\"229.833984\" xlink:href=\"#DejaVuSans-49\"/>\n       <use x=\"293.457031\" xlink:href=\"#DejaVuSans-48\"/>\n       <use x=\"357.080078\" xlink:href=\"#DejaVuSans-48\"/>\n       <use x=\"420.703125\" xlink:href=\"#DejaVuSans-41\"/>\n      </g>\n     </g>\n    </g>\n    <g id=\"text_11\">\n     <!-- catégorie d'âge -->\n     <g transform=\"translate(181.671094 289.610312)scale(0.1 -0.1)\">\n      <defs>\n       <path d=\"M 48.78125 52.59375 \nL 48.78125 44.1875 \nQ 44.96875 46.296875 41.140625 47.34375 \nQ 37.3125 48.390625 33.40625 48.390625 \nQ 24.65625 48.390625 19.8125 42.84375 \nQ 14.984375 37.3125 14.984375 27.296875 \nQ 14.984375 17.28125 19.8125 11.734375 \nQ 24.65625 6.203125 33.40625 6.203125 \nQ 37.3125 6.203125 41.140625 7.25 \nQ 44.96875 8.296875 48.78125 10.40625 \nL 48.78125 2.09375 \nQ 45.015625 0.34375 40.984375 -0.53125 \nQ 36.96875 -1.421875 32.421875 -1.421875 \nQ 20.0625 -1.421875 12.78125 6.34375 \nQ 5.515625 14.109375 5.515625 27.296875 \nQ 5.515625 40.671875 12.859375 48.328125 \nQ 20.21875 56 33.015625 56 \nQ 37.15625 56 41.109375 55.140625 \nQ 45.0625 54.296875 48.78125 52.59375 \nz\n\" id=\"DejaVuSans-99\"/>\n       <path d=\"M 34.28125 27.484375 \nQ 23.390625 27.484375 19.1875 25 \nQ 14.984375 22.515625 14.984375 16.5 \nQ 14.984375 11.71875 18.140625 8.90625 \nQ 21.296875 6.109375 26.703125 6.109375 \nQ 34.1875 6.109375 38.703125 11.40625 \nQ 43.21875 16.703125 43.21875 25.484375 \nL 43.21875 27.484375 \nz\nM 52.203125 31.203125 \nL 52.203125 0 \nL 43.21875 0 \nL 43.21875 8.296875 \nQ 40.140625 3.328125 35.546875 0.953125 \nQ 30.953125 -1.421875 24.3125 -1.421875 \nQ 15.921875 -1.421875 10.953125 3.296875 \nQ 6 8.015625 6 15.921875 \nQ 6 25.140625 12.171875 29.828125 \nQ 18.359375 34.515625 30.609375 34.515625 \nL 43.21875 34.515625 \nL 43.21875 35.40625 \nQ 43.21875 41.609375 39.140625 45 \nQ 35.0625 48.390625 27.6875 48.390625 \nQ 23 48.390625 18.546875 47.265625 \nQ 14.109375 46.140625 10.015625 43.890625 \nL 10.015625 52.203125 \nQ 14.9375 54.109375 19.578125 55.046875 \nQ 24.21875 56 28.609375 56 \nQ 40.484375 56 46.34375 49.84375 \nQ 52.203125 43.703125 52.203125 31.203125 \nz\n\" id=\"DejaVuSans-97\"/>\n       <path d=\"M 18.3125 70.21875 \nL 18.3125 54.6875 \nL 36.8125 54.6875 \nL 36.8125 47.703125 \nL 18.3125 47.703125 \nL 18.3125 18.015625 \nQ 18.3125 11.328125 20.140625 9.421875 \nQ 21.96875 7.515625 27.59375 7.515625 \nL 36.8125 7.515625 \nL 36.8125 0 \nL 27.59375 0 \nQ 17.1875 0 13.234375 3.875 \nQ 9.28125 7.765625 9.28125 18.015625 \nL 9.28125 47.703125 \nL 2.6875 47.703125 \nL 2.6875 54.6875 \nL 9.28125 54.6875 \nL 9.28125 70.21875 \nz\n\" id=\"DejaVuSans-116\"/>\n       <path d=\"M 56.203125 29.59375 \nL 56.203125 25.203125 \nL 14.890625 25.203125 \nQ 15.484375 15.921875 20.484375 11.0625 \nQ 25.484375 6.203125 34.421875 6.203125 \nQ 39.59375 6.203125 44.453125 7.46875 \nQ 49.3125 8.734375 54.109375 11.28125 \nL 54.109375 2.78125 \nQ 49.265625 0.734375 44.1875 -0.34375 \nQ 39.109375 -1.421875 33.890625 -1.421875 \nQ 20.796875 -1.421875 13.15625 6.1875 \nQ 5.515625 13.8125 5.515625 26.8125 \nQ 5.515625 40.234375 12.765625 48.109375 \nQ 20.015625 56 32.328125 56 \nQ 43.359375 56 49.78125 48.890625 \nQ 56.203125 41.796875 56.203125 29.59375 \nz\nM 47.21875 32.234375 \nQ 47.125 39.59375 43.09375 43.984375 \nQ 39.0625 48.390625 32.421875 48.390625 \nQ 24.90625 48.390625 20.390625 44.140625 \nQ 15.875 39.890625 15.1875 32.171875 \nz\nM 38.53125 79.984375 \nL 48.25 79.984375 \nL 32.34375 61.625 \nL 24.859375 61.625 \nz\n\" id=\"DejaVuSans-233\"/>\n       <path d=\"M 45.40625 27.984375 \nQ 45.40625 37.75 41.375 43.109375 \nQ 37.359375 48.484375 30.078125 48.484375 \nQ 22.859375 48.484375 18.828125 43.109375 \nQ 14.796875 37.75 14.796875 27.984375 \nQ 14.796875 18.265625 18.828125 12.890625 \nQ 22.859375 7.515625 30.078125 7.515625 \nQ 37.359375 7.515625 41.375 12.890625 \nQ 45.40625 18.265625 45.40625 27.984375 \nz\nM 54.390625 6.78125 \nQ 54.390625 -7.171875 48.1875 -13.984375 \nQ 42 -20.796875 29.203125 -20.796875 \nQ 24.46875 -20.796875 20.265625 -20.09375 \nQ 16.0625 -19.390625 12.109375 -17.921875 \nL 12.109375 -9.1875 \nQ 16.0625 -11.328125 19.921875 -12.34375 \nQ 23.78125 -13.375 27.78125 -13.375 \nQ 36.625 -13.375 41.015625 -8.765625 \nQ 45.40625 -4.15625 45.40625 5.171875 \nL 45.40625 9.625 \nQ 42.625 4.78125 38.28125 2.390625 \nQ 33.9375 0 27.875 0 \nQ 17.828125 0 11.671875 7.65625 \nQ 5.515625 15.328125 5.515625 27.984375 \nQ 5.515625 40.671875 11.671875 48.328125 \nQ 17.828125 56 27.875 56 \nQ 33.9375 56 38.28125 53.609375 \nQ 42.625 51.21875 45.40625 46.390625 \nL 45.40625 54.6875 \nL 54.390625 54.6875 \nz\n\" id=\"DejaVuSans-103\"/>\n       <path d=\"M 30.609375 48.390625 \nQ 23.390625 48.390625 19.1875 42.75 \nQ 14.984375 37.109375 14.984375 27.296875 \nQ 14.984375 17.484375 19.15625 11.84375 \nQ 23.34375 6.203125 30.609375 6.203125 \nQ 37.796875 6.203125 41.984375 11.859375 \nQ 46.1875 17.53125 46.1875 27.296875 \nQ 46.1875 37.015625 41.984375 42.703125 \nQ 37.796875 48.390625 30.609375 48.390625 \nz\nM 30.609375 56 \nQ 42.328125 56 49.015625 48.375 \nQ 55.71875 40.765625 55.71875 27.296875 \nQ 55.71875 13.875 49.015625 6.21875 \nQ 42.328125 -1.421875 30.609375 -1.421875 \nQ 18.84375 -1.421875 12.171875 6.21875 \nQ 5.515625 13.875 5.515625 27.296875 \nQ 5.515625 40.765625 12.171875 48.375 \nQ 18.84375 56 30.609375 56 \nz\n\" id=\"DejaVuSans-111\"/>\n       <path d=\"M 41.109375 46.296875 \nQ 39.59375 47.171875 37.8125 47.578125 \nQ 36.03125 48 33.890625 48 \nQ 26.265625 48 22.1875 43.046875 \nQ 18.109375 38.09375 18.109375 28.8125 \nL 18.109375 0 \nL 9.078125 0 \nL 9.078125 54.6875 \nL 18.109375 54.6875 \nL 18.109375 46.1875 \nQ 20.953125 51.171875 25.484375 53.578125 \nQ 30.03125 56 36.53125 56 \nQ 37.453125 56 38.578125 55.875 \nQ 39.703125 55.765625 41.0625 55.515625 \nz\n\" id=\"DejaVuSans-114\"/>\n       <path d=\"M 9.421875 54.6875 \nL 18.40625 54.6875 \nL 18.40625 0 \nL 9.421875 0 \nz\nM 9.421875 75.984375 \nL 18.40625 75.984375 \nL 18.40625 64.59375 \nL 9.421875 64.59375 \nz\n\" id=\"DejaVuSans-105\"/>\n       <path d=\"M 56.203125 29.59375 \nL 56.203125 25.203125 \nL 14.890625 25.203125 \nQ 15.484375 15.921875 20.484375 11.0625 \nQ 25.484375 6.203125 34.421875 6.203125 \nQ 39.59375 6.203125 44.453125 7.46875 \nQ 49.3125 8.734375 54.109375 11.28125 \nL 54.109375 2.78125 \nQ 49.265625 0.734375 44.1875 -0.34375 \nQ 39.109375 -1.421875 33.890625 -1.421875 \nQ 20.796875 -1.421875 13.15625 6.1875 \nQ 5.515625 13.8125 5.515625 26.8125 \nQ 5.515625 40.234375 12.765625 48.109375 \nQ 20.015625 56 32.328125 56 \nQ 43.359375 56 49.78125 48.890625 \nQ 56.203125 41.796875 56.203125 29.59375 \nz\nM 47.21875 32.234375 \nQ 47.125 39.59375 43.09375 43.984375 \nQ 39.0625 48.390625 32.421875 48.390625 \nQ 24.90625 48.390625 20.390625 44.140625 \nQ 15.875 39.890625 15.1875 32.171875 \nz\n\" id=\"DejaVuSans-101\"/>\n       <path d=\"M 45.40625 46.390625 \nL 45.40625 75.984375 \nL 54.390625 75.984375 \nL 54.390625 0 \nL 45.40625 0 \nL 45.40625 8.203125 \nQ 42.578125 3.328125 38.25 0.953125 \nQ 33.9375 -1.421875 27.875 -1.421875 \nQ 17.96875 -1.421875 11.734375 6.484375 \nQ 5.515625 14.40625 5.515625 27.296875 \nQ 5.515625 40.1875 11.734375 48.09375 \nQ 17.96875 56 27.875 56 \nQ 33.9375 56 38.25 53.625 \nQ 42.578125 51.265625 45.40625 46.390625 \nz\nM 14.796875 27.296875 \nQ 14.796875 17.390625 18.875 11.75 \nQ 22.953125 6.109375 30.078125 6.109375 \nQ 37.203125 6.109375 41.296875 11.75 \nQ 45.40625 17.390625 45.40625 27.296875 \nQ 45.40625 37.203125 41.296875 42.84375 \nQ 37.203125 48.484375 30.078125 48.484375 \nQ 22.953125 48.484375 18.875 42.84375 \nQ 14.796875 37.203125 14.796875 27.296875 \nz\n\" id=\"DejaVuSans-100\"/>\n       <path d=\"M 17.921875 72.90625 \nL 17.921875 45.796875 \nL 9.625 45.796875 \nL 9.625 72.90625 \nz\n\" id=\"DejaVuSans-39\"/>\n       <path d=\"M 34.28125 27.484375 \nQ 23.390625 27.484375 19.1875 25 \nQ 14.984375 22.515625 14.984375 16.5 \nQ 14.984375 11.71875 18.140625 8.90625 \nQ 21.296875 6.109375 26.703125 6.109375 \nQ 34.1875 6.109375 38.703125 11.40625 \nQ 43.21875 16.703125 43.21875 25.484375 \nL 43.21875 27.484375 \nz\nM 52.203125 31.203125 \nL 52.203125 0 \nL 43.21875 0 \nL 43.21875 8.296875 \nQ 40.140625 3.328125 35.546875 0.953125 \nQ 30.953125 -1.421875 24.3125 -1.421875 \nQ 15.921875 -1.421875 10.953125 3.296875 \nQ 6 8.015625 6 15.921875 \nQ 6 25.140625 12.171875 29.828125 \nQ 18.359375 34.515625 30.609375 34.515625 \nL 43.21875 34.515625 \nL 43.21875 35.40625 \nQ 43.21875 41.609375 39.140625 45 \nQ 35.0625 48.390625 27.6875 48.390625 \nQ 23 48.390625 18.546875 47.265625 \nQ 14.109375 46.140625 10.015625 43.890625 \nL 10.015625 52.203125 \nQ 14.9375 54.109375 19.578125 55.046875 \nQ 24.21875 56 28.609375 56 \nQ 40.484375 56 46.34375 49.84375 \nQ 52.203125 43.703125 52.203125 31.203125 \nz\nM 25.390625 79.984375 \nL 32.609375 79.984375 \nL 44.578125 61.625 \nL 37.796875 61.625 \nL 29 73.578125 \nL 20.21875 61.625 \nL 13.421875 61.625 \nz\n\" id=\"DejaVuSans-226\"/>\n      </defs>\n      <use xlink:href=\"#DejaVuSans-99\"/>\n      <use x=\"54.980469\" xlink:href=\"#DejaVuSans-97\"/>\n      <use x=\"116.259766\" xlink:href=\"#DejaVuSans-116\"/>\n      <use x=\"155.46875\" xlink:href=\"#DejaVuSans-233\"/>\n      <use x=\"216.992188\" xlink:href=\"#DejaVuSans-103\"/>\n      <use x=\"280.46875\" xlink:href=\"#DejaVuSans-111\"/>\n      <use x=\"341.650391\" xlink:href=\"#DejaVuSans-114\"/>\n      <use x=\"382.763672\" xlink:href=\"#DejaVuSans-105\"/>\n      <use x=\"410.546875\" xlink:href=\"#DejaVuSans-101\"/>\n      <use x=\"472.070312\" xlink:href=\"#DejaVuSans-32\"/>\n      <use x=\"503.857422\" xlink:href=\"#DejaVuSans-100\"/>\n      <use x=\"567.333984\" xlink:href=\"#DejaVuSans-39\"/>\n      <use x=\"594.824219\" xlink:href=\"#DejaVuSans-226\"/>\n      <use x=\"656.103516\" xlink:href=\"#DejaVuSans-103\"/>\n      <use x=\"719.580078\" xlink:href=\"#DejaVuSans-101\"/>\n     </g>\n    </g>\n   </g>\n   <g id=\"matplotlib.axis_2\">\n    <g id=\"ytick_1\">\n     <g id=\"line2d_11\">\n      <defs>\n       <path d=\"M 0 0 \nL -3.5 0 \n\" id=\"m873a127e23\" style=\"stroke:#000000;stroke-width:0.8;\"/>\n      </defs>\n      <g>\n       <use style=\"stroke:#000000;stroke-width:0.8;\" x=\"53.328125\" xlink:href=\"#m873a127e23\" y=\"224.64\"/>\n      </g>\n     </g>\n     <g id=\"text_12\">\n      <!-- 0 -->\n      <g transform=\"translate(39.965625 228.439219)scale(0.1 -0.1)\">\n       <use xlink:href=\"#DejaVuSans-48\"/>\n      </g>\n     </g>\n    </g>\n    <g id=\"ytick_2\">\n     <g id=\"line2d_12\">\n      <g>\n       <use style=\"stroke:#000000;stroke-width:0.8;\" x=\"53.328125\" xlink:href=\"#m873a127e23\" y=\"195.291118\"/>\n      </g>\n     </g>\n     <g id=\"text_13\">\n      <!-- 1000 -->\n      <g transform=\"translate(20.878125 199.090336)scale(0.1 -0.1)\">\n       <use xlink:href=\"#DejaVuSans-49\"/>\n       <use x=\"63.623047\" xlink:href=\"#DejaVuSans-48\"/>\n       <use x=\"127.246094\" xlink:href=\"#DejaVuSans-48\"/>\n       <use x=\"190.869141\" xlink:href=\"#DejaVuSans-48\"/>\n      </g>\n     </g>\n    </g>\n    <g id=\"ytick_3\">\n     <g id=\"line2d_13\">\n      <g>\n       <use style=\"stroke:#000000;stroke-width:0.8;\" x=\"53.328125\" xlink:href=\"#m873a127e23\" y=\"165.942235\"/>\n      </g>\n     </g>\n     <g id=\"text_14\">\n      <!-- 2000 -->\n      <g transform=\"translate(20.878125 169.741454)scale(0.1 -0.1)\">\n       <use xlink:href=\"#DejaVuSans-50\"/>\n       <use x=\"63.623047\" xlink:href=\"#DejaVuSans-48\"/>\n       <use x=\"127.246094\" xlink:href=\"#DejaVuSans-48\"/>\n       <use x=\"190.869141\" xlink:href=\"#DejaVuSans-48\"/>\n      </g>\n     </g>\n    </g>\n    <g id=\"ytick_4\">\n     <g id=\"line2d_14\">\n      <g>\n       <use style=\"stroke:#000000;stroke-width:0.8;\" x=\"53.328125\" xlink:href=\"#m873a127e23\" y=\"136.593353\"/>\n      </g>\n     </g>\n     <g id=\"text_15\">\n      <!-- 3000 -->\n      <g transform=\"translate(20.878125 140.392572)scale(0.1 -0.1)\">\n       <use xlink:href=\"#DejaVuSans-51\"/>\n       <use x=\"63.623047\" xlink:href=\"#DejaVuSans-48\"/>\n       <use x=\"127.246094\" xlink:href=\"#DejaVuSans-48\"/>\n       <use x=\"190.869141\" xlink:href=\"#DejaVuSans-48\"/>\n      </g>\n     </g>\n    </g>\n    <g id=\"ytick_5\">\n     <g id=\"line2d_15\">\n      <g>\n       <use style=\"stroke:#000000;stroke-width:0.8;\" x=\"53.328125\" xlink:href=\"#m873a127e23\" y=\"107.24447\"/>\n      </g>\n     </g>\n     <g id=\"text_16\">\n      <!-- 4000 -->\n      <g transform=\"translate(20.878125 111.043689)scale(0.1 -0.1)\">\n       <use xlink:href=\"#DejaVuSans-52\"/>\n       <use x=\"63.623047\" xlink:href=\"#DejaVuSans-48\"/>\n       <use x=\"127.246094\" xlink:href=\"#DejaVuSans-48\"/>\n       <use x=\"190.869141\" xlink:href=\"#DejaVuSans-48\"/>\n      </g>\n     </g>\n    </g>\n    <g id=\"ytick_6\">\n     <g id=\"line2d_16\">\n      <g>\n       <use style=\"stroke:#000000;stroke-width:0.8;\" x=\"53.328125\" xlink:href=\"#m873a127e23\" y=\"77.895588\"/>\n      </g>\n     </g>\n     <g id=\"text_17\">\n      <!-- 5000 -->\n      <g transform=\"translate(20.878125 81.694807)scale(0.1 -0.1)\">\n       <use xlink:href=\"#DejaVuSans-53\"/>\n       <use x=\"63.623047\" xlink:href=\"#DejaVuSans-48\"/>\n       <use x=\"127.246094\" xlink:href=\"#DejaVuSans-48\"/>\n       <use x=\"190.869141\" xlink:href=\"#DejaVuSans-48\"/>\n      </g>\n     </g>\n    </g>\n    <g id=\"ytick_7\">\n     <g id=\"line2d_17\">\n      <g>\n       <use style=\"stroke:#000000;stroke-width:0.8;\" x=\"53.328125\" xlink:href=\"#m873a127e23\" y=\"48.546706\"/>\n      </g>\n     </g>\n     <g id=\"text_18\">\n      <!-- 6000 -->\n      <g transform=\"translate(20.878125 52.345924)scale(0.1 -0.1)\">\n       <use xlink:href=\"#DejaVuSans-54\"/>\n       <use x=\"63.623047\" xlink:href=\"#DejaVuSans-48\"/>\n       <use x=\"127.246094\" xlink:href=\"#DejaVuSans-48\"/>\n       <use x=\"190.869141\" xlink:href=\"#DejaVuSans-48\"/>\n      </g>\n     </g>\n    </g>\n    <g id=\"ytick_8\">\n     <g id=\"line2d_18\">\n      <g>\n       <use style=\"stroke:#000000;stroke-width:0.8;\" x=\"53.328125\" xlink:href=\"#m873a127e23\" y=\"19.197823\"/>\n      </g>\n     </g>\n     <g id=\"text_19\">\n      <!-- 7000 -->\n      <g transform=\"translate(20.878125 22.997042)scale(0.1 -0.1)\">\n       <use xlink:href=\"#DejaVuSans-55\"/>\n       <use x=\"63.623047\" xlink:href=\"#DejaVuSans-48\"/>\n       <use x=\"127.246094\" xlink:href=\"#DejaVuSans-48\"/>\n       <use x=\"190.869141\" xlink:href=\"#DejaVuSans-48\"/>\n      </g>\n     </g>\n    </g>\n    <g id=\"text_20\">\n     <!-- patients -->\n     <g transform=\"translate(14.798438 136.317656)rotate(-90)scale(0.1 -0.1)\">\n      <defs>\n       <path d=\"M 18.109375 8.203125 \nL 18.109375 -20.796875 \nL 9.078125 -20.796875 \nL 9.078125 54.6875 \nL 18.109375 54.6875 \nL 18.109375 46.390625 \nQ 20.953125 51.265625 25.265625 53.625 \nQ 29.59375 56 35.59375 56 \nQ 45.5625 56 51.78125 48.09375 \nQ 58.015625 40.1875 58.015625 27.296875 \nQ 58.015625 14.40625 51.78125 6.484375 \nQ 45.5625 -1.421875 35.59375 -1.421875 \nQ 29.59375 -1.421875 25.265625 0.953125 \nQ 20.953125 3.328125 18.109375 8.203125 \nz\nM 48.6875 27.296875 \nQ 48.6875 37.203125 44.609375 42.84375 \nQ 40.53125 48.484375 33.40625 48.484375 \nQ 26.265625 48.484375 22.1875 42.84375 \nQ 18.109375 37.203125 18.109375 27.296875 \nQ 18.109375 17.390625 22.1875 11.75 \nQ 26.265625 6.109375 33.40625 6.109375 \nQ 40.53125 6.109375 44.609375 11.75 \nQ 48.6875 17.390625 48.6875 27.296875 \nz\n\" id=\"DejaVuSans-112\"/>\n       <path d=\"M 54.890625 33.015625 \nL 54.890625 0 \nL 45.90625 0 \nL 45.90625 32.71875 \nQ 45.90625 40.484375 42.875 44.328125 \nQ 39.84375 48.1875 33.796875 48.1875 \nQ 26.515625 48.1875 22.3125 43.546875 \nQ 18.109375 38.921875 18.109375 30.90625 \nL 18.109375 0 \nL 9.078125 0 \nL 9.078125 54.6875 \nL 18.109375 54.6875 \nL 18.109375 46.1875 \nQ 21.34375 51.125 25.703125 53.5625 \nQ 30.078125 56 35.796875 56 \nQ 45.21875 56 50.046875 50.171875 \nQ 54.890625 44.34375 54.890625 33.015625 \nz\n\" id=\"DejaVuSans-110\"/>\n       <path d=\"M 44.28125 53.078125 \nL 44.28125 44.578125 \nQ 40.484375 46.53125 36.375 47.5 \nQ 32.28125 48.484375 27.875 48.484375 \nQ 21.1875 48.484375 17.84375 46.4375 \nQ 14.5 44.390625 14.5 40.28125 \nQ 14.5 37.15625 16.890625 35.375 \nQ 19.28125 33.59375 26.515625 31.984375 \nL 29.59375 31.296875 \nQ 39.15625 29.25 43.1875 25.515625 \nQ 47.21875 21.78125 47.21875 15.09375 \nQ 47.21875 7.46875 41.1875 3.015625 \nQ 35.15625 -1.421875 24.609375 -1.421875 \nQ 20.21875 -1.421875 15.453125 -0.5625 \nQ 10.6875 0.296875 5.421875 2 \nL 5.421875 11.28125 \nQ 10.40625 8.6875 15.234375 7.390625 \nQ 20.0625 6.109375 24.8125 6.109375 \nQ 31.15625 6.109375 34.5625 8.28125 \nQ 37.984375 10.453125 37.984375 14.40625 \nQ 37.984375 18.0625 35.515625 20.015625 \nQ 33.0625 21.96875 24.703125 23.78125 \nL 21.578125 24.515625 \nQ 13.234375 26.265625 9.515625 29.90625 \nQ 5.8125 33.546875 5.8125 39.890625 \nQ 5.8125 47.609375 11.28125 51.796875 \nQ 16.75 56 26.8125 56 \nQ 31.78125 56 36.171875 55.265625 \nQ 40.578125 54.546875 44.28125 53.078125 \nz\n\" id=\"DejaVuSans-115\"/>\n      </defs>\n      <use xlink:href=\"#DejaVuSans-112\"/>\n      <use x=\"63.476562\" xlink:href=\"#DejaVuSans-97\"/>\n      <use x=\"124.755859\" xlink:href=\"#DejaVuSans-116\"/>\n      <use x=\"163.964844\" xlink:href=\"#DejaVuSans-105\"/>\n      <use x=\"191.748047\" xlink:href=\"#DejaVuSans-101\"/>\n      <use x=\"253.271484\" xlink:href=\"#DejaVuSans-110\"/>\n      <use x=\"316.650391\" xlink:href=\"#DejaVuSans-116\"/>\n      <use x=\"355.859375\" xlink:href=\"#DejaVuSans-115\"/>\n     </g>\n    </g>\n   </g>\n   <g id=\"patch_13\">\n    <path d=\"M 53.328125 224.64 \nL 53.328125 7.2 \n\" style=\"fill:none;stroke:#000000;stroke-linecap:square;stroke-linejoin:miter;stroke-width:0.8;\"/>\n   </g>\n   <g id=\"patch_14\">\n    <path d=\"M 388.128125 224.64 \nL 388.128125 7.2 \n\" style=\"fill:none;stroke:#000000;stroke-linecap:square;stroke-linejoin:miter;stroke-width:0.8;\"/>\n   </g>\n   <g id=\"patch_15\">\n    <path d=\"M 53.328125 224.64 \nL 388.128125 224.64 \n\" style=\"fill:none;stroke:#000000;stroke-linecap:square;stroke-linejoin:miter;stroke-width:0.8;\"/>\n   </g>\n   <g id=\"patch_16\">\n    <path d=\"M 53.328125 7.2 \nL 388.128125 7.2 \n\" style=\"fill:none;stroke:#000000;stroke-linecap:square;stroke-linejoin:miter;stroke-width:0.8;\"/>\n   </g>\n  </g>\n </g>\n <defs>\n  <clipPath id=\"p3a5a2bb78d\">\n   <rect height=\"217.44\" width=\"334.8\" x=\"53.328125\" y=\"7.2\"/>\n  </clipPath>\n </defs>\n</svg>\n",
      "image/png": "[encoded data removed]"
     },
     "metadata": {
      "needs_background": "light"
     }
    }
   ],
   "source": [
    "df_patient_age = pd.cut(df_patient.age.dropna(), bins=range(0, 101, 10), right=False)\n",
    "\n",
    "df_patient_age.value_counts().sort_index().plot.bar(xlabel=\"catégorie d'âge\", ylabel=\"patients\")"
   ]
  },
  {
   "cell_type": "code",
   "execution_count": null,
   "metadata": {},
   "outputs": [],
   "source": [
    "df_patient[df_patient.age < 10].age.value_counts().sort_index().plot.bar(xlabel=\"âge\", ylabel=\"patients\")"
   ]
  },
  {
   "cell_type": "markdown",
   "metadata": {},
   "source": [
    "On remarquera la présence de quelques patients en très bas âge (inférieur à 6 ans).\n",
    "\n",
    "Je n'ai pas connaissance d'un quelconque âge minimum pour effectuer un test PCR (à confirmer auprès d'un expert)."
   ]
  },
  {
   "cell_type": "markdown",
   "metadata": {},
   "source": [
    "### Dates de naissance invalides"
   ]
  },
  {
   "cell_type": "markdown",
   "metadata": {},
   "source": [
    "La date de naissance est stockée au format `YYYYMMDD` dans une valeur entière.\n",
    "\n",
    "On la convertit en `datetime` afin de la valider."
   ]
  },
  {
   "cell_type": "code",
   "execution_count": 134,
   "metadata": {},
   "outputs": [],
   "source": [
    "dob_datetime = pd.to_datetime(df_patient.date_of_birth, format=\"%Y%M%d\", errors=\"coerce\")\n"
   ]
  },
  {
   "cell_type": "markdown",
   "metadata": {},
   "source": [
    "Pour celles qui ne passent pas la conversion, on procède manuellement à l'extraction de l'année, du mois et du jour."
   ]
  },
  {
   "cell_type": "code",
   "execution_count": null,
   "metadata": {},
   "outputs": [],
   "source": [
    "dob_invalid = (\n",
    "    df_patient[dob_datetime.isna()].date_of_birth.dropna().astype(str)\n",
    "        .str.extract(r\"(\\d{4})(\\d{2})(\\d{2})\", expand=True)\n",
    "        .rename(columns={0: \"year\", 1: \"month\", 2: \"day\"})\n",
    ")\n",
    "\n",
    "dob_invalid.sample(10, random_state=42)"
   ]
  },
  {
   "cell_type": "markdown",
   "metadata": {},
   "source": [
    "L'échantillon montre la présence de valeurs aberrantes pour le mois et / ou le jour.\n",
    "\n",
    "Il y a 106 patients pour lesquels la date de naissance est non conforme."
   ]
  },
  {
   "cell_type": "code",
   "execution_count": 137,
   "metadata": {},
   "outputs": [
    {
     "output_type": "execute_result",
     "data": {
      "text/plain": "106"
     },
     "metadata": {},
     "execution_count": 137
    }
   ],
   "source": [
    "len(dob_invalid)"
   ]
  },
  {
   "cell_type": "markdown",
   "metadata": {},
   "source": [
    "### Incohérence entre date de naissance et âge renseigné"
   ]
  },
  {
   "cell_type": "markdown",
   "metadata": {},
   "source": [
    "Pour les patients dont la date de naissance est valide, on calcule l'âge en fin d'année 2020."
   ]
  },
  {
   "cell_type": "code",
   "execution_count": 138,
   "metadata": {},
   "outputs": [
    {
     "output_type": "execute_result",
     "data": {
      "text/plain": "       date_of_birth  age  age_from_dob\n6244        19961203   30            24\n18566       19831222   30            37\n1414        19520202   30            68\n11958       19300612   32            90\n12137       19281218   32            92\n8031        19220313   32            98\n5362        19040627    8           116\n17012       19441224   31            76\n669         19270517   25            93\n3307        19460421   22            74",
      "text/html": "<div>\n<style scoped>\n    .dataframe tbody tr th:only-of-type {\n        vertical-align: middle;\n    }\n\n    .dataframe tbody tr th {\n        vertical-align: top;\n    }\n\n    .dataframe thead th {\n        text-align: right;\n    }\n</style>\n<table border=\"1\" class=\"dataframe\">\n  <thead>\n    <tr style=\"text-align: right;\">\n      <th></th>\n      <th>date_of_birth</th>\n      <th>age</th>\n      <th>age_from_dob</th>\n    </tr>\n  </thead>\n  <tbody>\n    <tr>\n      <th>6244</th>\n      <td>19961203</td>\n      <td>30</td>\n      <td>24</td>\n    </tr>\n    <tr>\n      <th>18566</th>\n      <td>19831222</td>\n      <td>30</td>\n      <td>37</td>\n    </tr>\n    <tr>\n      <th>1414</th>\n      <td>19520202</td>\n      <td>30</td>\n      <td>68</td>\n    </tr>\n    <tr>\n      <th>11958</th>\n      <td>19300612</td>\n      <td>32</td>\n      <td>90</td>\n    </tr>\n    <tr>\n      <th>12137</th>\n      <td>19281218</td>\n      <td>32</td>\n      <td>92</td>\n    </tr>\n    <tr>\n      <th>8031</th>\n      <td>19220313</td>\n      <td>32</td>\n      <td>98</td>\n    </tr>\n    <tr>\n      <th>5362</th>\n      <td>19040627</td>\n      <td>8</td>\n      <td>116</td>\n    </tr>\n    <tr>\n      <th>17012</th>\n      <td>19441224</td>\n      <td>31</td>\n      <td>76</td>\n    </tr>\n    <tr>\n      <th>669</th>\n      <td>19270517</td>\n      <td>25</td>\n      <td>93</td>\n    </tr>\n    <tr>\n      <th>3307</th>\n      <td>19460421</td>\n      <td>22</td>\n      <td>74</td>\n    </tr>\n  </tbody>\n</table>\n</div>"
     },
     "metadata": {},
     "execution_count": 138
    }
   ],
   "source": [
    "age_from_dob = (pd.Timestamp(\"2020-12-31\") - dob_datetime).dt.days.floordiv(365.25).rename(\"age_from_dob\")\n",
    "\n",
    "dob_and_ages = (\n",
    "    df_patient[[\"date_of_birth\", \"age\"]]\n",
    "        .merge(age_from_dob, left_index=True, right_index=True)\n",
    "        .dropna().convert_dtypes()\n",
    ")\n",
    "\n",
    "dob_and_ages.sample(10, random_state=42)"
   ]
  },
  {
   "cell_type": "markdown",
   "metadata": {},
   "source": [
    "L'échantillon montre une absence de cohérence entre l'âge renseigné et l'âge calculé à partir de la date de naissance.\n",
    "\n",
    "Même avec une tolérance d'une année, seuls 342 d'entre eux ont un âge cohérent."
   ]
  },
  {
   "cell_type": "code",
   "execution_count": 139,
   "metadata": {},
   "outputs": [
    {
     "output_type": "execute_result",
     "data": {
      "text/plain": "342"
     },
     "metadata": {},
     "execution_count": 139
    }
   ],
   "source": [
    "from numpy import isclose\n",
    "\n",
    "isclose(dob_and_ages.age.astype(int), dob_and_ages.age_from_dob.astype(int), atol=1).sum()"
   ]
  },
  {
   "cell_type": "markdown",
   "metadata": {},
   "source": [
    "## Numéro de téléphone"
   ]
  },
  {
   "cell_type": "markdown",
   "metadata": {},
   "source": [
    "En [Australie](https://info.australia.gov.au/about-australia/facts-and-figures/telephone-country-and-area-codes), les numéro de téléphone sont composés d'un indicatif de zone géographique sur 2 chiffres, suivi d'un indicatif local sur 8 chiffres."
   ]
  },
  {
   "cell_type": "markdown",
   "metadata": {},
   "source": [
    "Extraction des indicatifs de zone et locaux."
   ]
  },
  {
   "cell_type": "code",
   "execution_count": 140,
   "metadata": {},
   "outputs": [
    {
     "output_type": "execute_result",
     "data": {
      "text/plain": "      area     local\n19258   08  17943415\n18764   02  70246389\n2327    03  61091358\n15781   07  24114733\n2775    02  68865129\n8911    07  48179754\n18051   07  73663673\n15129   08  91409370\n9355    02  30368694\n3420    03  54790735",
      "text/html": "<div>\n<style scoped>\n    .dataframe tbody tr th:only-of-type {\n        vertical-align: middle;\n    }\n\n    .dataframe tbody tr th {\n        vertical-align: top;\n    }\n\n    .dataframe thead th {\n        text-align: right;\n    }\n</style>\n<table border=\"1\" class=\"dataframe\">\n  <thead>\n    <tr style=\"text-align: right;\">\n      <th></th>\n      <th>area</th>\n      <th>local</th>\n    </tr>\n  </thead>\n  <tbody>\n    <tr>\n      <th>19258</th>\n      <td>08</td>\n      <td>17943415</td>\n    </tr>\n    <tr>\n      <th>18764</th>\n      <td>02</td>\n      <td>70246389</td>\n    </tr>\n    <tr>\n      <th>2327</th>\n      <td>03</td>\n      <td>61091358</td>\n    </tr>\n    <tr>\n      <th>15781</th>\n      <td>07</td>\n      <td>24114733</td>\n    </tr>\n    <tr>\n      <th>2775</th>\n      <td>02</td>\n      <td>68865129</td>\n    </tr>\n    <tr>\n      <th>8911</th>\n      <td>07</td>\n      <td>48179754</td>\n    </tr>\n    <tr>\n      <th>18051</th>\n      <td>07</td>\n      <td>73663673</td>\n    </tr>\n    <tr>\n      <th>15129</th>\n      <td>08</td>\n      <td>91409370</td>\n    </tr>\n    <tr>\n      <th>9355</th>\n      <td>02</td>\n      <td>30368694</td>\n    </tr>\n    <tr>\n      <th>3420</th>\n      <td>03</td>\n      <td>54790735</td>\n    </tr>\n  </tbody>\n</table>\n</div>"
     },
     "metadata": {},
     "execution_count": 140
    }
   ],
   "source": [
    "df_patient_phone_number = df_patient.phone_number.dropna().str.extract(r\"(\\d{2})\\s(\\d{8})\", expand=True).rename(columns={0: \"area\", 1: \"local\"})\n",
    "\n",
    "df_patient_phone_number.sample(10, random_state=42)"
   ]
  },
  {
   "cell_type": "markdown",
   "metadata": {},
   "source": [
    "Tous les numéro de téléphone renseignés ont un indicatif de zone correct."
   ]
  },
  {
   "cell_type": "code",
   "execution_count": 141,
   "metadata": {},
   "outputs": [
    {
     "output_type": "execute_result",
     "data": {
      "text/plain": "True"
     },
     "metadata": {},
     "execution_count": 141
    }
   ],
   "source": [
    "df_patient_phone_number.area.isin([\"02\", \"03\", \"04\", \"07\", \"08\"]).all()"
   ]
  },
  {
   "cell_type": "markdown",
   "metadata": {},
   "source": [
    "## Adresse personnelle"
   ]
  },
  {
   "cell_type": "markdown",
   "metadata": {},
   "source": [
    "### Numéro de rue"
   ]
  },
  {
   "cell_type": "markdown",
   "metadata": {},
   "source": [
    "La numérotation des rues démarrent à 1. Le minimum de 0 est une valeur erronée."
   ]
  },
  {
   "cell_type": "code",
   "execution_count": 142,
   "metadata": {},
   "outputs": [
    {
     "output_type": "execute_result",
     "data": {
      "text/plain": "count     19618.000000\nmean         98.812468\nstd        2481.908686\nmin           0.000000\n25%          10.000000\n50%          24.000000\n75%          60.000000\nmax      342951.000000\nName: street_number, dtype: float64"
     },
     "metadata": {},
     "execution_count": 142
    }
   ],
   "source": [
    "df_patient.street_number.dropna().astype(int).describe()"
   ]
  },
  {
   "cell_type": "markdown",
   "metadata": {},
   "source": [
    "Analyse du nombre de chiffres composant le numéro de rue."
   ]
  },
  {
   "cell_type": "code",
   "execution_count": 143,
   "metadata": {
    "tags": []
   },
   "outputs": [
    {
     "output_type": "execute_result",
     "data": {
      "text/plain": "<AxesSubplot:xlabel='digits in street number', ylabel='patients'>"
     },
     "metadata": {},
     "execution_count": 143
    },
    {
     "output_type": "display_data",
     "data": {
      "text/plain": "<Figure size 432x288 with 1 Axes>",
      "image/svg+xml": "<?xml version=\"1.0\" encoding=\"utf-8\" standalone=\"no\"?>\n<!DOCTYPE svg PUBLIC \"-//W3C//DTD SVG 1.1//EN\"\n  \"http://www.w3.org/Graphics/SVG/1.1/DTD/svg11.dtd\">\n<!-- Created with matplotlib (https://matplotlib.org/) -->\n<svg height=\"258.880625pt\" version=\"1.1\" viewBox=\"0 0 401.690625 258.880625\" width=\"401.690625pt\" xmlns=\"http://www.w3.org/2000/svg\" xmlns:xlink=\"http://www.w3.org/1999/xlink\">\n <metadata>\n  <rdf:RDF xmlns:cc=\"http://creativecommons.org/ns#\" xmlns:dc=\"http://purl.org/dc/elements/1.1/\" xmlns:rdf=\"http://www.w3.org/1999/02/22-rdf-syntax-ns#\">\n   <cc:Work>\n    <dc:type rdf:resource=\"http://purl.org/dc/dcmitype/StillImage\"/>\n    <dc:date>2020-09-14T17:26:35.109391</dc:date>\n    <dc:format>image/svg+xml</dc:format>\n    <dc:creator>\n     <cc:Agent>\n      <dc:title>Matplotlib v3.3.1, https://matplotlib.org/</dc:title>\n     </cc:Agent>\n    </dc:creator>\n   </cc:Work>\n  </rdf:RDF>\n </metadata>\n <defs>\n  <style type=\"text/css\">*{stroke-linecap:butt;stroke-linejoin:round;}</style>\n </defs>\n <g id=\"figure_1\">\n  <g id=\"patch_1\">\n   <path d=\"M 0 258.880625 \nL 401.690625 258.880625 \nL 401.690625 0 \nL 0 0 \nz\n\" style=\"fill:none;\"/>\n  </g>\n  <g id=\"axes_1\">\n   <g id=\"patch_2\">\n    <path d=\"M 59.690625 224.64 \nL 394.490625 224.64 \nL 394.490625 7.2 \nL 59.690625 7.2 \nz\n\" style=\"fill:#ffffff;\"/>\n   </g>\n   <g id=\"patch_3\">\n    <path clip-path=\"url(#pda84095bdc)\" d=\"M 73.640625 224.64 \nL 101.540625 224.64 \nL 101.540625 132.745052 \nL 73.640625 132.745052 \nz\n\" style=\"fill:#1f77b4;\"/>\n   </g>\n   <g id=\"patch_4\">\n    <path clip-path=\"url(#pda84095bdc)\" d=\"M 129.440625 224.64 \nL 157.340625 224.64 \nL 157.340625 17.554286 \nL 129.440625 17.554286 \nz\n\" style=\"fill:#1f77b4;\"/>\n   </g>\n   <g id=\"patch_5\">\n    <path clip-path=\"url(#pda84095bdc)\" d=\"M 185.240625 224.64 \nL 213.140625 224.64 \nL 213.140625 173.459791 \nL 185.240625 173.459791 \nz\n\" style=\"fill:#1f77b4;\"/>\n   </g>\n   <g id=\"patch_6\">\n    <path clip-path=\"url(#pda84095bdc)\" d=\"M 241.040625 224.64 \nL 268.940625 224.64 \nL 268.940625 221.922154 \nL 241.040625 221.922154 \nz\n\" style=\"fill:#1f77b4;\"/>\n   </g>\n   <g id=\"patch_7\">\n    <path clip-path=\"url(#pda84095bdc)\" d=\"M 296.840625 224.64 \nL 324.740625 224.64 \nL 324.740625 224.569407 \nL 296.840625 224.569407 \nz\n\" style=\"fill:#1f77b4;\"/>\n   </g>\n   <g id=\"patch_8\">\n    <path clip-path=\"url(#pda84095bdc)\" d=\"M 352.640625 224.64 \nL 380.540625 224.64 \nL 380.540625 224.622352 \nL 352.640625 224.622352 \nz\n\" style=\"fill:#1f77b4;\"/>\n   </g>\n   <g id=\"matplotlib.axis_1\">\n    <g id=\"xtick_1\">\n     <g id=\"line2d_1\">\n      <defs>\n       <path d=\"M 0 0 \nL 0 3.5 \n\" id=\"me1820ffed4\" style=\"stroke:#000000;stroke-width:0.8;\"/>\n      </defs>\n      <g>\n       <use style=\"stroke:#000000;stroke-width:0.8;\" x=\"87.590625\" xlink:href=\"#me1820ffed4\" y=\"224.64\"/>\n      </g>\n     </g>\n     <g id=\"text_1\">\n      <!-- 1 -->\n      <g transform=\"translate(90.35 238.0025)rotate(-90)scale(0.1 -0.1)\">\n       <defs>\n        <path d=\"M 12.40625 8.296875 \nL 28.515625 8.296875 \nL 28.515625 63.921875 \nL 10.984375 60.40625 \nL 10.984375 69.390625 \nL 28.421875 72.90625 \nL 38.28125 72.90625 \nL 38.28125 8.296875 \nL 54.390625 8.296875 \nL 54.390625 0 \nL 12.40625 0 \nz\n\" id=\"DejaVuSans-49\"/>\n       </defs>\n       <use xlink:href=\"#DejaVuSans-49\"/>\n      </g>\n     </g>\n    </g>\n    <g id=\"xtick_2\">\n     <g id=\"line2d_2\">\n      <g>\n       <use style=\"stroke:#000000;stroke-width:0.8;\" x=\"143.390625\" xlink:href=\"#me1820ffed4\" y=\"224.64\"/>\n      </g>\n     </g>\n     <g id=\"text_2\">\n      <!-- 2 -->\n      <g transform=\"translate(146.15 238.0025)rotate(-90)scale(0.1 -0.1)\">\n       <defs>\n        <path d=\"M 19.1875 8.296875 \nL 53.609375 8.296875 \nL 53.609375 0 \nL 7.328125 0 \nL 7.328125 8.296875 \nQ 12.9375 14.109375 22.625 23.890625 \nQ 32.328125 33.6875 34.8125 36.53125 \nQ 39.546875 41.84375 41.421875 45.53125 \nQ 43.3125 49.21875 43.3125 52.78125 \nQ 43.3125 58.59375 39.234375 62.25 \nQ 35.15625 65.921875 28.609375 65.921875 \nQ 23.96875 65.921875 18.8125 64.3125 \nQ 13.671875 62.703125 7.8125 59.421875 \nL 7.8125 69.390625 \nQ 13.765625 71.78125 18.9375 73 \nQ 24.125 74.21875 28.421875 74.21875 \nQ 39.75 74.21875 46.484375 68.546875 \nQ 53.21875 62.890625 53.21875 53.421875 \nQ 53.21875 48.921875 51.53125 44.890625 \nQ 49.859375 40.875 45.40625 35.40625 \nQ 44.1875 33.984375 37.640625 27.21875 \nQ 31.109375 20.453125 19.1875 8.296875 \nz\n\" id=\"DejaVuSans-50\"/>\n       </defs>\n       <use xlink:href=\"#DejaVuSans-50\"/>\n      </g>\n     </g>\n    </g>\n    <g id=\"xtick_3\">\n     <g id=\"line2d_3\">\n      <g>\n       <use style=\"stroke:#000000;stroke-width:0.8;\" x=\"199.190625\" xlink:href=\"#me1820ffed4\" y=\"224.64\"/>\n      </g>\n     </g>\n     <g id=\"text_3\">\n      <!-- 3 -->\n      <g transform=\"translate(201.95 238.0025)rotate(-90)scale(0.1 -0.1)\">\n       <defs>\n        <path d=\"M 40.578125 39.3125 \nQ 47.65625 37.796875 51.625 33 \nQ 55.609375 28.21875 55.609375 21.1875 \nQ 55.609375 10.40625 48.1875 4.484375 \nQ 40.765625 -1.421875 27.09375 -1.421875 \nQ 22.515625 -1.421875 17.65625 -0.515625 \nQ 12.796875 0.390625 7.625 2.203125 \nL 7.625 11.71875 \nQ 11.71875 9.328125 16.59375 8.109375 \nQ 21.484375 6.890625 26.8125 6.890625 \nQ 36.078125 6.890625 40.9375 10.546875 \nQ 45.796875 14.203125 45.796875 21.1875 \nQ 45.796875 27.640625 41.28125 31.265625 \nQ 36.765625 34.90625 28.71875 34.90625 \nL 20.21875 34.90625 \nL 20.21875 43.015625 \nL 29.109375 43.015625 \nQ 36.375 43.015625 40.234375 45.921875 \nQ 44.09375 48.828125 44.09375 54.296875 \nQ 44.09375 59.90625 40.109375 62.90625 \nQ 36.140625 65.921875 28.71875 65.921875 \nQ 24.65625 65.921875 20.015625 65.03125 \nQ 15.375 64.15625 9.8125 62.3125 \nL 9.8125 71.09375 \nQ 15.4375 72.65625 20.34375 73.4375 \nQ 25.25 74.21875 29.59375 74.21875 \nQ 40.828125 74.21875 47.359375 69.109375 \nQ 53.90625 64.015625 53.90625 55.328125 \nQ 53.90625 49.265625 50.4375 45.09375 \nQ 46.96875 40.921875 40.578125 39.3125 \nz\n\" id=\"DejaVuSans-51\"/>\n       </defs>\n       <use xlink:href=\"#DejaVuSans-51\"/>\n      </g>\n     </g>\n    </g>\n    <g id=\"xtick_4\">\n     <g id=\"line2d_4\">\n      <g>\n       <use style=\"stroke:#000000;stroke-width:0.8;\" x=\"254.990625\" xlink:href=\"#me1820ffed4\" y=\"224.64\"/>\n      </g>\n     </g>\n     <g id=\"text_4\">\n      <!-- 4 -->\n      <g transform=\"translate(257.75 238.0025)rotate(-90)scale(0.1 -0.1)\">\n       <defs>\n        <path d=\"M 37.796875 64.3125 \nL 12.890625 25.390625 \nL 37.796875 25.390625 \nz\nM 35.203125 72.90625 \nL 47.609375 72.90625 \nL 47.609375 25.390625 \nL 58.015625 25.390625 \nL 58.015625 17.1875 \nL 47.609375 17.1875 \nL 47.609375 0 \nL 37.796875 0 \nL 37.796875 17.1875 \nL 4.890625 17.1875 \nL 4.890625 26.703125 \nz\n\" id=\"DejaVuSans-52\"/>\n       </defs>\n       <use xlink:href=\"#DejaVuSans-52\"/>\n      </g>\n     </g>\n    </g>\n    <g id=\"xtick_5\">\n     <g id=\"line2d_5\">\n      <g>\n       <use style=\"stroke:#000000;stroke-width:0.8;\" x=\"310.790625\" xlink:href=\"#me1820ffed4\" y=\"224.64\"/>\n      </g>\n     </g>\n     <g id=\"text_5\">\n      <!-- 5 -->\n      <g transform=\"translate(313.55 238.0025)rotate(-90)scale(0.1 -0.1)\">\n       <defs>\n        <path d=\"M 10.796875 72.90625 \nL 49.515625 72.90625 \nL 49.515625 64.59375 \nL 19.828125 64.59375 \nL 19.828125 46.734375 \nQ 21.96875 47.46875 24.109375 47.828125 \nQ 26.265625 48.1875 28.421875 48.1875 \nQ 40.625 48.1875 47.75 41.5 \nQ 54.890625 34.8125 54.890625 23.390625 \nQ 54.890625 11.625 47.5625 5.09375 \nQ 40.234375 -1.421875 26.90625 -1.421875 \nQ 22.3125 -1.421875 17.546875 -0.640625 \nQ 12.796875 0.140625 7.71875 1.703125 \nL 7.71875 11.625 \nQ 12.109375 9.234375 16.796875 8.0625 \nQ 21.484375 6.890625 26.703125 6.890625 \nQ 35.15625 6.890625 40.078125 11.328125 \nQ 45.015625 15.765625 45.015625 23.390625 \nQ 45.015625 31 40.078125 35.4375 \nQ 35.15625 39.890625 26.703125 39.890625 \nQ 22.75 39.890625 18.8125 39.015625 \nQ 14.890625 38.140625 10.796875 36.28125 \nz\n\" id=\"DejaVuSans-53\"/>\n       </defs>\n       <use xlink:href=\"#DejaVuSans-53\"/>\n      </g>\n     </g>\n    </g>\n    <g id=\"xtick_6\">\n     <g id=\"line2d_6\">\n      <g>\n       <use style=\"stroke:#000000;stroke-width:0.8;\" x=\"366.590625\" xlink:href=\"#me1820ffed4\" y=\"224.64\"/>\n      </g>\n     </g>\n     <g id=\"text_6\">\n      <!-- 6 -->\n      <g transform=\"translate(369.35 238.0025)rotate(-90)scale(0.1 -0.1)\">\n       <defs>\n        <path d=\"M 33.015625 40.375 \nQ 26.375 40.375 22.484375 35.828125 \nQ 18.609375 31.296875 18.609375 23.390625 \nQ 18.609375 15.53125 22.484375 10.953125 \nQ 26.375 6.390625 33.015625 6.390625 \nQ 39.65625 6.390625 43.53125 10.953125 \nQ 47.40625 15.53125 47.40625 23.390625 \nQ 47.40625 31.296875 43.53125 35.828125 \nQ 39.65625 40.375 33.015625 40.375 \nz\nM 52.59375 71.296875 \nL 52.59375 62.3125 \nQ 48.875 64.0625 45.09375 64.984375 \nQ 41.3125 65.921875 37.59375 65.921875 \nQ 27.828125 65.921875 22.671875 59.328125 \nQ 17.53125 52.734375 16.796875 39.40625 \nQ 19.671875 43.65625 24.015625 45.921875 \nQ 28.375 48.1875 33.59375 48.1875 \nQ 44.578125 48.1875 50.953125 41.515625 \nQ 57.328125 34.859375 57.328125 23.390625 \nQ 57.328125 12.15625 50.6875 5.359375 \nQ 44.046875 -1.421875 33.015625 -1.421875 \nQ 20.359375 -1.421875 13.671875 8.265625 \nQ 6.984375 17.96875 6.984375 36.375 \nQ 6.984375 53.65625 15.1875 63.9375 \nQ 23.390625 74.21875 37.203125 74.21875 \nQ 40.921875 74.21875 44.703125 73.484375 \nQ 48.484375 72.75 52.59375 71.296875 \nz\n\" id=\"DejaVuSans-54\"/>\n       </defs>\n       <use xlink:href=\"#DejaVuSans-54\"/>\n      </g>\n     </g>\n    </g>\n    <g id=\"text_7\">\n     <!-- digits in street number -->\n     <g transform=\"translate(169.939063 249.600937)scale(0.1 -0.1)\">\n      <defs>\n       <path d=\"M 45.40625 46.390625 \nL 45.40625 75.984375 \nL 54.390625 75.984375 \nL 54.390625 0 \nL 45.40625 0 \nL 45.40625 8.203125 \nQ 42.578125 3.328125 38.25 0.953125 \nQ 33.9375 -1.421875 27.875 -1.421875 \nQ 17.96875 -1.421875 11.734375 6.484375 \nQ 5.515625 14.40625 5.515625 27.296875 \nQ 5.515625 40.1875 11.734375 48.09375 \nQ 17.96875 56 27.875 56 \nQ 33.9375 56 38.25 53.625 \nQ 42.578125 51.265625 45.40625 46.390625 \nz\nM 14.796875 27.296875 \nQ 14.796875 17.390625 18.875 11.75 \nQ 22.953125 6.109375 30.078125 6.109375 \nQ 37.203125 6.109375 41.296875 11.75 \nQ 45.40625 17.390625 45.40625 27.296875 \nQ 45.40625 37.203125 41.296875 42.84375 \nQ 37.203125 48.484375 30.078125 48.484375 \nQ 22.953125 48.484375 18.875 42.84375 \nQ 14.796875 37.203125 14.796875 27.296875 \nz\n\" id=\"DejaVuSans-100\"/>\n       <path d=\"M 9.421875 54.6875 \nL 18.40625 54.6875 \nL 18.40625 0 \nL 9.421875 0 \nz\nM 9.421875 75.984375 \nL 18.40625 75.984375 \nL 18.40625 64.59375 \nL 9.421875 64.59375 \nz\n\" id=\"DejaVuSans-105\"/>\n       <path d=\"M 45.40625 27.984375 \nQ 45.40625 37.75 41.375 43.109375 \nQ 37.359375 48.484375 30.078125 48.484375 \nQ 22.859375 48.484375 18.828125 43.109375 \nQ 14.796875 37.75 14.796875 27.984375 \nQ 14.796875 18.265625 18.828125 12.890625 \nQ 22.859375 7.515625 30.078125 7.515625 \nQ 37.359375 7.515625 41.375 12.890625 \nQ 45.40625 18.265625 45.40625 27.984375 \nz\nM 54.390625 6.78125 \nQ 54.390625 -7.171875 48.1875 -13.984375 \nQ 42 -20.796875 29.203125 -20.796875 \nQ 24.46875 -20.796875 20.265625 -20.09375 \nQ 16.0625 -19.390625 12.109375 -17.921875 \nL 12.109375 -9.1875 \nQ 16.0625 -11.328125 19.921875 -12.34375 \nQ 23.78125 -13.375 27.78125 -13.375 \nQ 36.625 -13.375 41.015625 -8.765625 \nQ 45.40625 -4.15625 45.40625 5.171875 \nL 45.40625 9.625 \nQ 42.625 4.78125 38.28125 2.390625 \nQ 33.9375 0 27.875 0 \nQ 17.828125 0 11.671875 7.65625 \nQ 5.515625 15.328125 5.515625 27.984375 \nQ 5.515625 40.671875 11.671875 48.328125 \nQ 17.828125 56 27.875 56 \nQ 33.9375 56 38.28125 53.609375 \nQ 42.625 51.21875 45.40625 46.390625 \nL 45.40625 54.6875 \nL 54.390625 54.6875 \nz\n\" id=\"DejaVuSans-103\"/>\n       <path d=\"M 18.3125 70.21875 \nL 18.3125 54.6875 \nL 36.8125 54.6875 \nL 36.8125 47.703125 \nL 18.3125 47.703125 \nL 18.3125 18.015625 \nQ 18.3125 11.328125 20.140625 9.421875 \nQ 21.96875 7.515625 27.59375 7.515625 \nL 36.8125 7.515625 \nL 36.8125 0 \nL 27.59375 0 \nQ 17.1875 0 13.234375 3.875 \nQ 9.28125 7.765625 9.28125 18.015625 \nL 9.28125 47.703125 \nL 2.6875 47.703125 \nL 2.6875 54.6875 \nL 9.28125 54.6875 \nL 9.28125 70.21875 \nz\n\" id=\"DejaVuSans-116\"/>\n       <path d=\"M 44.28125 53.078125 \nL 44.28125 44.578125 \nQ 40.484375 46.53125 36.375 47.5 \nQ 32.28125 48.484375 27.875 48.484375 \nQ 21.1875 48.484375 17.84375 46.4375 \nQ 14.5 44.390625 14.5 40.28125 \nQ 14.5 37.15625 16.890625 35.375 \nQ 19.28125 33.59375 26.515625 31.984375 \nL 29.59375 31.296875 \nQ 39.15625 29.25 43.1875 25.515625 \nQ 47.21875 21.78125 47.21875 15.09375 \nQ 47.21875 7.46875 41.1875 3.015625 \nQ 35.15625 -1.421875 24.609375 -1.421875 \nQ 20.21875 -1.421875 15.453125 -0.5625 \nQ 10.6875 0.296875 5.421875 2 \nL 5.421875 11.28125 \nQ 10.40625 8.6875 15.234375 7.390625 \nQ 20.0625 6.109375 24.8125 6.109375 \nQ 31.15625 6.109375 34.5625 8.28125 \nQ 37.984375 10.453125 37.984375 14.40625 \nQ 37.984375 18.0625 35.515625 20.015625 \nQ 33.0625 21.96875 24.703125 23.78125 \nL 21.578125 24.515625 \nQ 13.234375 26.265625 9.515625 29.90625 \nQ 5.8125 33.546875 5.8125 39.890625 \nQ 5.8125 47.609375 11.28125 51.796875 \nQ 16.75 56 26.8125 56 \nQ 31.78125 56 36.171875 55.265625 \nQ 40.578125 54.546875 44.28125 53.078125 \nz\n\" id=\"DejaVuSans-115\"/>\n       <path id=\"DejaVuSans-32\"/>\n       <path d=\"M 54.890625 33.015625 \nL 54.890625 0 \nL 45.90625 0 \nL 45.90625 32.71875 \nQ 45.90625 40.484375 42.875 44.328125 \nQ 39.84375 48.1875 33.796875 48.1875 \nQ 26.515625 48.1875 22.3125 43.546875 \nQ 18.109375 38.921875 18.109375 30.90625 \nL 18.109375 0 \nL 9.078125 0 \nL 9.078125 54.6875 \nL 18.109375 54.6875 \nL 18.109375 46.1875 \nQ 21.34375 51.125 25.703125 53.5625 \nQ 30.078125 56 35.796875 56 \nQ 45.21875 56 50.046875 50.171875 \nQ 54.890625 44.34375 54.890625 33.015625 \nz\n\" id=\"DejaVuSans-110\"/>\n       <path d=\"M 41.109375 46.296875 \nQ 39.59375 47.171875 37.8125 47.578125 \nQ 36.03125 48 33.890625 48 \nQ 26.265625 48 22.1875 43.046875 \nQ 18.109375 38.09375 18.109375 28.8125 \nL 18.109375 0 \nL 9.078125 0 \nL 9.078125 54.6875 \nL 18.109375 54.6875 \nL 18.109375 46.1875 \nQ 20.953125 51.171875 25.484375 53.578125 \nQ 30.03125 56 36.53125 56 \nQ 37.453125 56 38.578125 55.875 \nQ 39.703125 55.765625 41.0625 55.515625 \nz\n\" id=\"DejaVuSans-114\"/>\n       <path d=\"M 56.203125 29.59375 \nL 56.203125 25.203125 \nL 14.890625 25.203125 \nQ 15.484375 15.921875 20.484375 11.0625 \nQ 25.484375 6.203125 34.421875 6.203125 \nQ 39.59375 6.203125 44.453125 7.46875 \nQ 49.3125 8.734375 54.109375 11.28125 \nL 54.109375 2.78125 \nQ 49.265625 0.734375 44.1875 -0.34375 \nQ 39.109375 -1.421875 33.890625 -1.421875 \nQ 20.796875 -1.421875 13.15625 6.1875 \nQ 5.515625 13.8125 5.515625 26.8125 \nQ 5.515625 40.234375 12.765625 48.109375 \nQ 20.015625 56 32.328125 56 \nQ 43.359375 56 49.78125 48.890625 \nQ 56.203125 41.796875 56.203125 29.59375 \nz\nM 47.21875 32.234375 \nQ 47.125 39.59375 43.09375 43.984375 \nQ 39.0625 48.390625 32.421875 48.390625 \nQ 24.90625 48.390625 20.390625 44.140625 \nQ 15.875 39.890625 15.1875 32.171875 \nz\n\" id=\"DejaVuSans-101\"/>\n       <path d=\"M 8.5 21.578125 \nL 8.5 54.6875 \nL 17.484375 54.6875 \nL 17.484375 21.921875 \nQ 17.484375 14.15625 20.5 10.265625 \nQ 23.53125 6.390625 29.59375 6.390625 \nQ 36.859375 6.390625 41.078125 11.03125 \nQ 45.3125 15.671875 45.3125 23.6875 \nL 45.3125 54.6875 \nL 54.296875 54.6875 \nL 54.296875 0 \nL 45.3125 0 \nL 45.3125 8.40625 \nQ 42.046875 3.421875 37.71875 1 \nQ 33.40625 -1.421875 27.6875 -1.421875 \nQ 18.265625 -1.421875 13.375 4.4375 \nQ 8.5 10.296875 8.5 21.578125 \nz\nM 31.109375 56 \nz\n\" id=\"DejaVuSans-117\"/>\n       <path d=\"M 52 44.1875 \nQ 55.375 50.25 60.0625 53.125 \nQ 64.75 56 71.09375 56 \nQ 79.640625 56 84.28125 50.015625 \nQ 88.921875 44.046875 88.921875 33.015625 \nL 88.921875 0 \nL 79.890625 0 \nL 79.890625 32.71875 \nQ 79.890625 40.578125 77.09375 44.375 \nQ 74.3125 48.1875 68.609375 48.1875 \nQ 61.625 48.1875 57.5625 43.546875 \nQ 53.515625 38.921875 53.515625 30.90625 \nL 53.515625 0 \nL 44.484375 0 \nL 44.484375 32.71875 \nQ 44.484375 40.625 41.703125 44.40625 \nQ 38.921875 48.1875 33.109375 48.1875 \nQ 26.21875 48.1875 22.15625 43.53125 \nQ 18.109375 38.875 18.109375 30.90625 \nL 18.109375 0 \nL 9.078125 0 \nL 9.078125 54.6875 \nL 18.109375 54.6875 \nL 18.109375 46.1875 \nQ 21.1875 51.21875 25.484375 53.609375 \nQ 29.78125 56 35.6875 56 \nQ 41.65625 56 45.828125 52.96875 \nQ 50 49.953125 52 44.1875 \nz\n\" id=\"DejaVuSans-109\"/>\n       <path d=\"M 48.6875 27.296875 \nQ 48.6875 37.203125 44.609375 42.84375 \nQ 40.53125 48.484375 33.40625 48.484375 \nQ 26.265625 48.484375 22.1875 42.84375 \nQ 18.109375 37.203125 18.109375 27.296875 \nQ 18.109375 17.390625 22.1875 11.75 \nQ 26.265625 6.109375 33.40625 6.109375 \nQ 40.53125 6.109375 44.609375 11.75 \nQ 48.6875 17.390625 48.6875 27.296875 \nz\nM 18.109375 46.390625 \nQ 20.953125 51.265625 25.265625 53.625 \nQ 29.59375 56 35.59375 56 \nQ 45.5625 56 51.78125 48.09375 \nQ 58.015625 40.1875 58.015625 27.296875 \nQ 58.015625 14.40625 51.78125 6.484375 \nQ 45.5625 -1.421875 35.59375 -1.421875 \nQ 29.59375 -1.421875 25.265625 0.953125 \nQ 20.953125 3.328125 18.109375 8.203125 \nL 18.109375 0 \nL 9.078125 0 \nL 9.078125 75.984375 \nL 18.109375 75.984375 \nz\n\" id=\"DejaVuSans-98\"/>\n      </defs>\n      <use xlink:href=\"#DejaVuSans-100\"/>\n      <use x=\"63.476562\" xlink:href=\"#DejaVuSans-105\"/>\n      <use x=\"91.259766\" xlink:href=\"#DejaVuSans-103\"/>\n      <use x=\"154.736328\" xlink:href=\"#DejaVuSans-105\"/>\n      <use x=\"182.519531\" xlink:href=\"#DejaVuSans-116\"/>\n      <use x=\"221.728516\" xlink:href=\"#DejaVuSans-115\"/>\n      <use x=\"273.828125\" xlink:href=\"#DejaVuSans-32\"/>\n      <use x=\"305.615234\" xlink:href=\"#DejaVuSans-105\"/>\n      <use x=\"333.398438\" xlink:href=\"#DejaVuSans-110\"/>\n      <use x=\"396.777344\" xlink:href=\"#DejaVuSans-32\"/>\n      <use x=\"428.564453\" xlink:href=\"#DejaVuSans-115\"/>\n      <use x=\"480.664062\" xlink:href=\"#DejaVuSans-116\"/>\n      <use x=\"519.873047\" xlink:href=\"#DejaVuSans-114\"/>\n      <use x=\"558.736328\" xlink:href=\"#DejaVuSans-101\"/>\n      <use x=\"620.259766\" xlink:href=\"#DejaVuSans-101\"/>\n      <use x=\"681.783203\" xlink:href=\"#DejaVuSans-116\"/>\n      <use x=\"720.992188\" xlink:href=\"#DejaVuSans-32\"/>\n      <use x=\"752.779297\" xlink:href=\"#DejaVuSans-110\"/>\n      <use x=\"816.158203\" xlink:href=\"#DejaVuSans-117\"/>\n      <use x=\"879.537109\" xlink:href=\"#DejaVuSans-109\"/>\n      <use x=\"976.949219\" xlink:href=\"#DejaVuSans-98\"/>\n      <use x=\"1040.425781\" xlink:href=\"#DejaVuSans-101\"/>\n      <use x=\"1101.949219\" xlink:href=\"#DejaVuSans-114\"/>\n     </g>\n    </g>\n   </g>\n   <g id=\"matplotlib.axis_2\">\n    <g id=\"ytick_1\">\n     <g id=\"line2d_7\">\n      <defs>\n       <path d=\"M 0 0 \nL -3.5 0 \n\" id=\"m942e2e22c5\" style=\"stroke:#000000;stroke-width:0.8;\"/>\n      </defs>\n      <g>\n       <use style=\"stroke:#000000;stroke-width:0.8;\" x=\"59.690625\" xlink:href=\"#m942e2e22c5\" y=\"224.64\"/>\n      </g>\n     </g>\n     <g id=\"text_8\">\n      <!-- 0 -->\n      <g transform=\"translate(46.328125 228.439219)scale(0.1 -0.1)\">\n       <defs>\n        <path d=\"M 31.78125 66.40625 \nQ 24.171875 66.40625 20.328125 58.90625 \nQ 16.5 51.421875 16.5 36.375 \nQ 16.5 21.390625 20.328125 13.890625 \nQ 24.171875 6.390625 31.78125 6.390625 \nQ 39.453125 6.390625 43.28125 13.890625 \nQ 47.125 21.390625 47.125 36.375 \nQ 47.125 51.421875 43.28125 58.90625 \nQ 39.453125 66.40625 31.78125 66.40625 \nz\nM 31.78125 74.21875 \nQ 44.046875 74.21875 50.515625 64.515625 \nQ 56.984375 54.828125 56.984375 36.375 \nQ 56.984375 17.96875 50.515625 8.265625 \nQ 44.046875 -1.421875 31.78125 -1.421875 \nQ 19.53125 -1.421875 13.0625 8.265625 \nQ 6.59375 17.96875 6.59375 36.375 \nQ 6.59375 54.828125 13.0625 64.515625 \nQ 19.53125 74.21875 31.78125 74.21875 \nz\n\" id=\"DejaVuSans-48\"/>\n       </defs>\n       <use xlink:href=\"#DejaVuSans-48\"/>\n      </g>\n     </g>\n    </g>\n    <g id=\"ytick_2\">\n     <g id=\"line2d_8\">\n      <g>\n       <use style=\"stroke:#000000;stroke-width:0.8;\" x=\"59.690625\" xlink:href=\"#m942e2e22c5\" y=\"189.343304\"/>\n      </g>\n     </g>\n     <g id=\"text_9\">\n      <!-- 2000 -->\n      <g transform=\"translate(27.240625 193.142523)scale(0.1 -0.1)\">\n       <use xlink:href=\"#DejaVuSans-50\"/>\n       <use x=\"63.623047\" xlink:href=\"#DejaVuSans-48\"/>\n       <use x=\"127.246094\" xlink:href=\"#DejaVuSans-48\"/>\n       <use x=\"190.869141\" xlink:href=\"#DejaVuSans-48\"/>\n      </g>\n     </g>\n    </g>\n    <g id=\"ytick_3\">\n     <g id=\"line2d_9\">\n      <g>\n       <use style=\"stroke:#000000;stroke-width:0.8;\" x=\"59.690625\" xlink:href=\"#m942e2e22c5\" y=\"154.046608\"/>\n      </g>\n     </g>\n     <g id=\"text_10\">\n      <!-- 4000 -->\n      <g transform=\"translate(27.240625 157.845827)scale(0.1 -0.1)\">\n       <use xlink:href=\"#DejaVuSans-52\"/>\n       <use x=\"63.623047\" xlink:href=\"#DejaVuSans-48\"/>\n       <use x=\"127.246094\" xlink:href=\"#DejaVuSans-48\"/>\n       <use x=\"190.869141\" xlink:href=\"#DejaVuSans-48\"/>\n      </g>\n     </g>\n    </g>\n    <g id=\"ytick_4\">\n     <g id=\"line2d_10\">\n      <g>\n       <use style=\"stroke:#000000;stroke-width:0.8;\" x=\"59.690625\" xlink:href=\"#m942e2e22c5\" y=\"118.749913\"/>\n      </g>\n     </g>\n     <g id=\"text_11\">\n      <!-- 6000 -->\n      <g transform=\"translate(27.240625 122.549131)scale(0.1 -0.1)\">\n       <use xlink:href=\"#DejaVuSans-54\"/>\n       <use x=\"63.623047\" xlink:href=\"#DejaVuSans-48\"/>\n       <use x=\"127.246094\" xlink:href=\"#DejaVuSans-48\"/>\n       <use x=\"190.869141\" xlink:href=\"#DejaVuSans-48\"/>\n      </g>\n     </g>\n    </g>\n    <g id=\"ytick_5\">\n     <g id=\"line2d_11\">\n      <g>\n       <use style=\"stroke:#000000;stroke-width:0.8;\" x=\"59.690625\" xlink:href=\"#m942e2e22c5\" y=\"83.453217\"/>\n      </g>\n     </g>\n     <g id=\"text_12\">\n      <!-- 8000 -->\n      <g transform=\"translate(27.240625 87.252436)scale(0.1 -0.1)\">\n       <defs>\n        <path d=\"M 31.78125 34.625 \nQ 24.75 34.625 20.71875 30.859375 \nQ 16.703125 27.09375 16.703125 20.515625 \nQ 16.703125 13.921875 20.71875 10.15625 \nQ 24.75 6.390625 31.78125 6.390625 \nQ 38.8125 6.390625 42.859375 10.171875 \nQ 46.921875 13.96875 46.921875 20.515625 \nQ 46.921875 27.09375 42.890625 30.859375 \nQ 38.875 34.625 31.78125 34.625 \nz\nM 21.921875 38.8125 \nQ 15.578125 40.375 12.03125 44.71875 \nQ 8.5 49.078125 8.5 55.328125 \nQ 8.5 64.0625 14.71875 69.140625 \nQ 20.953125 74.21875 31.78125 74.21875 \nQ 42.671875 74.21875 48.875 69.140625 \nQ 55.078125 64.0625 55.078125 55.328125 \nQ 55.078125 49.078125 51.53125 44.71875 \nQ 48 40.375 41.703125 38.8125 \nQ 48.828125 37.15625 52.796875 32.3125 \nQ 56.78125 27.484375 56.78125 20.515625 \nQ 56.78125 9.90625 50.3125 4.234375 \nQ 43.84375 -1.421875 31.78125 -1.421875 \nQ 19.734375 -1.421875 13.25 4.234375 \nQ 6.78125 9.90625 6.78125 20.515625 \nQ 6.78125 27.484375 10.78125 32.3125 \nQ 14.796875 37.15625 21.921875 38.8125 \nz\nM 18.3125 54.390625 \nQ 18.3125 48.734375 21.84375 45.5625 \nQ 25.390625 42.390625 31.78125 42.390625 \nQ 38.140625 42.390625 41.71875 45.5625 \nQ 45.3125 48.734375 45.3125 54.390625 \nQ 45.3125 60.0625 41.71875 63.234375 \nQ 38.140625 66.40625 31.78125 66.40625 \nQ 25.390625 66.40625 21.84375 63.234375 \nQ 18.3125 60.0625 18.3125 54.390625 \nz\n\" id=\"DejaVuSans-56\"/>\n       </defs>\n       <use xlink:href=\"#DejaVuSans-56\"/>\n       <use x=\"63.623047\" xlink:href=\"#DejaVuSans-48\"/>\n       <use x=\"127.246094\" xlink:href=\"#DejaVuSans-48\"/>\n       <use x=\"190.869141\" xlink:href=\"#DejaVuSans-48\"/>\n      </g>\n     </g>\n    </g>\n    <g id=\"ytick_6\">\n     <g id=\"line2d_12\">\n      <g>\n       <use style=\"stroke:#000000;stroke-width:0.8;\" x=\"59.690625\" xlink:href=\"#m942e2e22c5\" y=\"48.156521\"/>\n      </g>\n     </g>\n     <g id=\"text_13\">\n      <!-- 10000 -->\n      <g transform=\"translate(20.878125 51.95574)scale(0.1 -0.1)\">\n       <use xlink:href=\"#DejaVuSans-49\"/>\n       <use x=\"63.623047\" xlink:href=\"#DejaVuSans-48\"/>\n       <use x=\"127.246094\" xlink:href=\"#DejaVuSans-48\"/>\n       <use x=\"190.869141\" xlink:href=\"#DejaVuSans-48\"/>\n       <use x=\"254.492188\" xlink:href=\"#DejaVuSans-48\"/>\n      </g>\n     </g>\n    </g>\n    <g id=\"ytick_7\">\n     <g id=\"line2d_13\">\n      <g>\n       <use style=\"stroke:#000000;stroke-width:0.8;\" x=\"59.690625\" xlink:href=\"#m942e2e22c5\" y=\"12.859825\"/>\n      </g>\n     </g>\n     <g id=\"text_14\">\n      <!-- 12000 -->\n      <g transform=\"translate(20.878125 16.659044)scale(0.1 -0.1)\">\n       <use xlink:href=\"#DejaVuSans-49\"/>\n       <use x=\"63.623047\" xlink:href=\"#DejaVuSans-50\"/>\n       <use x=\"127.246094\" xlink:href=\"#DejaVuSans-48\"/>\n       <use x=\"190.869141\" xlink:href=\"#DejaVuSans-48\"/>\n       <use x=\"254.492188\" xlink:href=\"#DejaVuSans-48\"/>\n      </g>\n     </g>\n    </g>\n    <g id=\"text_15\">\n     <!-- patients -->\n     <g transform=\"translate(14.798438 136.317656)rotate(-90)scale(0.1 -0.1)\">\n      <defs>\n       <path d=\"M 18.109375 8.203125 \nL 18.109375 -20.796875 \nL 9.078125 -20.796875 \nL 9.078125 54.6875 \nL 18.109375 54.6875 \nL 18.109375 46.390625 \nQ 20.953125 51.265625 25.265625 53.625 \nQ 29.59375 56 35.59375 56 \nQ 45.5625 56 51.78125 48.09375 \nQ 58.015625 40.1875 58.015625 27.296875 \nQ 58.015625 14.40625 51.78125 6.484375 \nQ 45.5625 -1.421875 35.59375 -1.421875 \nQ 29.59375 -1.421875 25.265625 0.953125 \nQ 20.953125 3.328125 18.109375 8.203125 \nz\nM 48.6875 27.296875 \nQ 48.6875 37.203125 44.609375 42.84375 \nQ 40.53125 48.484375 33.40625 48.484375 \nQ 26.265625 48.484375 22.1875 42.84375 \nQ 18.109375 37.203125 18.109375 27.296875 \nQ 18.109375 17.390625 22.1875 11.75 \nQ 26.265625 6.109375 33.40625 6.109375 \nQ 40.53125 6.109375 44.609375 11.75 \nQ 48.6875 17.390625 48.6875 27.296875 \nz\n\" id=\"DejaVuSans-112\"/>\n       <path d=\"M 34.28125 27.484375 \nQ 23.390625 27.484375 19.1875 25 \nQ 14.984375 22.515625 14.984375 16.5 \nQ 14.984375 11.71875 18.140625 8.90625 \nQ 21.296875 6.109375 26.703125 6.109375 \nQ 34.1875 6.109375 38.703125 11.40625 \nQ 43.21875 16.703125 43.21875 25.484375 \nL 43.21875 27.484375 \nz\nM 52.203125 31.203125 \nL 52.203125 0 \nL 43.21875 0 \nL 43.21875 8.296875 \nQ 40.140625 3.328125 35.546875 0.953125 \nQ 30.953125 -1.421875 24.3125 -1.421875 \nQ 15.921875 -1.421875 10.953125 3.296875 \nQ 6 8.015625 6 15.921875 \nQ 6 25.140625 12.171875 29.828125 \nQ 18.359375 34.515625 30.609375 34.515625 \nL 43.21875 34.515625 \nL 43.21875 35.40625 \nQ 43.21875 41.609375 39.140625 45 \nQ 35.0625 48.390625 27.6875 48.390625 \nQ 23 48.390625 18.546875 47.265625 \nQ 14.109375 46.140625 10.015625 43.890625 \nL 10.015625 52.203125 \nQ 14.9375 54.109375 19.578125 55.046875 \nQ 24.21875 56 28.609375 56 \nQ 40.484375 56 46.34375 49.84375 \nQ 52.203125 43.703125 52.203125 31.203125 \nz\n\" id=\"DejaVuSans-97\"/>\n      </defs>\n      <use xlink:href=\"#DejaVuSans-112\"/>\n      <use x=\"63.476562\" xlink:href=\"#DejaVuSans-97\"/>\n      <use x=\"124.755859\" xlink:href=\"#DejaVuSans-116\"/>\n      <use x=\"163.964844\" xlink:href=\"#DejaVuSans-105\"/>\n      <use x=\"191.748047\" xlink:href=\"#DejaVuSans-101\"/>\n      <use x=\"253.271484\" xlink:href=\"#DejaVuSans-110\"/>\n      <use x=\"316.650391\" xlink:href=\"#DejaVuSans-116\"/>\n      <use x=\"355.859375\" xlink:href=\"#DejaVuSans-115\"/>\n     </g>\n    </g>\n   </g>\n   <g id=\"patch_9\">\n    <path d=\"M 59.690625 224.64 \nL 59.690625 7.2 \n\" style=\"fill:none;stroke:#000000;stroke-linecap:square;stroke-linejoin:miter;stroke-width:0.8;\"/>\n   </g>\n   <g id=\"patch_10\">\n    <path d=\"M 394.490625 224.64 \nL 394.490625 7.2 \n\" style=\"fill:none;stroke:#000000;stroke-linecap:square;stroke-linejoin:miter;stroke-width:0.8;\"/>\n   </g>\n   <g id=\"patch_11\">\n    <path d=\"M 59.690625 224.64 \nL 394.490625 224.64 \n\" style=\"fill:none;stroke:#000000;stroke-linecap:square;stroke-linejoin:miter;stroke-width:0.8;\"/>\n   </g>\n   <g id=\"patch_12\">\n    <path d=\"M 59.690625 7.2 \nL 394.490625 7.2 \n\" style=\"fill:none;stroke:#000000;stroke-linecap:square;stroke-linejoin:miter;stroke-width:0.8;\"/>\n   </g>\n  </g>\n </g>\n <defs>\n  <clipPath id=\"pda84095bdc\">\n   <rect height=\"217.44\" width=\"334.8\" x=\"59.690625\" y=\"7.2\"/>\n  </clipPath>\n </defs>\n</svg>\n",
      "image/png": "[encoded data removed]"
     },
     "metadata": {
      "needs_background": "light"
     }
    }
   ],
   "source": [
    "street_number = df_patient.street_number.fillna(0).dropna().astype(int)\n",
    "street_number[\"number_of_digits\"] = street_number.astype(str).str.len()\n",
    "\n",
    "street_number.number_of_digits.value_counts().sort_index().plot.bar(xlabel=\"digits in street number\", ylabel=\"patients\")\n"
   ]
  },
  {
   "cell_type": "markdown",
   "metadata": {},
   "source": [
    "Il y a quelques patients avec un numéro de rue exceptionnellement élevé (nombre de chiffres >= 5).\n",
    "\n",
    "On analyse les patients correspondant."
   ]
  },
  {
   "cell_type": "code",
   "execution_count": 144,
   "metadata": {},
   "outputs": [
    {
     "output_type": "execute_result",
     "data": {
      "text/plain": "       patient_id  street_number       address_1 phone_number\n7055       869217         342951    taylor place  08 37654995\n10100      278130          10030    galway place  02 26956185\n12440      446997          39430  airey crescent  02 15333991\n16287      955542          11575  arrietta close  03 46121237\n18456      232871          12569  streeton drive  04 25029200",
      "text/html": "<div>\n<style scoped>\n    .dataframe tbody tr th:only-of-type {\n        vertical-align: middle;\n    }\n\n    .dataframe tbody tr th {\n        vertical-align: top;\n    }\n\n    .dataframe thead th {\n        text-align: right;\n    }\n</style>\n<table border=\"1\" class=\"dataframe\">\n  <thead>\n    <tr style=\"text-align: right;\">\n      <th></th>\n      <th>patient_id</th>\n      <th>street_number</th>\n      <th>address_1</th>\n      <th>phone_number</th>\n    </tr>\n  </thead>\n  <tbody>\n    <tr>\n      <th>7055</th>\n      <td>869217</td>\n      <td>342951</td>\n      <td>taylor place</td>\n      <td>08 37654995</td>\n    </tr>\n    <tr>\n      <th>10100</th>\n      <td>278130</td>\n      <td>10030</td>\n      <td>galway place</td>\n      <td>02 26956185</td>\n    </tr>\n    <tr>\n      <th>12440</th>\n      <td>446997</td>\n      <td>39430</td>\n      <td>airey crescent</td>\n      <td>02 15333991</td>\n    </tr>\n    <tr>\n      <th>16287</th>\n      <td>955542</td>\n      <td>11575</td>\n      <td>arrietta close</td>\n      <td>03 46121237</td>\n    </tr>\n    <tr>\n      <th>18456</th>\n      <td>232871</td>\n      <td>12569</td>\n      <td>streeton drive</td>\n      <td>04 25029200</td>\n    </tr>\n  </tbody>\n</table>\n</div>"
     },
     "metadata": {},
     "execution_count": 144
    }
   ],
   "source": [
    "df_patient_with_large_street_number = df_patient.loc[street_number.number_of_digits >= 5]\n",
    "\n",
    "df_patient_with_large_street_number[[\"patient_id\", \"street_number\", \"address_1\", \"phone_number\"]]"
   ]
  },
  {
   "cell_type": "markdown",
   "metadata": {},
   "source": [
    "Les patients ont tous un numéro de téléphone renseigné.\n",
    "\n",
    "On peut donc effectuer un rapprochement par celui-ci afin d'identifier une possible erreur de saisie."
   ]
  },
  {
   "cell_type": "code",
   "execution_count": 145,
   "metadata": {},
   "outputs": [
    {
     "output_type": "execute_result",
     "data": {
      "text/plain": "   patient_id_x  street_number_x   address_1_x phone_number  patient_id_y  \\\n0        869217           342951  taylor place  08 37654995        827975   \n1        869217           342951  taylor place  08 37654995        221789   \n3        869217           342951  taylor place  08 37654995        978087   \n4        278130            10030  galway place  02 26956185        893567   \n6        278130            10030  galway place  02 26956185        813304   \n\n   street_number_y   address_1_y  \n0             3429  taylor place  \n1             3429  taylor place  \n3             3429  taylor place  \n4             1000  galway place  \n6             1000  galway place  ",
      "text/html": "<div>\n<style scoped>\n    .dataframe tbody tr th:only-of-type {\n        vertical-align: middle;\n    }\n\n    .dataframe tbody tr th {\n        vertical-align: top;\n    }\n\n    .dataframe thead th {\n        text-align: right;\n    }\n</style>\n<table border=\"1\" class=\"dataframe\">\n  <thead>\n    <tr style=\"text-align: right;\">\n      <th></th>\n      <th>patient_id_x</th>\n      <th>street_number_x</th>\n      <th>address_1_x</th>\n      <th>phone_number</th>\n      <th>patient_id_y</th>\n      <th>street_number_y</th>\n      <th>address_1_y</th>\n    </tr>\n  </thead>\n  <tbody>\n    <tr>\n      <th>0</th>\n      <td>869217</td>\n      <td>342951</td>\n      <td>taylor place</td>\n      <td>08 37654995</td>\n      <td>827975</td>\n      <td>3429</td>\n      <td>taylor place</td>\n    </tr>\n    <tr>\n      <th>1</th>\n      <td>869217</td>\n      <td>342951</td>\n      <td>taylor place</td>\n      <td>08 37654995</td>\n      <td>221789</td>\n      <td>3429</td>\n      <td>taylor place</td>\n    </tr>\n    <tr>\n      <th>3</th>\n      <td>869217</td>\n      <td>342951</td>\n      <td>taylor place</td>\n      <td>08 37654995</td>\n      <td>978087</td>\n      <td>3429</td>\n      <td>taylor place</td>\n    </tr>\n    <tr>\n      <th>4</th>\n      <td>278130</td>\n      <td>10030</td>\n      <td>galway place</td>\n      <td>02 26956185</td>\n      <td>893567</td>\n      <td>1000</td>\n      <td>galway place</td>\n    </tr>\n    <tr>\n      <th>6</th>\n      <td>278130</td>\n      <td>10030</td>\n      <td>galway place</td>\n      <td>02 26956185</td>\n      <td>813304</td>\n      <td>1000</td>\n      <td>galway place</td>\n    </tr>\n  </tbody>\n</table>\n</div>"
     },
     "metadata": {},
     "execution_count": 145
    }
   ],
   "source": [
    "df = df_patient_with_large_street_number[\n",
    "    [\"patient_id\", \"street_number\", \"address_1\", \"phone_number\"]\n",
    "].merge(\n",
    "    df_patient[[\"patient_id\", \"street_number\", \"address_1\", \"phone_number\"]],\n",
    "    on=\"phone_number\"\n",
    ")\n",
    "df.loc[df.patient_id_x != df.patient_id_y]"
   ]
  },
  {
   "cell_type": "markdown",
   "metadata": {},
   "source": [
    "Le numéro de rue à 6 chiffres est une erreur de saisie (342951 -> 3429).\n",
    "\n",
    "Idem pour l'un des numéro de rue à 5 chiffres (10030 -> 1000)."
   ]
  },
  {
   "cell_type": "markdown",
   "metadata": {},
   "source": [
    "### Adresse"
   ]
  },
  {
   "cell_type": "markdown",
   "metadata": {},
   "source": [
    "#### Taux de remplissage"
   ]
  },
  {
   "cell_type": "code",
   "execution_count": 146,
   "metadata": {},
   "outputs": [
    {
     "output_type": "execute_result",
     "data": {
      "text/plain": "address_1  address_2\nFalse      False        0.02325\n           True         0.01655\nTrue       False        0.58210\n           True         0.37810\ndtype: float64"
     },
     "metadata": {},
     "execution_count": 146
    }
   ],
   "source": [
    "df_patient[[\"address_1\", \"address_2\"]].notna().value_counts(normalize=True).sort_index()"
   ]
  },
  {
   "cell_type": "markdown",
   "metadata": {},
   "source": [
    "- 96% des adresses ont au moins le premier champ d'adresse renseigné\n",
    "- 38% ont les deux champs renseignés"
   ]
  },
  {
   "cell_type": "markdown",
   "metadata": {},
   "source": [
    "#### Fautes de saisie"
   ]
  },
  {
   "cell_type": "markdown",
   "metadata": {},
   "source": [
    "Rapprochement des adresses de patient partageant un même numéro de téléphone."
   ]
  },
  {
   "cell_type": "code",
   "execution_count": 147,
   "metadata": {},
   "outputs": [
    {
     "output_type": "execute_result",
     "data": {
      "text/plain": "      patient_id_x      address_1_x address_2_x phone_number  \\\n4194        210155   mcnicollyplace        <NA>  02 00325977   \n4196        210155   mcnicollyplace        <NA>  02 00325977   \n4192        311830   mcnicoll place        <NA>  02 00325977   \n4198        525466   mcnicoll place        <NA>  02 00325977   \n990         123387   bunurung close        <NA>  02 01272164   \n998         375877   bunurung close        <NA>  02 01272164   \n986         431593   bunurung close        <NA>  02 01272164   \n992         505218  bunurunqaqclose        <NA>  02 01272164   \n993         505218  bunurunqaqclose        <NA>  02 01272164   \n995         505218  bunurunqaqclose        <NA>  02 01272164   \n\n             full_address_x  patient_id_y      address_1_y address_2_y  \\\n4194   mcnicollyplace, <NA>        311830   mcnicoll place        <NA>   \n4196   mcnicollyplace, <NA>        525466   mcnicoll place        <NA>   \n4192   mcnicoll place, <NA>        210155   mcnicollyplace        <NA>   \n4198   mcnicoll place, <NA>        210155   mcnicollyplace        <NA>   \n990    bunurung close, <NA>        505218  bunurunqaqclose        <NA>   \n998    bunurung close, <NA>        505218  bunurunqaqclose        <NA>   \n986    bunurung close, <NA>        505218  bunurunqaqclose        <NA>   \n992   bunurunqaqclose, <NA>        431593   bunurung close        <NA>   \n993   bunurunqaqclose, <NA>        123387   bunurung close        <NA>   \n995   bunurunqaqclose, <NA>        375877   bunurung close        <NA>   \n\n             full_address_y  \n4194   mcnicoll place, <NA>  \n4196   mcnicoll place, <NA>  \n4192   mcnicollyplace, <NA>  \n4198   mcnicollyplace, <NA>  \n990   bunurunqaqclose, <NA>  \n998   bunurunqaqclose, <NA>  \n986   bunurunqaqclose, <NA>  \n992    bunurung close, <NA>  \n993    bunurung close, <NA>  \n995    bunurung close, <NA>  ",
      "text/html": "<div>\n<style scoped>\n    .dataframe tbody tr th:only-of-type {\n        vertical-align: middle;\n    }\n\n    .dataframe tbody tr th {\n        vertical-align: top;\n    }\n\n    .dataframe thead th {\n        text-align: right;\n    }\n</style>\n<table border=\"1\" class=\"dataframe\">\n  <thead>\n    <tr style=\"text-align: right;\">\n      <th></th>\n      <th>patient_id_x</th>\n      <th>address_1_x</th>\n      <th>address_2_x</th>\n      <th>phone_number</th>\n      <th>full_address_x</th>\n      <th>patient_id_y</th>\n      <th>address_1_y</th>\n      <th>address_2_y</th>\n      <th>full_address_y</th>\n    </tr>\n  </thead>\n  <tbody>\n    <tr>\n      <th>4194</th>\n      <td>210155</td>\n      <td>mcnicollyplace</td>\n      <td>&lt;NA&gt;</td>\n      <td>02 00325977</td>\n      <td>mcnicollyplace, &lt;NA&gt;</td>\n      <td>311830</td>\n      <td>mcnicoll place</td>\n      <td>&lt;NA&gt;</td>\n      <td>mcnicoll place, &lt;NA&gt;</td>\n    </tr>\n    <tr>\n      <th>4196</th>\n      <td>210155</td>\n      <td>mcnicollyplace</td>\n      <td>&lt;NA&gt;</td>\n      <td>02 00325977</td>\n      <td>mcnicollyplace, &lt;NA&gt;</td>\n      <td>525466</td>\n      <td>mcnicoll place</td>\n      <td>&lt;NA&gt;</td>\n      <td>mcnicoll place, &lt;NA&gt;</td>\n    </tr>\n    <tr>\n      <th>4192</th>\n      <td>311830</td>\n      <td>mcnicoll place</td>\n      <td>&lt;NA&gt;</td>\n      <td>02 00325977</td>\n      <td>mcnicoll place, &lt;NA&gt;</td>\n      <td>210155</td>\n      <td>mcnicollyplace</td>\n      <td>&lt;NA&gt;</td>\n      <td>mcnicollyplace, &lt;NA&gt;</td>\n    </tr>\n    <tr>\n      <th>4198</th>\n      <td>525466</td>\n      <td>mcnicoll place</td>\n      <td>&lt;NA&gt;</td>\n      <td>02 00325977</td>\n      <td>mcnicoll place, &lt;NA&gt;</td>\n      <td>210155</td>\n      <td>mcnicollyplace</td>\n      <td>&lt;NA&gt;</td>\n      <td>mcnicollyplace, &lt;NA&gt;</td>\n    </tr>\n    <tr>\n      <th>990</th>\n      <td>123387</td>\n      <td>bunurung close</td>\n      <td>&lt;NA&gt;</td>\n      <td>02 01272164</td>\n      <td>bunurung close, &lt;NA&gt;</td>\n      <td>505218</td>\n      <td>bunurunqaqclose</td>\n      <td>&lt;NA&gt;</td>\n      <td>bunurunqaqclose, &lt;NA&gt;</td>\n    </tr>\n    <tr>\n      <th>998</th>\n      <td>375877</td>\n      <td>bunurung close</td>\n      <td>&lt;NA&gt;</td>\n      <td>02 01272164</td>\n      <td>bunurung close, &lt;NA&gt;</td>\n      <td>505218</td>\n      <td>bunurunqaqclose</td>\n      <td>&lt;NA&gt;</td>\n      <td>bunurunqaqclose, &lt;NA&gt;</td>\n    </tr>\n    <tr>\n      <th>986</th>\n      <td>431593</td>\n      <td>bunurung close</td>\n      <td>&lt;NA&gt;</td>\n      <td>02 01272164</td>\n      <td>bunurung close, &lt;NA&gt;</td>\n      <td>505218</td>\n      <td>bunurunqaqclose</td>\n      <td>&lt;NA&gt;</td>\n      <td>bunurunqaqclose, &lt;NA&gt;</td>\n    </tr>\n    <tr>\n      <th>992</th>\n      <td>505218</td>\n      <td>bunurunqaqclose</td>\n      <td>&lt;NA&gt;</td>\n      <td>02 01272164</td>\n      <td>bunurunqaqclose, &lt;NA&gt;</td>\n      <td>431593</td>\n      <td>bunurung close</td>\n      <td>&lt;NA&gt;</td>\n      <td>bunurung close, &lt;NA&gt;</td>\n    </tr>\n    <tr>\n      <th>993</th>\n      <td>505218</td>\n      <td>bunurunqaqclose</td>\n      <td>&lt;NA&gt;</td>\n      <td>02 01272164</td>\n      <td>bunurunqaqclose, &lt;NA&gt;</td>\n      <td>123387</td>\n      <td>bunurung close</td>\n      <td>&lt;NA&gt;</td>\n      <td>bunurung close, &lt;NA&gt;</td>\n    </tr>\n    <tr>\n      <th>995</th>\n      <td>505218</td>\n      <td>bunurunqaqclose</td>\n      <td>&lt;NA&gt;</td>\n      <td>02 01272164</td>\n      <td>bunurunqaqclose, &lt;NA&gt;</td>\n      <td>375877</td>\n      <td>bunurung close</td>\n      <td>&lt;NA&gt;</td>\n      <td>bunurung close, &lt;NA&gt;</td>\n    </tr>\n  </tbody>\n</table>\n</div>"
     },
     "metadata": {},
     "execution_count": 147
    }
   ],
   "source": [
    "address = (\n",
    "    df_patient[[\"patient_id\", \"address_1\", \"address_2\", \"phone_number\"]]\n",
    "        .dropna(subset=[\"phone_number\"])\n",
    "        .fillna(\"<NA>\")\n",
    ")\n",
    "address[\"full_address\"] = address[[\"address_1\", \"address_2\"]].apply(\", \".join, axis=1)\n",
    "address = address.merge(address, on=\"phone_number\")\n",
    "address = address.loc[\n",
    "    (address.patient_id_x != address.patient_id_y) & \\\n",
    "    (address.full_address_x != address.full_address_y)\n",
    "]\n",
    "\n",
    "address.sort_values(by=[\"phone_number\", \"patient_id_x\"]).head(10)"
   ]
  },
  {
   "cell_type": "markdown",
   "metadata": {},
   "source": [
    "Calcul de la distance d'édition."
   ]
  },
  {
   "cell_type": "code",
   "execution_count": 148,
   "metadata": {
    "tags": []
   },
   "outputs": [
    {
     "output_type": "execute_result",
     "data": {
      "text/plain": "<AxesSubplot:>"
     },
     "metadata": {},
     "execution_count": 148
    },
    {
     "output_type": "display_data",
     "data": {
      "text/plain": "<Figure size 432x288 with 1 Axes>",
      "image/svg+xml": "<?xml version=\"1.0\" encoding=\"utf-8\" standalone=\"no\"?>\n<!DOCTYPE svg PUBLIC \"-//W3C//DTD SVG 1.1//EN\"\n  \"http://www.w3.org/Graphics/SVG/1.1/DTD/svg11.dtd\">\n<!-- Created with matplotlib (https://matplotlib.org/) -->\n<svg height=\"251.565pt\" version=\"1.1\" viewBox=\"0 0 375.2875 251.565\" width=\"375.2875pt\" xmlns=\"http://www.w3.org/2000/svg\" xmlns:xlink=\"http://www.w3.org/1999/xlink\">\n <metadata>\n  <rdf:RDF xmlns:cc=\"http://creativecommons.org/ns#\" xmlns:dc=\"http://purl.org/dc/elements/1.1/\" xmlns:rdf=\"http://www.w3.org/1999/02/22-rdf-syntax-ns#\">\n   <cc:Work>\n    <dc:type rdf:resource=\"http://purl.org/dc/dcmitype/StillImage\"/>\n    <dc:date>2020-09-14T17:26:35.922725</dc:date>\n    <dc:format>image/svg+xml</dc:format>\n    <dc:creator>\n     <cc:Agent>\n      <dc:title>Matplotlib v3.3.1, https://matplotlib.org/</dc:title>\n     </cc:Agent>\n    </dc:creator>\n   </cc:Work>\n  </rdf:RDF>\n </metadata>\n <defs>\n  <style type=\"text/css\">*{stroke-linecap:butt;stroke-linejoin:round;}</style>\n </defs>\n <g id=\"figure_1\">\n  <g id=\"patch_1\">\n   <path d=\"M 0 251.565 \nL 375.2875 251.565 \nL 375.2875 0 \nL 0 0 \nz\n\" style=\"fill:none;\"/>\n  </g>\n  <g id=\"axes_1\">\n   <g id=\"patch_2\">\n    <path d=\"M 33.2875 224.64 \nL 368.0875 224.64 \nL 368.0875 7.2 \nL 33.2875 7.2 \nz\n\" style=\"fill:#ffffff;\"/>\n   </g>\n   <g id=\"patch_3\">\n    <path clip-path=\"url(#p713e6a820e)\" d=\"M 35.9875 224.64 \nL 41.3875 224.64 \nL 41.3875 17.554286 \nL 35.9875 17.554286 \nz\n\" style=\"fill:#1f77b4;\"/>\n   </g>\n   <g id=\"patch_4\">\n    <path clip-path=\"url(#p713e6a820e)\" d=\"M 46.7875 224.64 \nL 52.1875 224.64 \nL 52.1875 126.656491 \nL 46.7875 126.656491 \nz\n\" style=\"fill:#1f77b4;\"/>\n   </g>\n   <g id=\"patch_5\">\n    <path clip-path=\"url(#p713e6a820e)\" d=\"M 57.5875 224.64 \nL 62.9875 224.64 \nL 62.9875 214.911141 \nL 57.5875 214.911141 \nz\n\" style=\"fill:#1f77b4;\"/>\n   </g>\n   <g id=\"patch_6\">\n    <path clip-path=\"url(#p713e6a820e)\" d=\"M 68.3875 224.64 \nL 73.7875 224.64 \nL 73.7875 223.250163 \nL 68.3875 223.250163 \nz\n\" style=\"fill:#1f77b4;\"/>\n   </g>\n   <g id=\"patch_7\">\n    <path clip-path=\"url(#p713e6a820e)\" d=\"M 79.1875 224.64 \nL 84.5875 224.64 \nL 84.5875 221.165407 \nL 79.1875 221.165407 \nz\n\" style=\"fill:#1f77b4;\"/>\n   </g>\n   <g id=\"patch_8\">\n    <path clip-path=\"url(#p713e6a820e)\" d=\"M 89.9875 224.64 \nL 95.3875 224.64 \nL 95.3875 221.165407 \nL 89.9875 221.165407 \nz\n\" style=\"fill:#1f77b4;\"/>\n   </g>\n   <g id=\"patch_9\">\n    <path clip-path=\"url(#p713e6a820e)\" d=\"M 100.7875 224.64 \nL 106.1875 224.64 \nL 106.1875 210.74163 \nL 100.7875 210.74163 \nz\n\" style=\"fill:#1f77b4;\"/>\n   </g>\n   <g id=\"patch_10\">\n    <path clip-path=\"url(#p713e6a820e)\" d=\"M 111.5875 224.64 \nL 116.9875 224.64 \nL 116.9875 216.300978 \nL 111.5875 216.300978 \nz\n\" style=\"fill:#1f77b4;\"/>\n   </g>\n   <g id=\"patch_11\">\n    <path clip-path=\"url(#p713e6a820e)\" d=\"M 122.3875 224.64 \nL 127.7875 224.64 \nL 127.7875 204.487363 \nL 122.3875 204.487363 \nz\n\" style=\"fill:#1f77b4;\"/>\n   </g>\n   <g id=\"patch_12\">\n    <path clip-path=\"url(#p713e6a820e)\" d=\"M 133.1875 224.64 \nL 138.5875 224.64 \nL 138.5875 201.707689 \nL 133.1875 201.707689 \nz\n\" style=\"fill:#1f77b4;\"/>\n   </g>\n   <g id=\"patch_13\">\n    <path clip-path=\"url(#p713e6a820e)\" d=\"M 143.9875 224.64 \nL 149.3875 224.64 \nL 149.3875 207.267037 \nL 143.9875 207.267037 \nz\n\" style=\"fill:#1f77b4;\"/>\n   </g>\n   <g id=\"patch_14\">\n    <path clip-path=\"url(#p713e6a820e)\" d=\"M 154.7875 224.64 \nL 160.1875 224.64 \nL 160.1875 203.792445 \nL 154.7875 203.792445 \nz\n\" style=\"fill:#1f77b4;\"/>\n   </g>\n   <g id=\"patch_15\">\n    <path clip-path=\"url(#p713e6a820e)\" d=\"M 165.5875 224.64 \nL 170.9875 224.64 \nL 170.9875 210.74163 \nL 165.5875 210.74163 \nz\n\" style=\"fill:#1f77b4;\"/>\n   </g>\n   <g id=\"patch_16\">\n    <path clip-path=\"url(#p713e6a820e)\" d=\"M 176.3875 224.64 \nL 181.7875 224.64 \nL 181.7875 198.928015 \nL 176.3875 198.928015 \nz\n\" style=\"fill:#1f77b4;\"/>\n   </g>\n   <g id=\"patch_17\">\n    <path clip-path=\"url(#p713e6a820e)\" d=\"M 187.1875 224.64 \nL 192.5875 224.64 \nL 192.5875 216.995896 \nL 187.1875 216.995896 \nz\n\" style=\"fill:#1f77b4;\"/>\n   </g>\n   <g id=\"patch_18\">\n    <path clip-path=\"url(#p713e6a820e)\" d=\"M 197.9875 224.64 \nL 203.3875 224.64 \nL 203.3875 219.080652 \nL 197.9875 219.080652 \nz\n\" style=\"fill:#1f77b4;\"/>\n   </g>\n   <g id=\"patch_19\">\n    <path clip-path=\"url(#p713e6a820e)\" d=\"M 208.7875 224.64 \nL 214.1875 224.64 \nL 214.1875 219.77557 \nL 208.7875 219.77557 \nz\n\" style=\"fill:#1f77b4;\"/>\n   </g>\n   <g id=\"patch_20\">\n    <path clip-path=\"url(#p713e6a820e)\" d=\"M 219.5875 224.64 \nL 224.9875 224.64 \nL 224.9875 219.080652 \nL 219.5875 219.080652 \nz\n\" style=\"fill:#1f77b4;\"/>\n   </g>\n   <g id=\"patch_21\">\n    <path clip-path=\"url(#p713e6a820e)\" d=\"M 230.3875 224.64 \nL 235.7875 224.64 \nL 235.7875 223.250163 \nL 230.3875 223.250163 \nz\n\" style=\"fill:#1f77b4;\"/>\n   </g>\n   <g id=\"patch_22\">\n    <path clip-path=\"url(#p713e6a820e)\" d=\"M 241.1875 224.64 \nL 246.5875 224.64 \nL 246.5875 214.216222 \nL 241.1875 214.216222 \nz\n\" style=\"fill:#1f77b4;\"/>\n   </g>\n   <g id=\"patch_23\">\n    <path clip-path=\"url(#p713e6a820e)\" d=\"M 251.9875 224.64 \nL 257.3875 224.64 \nL 257.3875 220.470489 \nL 251.9875 220.470489 \nz\n\" style=\"fill:#1f77b4;\"/>\n   </g>\n   <g id=\"patch_24\">\n    <path clip-path=\"url(#p713e6a820e)\" d=\"M 262.7875 224.64 \nL 268.1875 224.64 \nL 268.1875 217.690815 \nL 262.7875 217.690815 \nz\n\" style=\"fill:#1f77b4;\"/>\n   </g>\n   <g id=\"patch_25\">\n    <path clip-path=\"url(#p713e6a820e)\" d=\"M 273.5875 224.64 \nL 278.9875 224.64 \nL 278.9875 223.250163 \nL 273.5875 223.250163 \nz\n\" style=\"fill:#1f77b4;\"/>\n   </g>\n   <g id=\"patch_26\">\n    <path clip-path=\"url(#p713e6a820e)\" d=\"M 284.3875 224.64 \nL 289.7875 224.64 \nL 289.7875 221.165407 \nL 284.3875 221.165407 \nz\n\" style=\"fill:#1f77b4;\"/>\n   </g>\n   <g id=\"patch_27\">\n    <path clip-path=\"url(#p713e6a820e)\" d=\"M 295.1875 224.64 \nL 300.5875 224.64 \nL 300.5875 221.860326 \nL 295.1875 221.860326 \nz\n\" style=\"fill:#1f77b4;\"/>\n   </g>\n   <g id=\"patch_28\">\n    <path clip-path=\"url(#p713e6a820e)\" d=\"M 305.9875 224.64 \nL 311.3875 224.64 \nL 311.3875 223.945081 \nL 305.9875 223.945081 \nz\n\" style=\"fill:#1f77b4;\"/>\n   </g>\n   <g id=\"patch_29\">\n    <path clip-path=\"url(#p713e6a820e)\" d=\"M 316.7875 224.64 \nL 322.1875 224.64 \nL 322.1875 223.250163 \nL 316.7875 223.250163 \nz\n\" style=\"fill:#1f77b4;\"/>\n   </g>\n   <g id=\"patch_30\">\n    <path clip-path=\"url(#p713e6a820e)\" d=\"M 327.5875 224.64 \nL 332.9875 224.64 \nL 332.9875 223.945081 \nL 327.5875 223.945081 \nz\n\" style=\"fill:#1f77b4;\"/>\n   </g>\n   <g id=\"patch_31\">\n    <path clip-path=\"url(#p713e6a820e)\" d=\"M 338.3875 224.64 \nL 343.7875 224.64 \nL 343.7875 223.945081 \nL 338.3875 223.945081 \nz\n\" style=\"fill:#1f77b4;\"/>\n   </g>\n   <g id=\"patch_32\">\n    <path clip-path=\"url(#p713e6a820e)\" d=\"M 349.1875 224.64 \nL 354.5875 224.64 \nL 354.5875 222.555244 \nL 349.1875 222.555244 \nz\n\" style=\"fill:#1f77b4;\"/>\n   </g>\n   <g id=\"patch_33\">\n    <path clip-path=\"url(#p713e6a820e)\" d=\"M 359.9875 224.64 \nL 365.3875 224.64 \nL 365.3875 223.250163 \nL 359.9875 223.250163 \nz\n\" style=\"fill:#1f77b4;\"/>\n   </g>\n   <g id=\"matplotlib.axis_1\">\n    <g id=\"xtick_1\">\n     <g id=\"line2d_1\">\n      <defs>\n       <path d=\"M 0 0 \nL 0 3.5 \n\" id=\"mebdd59b346\" style=\"stroke:#000000;stroke-width:0.8;\"/>\n      </defs>\n      <g>\n       <use style=\"stroke:#000000;stroke-width:0.8;\" x=\"38.6875\" xlink:href=\"#mebdd59b346\" y=\"224.64\"/>\n      </g>\n     </g>\n     <g id=\"text_1\">\n      <!-- 1 -->\n      <g transform=\"translate(41.446875 238.0025)rotate(-90)scale(0.1 -0.1)\">\n       <defs>\n        <path d=\"M 12.40625 8.296875 \nL 28.515625 8.296875 \nL 28.515625 63.921875 \nL 10.984375 60.40625 \nL 10.984375 69.390625 \nL 28.421875 72.90625 \nL 38.28125 72.90625 \nL 38.28125 8.296875 \nL 54.390625 8.296875 \nL 54.390625 0 \nL 12.40625 0 \nz\n\" id=\"DejaVuSans-49\"/>\n       </defs>\n       <use xlink:href=\"#DejaVuSans-49\"/>\n      </g>\n     </g>\n    </g>\n    <g id=\"xtick_2\">\n     <g id=\"line2d_2\">\n      <g>\n       <use style=\"stroke:#000000;stroke-width:0.8;\" x=\"49.4875\" xlink:href=\"#mebdd59b346\" y=\"224.64\"/>\n      </g>\n     </g>\n     <g id=\"text_2\">\n      <!-- 2 -->\n      <g transform=\"translate(52.246875 238.0025)rotate(-90)scale(0.1 -0.1)\">\n       <defs>\n        <path d=\"M 19.1875 8.296875 \nL 53.609375 8.296875 \nL 53.609375 0 \nL 7.328125 0 \nL 7.328125 8.296875 \nQ 12.9375 14.109375 22.625 23.890625 \nQ 32.328125 33.6875 34.8125 36.53125 \nQ 39.546875 41.84375 41.421875 45.53125 \nQ 43.3125 49.21875 43.3125 52.78125 \nQ 43.3125 58.59375 39.234375 62.25 \nQ 35.15625 65.921875 28.609375 65.921875 \nQ 23.96875 65.921875 18.8125 64.3125 \nQ 13.671875 62.703125 7.8125 59.421875 \nL 7.8125 69.390625 \nQ 13.765625 71.78125 18.9375 73 \nQ 24.125 74.21875 28.421875 74.21875 \nQ 39.75 74.21875 46.484375 68.546875 \nQ 53.21875 62.890625 53.21875 53.421875 \nQ 53.21875 48.921875 51.53125 44.890625 \nQ 49.859375 40.875 45.40625 35.40625 \nQ 44.1875 33.984375 37.640625 27.21875 \nQ 31.109375 20.453125 19.1875 8.296875 \nz\n\" id=\"DejaVuSans-50\"/>\n       </defs>\n       <use xlink:href=\"#DejaVuSans-50\"/>\n      </g>\n     </g>\n    </g>\n    <g id=\"xtick_3\">\n     <g id=\"line2d_3\">\n      <g>\n       <use style=\"stroke:#000000;stroke-width:0.8;\" x=\"60.2875\" xlink:href=\"#mebdd59b346\" y=\"224.64\"/>\n      </g>\n     </g>\n     <g id=\"text_3\">\n      <!-- 3 -->\n      <g transform=\"translate(63.046875 238.0025)rotate(-90)scale(0.1 -0.1)\">\n       <defs>\n        <path d=\"M 40.578125 39.3125 \nQ 47.65625 37.796875 51.625 33 \nQ 55.609375 28.21875 55.609375 21.1875 \nQ 55.609375 10.40625 48.1875 4.484375 \nQ 40.765625 -1.421875 27.09375 -1.421875 \nQ 22.515625 -1.421875 17.65625 -0.515625 \nQ 12.796875 0.390625 7.625 2.203125 \nL 7.625 11.71875 \nQ 11.71875 9.328125 16.59375 8.109375 \nQ 21.484375 6.890625 26.8125 6.890625 \nQ 36.078125 6.890625 40.9375 10.546875 \nQ 45.796875 14.203125 45.796875 21.1875 \nQ 45.796875 27.640625 41.28125 31.265625 \nQ 36.765625 34.90625 28.71875 34.90625 \nL 20.21875 34.90625 \nL 20.21875 43.015625 \nL 29.109375 43.015625 \nQ 36.375 43.015625 40.234375 45.921875 \nQ 44.09375 48.828125 44.09375 54.296875 \nQ 44.09375 59.90625 40.109375 62.90625 \nQ 36.140625 65.921875 28.71875 65.921875 \nQ 24.65625 65.921875 20.015625 65.03125 \nQ 15.375 64.15625 9.8125 62.3125 \nL 9.8125 71.09375 \nQ 15.4375 72.65625 20.34375 73.4375 \nQ 25.25 74.21875 29.59375 74.21875 \nQ 40.828125 74.21875 47.359375 69.109375 \nQ 53.90625 64.015625 53.90625 55.328125 \nQ 53.90625 49.265625 50.4375 45.09375 \nQ 46.96875 40.921875 40.578125 39.3125 \nz\n\" id=\"DejaVuSans-51\"/>\n       </defs>\n       <use xlink:href=\"#DejaVuSans-51\"/>\n      </g>\n     </g>\n    </g>\n    <g id=\"xtick_4\">\n     <g id=\"line2d_4\">\n      <g>\n       <use style=\"stroke:#000000;stroke-width:0.8;\" x=\"71.0875\" xlink:href=\"#mebdd59b346\" y=\"224.64\"/>\n      </g>\n     </g>\n     <g id=\"text_4\">\n      <!-- 4 -->\n      <g transform=\"translate(73.846875 238.0025)rotate(-90)scale(0.1 -0.1)\">\n       <defs>\n        <path d=\"M 37.796875 64.3125 \nL 12.890625 25.390625 \nL 37.796875 25.390625 \nz\nM 35.203125 72.90625 \nL 47.609375 72.90625 \nL 47.609375 25.390625 \nL 58.015625 25.390625 \nL 58.015625 17.1875 \nL 47.609375 17.1875 \nL 47.609375 0 \nL 37.796875 0 \nL 37.796875 17.1875 \nL 4.890625 17.1875 \nL 4.890625 26.703125 \nz\n\" id=\"DejaVuSans-52\"/>\n       </defs>\n       <use xlink:href=\"#DejaVuSans-52\"/>\n      </g>\n     </g>\n    </g>\n    <g id=\"xtick_5\">\n     <g id=\"line2d_5\">\n      <g>\n       <use style=\"stroke:#000000;stroke-width:0.8;\" x=\"81.8875\" xlink:href=\"#mebdd59b346\" y=\"224.64\"/>\n      </g>\n     </g>\n     <g id=\"text_5\">\n      <!-- 5 -->\n      <g transform=\"translate(84.646875 238.0025)rotate(-90)scale(0.1 -0.1)\">\n       <defs>\n        <path d=\"M 10.796875 72.90625 \nL 49.515625 72.90625 \nL 49.515625 64.59375 \nL 19.828125 64.59375 \nL 19.828125 46.734375 \nQ 21.96875 47.46875 24.109375 47.828125 \nQ 26.265625 48.1875 28.421875 48.1875 \nQ 40.625 48.1875 47.75 41.5 \nQ 54.890625 34.8125 54.890625 23.390625 \nQ 54.890625 11.625 47.5625 5.09375 \nQ 40.234375 -1.421875 26.90625 -1.421875 \nQ 22.3125 -1.421875 17.546875 -0.640625 \nQ 12.796875 0.140625 7.71875 1.703125 \nL 7.71875 11.625 \nQ 12.109375 9.234375 16.796875 8.0625 \nQ 21.484375 6.890625 26.703125 6.890625 \nQ 35.15625 6.890625 40.078125 11.328125 \nQ 45.015625 15.765625 45.015625 23.390625 \nQ 45.015625 31 40.078125 35.4375 \nQ 35.15625 39.890625 26.703125 39.890625 \nQ 22.75 39.890625 18.8125 39.015625 \nQ 14.890625 38.140625 10.796875 36.28125 \nz\n\" id=\"DejaVuSans-53\"/>\n       </defs>\n       <use xlink:href=\"#DejaVuSans-53\"/>\n      </g>\n     </g>\n    </g>\n    <g id=\"xtick_6\">\n     <g id=\"line2d_6\">\n      <g>\n       <use style=\"stroke:#000000;stroke-width:0.8;\" x=\"92.6875\" xlink:href=\"#mebdd59b346\" y=\"224.64\"/>\n      </g>\n     </g>\n     <g id=\"text_6\">\n      <!-- 6 -->\n      <g transform=\"translate(95.446875 238.0025)rotate(-90)scale(0.1 -0.1)\">\n       <defs>\n        <path d=\"M 33.015625 40.375 \nQ 26.375 40.375 22.484375 35.828125 \nQ 18.609375 31.296875 18.609375 23.390625 \nQ 18.609375 15.53125 22.484375 10.953125 \nQ 26.375 6.390625 33.015625 6.390625 \nQ 39.65625 6.390625 43.53125 10.953125 \nQ 47.40625 15.53125 47.40625 23.390625 \nQ 47.40625 31.296875 43.53125 35.828125 \nQ 39.65625 40.375 33.015625 40.375 \nz\nM 52.59375 71.296875 \nL 52.59375 62.3125 \nQ 48.875 64.0625 45.09375 64.984375 \nQ 41.3125 65.921875 37.59375 65.921875 \nQ 27.828125 65.921875 22.671875 59.328125 \nQ 17.53125 52.734375 16.796875 39.40625 \nQ 19.671875 43.65625 24.015625 45.921875 \nQ 28.375 48.1875 33.59375 48.1875 \nQ 44.578125 48.1875 50.953125 41.515625 \nQ 57.328125 34.859375 57.328125 23.390625 \nQ 57.328125 12.15625 50.6875 5.359375 \nQ 44.046875 -1.421875 33.015625 -1.421875 \nQ 20.359375 -1.421875 13.671875 8.265625 \nQ 6.984375 17.96875 6.984375 36.375 \nQ 6.984375 53.65625 15.1875 63.9375 \nQ 23.390625 74.21875 37.203125 74.21875 \nQ 40.921875 74.21875 44.703125 73.484375 \nQ 48.484375 72.75 52.59375 71.296875 \nz\n\" id=\"DejaVuSans-54\"/>\n       </defs>\n       <use xlink:href=\"#DejaVuSans-54\"/>\n      </g>\n     </g>\n    </g>\n    <g id=\"xtick_7\">\n     <g id=\"line2d_7\">\n      <g>\n       <use style=\"stroke:#000000;stroke-width:0.8;\" x=\"103.4875\" xlink:href=\"#mebdd59b346\" y=\"224.64\"/>\n      </g>\n     </g>\n     <g id=\"text_7\">\n      <!-- 7 -->\n      <g transform=\"translate(106.246875 238.0025)rotate(-90)scale(0.1 -0.1)\">\n       <defs>\n        <path d=\"M 8.203125 72.90625 \nL 55.078125 72.90625 \nL 55.078125 68.703125 \nL 28.609375 0 \nL 18.3125 0 \nL 43.21875 64.59375 \nL 8.203125 64.59375 \nz\n\" id=\"DejaVuSans-55\"/>\n       </defs>\n       <use xlink:href=\"#DejaVuSans-55\"/>\n      </g>\n     </g>\n    </g>\n    <g id=\"xtick_8\">\n     <g id=\"line2d_8\">\n      <g>\n       <use style=\"stroke:#000000;stroke-width:0.8;\" x=\"114.2875\" xlink:href=\"#mebdd59b346\" y=\"224.64\"/>\n      </g>\n     </g>\n     <g id=\"text_8\">\n      <!-- 8 -->\n      <g transform=\"translate(117.046875 238.0025)rotate(-90)scale(0.1 -0.1)\">\n       <defs>\n        <path d=\"M 31.78125 34.625 \nQ 24.75 34.625 20.71875 30.859375 \nQ 16.703125 27.09375 16.703125 20.515625 \nQ 16.703125 13.921875 20.71875 10.15625 \nQ 24.75 6.390625 31.78125 6.390625 \nQ 38.8125 6.390625 42.859375 10.171875 \nQ 46.921875 13.96875 46.921875 20.515625 \nQ 46.921875 27.09375 42.890625 30.859375 \nQ 38.875 34.625 31.78125 34.625 \nz\nM 21.921875 38.8125 \nQ 15.578125 40.375 12.03125 44.71875 \nQ 8.5 49.078125 8.5 55.328125 \nQ 8.5 64.0625 14.71875 69.140625 \nQ 20.953125 74.21875 31.78125 74.21875 \nQ 42.671875 74.21875 48.875 69.140625 \nQ 55.078125 64.0625 55.078125 55.328125 \nQ 55.078125 49.078125 51.53125 44.71875 \nQ 48 40.375 41.703125 38.8125 \nQ 48.828125 37.15625 52.796875 32.3125 \nQ 56.78125 27.484375 56.78125 20.515625 \nQ 56.78125 9.90625 50.3125 4.234375 \nQ 43.84375 -1.421875 31.78125 -1.421875 \nQ 19.734375 -1.421875 13.25 4.234375 \nQ 6.78125 9.90625 6.78125 20.515625 \nQ 6.78125 27.484375 10.78125 32.3125 \nQ 14.796875 37.15625 21.921875 38.8125 \nz\nM 18.3125 54.390625 \nQ 18.3125 48.734375 21.84375 45.5625 \nQ 25.390625 42.390625 31.78125 42.390625 \nQ 38.140625 42.390625 41.71875 45.5625 \nQ 45.3125 48.734375 45.3125 54.390625 \nQ 45.3125 60.0625 41.71875 63.234375 \nQ 38.140625 66.40625 31.78125 66.40625 \nQ 25.390625 66.40625 21.84375 63.234375 \nQ 18.3125 60.0625 18.3125 54.390625 \nz\n\" id=\"DejaVuSans-56\"/>\n       </defs>\n       <use xlink:href=\"#DejaVuSans-56\"/>\n      </g>\n     </g>\n    </g>\n    <g id=\"xtick_9\">\n     <g id=\"line2d_9\">\n      <g>\n       <use style=\"stroke:#000000;stroke-width:0.8;\" x=\"125.0875\" xlink:href=\"#mebdd59b346\" y=\"224.64\"/>\n      </g>\n     </g>\n     <g id=\"text_9\">\n      <!-- 9 -->\n      <g transform=\"translate(127.846875 238.0025)rotate(-90)scale(0.1 -0.1)\">\n       <defs>\n        <path d=\"M 10.984375 1.515625 \nL 10.984375 10.5 \nQ 14.703125 8.734375 18.5 7.8125 \nQ 22.3125 6.890625 25.984375 6.890625 \nQ 35.75 6.890625 40.890625 13.453125 \nQ 46.046875 20.015625 46.78125 33.40625 \nQ 43.953125 29.203125 39.59375 26.953125 \nQ 35.25 24.703125 29.984375 24.703125 \nQ 19.046875 24.703125 12.671875 31.3125 \nQ 6.296875 37.9375 6.296875 49.421875 \nQ 6.296875 60.640625 12.9375 67.421875 \nQ 19.578125 74.21875 30.609375 74.21875 \nQ 43.265625 74.21875 49.921875 64.515625 \nQ 56.59375 54.828125 56.59375 36.375 \nQ 56.59375 19.140625 48.40625 8.859375 \nQ 40.234375 -1.421875 26.421875 -1.421875 \nQ 22.703125 -1.421875 18.890625 -0.6875 \nQ 15.09375 0.046875 10.984375 1.515625 \nz\nM 30.609375 32.421875 \nQ 37.25 32.421875 41.125 36.953125 \nQ 45.015625 41.5 45.015625 49.421875 \nQ 45.015625 57.28125 41.125 61.84375 \nQ 37.25 66.40625 30.609375 66.40625 \nQ 23.96875 66.40625 20.09375 61.84375 \nQ 16.21875 57.28125 16.21875 49.421875 \nQ 16.21875 41.5 20.09375 36.953125 \nQ 23.96875 32.421875 30.609375 32.421875 \nz\n\" id=\"DejaVuSans-57\"/>\n       </defs>\n       <use xlink:href=\"#DejaVuSans-57\"/>\n      </g>\n     </g>\n    </g>\n    <g id=\"xtick_10\">\n     <g id=\"line2d_10\">\n      <g>\n       <use style=\"stroke:#000000;stroke-width:0.8;\" x=\"135.8875\" xlink:href=\"#mebdd59b346\" y=\"224.64\"/>\n      </g>\n     </g>\n     <g id=\"text_10\">\n      <!-- 10 -->\n      <g transform=\"translate(138.646875 244.365)rotate(-90)scale(0.1 -0.1)\">\n       <defs>\n        <path d=\"M 31.78125 66.40625 \nQ 24.171875 66.40625 20.328125 58.90625 \nQ 16.5 51.421875 16.5 36.375 \nQ 16.5 21.390625 20.328125 13.890625 \nQ 24.171875 6.390625 31.78125 6.390625 \nQ 39.453125 6.390625 43.28125 13.890625 \nQ 47.125 21.390625 47.125 36.375 \nQ 47.125 51.421875 43.28125 58.90625 \nQ 39.453125 66.40625 31.78125 66.40625 \nz\nM 31.78125 74.21875 \nQ 44.046875 74.21875 50.515625 64.515625 \nQ 56.984375 54.828125 56.984375 36.375 \nQ 56.984375 17.96875 50.515625 8.265625 \nQ 44.046875 -1.421875 31.78125 -1.421875 \nQ 19.53125 -1.421875 13.0625 8.265625 \nQ 6.59375 17.96875 6.59375 36.375 \nQ 6.59375 54.828125 13.0625 64.515625 \nQ 19.53125 74.21875 31.78125 74.21875 \nz\n\" id=\"DejaVuSans-48\"/>\n       </defs>\n       <use xlink:href=\"#DejaVuSans-49\"/>\n       <use x=\"63.623047\" xlink:href=\"#DejaVuSans-48\"/>\n      </g>\n     </g>\n    </g>\n    <g id=\"xtick_11\">\n     <g id=\"line2d_11\">\n      <g>\n       <use style=\"stroke:#000000;stroke-width:0.8;\" x=\"146.6875\" xlink:href=\"#mebdd59b346\" y=\"224.64\"/>\n      </g>\n     </g>\n     <g id=\"text_11\">\n      <!-- 11 -->\n      <g transform=\"translate(149.446875 244.365)rotate(-90)scale(0.1 -0.1)\">\n       <use xlink:href=\"#DejaVuSans-49\"/>\n       <use x=\"63.623047\" xlink:href=\"#DejaVuSans-49\"/>\n      </g>\n     </g>\n    </g>\n    <g id=\"xtick_12\">\n     <g id=\"line2d_12\">\n      <g>\n       <use style=\"stroke:#000000;stroke-width:0.8;\" x=\"157.4875\" xlink:href=\"#mebdd59b346\" y=\"224.64\"/>\n      </g>\n     </g>\n     <g id=\"text_12\">\n      <!-- 12 -->\n      <g transform=\"translate(160.246875 244.365)rotate(-90)scale(0.1 -0.1)\">\n       <use xlink:href=\"#DejaVuSans-49\"/>\n       <use x=\"63.623047\" xlink:href=\"#DejaVuSans-50\"/>\n      </g>\n     </g>\n    </g>\n    <g id=\"xtick_13\">\n     <g id=\"line2d_13\">\n      <g>\n       <use style=\"stroke:#000000;stroke-width:0.8;\" x=\"168.2875\" xlink:href=\"#mebdd59b346\" y=\"224.64\"/>\n      </g>\n     </g>\n     <g id=\"text_13\">\n      <!-- 13 -->\n      <g transform=\"translate(171.046875 244.365)rotate(-90)scale(0.1 -0.1)\">\n       <use xlink:href=\"#DejaVuSans-49\"/>\n       <use x=\"63.623047\" xlink:href=\"#DejaVuSans-51\"/>\n      </g>\n     </g>\n    </g>\n    <g id=\"xtick_14\">\n     <g id=\"line2d_14\">\n      <g>\n       <use style=\"stroke:#000000;stroke-width:0.8;\" x=\"179.0875\" xlink:href=\"#mebdd59b346\" y=\"224.64\"/>\n      </g>\n     </g>\n     <g id=\"text_14\">\n      <!-- 14 -->\n      <g transform=\"translate(181.846875 244.365)rotate(-90)scale(0.1 -0.1)\">\n       <use xlink:href=\"#DejaVuSans-49\"/>\n       <use x=\"63.623047\" xlink:href=\"#DejaVuSans-52\"/>\n      </g>\n     </g>\n    </g>\n    <g id=\"xtick_15\">\n     <g id=\"line2d_15\">\n      <g>\n       <use style=\"stroke:#000000;stroke-width:0.8;\" x=\"189.8875\" xlink:href=\"#mebdd59b346\" y=\"224.64\"/>\n      </g>\n     </g>\n     <g id=\"text_15\">\n      <!-- 15 -->\n      <g transform=\"translate(192.646875 244.365)rotate(-90)scale(0.1 -0.1)\">\n       <use xlink:href=\"#DejaVuSans-49\"/>\n       <use x=\"63.623047\" xlink:href=\"#DejaVuSans-53\"/>\n      </g>\n     </g>\n    </g>\n    <g id=\"xtick_16\">\n     <g id=\"line2d_16\">\n      <g>\n       <use style=\"stroke:#000000;stroke-width:0.8;\" x=\"200.6875\" xlink:href=\"#mebdd59b346\" y=\"224.64\"/>\n      </g>\n     </g>\n     <g id=\"text_16\">\n      <!-- 16 -->\n      <g transform=\"translate(203.446875 244.365)rotate(-90)scale(0.1 -0.1)\">\n       <use xlink:href=\"#DejaVuSans-49\"/>\n       <use x=\"63.623047\" xlink:href=\"#DejaVuSans-54\"/>\n      </g>\n     </g>\n    </g>\n    <g id=\"xtick_17\">\n     <g id=\"line2d_17\">\n      <g>\n       <use style=\"stroke:#000000;stroke-width:0.8;\" x=\"211.4875\" xlink:href=\"#mebdd59b346\" y=\"224.64\"/>\n      </g>\n     </g>\n     <g id=\"text_17\">\n      <!-- 17 -->\n      <g transform=\"translate(214.246875 244.365)rotate(-90)scale(0.1 -0.1)\">\n       <use xlink:href=\"#DejaVuSans-49\"/>\n       <use x=\"63.623047\" xlink:href=\"#DejaVuSans-55\"/>\n      </g>\n     </g>\n    </g>\n    <g id=\"xtick_18\">\n     <g id=\"line2d_18\">\n      <g>\n       <use style=\"stroke:#000000;stroke-width:0.8;\" x=\"222.2875\" xlink:href=\"#mebdd59b346\" y=\"224.64\"/>\n      </g>\n     </g>\n     <g id=\"text_18\">\n      <!-- 18 -->\n      <g transform=\"translate(225.046875 244.365)rotate(-90)scale(0.1 -0.1)\">\n       <use xlink:href=\"#DejaVuSans-49\"/>\n       <use x=\"63.623047\" xlink:href=\"#DejaVuSans-56\"/>\n      </g>\n     </g>\n    </g>\n    <g id=\"xtick_19\">\n     <g id=\"line2d_19\">\n      <g>\n       <use style=\"stroke:#000000;stroke-width:0.8;\" x=\"233.0875\" xlink:href=\"#mebdd59b346\" y=\"224.64\"/>\n      </g>\n     </g>\n     <g id=\"text_19\">\n      <!-- 19 -->\n      <g transform=\"translate(235.846875 244.365)rotate(-90)scale(0.1 -0.1)\">\n       <use xlink:href=\"#DejaVuSans-49\"/>\n       <use x=\"63.623047\" xlink:href=\"#DejaVuSans-57\"/>\n      </g>\n     </g>\n    </g>\n    <g id=\"xtick_20\">\n     <g id=\"line2d_20\">\n      <g>\n       <use style=\"stroke:#000000;stroke-width:0.8;\" x=\"243.8875\" xlink:href=\"#mebdd59b346\" y=\"224.64\"/>\n      </g>\n     </g>\n     <g id=\"text_20\">\n      <!-- 20 -->\n      <g transform=\"translate(246.646875 244.365)rotate(-90)scale(0.1 -0.1)\">\n       <use xlink:href=\"#DejaVuSans-50\"/>\n       <use x=\"63.623047\" xlink:href=\"#DejaVuSans-48\"/>\n      </g>\n     </g>\n    </g>\n    <g id=\"xtick_21\">\n     <g id=\"line2d_21\">\n      <g>\n       <use style=\"stroke:#000000;stroke-width:0.8;\" x=\"254.6875\" xlink:href=\"#mebdd59b346\" y=\"224.64\"/>\n      </g>\n     </g>\n     <g id=\"text_21\">\n      <!-- 21 -->\n      <g transform=\"translate(257.446875 244.365)rotate(-90)scale(0.1 -0.1)\">\n       <use xlink:href=\"#DejaVuSans-50\"/>\n       <use x=\"63.623047\" xlink:href=\"#DejaVuSans-49\"/>\n      </g>\n     </g>\n    </g>\n    <g id=\"xtick_22\">\n     <g id=\"line2d_22\">\n      <g>\n       <use style=\"stroke:#000000;stroke-width:0.8;\" x=\"265.4875\" xlink:href=\"#mebdd59b346\" y=\"224.64\"/>\n      </g>\n     </g>\n     <g id=\"text_22\">\n      <!-- 22 -->\n      <g transform=\"translate(268.246875 244.365)rotate(-90)scale(0.1 -0.1)\">\n       <use xlink:href=\"#DejaVuSans-50\"/>\n       <use x=\"63.623047\" xlink:href=\"#DejaVuSans-50\"/>\n      </g>\n     </g>\n    </g>\n    <g id=\"xtick_23\">\n     <g id=\"line2d_23\">\n      <g>\n       <use style=\"stroke:#000000;stroke-width:0.8;\" x=\"276.2875\" xlink:href=\"#mebdd59b346\" y=\"224.64\"/>\n      </g>\n     </g>\n     <g id=\"text_23\">\n      <!-- 23 -->\n      <g transform=\"translate(279.046875 244.365)rotate(-90)scale(0.1 -0.1)\">\n       <use xlink:href=\"#DejaVuSans-50\"/>\n       <use x=\"63.623047\" xlink:href=\"#DejaVuSans-51\"/>\n      </g>\n     </g>\n    </g>\n    <g id=\"xtick_24\">\n     <g id=\"line2d_24\">\n      <g>\n       <use style=\"stroke:#000000;stroke-width:0.8;\" x=\"287.0875\" xlink:href=\"#mebdd59b346\" y=\"224.64\"/>\n      </g>\n     </g>\n     <g id=\"text_24\">\n      <!-- 24 -->\n      <g transform=\"translate(289.846875 244.365)rotate(-90)scale(0.1 -0.1)\">\n       <use xlink:href=\"#DejaVuSans-50\"/>\n       <use x=\"63.623047\" xlink:href=\"#DejaVuSans-52\"/>\n      </g>\n     </g>\n    </g>\n    <g id=\"xtick_25\">\n     <g id=\"line2d_25\">\n      <g>\n       <use style=\"stroke:#000000;stroke-width:0.8;\" x=\"297.8875\" xlink:href=\"#mebdd59b346\" y=\"224.64\"/>\n      </g>\n     </g>\n     <g id=\"text_25\">\n      <!-- 25 -->\n      <g transform=\"translate(300.646875 244.365)rotate(-90)scale(0.1 -0.1)\">\n       <use xlink:href=\"#DejaVuSans-50\"/>\n       <use x=\"63.623047\" xlink:href=\"#DejaVuSans-53\"/>\n      </g>\n     </g>\n    </g>\n    <g id=\"xtick_26\">\n     <g id=\"line2d_26\">\n      <g>\n       <use style=\"stroke:#000000;stroke-width:0.8;\" x=\"308.6875\" xlink:href=\"#mebdd59b346\" y=\"224.64\"/>\n      </g>\n     </g>\n     <g id=\"text_26\">\n      <!-- 27 -->\n      <g transform=\"translate(311.446875 244.365)rotate(-90)scale(0.1 -0.1)\">\n       <use xlink:href=\"#DejaVuSans-50\"/>\n       <use x=\"63.623047\" xlink:href=\"#DejaVuSans-55\"/>\n      </g>\n     </g>\n    </g>\n    <g id=\"xtick_27\">\n     <g id=\"line2d_27\">\n      <g>\n       <use style=\"stroke:#000000;stroke-width:0.8;\" x=\"319.4875\" xlink:href=\"#mebdd59b346\" y=\"224.64\"/>\n      </g>\n     </g>\n     <g id=\"text_27\">\n      <!-- 29 -->\n      <g transform=\"translate(322.246875 244.365)rotate(-90)scale(0.1 -0.1)\">\n       <use xlink:href=\"#DejaVuSans-50\"/>\n       <use x=\"63.623047\" xlink:href=\"#DejaVuSans-57\"/>\n      </g>\n     </g>\n    </g>\n    <g id=\"xtick_28\">\n     <g id=\"line2d_28\">\n      <g>\n       <use style=\"stroke:#000000;stroke-width:0.8;\" x=\"330.2875\" xlink:href=\"#mebdd59b346\" y=\"224.64\"/>\n      </g>\n     </g>\n     <g id=\"text_28\">\n      <!-- 31 -->\n      <g transform=\"translate(333.046875 244.365)rotate(-90)scale(0.1 -0.1)\">\n       <use xlink:href=\"#DejaVuSans-51\"/>\n       <use x=\"63.623047\" xlink:href=\"#DejaVuSans-49\"/>\n      </g>\n     </g>\n    </g>\n    <g id=\"xtick_29\">\n     <g id=\"line2d_29\">\n      <g>\n       <use style=\"stroke:#000000;stroke-width:0.8;\" x=\"341.0875\" xlink:href=\"#mebdd59b346\" y=\"224.64\"/>\n      </g>\n     </g>\n     <g id=\"text_29\">\n      <!-- 32 -->\n      <g transform=\"translate(343.846875 244.365)rotate(-90)scale(0.1 -0.1)\">\n       <use xlink:href=\"#DejaVuSans-51\"/>\n       <use x=\"63.623047\" xlink:href=\"#DejaVuSans-50\"/>\n      </g>\n     </g>\n    </g>\n    <g id=\"xtick_30\">\n     <g id=\"line2d_30\">\n      <g>\n       <use style=\"stroke:#000000;stroke-width:0.8;\" x=\"351.8875\" xlink:href=\"#mebdd59b346\" y=\"224.64\"/>\n      </g>\n     </g>\n     <g id=\"text_30\">\n      <!-- 34 -->\n      <g transform=\"translate(354.646875 244.365)rotate(-90)scale(0.1 -0.1)\">\n       <use xlink:href=\"#DejaVuSans-51\"/>\n       <use x=\"63.623047\" xlink:href=\"#DejaVuSans-52\"/>\n      </g>\n     </g>\n    </g>\n    <g id=\"xtick_31\">\n     <g id=\"line2d_31\">\n      <g>\n       <use style=\"stroke:#000000;stroke-width:0.8;\" x=\"362.6875\" xlink:href=\"#mebdd59b346\" y=\"224.64\"/>\n      </g>\n     </g>\n     <g id=\"text_31\">\n      <!-- 36 -->\n      <g transform=\"translate(365.446875 244.365)rotate(-90)scale(0.1 -0.1)\">\n       <use xlink:href=\"#DejaVuSans-51\"/>\n       <use x=\"63.623047\" xlink:href=\"#DejaVuSans-54\"/>\n      </g>\n     </g>\n    </g>\n   </g>\n   <g id=\"matplotlib.axis_2\">\n    <g id=\"ytick_1\">\n     <g id=\"line2d_32\">\n      <defs>\n       <path d=\"M 0 0 \nL -3.5 0 \n\" id=\"mf882fa7819\" style=\"stroke:#000000;stroke-width:0.8;\"/>\n      </defs>\n      <g>\n       <use style=\"stroke:#000000;stroke-width:0.8;\" x=\"33.2875\" xlink:href=\"#mf882fa7819\" y=\"224.64\"/>\n      </g>\n     </g>\n     <g id=\"text_32\">\n      <!-- 0 -->\n      <g transform=\"translate(19.925 228.439219)scale(0.1 -0.1)\">\n       <use xlink:href=\"#DejaVuSans-48\"/>\n      </g>\n     </g>\n    </g>\n    <g id=\"ytick_2\">\n     <g id=\"line2d_33\">\n      <g>\n       <use style=\"stroke:#000000;stroke-width:0.8;\" x=\"33.2875\" xlink:href=\"#mf882fa7819\" y=\"189.894075\"/>\n      </g>\n     </g>\n     <g id=\"text_33\">\n      <!-- 100 -->\n      <g transform=\"translate(7.2 193.693294)scale(0.1 -0.1)\">\n       <use xlink:href=\"#DejaVuSans-49\"/>\n       <use x=\"63.623047\" xlink:href=\"#DejaVuSans-48\"/>\n       <use x=\"127.246094\" xlink:href=\"#DejaVuSans-48\"/>\n      </g>\n     </g>\n    </g>\n    <g id=\"ytick_3\">\n     <g id=\"line2d_34\">\n      <g>\n       <use style=\"stroke:#000000;stroke-width:0.8;\" x=\"33.2875\" xlink:href=\"#mf882fa7819\" y=\"155.14815\"/>\n      </g>\n     </g>\n     <g id=\"text_34\">\n      <!-- 200 -->\n      <g transform=\"translate(7.2 158.947368)scale(0.1 -0.1)\">\n       <use xlink:href=\"#DejaVuSans-50\"/>\n       <use x=\"63.623047\" xlink:href=\"#DejaVuSans-48\"/>\n       <use x=\"127.246094\" xlink:href=\"#DejaVuSans-48\"/>\n      </g>\n     </g>\n    </g>\n    <g id=\"ytick_4\">\n     <g id=\"line2d_35\">\n      <g>\n       <use style=\"stroke:#000000;stroke-width:0.8;\" x=\"33.2875\" xlink:href=\"#mf882fa7819\" y=\"120.402224\"/>\n      </g>\n     </g>\n     <g id=\"text_35\">\n      <!-- 300 -->\n      <g transform=\"translate(7.2 124.201443)scale(0.1 -0.1)\">\n       <use xlink:href=\"#DejaVuSans-51\"/>\n       <use x=\"63.623047\" xlink:href=\"#DejaVuSans-48\"/>\n       <use x=\"127.246094\" xlink:href=\"#DejaVuSans-48\"/>\n      </g>\n     </g>\n    </g>\n    <g id=\"ytick_5\">\n     <g id=\"line2d_36\">\n      <g>\n       <use style=\"stroke:#000000;stroke-width:0.8;\" x=\"33.2875\" xlink:href=\"#mf882fa7819\" y=\"85.656299\"/>\n      </g>\n     </g>\n     <g id=\"text_36\">\n      <!-- 400 -->\n      <g transform=\"translate(7.2 89.455518)scale(0.1 -0.1)\">\n       <use xlink:href=\"#DejaVuSans-52\"/>\n       <use x=\"63.623047\" xlink:href=\"#DejaVuSans-48\"/>\n       <use x=\"127.246094\" xlink:href=\"#DejaVuSans-48\"/>\n      </g>\n     </g>\n    </g>\n    <g id=\"ytick_6\">\n     <g id=\"line2d_37\">\n      <g>\n       <use style=\"stroke:#000000;stroke-width:0.8;\" x=\"33.2875\" xlink:href=\"#mf882fa7819\" y=\"50.910374\"/>\n      </g>\n     </g>\n     <g id=\"text_37\">\n      <!-- 500 -->\n      <g transform=\"translate(7.2 54.709593)scale(0.1 -0.1)\">\n       <use xlink:href=\"#DejaVuSans-53\"/>\n       <use x=\"63.623047\" xlink:href=\"#DejaVuSans-48\"/>\n       <use x=\"127.246094\" xlink:href=\"#DejaVuSans-48\"/>\n      </g>\n     </g>\n    </g>\n    <g id=\"ytick_7\">\n     <g id=\"line2d_38\">\n      <g>\n       <use style=\"stroke:#000000;stroke-width:0.8;\" x=\"33.2875\" xlink:href=\"#mf882fa7819\" y=\"16.164449\"/>\n      </g>\n     </g>\n     <g id=\"text_38\">\n      <!-- 600 -->\n      <g transform=\"translate(7.2 19.963667)scale(0.1 -0.1)\">\n       <use xlink:href=\"#DejaVuSans-54\"/>\n       <use x=\"63.623047\" xlink:href=\"#DejaVuSans-48\"/>\n       <use x=\"127.246094\" xlink:href=\"#DejaVuSans-48\"/>\n      </g>\n     </g>\n    </g>\n   </g>\n   <g id=\"patch_34\">\n    <path d=\"M 33.2875 224.64 \nL 33.2875 7.2 \n\" style=\"fill:none;stroke:#000000;stroke-linecap:square;stroke-linejoin:miter;stroke-width:0.8;\"/>\n   </g>\n   <g id=\"patch_35\">\n    <path d=\"M 368.0875 224.64 \nL 368.0875 7.2 \n\" style=\"fill:none;stroke:#000000;stroke-linecap:square;stroke-linejoin:miter;stroke-width:0.8;\"/>\n   </g>\n   <g id=\"patch_36\">\n    <path d=\"M 33.2875 224.64 \nL 368.0875 224.64 \n\" style=\"fill:none;stroke:#000000;stroke-linecap:square;stroke-linejoin:miter;stroke-width:0.8;\"/>\n   </g>\n   <g id=\"patch_37\">\n    <path d=\"M 33.2875 7.2 \nL 368.0875 7.2 \n\" style=\"fill:none;stroke:#000000;stroke-linecap:square;stroke-linejoin:miter;stroke-width:0.8;\"/>\n   </g>\n  </g>\n </g>\n <defs>\n  <clipPath id=\"p713e6a820e\">\n   <rect height=\"217.44\" width=\"334.8\" x=\"33.2875\" y=\"7.2\"/>\n  </clipPath>\n </defs>\n</svg>\n",
      "image/png": "[encoded data removed]"
     },
     "metadata": {
      "needs_background": "light"
     }
    }
   ],
   "source": [
    "address[\"distance\"] = address.apply(\n",
    "    lambda x: damerau_levenshtein_distance(x.full_address_x, x.full_address_y),\n",
    "    axis=1\n",
    ")\n",
    "\n",
    "address.distance.value_counts().sort_index().plot.bar()"
   ]
  },
  {
   "cell_type": "markdown",
   "metadata": {},
   "source": [
    "Fautes typographiques."
   ]
  },
  {
   "cell_type": "code",
   "execution_count": 149,
   "metadata": {},
   "outputs": [
    {
     "output_type": "execute_result",
     "data": {
      "text/plain": "                      full_address_x                  full_address_y  distance\n3783        verbrugghen street, <NA>        verbruggheh street, <NA>         1\n3027          wanganeen avenue, <NA>          wanganeemeavenue, <NA>         2\n15421     hannafordastreet, rhosewyn      hannaford street, rhosewyn         1\n3682              sollya place, <NA>               sollya plce, <NA>         1\n2648   goessling place, raffa estate  goessling place, raffa oestate         1\n10647          eldridge street, <NA>            eldridgestreet, <NA>         1\n8207        mclachlan crescent, <NA>        mclachlan cfescent, <NA>         1\n5987              leith place, kieta              leith pnace, kieta         1\n16243           bennetts close, <NA>           bennettsghclose, <NA>         2\n623              millard place, <NA>             millard zlace, <NA>         1\n5233          giles steeet, tintagel          giles street, tintagel         1\n11069          mcnamara street, <NA>           mcnamarwrstreet, <NA>         2\n20141         mountain circuit, <NA>          mountain dircuit, <NA>         1\n3769         shackleto circuit, <NA>        shackleton circuit, <NA>         1\n8842         rule street, granny flt          rule sreet, granny flt         1\n240            monaro ceescent, <NA>           monaro crwscent, <NA>         2\n6621      owen dixon frive, bindaree      owen dixon drive, bindaree         1\n2482           hargrave street, <NA>           hargrav eztreet, <NA>         2\n1564            read plaxe, tullinga            read place, tullinga         1\n11743           padburypstreet, <NA>            padbury street, <NA>         1",
      "text/html": "<div>\n<style scoped>\n    .dataframe tbody tr th:only-of-type {\n        vertical-align: middle;\n    }\n\n    .dataframe tbody tr th {\n        vertical-align: top;\n    }\n\n    .dataframe thead th {\n        text-align: right;\n    }\n</style>\n<table border=\"1\" class=\"dataframe\">\n  <thead>\n    <tr style=\"text-align: right;\">\n      <th></th>\n      <th>full_address_x</th>\n      <th>full_address_y</th>\n      <th>distance</th>\n    </tr>\n  </thead>\n  <tbody>\n    <tr>\n      <th>3783</th>\n      <td>verbrugghen street, &lt;NA&gt;</td>\n      <td>verbruggheh street, &lt;NA&gt;</td>\n      <td>1</td>\n    </tr>\n    <tr>\n      <th>3027</th>\n      <td>wanganeen avenue, &lt;NA&gt;</td>\n      <td>wanganeemeavenue, &lt;NA&gt;</td>\n      <td>2</td>\n    </tr>\n    <tr>\n      <th>15421</th>\n      <td>hannafordastreet, rhosewyn</td>\n      <td>hannaford street, rhosewyn</td>\n      <td>1</td>\n    </tr>\n    <tr>\n      <th>3682</th>\n      <td>sollya place, &lt;NA&gt;</td>\n      <td>sollya plce, &lt;NA&gt;</td>\n      <td>1</td>\n    </tr>\n    <tr>\n      <th>2648</th>\n      <td>goessling place, raffa estate</td>\n      <td>goessling place, raffa oestate</td>\n      <td>1</td>\n    </tr>\n    <tr>\n      <th>10647</th>\n      <td>eldridge street, &lt;NA&gt;</td>\n      <td>eldridgestreet, &lt;NA&gt;</td>\n      <td>1</td>\n    </tr>\n    <tr>\n      <th>8207</th>\n      <td>mclachlan crescent, &lt;NA&gt;</td>\n      <td>mclachlan cfescent, &lt;NA&gt;</td>\n      <td>1</td>\n    </tr>\n    <tr>\n      <th>5987</th>\n      <td>leith place, kieta</td>\n      <td>leith pnace, kieta</td>\n      <td>1</td>\n    </tr>\n    <tr>\n      <th>16243</th>\n      <td>bennetts close, &lt;NA&gt;</td>\n      <td>bennettsghclose, &lt;NA&gt;</td>\n      <td>2</td>\n    </tr>\n    <tr>\n      <th>623</th>\n      <td>millard place, &lt;NA&gt;</td>\n      <td>millard zlace, &lt;NA&gt;</td>\n      <td>1</td>\n    </tr>\n    <tr>\n      <th>5233</th>\n      <td>giles steeet, tintagel</td>\n      <td>giles street, tintagel</td>\n      <td>1</td>\n    </tr>\n    <tr>\n      <th>11069</th>\n      <td>mcnamara street, &lt;NA&gt;</td>\n      <td>mcnamarwrstreet, &lt;NA&gt;</td>\n      <td>2</td>\n    </tr>\n    <tr>\n      <th>20141</th>\n      <td>mountain circuit, &lt;NA&gt;</td>\n      <td>mountain dircuit, &lt;NA&gt;</td>\n      <td>1</td>\n    </tr>\n    <tr>\n      <th>3769</th>\n      <td>shackleto circuit, &lt;NA&gt;</td>\n      <td>shackleton circuit, &lt;NA&gt;</td>\n      <td>1</td>\n    </tr>\n    <tr>\n      <th>8842</th>\n      <td>rule street, granny flt</td>\n      <td>rule sreet, granny flt</td>\n      <td>1</td>\n    </tr>\n    <tr>\n      <th>240</th>\n      <td>monaro ceescent, &lt;NA&gt;</td>\n      <td>monaro crwscent, &lt;NA&gt;</td>\n      <td>2</td>\n    </tr>\n    <tr>\n      <th>6621</th>\n      <td>owen dixon frive, bindaree</td>\n      <td>owen dixon drive, bindaree</td>\n      <td>1</td>\n    </tr>\n    <tr>\n      <th>2482</th>\n      <td>hargrave street, &lt;NA&gt;</td>\n      <td>hargrav eztreet, &lt;NA&gt;</td>\n      <td>2</td>\n    </tr>\n    <tr>\n      <th>1564</th>\n      <td>read plaxe, tullinga</td>\n      <td>read place, tullinga</td>\n      <td>1</td>\n    </tr>\n    <tr>\n      <th>11743</th>\n      <td>padburypstreet, &lt;NA&gt;</td>\n      <td>padbury street, &lt;NA&gt;</td>\n      <td>1</td>\n    </tr>\n  </tbody>\n</table>\n</div>"
     },
     "metadata": {},
     "execution_count": 149
    }
   ],
   "source": [
    "address.loc[address.distance <= 2, [\"full_address_x\", \"full_address_y\", \"distance\"]].sample(20, random_state=42)"
   ]
  },
  {
   "cell_type": "code",
   "execution_count": 150,
   "metadata": {},
   "outputs": [
    {
     "output_type": "execute_result",
     "data": {
      "text/plain": "                             full_address_x  \\\n986                    bunurung close, <NA>   \n990                    bunurung close, <NA>   \n992                   bunurunqaqclose, <NA>   \n993                   bunurunqaqclose, <NA>   \n995                   bunurunqaqclose, <NA>   \n998                    bunurung close, <NA>   \n1782     mccaughey street, narraburra lodge   \n1784     mccaughey stbeet, narrabburralodge   \n1786     mccaughey stbeet, narrabburralodge   \n1788     mccaughey street, narraburra lodge   \n3977                 quirosdtreet, yaroknga   \n3979                quiros street, yaroonga   \n4038                 bramina s xation, <NA>   \n4039                 bramina s xation, <NA>   \n4041                  bramina vaation, <NA>   \n4043                  bramina vaation, <NA>   \n4045                  bramin a tation, <NA>   \n4046                  bramin a tation, <NA>   \n4051    daintreelcrrscent, australia arcade   \n4057   daintreei crescent, australia arcade   \n4532                   bamfors street, <NA>   \n4534                   bamfordmxtreet, <NA>   \n4688                  birdwood street, <NA>   \n4692                  birdwoosbctreet, <NA>   \n5084             maitland street, allandale   \n5086            maitlandcztreet, allan dale   \n13331              jervois street, trewilga   \n13333             jervoisbatreet, trewizlga   \n\n                             full_address_y  distance  \n986                   bunurunqaqclose, <NA>         3  \n990                   bunurunqaqclose, <NA>         3  \n992                    bunurung close, <NA>         3  \n993                    bunurung close, <NA>         3  \n995                    bunurung close, <NA>         3  \n998                   bunurunqaqclose, <NA>         3  \n1782     mccaughey stbeet, narrabburralodge         3  \n1784     mccaughey street, narraburra lodge         3  \n1786     mccaughey street, narraburra lodge         3  \n1788     mccaughey stbeet, narrabburralodge         3  \n3977                quiros street, yaroonga         3  \n3979                 quirosdtreet, yaroknga         3  \n4038                  bramina vaation, <NA>         3  \n4039                  bramin a tation, <NA>         3  \n4041                 bramina s xation, <NA>         3  \n4043                  bramin a tation, <NA>         3  \n4045                 bramina s xation, <NA>         3  \n4046                  bramina vaation, <NA>         3  \n4051   daintreei crescent, australia arcade         3  \n4057    daintreelcrrscent, australia arcade         3  \n4532                   bamfordmxtreet, <NA>         3  \n4534                   bamfors street, <NA>         3  \n4688                  birdwoosbctreet, <NA>         3  \n4692                  birdwood street, <NA>         3  \n5084            maitlandcztreet, allan dale         3  \n5086             maitland street, allandale         3  \n13331             jervoisbatreet, trewizlga         3  \n13333              jervois street, trewilga         3  ",
      "text/html": "<div>\n<style scoped>\n    .dataframe tbody tr th:only-of-type {\n        vertical-align: middle;\n    }\n\n    .dataframe tbody tr th {\n        vertical-align: top;\n    }\n\n    .dataframe thead th {\n        text-align: right;\n    }\n</style>\n<table border=\"1\" class=\"dataframe\">\n  <thead>\n    <tr style=\"text-align: right;\">\n      <th></th>\n      <th>full_address_x</th>\n      <th>full_address_y</th>\n      <th>distance</th>\n    </tr>\n  </thead>\n  <tbody>\n    <tr>\n      <th>986</th>\n      <td>bunurung close, &lt;NA&gt;</td>\n      <td>bunurunqaqclose, &lt;NA&gt;</td>\n      <td>3</td>\n    </tr>\n    <tr>\n      <th>990</th>\n      <td>bunurung close, &lt;NA&gt;</td>\n      <td>bunurunqaqclose, &lt;NA&gt;</td>\n      <td>3</td>\n    </tr>\n    <tr>\n      <th>992</th>\n      <td>bunurunqaqclose, &lt;NA&gt;</td>\n      <td>bunurung close, &lt;NA&gt;</td>\n      <td>3</td>\n    </tr>\n    <tr>\n      <th>993</th>\n      <td>bunurunqaqclose, &lt;NA&gt;</td>\n      <td>bunurung close, &lt;NA&gt;</td>\n      <td>3</td>\n    </tr>\n    <tr>\n      <th>995</th>\n      <td>bunurunqaqclose, &lt;NA&gt;</td>\n      <td>bunurung close, &lt;NA&gt;</td>\n      <td>3</td>\n    </tr>\n    <tr>\n      <th>998</th>\n      <td>bunurung close, &lt;NA&gt;</td>\n      <td>bunurunqaqclose, &lt;NA&gt;</td>\n      <td>3</td>\n    </tr>\n    <tr>\n      <th>1782</th>\n      <td>mccaughey street, narraburra lodge</td>\n      <td>mccaughey stbeet, narrabburralodge</td>\n      <td>3</td>\n    </tr>\n    <tr>\n      <th>1784</th>\n      <td>mccaughey stbeet, narrabburralodge</td>\n      <td>mccaughey street, narraburra lodge</td>\n      <td>3</td>\n    </tr>\n    <tr>\n      <th>1786</th>\n      <td>mccaughey stbeet, narrabburralodge</td>\n      <td>mccaughey street, narraburra lodge</td>\n      <td>3</td>\n    </tr>\n    <tr>\n      <th>1788</th>\n      <td>mccaughey street, narraburra lodge</td>\n      <td>mccaughey stbeet, narrabburralodge</td>\n      <td>3</td>\n    </tr>\n    <tr>\n      <th>3977</th>\n      <td>quirosdtreet, yaroknga</td>\n      <td>quiros street, yaroonga</td>\n      <td>3</td>\n    </tr>\n    <tr>\n      <th>3979</th>\n      <td>quiros street, yaroonga</td>\n      <td>quirosdtreet, yaroknga</td>\n      <td>3</td>\n    </tr>\n    <tr>\n      <th>4038</th>\n      <td>bramina s xation, &lt;NA&gt;</td>\n      <td>bramina vaation, &lt;NA&gt;</td>\n      <td>3</td>\n    </tr>\n    <tr>\n      <th>4039</th>\n      <td>bramina s xation, &lt;NA&gt;</td>\n      <td>bramin a tation, &lt;NA&gt;</td>\n      <td>3</td>\n    </tr>\n    <tr>\n      <th>4041</th>\n      <td>bramina vaation, &lt;NA&gt;</td>\n      <td>bramina s xation, &lt;NA&gt;</td>\n      <td>3</td>\n    </tr>\n    <tr>\n      <th>4043</th>\n      <td>bramina vaation, &lt;NA&gt;</td>\n      <td>bramin a tation, &lt;NA&gt;</td>\n      <td>3</td>\n    </tr>\n    <tr>\n      <th>4045</th>\n      <td>bramin a tation, &lt;NA&gt;</td>\n      <td>bramina s xation, &lt;NA&gt;</td>\n      <td>3</td>\n    </tr>\n    <tr>\n      <th>4046</th>\n      <td>bramin a tation, &lt;NA&gt;</td>\n      <td>bramina vaation, &lt;NA&gt;</td>\n      <td>3</td>\n    </tr>\n    <tr>\n      <th>4051</th>\n      <td>daintreelcrrscent, australia arcade</td>\n      <td>daintreei crescent, australia arcade</td>\n      <td>3</td>\n    </tr>\n    <tr>\n      <th>4057</th>\n      <td>daintreei crescent, australia arcade</td>\n      <td>daintreelcrrscent, australia arcade</td>\n      <td>3</td>\n    </tr>\n    <tr>\n      <th>4532</th>\n      <td>bamfors street, &lt;NA&gt;</td>\n      <td>bamfordmxtreet, &lt;NA&gt;</td>\n      <td>3</td>\n    </tr>\n    <tr>\n      <th>4534</th>\n      <td>bamfordmxtreet, &lt;NA&gt;</td>\n      <td>bamfors street, &lt;NA&gt;</td>\n      <td>3</td>\n    </tr>\n    <tr>\n      <th>4688</th>\n      <td>birdwood street, &lt;NA&gt;</td>\n      <td>birdwoosbctreet, &lt;NA&gt;</td>\n      <td>3</td>\n    </tr>\n    <tr>\n      <th>4692</th>\n      <td>birdwoosbctreet, &lt;NA&gt;</td>\n      <td>birdwood street, &lt;NA&gt;</td>\n      <td>3</td>\n    </tr>\n    <tr>\n      <th>5084</th>\n      <td>maitland street, allandale</td>\n      <td>maitlandcztreet, allan dale</td>\n      <td>3</td>\n    </tr>\n    <tr>\n      <th>5086</th>\n      <td>maitlandcztreet, allan dale</td>\n      <td>maitland street, allandale</td>\n      <td>3</td>\n    </tr>\n    <tr>\n      <th>13331</th>\n      <td>jervois street, trewilga</td>\n      <td>jervoisbatreet, trewizlga</td>\n      <td>3</td>\n    </tr>\n    <tr>\n      <th>13333</th>\n      <td>jervoisbatreet, trewizlga</td>\n      <td>jervois street, trewilga</td>\n      <td>3</td>\n    </tr>\n  </tbody>\n</table>\n</div>"
     },
     "metadata": {},
     "execution_count": 150
    }
   ],
   "source": [
    "address.loc[address.distance == 3, [\"full_address_x\", \"full_address_y\", \"distance\"]]"
   ]
  },
  {
   "cell_type": "code",
   "execution_count": 151,
   "metadata": {},
   "outputs": [
    {
     "output_type": "execute_result",
     "data": {
      "text/plain": "               full_address_x           full_address_y  distance\n3978   quirosdtreet, yaroknga  quiros street, yaroonha         4\n3982  quiros street, yaroonha   quirosdtreet, yaroknga         4\n4691     birdwoods reet, <NA>    birdwoosbctreet, <NA>         4\n4693    birdwoosbctreet, <NA>     birdwoods reet, <NA>         4",
      "text/html": "<div>\n<style scoped>\n    .dataframe tbody tr th:only-of-type {\n        vertical-align: middle;\n    }\n\n    .dataframe tbody tr th {\n        vertical-align: top;\n    }\n\n    .dataframe thead th {\n        text-align: right;\n    }\n</style>\n<table border=\"1\" class=\"dataframe\">\n  <thead>\n    <tr style=\"text-align: right;\">\n      <th></th>\n      <th>full_address_x</th>\n      <th>full_address_y</th>\n      <th>distance</th>\n    </tr>\n  </thead>\n  <tbody>\n    <tr>\n      <th>3978</th>\n      <td>quirosdtreet, yaroknga</td>\n      <td>quiros street, yaroonha</td>\n      <td>4</td>\n    </tr>\n    <tr>\n      <th>3982</th>\n      <td>quiros street, yaroonha</td>\n      <td>quirosdtreet, yaroknga</td>\n      <td>4</td>\n    </tr>\n    <tr>\n      <th>4691</th>\n      <td>birdwoods reet, &lt;NA&gt;</td>\n      <td>birdwoosbctreet, &lt;NA&gt;</td>\n      <td>4</td>\n    </tr>\n    <tr>\n      <th>4693</th>\n      <td>birdwoosbctreet, &lt;NA&gt;</td>\n      <td>birdwoods reet, &lt;NA&gt;</td>\n      <td>4</td>\n    </tr>\n  </tbody>\n</table>\n</div>"
     },
     "metadata": {},
     "execution_count": 151
    }
   ],
   "source": [
    "address.loc[address.distance == 4, [\"full_address_x\", \"full_address_y\", \"distance\"]]"
   ]
  },
  {
   "cell_type": "markdown",
   "metadata": {},
   "source": [
    "Autres fautes.\n"
   ]
  },
  {
   "cell_type": "code",
   "execution_count": 152,
   "metadata": {},
   "outputs": [
    {
     "output_type": "execute_result",
     "data": {
      "text/plain": "                                         full_address_x  \\\n1572                           henty street, hillendale   \n95                       badenoch crescent, golden down   \n3010                       bragg street, watchorns hill   \n971                      charteris frescent, eagle view   \n13604                               wrixon street, <NA>   \n3002                       bragg street, watchorns hill   \n8818                    <NA>, rowethorpe trinity hostel   \n3929   gill stbxeet, burnie north west private hospital   \n1079                                hurleyqatreet, <NA>   \n969                            charteris crescent, <NA>   \n5015                     townshend street, castle pines   \n9212                      gollan street, brentwood vlge   \n3043           macdowelluetreet, deergarden caravn park   \n4938                         medley street, the meadows   \n3162                           yumba avenue, springdale   \n6408                             crescent officer, <NA>   \n4291                                majurapavenue, <NA>   \n17522                    street ulverstone, summer hill   \n7563                               francis street, <NA>   \n10259                            clemenger sfreet, <NA>   \n3535                                 emery street, <NA>   \n5496                              holden crescent, <NA>   \n940                           blacket street, rosemount   \n1847              kookaburra pvillage, costello circuit   \n1402                           millhouse crescent, <NA>   \n15819                     boolimba crescent, the lagoon   \n60                            bosworth circuit, killune   \n6447                              burkitt street, bunga   \n936                                blacket street, <NA>   \n5477                       serpentine street, guest hse   \n\n                                  full_address_y  distance  \n1572                         henty street, indra         7  \n95                       badenoch crescent, <NA>        11  \n3010                          braggdstreet, <NA>        15  \n971                     charteris crescent, <NA>        11  \n13604  john clelanddcrescent, 1st hse past (rhs)        34  \n3002                          braggdstreet, <NA>        15  \n8818     bavin street, rowethorpe trimity hostel        13  \n3929                           gill street, <NA>        36  \n1079                        kirwan icrcuit, <NA>        11  \n969               charteris frescent, eagle view        11  \n5015                      townshend street, <NA>        12  \n9212                         gollan street, <NA>        14  \n3043                      macdowell street, <NA>        24  \n4938                         medley street, <NA>        11  \n3162                          yumba avenue, <NA>        10  \n6408                      officer crescent, <NA>        12  \n4291                  majura avenue, legend park        12  \n17522             ulverstone street, summer hill        13  \n7563                francis street, matilda park        12  \n10259           clemenger street, glen alvie rsd        15  \n3535                  von guerard crescent, <NA>        14  \n5496                 holden crescent, blue hills        10  \n940                         blacket street, <NA>         9  \n1847                      costello circuit, <NA>        27  \n1402                          musson close, <NA>        12  \n15819                           <NA>, the lagoon        17  \n60                        bosworth circuit, <NA>         7  \n6447                        burkitt street, <NA>         5  \n936                    blacket street, rosemount         9  \n5477                     serpentine street, <NA>         9  ",
      "text/html": "<div>\n<style scoped>\n    .dataframe tbody tr th:only-of-type {\n        vertical-align: middle;\n    }\n\n    .dataframe tbody tr th {\n        vertical-align: top;\n    }\n\n    .dataframe thead th {\n        text-align: right;\n    }\n</style>\n<table border=\"1\" class=\"dataframe\">\n  <thead>\n    <tr style=\"text-align: right;\">\n      <th></th>\n      <th>full_address_x</th>\n      <th>full_address_y</th>\n      <th>distance</th>\n    </tr>\n  </thead>\n  <tbody>\n    <tr>\n      <th>1572</th>\n      <td>henty street, hillendale</td>\n      <td>henty street, indra</td>\n      <td>7</td>\n    </tr>\n    <tr>\n      <th>95</th>\n      <td>badenoch crescent, golden down</td>\n      <td>badenoch crescent, &lt;NA&gt;</td>\n      <td>11</td>\n    </tr>\n    <tr>\n      <th>3010</th>\n      <td>bragg street, watchorns hill</td>\n      <td>braggdstreet, &lt;NA&gt;</td>\n      <td>15</td>\n    </tr>\n    <tr>\n      <th>971</th>\n      <td>charteris frescent, eagle view</td>\n      <td>charteris crescent, &lt;NA&gt;</td>\n      <td>11</td>\n    </tr>\n    <tr>\n      <th>13604</th>\n      <td>wrixon street, &lt;NA&gt;</td>\n      <td>john clelanddcrescent, 1st hse past (rhs)</td>\n      <td>34</td>\n    </tr>\n    <tr>\n      <th>3002</th>\n      <td>bragg street, watchorns hill</td>\n      <td>braggdstreet, &lt;NA&gt;</td>\n      <td>15</td>\n    </tr>\n    <tr>\n      <th>8818</th>\n      <td>&lt;NA&gt;, rowethorpe trinity hostel</td>\n      <td>bavin street, rowethorpe trimity hostel</td>\n      <td>13</td>\n    </tr>\n    <tr>\n      <th>3929</th>\n      <td>gill stbxeet, burnie north west private hospital</td>\n      <td>gill street, &lt;NA&gt;</td>\n      <td>36</td>\n    </tr>\n    <tr>\n      <th>1079</th>\n      <td>hurleyqatreet, &lt;NA&gt;</td>\n      <td>kirwan icrcuit, &lt;NA&gt;</td>\n      <td>11</td>\n    </tr>\n    <tr>\n      <th>969</th>\n      <td>charteris crescent, &lt;NA&gt;</td>\n      <td>charteris frescent, eagle view</td>\n      <td>11</td>\n    </tr>\n    <tr>\n      <th>5015</th>\n      <td>townshend street, castle pines</td>\n      <td>townshend street, &lt;NA&gt;</td>\n      <td>12</td>\n    </tr>\n    <tr>\n      <th>9212</th>\n      <td>gollan street, brentwood vlge</td>\n      <td>gollan street, &lt;NA&gt;</td>\n      <td>14</td>\n    </tr>\n    <tr>\n      <th>3043</th>\n      <td>macdowelluetreet, deergarden caravn park</td>\n      <td>macdowell street, &lt;NA&gt;</td>\n      <td>24</td>\n    </tr>\n    <tr>\n      <th>4938</th>\n      <td>medley street, the meadows</td>\n      <td>medley street, &lt;NA&gt;</td>\n      <td>11</td>\n    </tr>\n    <tr>\n      <th>3162</th>\n      <td>yumba avenue, springdale</td>\n      <td>yumba avenue, &lt;NA&gt;</td>\n      <td>10</td>\n    </tr>\n    <tr>\n      <th>6408</th>\n      <td>crescent officer, &lt;NA&gt;</td>\n      <td>officer crescent, &lt;NA&gt;</td>\n      <td>12</td>\n    </tr>\n    <tr>\n      <th>4291</th>\n      <td>majurapavenue, &lt;NA&gt;</td>\n      <td>majura avenue, legend park</td>\n      <td>12</td>\n    </tr>\n    <tr>\n      <th>17522</th>\n      <td>street ulverstone, summer hill</td>\n      <td>ulverstone street, summer hill</td>\n      <td>13</td>\n    </tr>\n    <tr>\n      <th>7563</th>\n      <td>francis street, &lt;NA&gt;</td>\n      <td>francis street, matilda park</td>\n      <td>12</td>\n    </tr>\n    <tr>\n      <th>10259</th>\n      <td>clemenger sfreet, &lt;NA&gt;</td>\n      <td>clemenger street, glen alvie rsd</td>\n      <td>15</td>\n    </tr>\n    <tr>\n      <th>3535</th>\n      <td>emery street, &lt;NA&gt;</td>\n      <td>von guerard crescent, &lt;NA&gt;</td>\n      <td>14</td>\n    </tr>\n    <tr>\n      <th>5496</th>\n      <td>holden crescent, &lt;NA&gt;</td>\n      <td>holden crescent, blue hills</td>\n      <td>10</td>\n    </tr>\n    <tr>\n      <th>940</th>\n      <td>blacket street, rosemount</td>\n      <td>blacket street, &lt;NA&gt;</td>\n      <td>9</td>\n    </tr>\n    <tr>\n      <th>1847</th>\n      <td>kookaburra pvillage, costello circuit</td>\n      <td>costello circuit, &lt;NA&gt;</td>\n      <td>27</td>\n    </tr>\n    <tr>\n      <th>1402</th>\n      <td>millhouse crescent, &lt;NA&gt;</td>\n      <td>musson close, &lt;NA&gt;</td>\n      <td>12</td>\n    </tr>\n    <tr>\n      <th>15819</th>\n      <td>boolimba crescent, the lagoon</td>\n      <td>&lt;NA&gt;, the lagoon</td>\n      <td>17</td>\n    </tr>\n    <tr>\n      <th>60</th>\n      <td>bosworth circuit, killune</td>\n      <td>bosworth circuit, &lt;NA&gt;</td>\n      <td>7</td>\n    </tr>\n    <tr>\n      <th>6447</th>\n      <td>burkitt street, bunga</td>\n      <td>burkitt street, &lt;NA&gt;</td>\n      <td>5</td>\n    </tr>\n    <tr>\n      <th>936</th>\n      <td>blacket street, &lt;NA&gt;</td>\n      <td>blacket street, rosemount</td>\n      <td>9</td>\n    </tr>\n    <tr>\n      <th>5477</th>\n      <td>serpentine street, guest hse</td>\n      <td>serpentine street, &lt;NA&gt;</td>\n      <td>9</td>\n    </tr>\n  </tbody>\n</table>\n</div>"
     },
     "metadata": {},
     "execution_count": 152
    }
   ],
   "source": [
    "address.loc[address.distance > 4, [\"full_address_x\", \"full_address_y\", \"distance\"]].sample(30, random_state=42)"
   ]
  },
  {
   "cell_type": "markdown",
   "metadata": {},
   "source": [
    "Omission du premier champ d'adresse."
   ]
  },
  {
   "cell_type": "code",
   "execution_count": 153,
   "metadata": {},
   "outputs": [
    {
     "output_type": "execute_result",
     "data": {
      "text/plain": "['<NA>, rowethorpe trinity hostel', 'bavin street, rowethorpe trimity hostel']"
     },
     "metadata": {},
     "execution_count": 153
    }
   ],
   "source": [
    "address.loc[8818, [\"full_address_x\", \"full_address_y\"]].to_list()"
   ]
  },
  {
   "cell_type": "markdown",
   "metadata": {},
   "source": [
    "Omission du second champ d'adresse."
   ]
  },
  {
   "cell_type": "code",
   "execution_count": 154,
   "metadata": {},
   "outputs": [
    {
     "output_type": "execute_result",
     "data": {
      "text/plain": "['blacket street, rosemount', 'blacket street, <NA>']"
     },
     "metadata": {},
     "execution_count": 154
    }
   ],
   "source": [
    "address.loc[940, [\"full_address_x\", \"full_address_y\"]].to_list()"
   ]
  },
  {
   "cell_type": "markdown",
   "metadata": {},
   "source": [
    "Second champ d'adresse différent."
   ]
  },
  {
   "cell_type": "code",
   "execution_count": 155,
   "metadata": {},
   "outputs": [
    {
     "output_type": "execute_result",
     "data": {
      "text/plain": "['henty street, hillendale', 'henty street, indra']"
     },
     "metadata": {},
     "execution_count": 155
    }
   ],
   "source": [
    "address.loc[1572, [\"full_address_x\", \"full_address_y\"]].to_list()"
   ]
  },
  {
   "cell_type": "markdown",
   "metadata": {},
   "source": [
    "Adresse complète différente."
   ]
  },
  {
   "cell_type": "code",
   "execution_count": 156,
   "metadata": {},
   "outputs": [
    {
     "output_type": "execute_result",
     "data": {
      "text/plain": "['emery street, <NA>', 'von guerard crescent, <NA>']"
     },
     "metadata": {},
     "execution_count": 156
    }
   ],
   "source": [
    "address.loc[3535, [\"full_address_x\", \"full_address_y\"]].to_list()"
   ]
  },
  {
   "cell_type": "markdown",
   "metadata": {},
   "source": [
    "### Quartier"
   ]
  },
  {
   "cell_type": "markdown",
   "metadata": {},
   "source": [
    "#### Taux de remplissage dans l'adresse"
   ]
  },
  {
   "cell_type": "code",
   "execution_count": 157,
   "metadata": {},
   "outputs": [
    {
     "output_type": "execute_result",
     "data": {
      "text/plain": "suburb  address_1  address_2\nFalse   False      False        0.00025\n                   True         0.00005\n        True       False        0.00680\n                   True         0.00350\nTrue    False      False        0.02300\n                   True         0.01650\n        True       False        0.57530\n                   True         0.37460\ndtype: float64"
     },
     "metadata": {},
     "execution_count": 157
    }
   ],
   "source": [
    "df_patient[[\"suburb\", \"address_1\", \"address_2\"]].notna().value_counts(normalize=True).sort_index()"
   ]
  },
  {
   "cell_type": "markdown",
   "metadata": {},
   "source": [
    "Le quartier est le plus souvent renseigné en complément du premier champ d'adresse.\n",
    "\n",
    "Il y a quelques rares cas où il est fourni seul, ou avec le second champ d'adresse seulement."
   ]
  },
  {
   "cell_type": "markdown",
   "metadata": {},
   "source": [
    "#### Fautes de saisie"
   ]
  },
  {
   "cell_type": "markdown",
   "metadata": {},
   "source": [
    "Certains couples quartier / postcode ont été inversées lors de la saisie."
   ]
  },
  {
   "cell_type": "code",
   "execution_count": 158,
   "metadata": {},
   "outputs": [
    {
     "output_type": "execute_result",
     "data": {
      "text/plain": "       patient_id given_name        surname  street_number  \\\n3976       810644    juliana      grosvenor              5   \n4080       986559      kirra  choi-lundberg            102   \n5792       752873    lochlan          blake            258   \n6218       902348      isaac         nakoje             19   \n6618       678110      jaden          green              5   \n9653       690348     andrew           ryan             20   \n9718       727290    tiffany         loukes             31   \n11333      738103       hugi         pascoe            167   \n14255      684359      sonia          green             50   \n15479      355033       abby           yoob            243   \n15575      572694   isabella        beddimg             17   \n18658      132735     jairys           dent              2   \n18784      241868       elly           webb            195   \n19150      674065   nichalas          mason             74   \n\n                     address_1 suburb              postcode state  \\\n3976             connelly pace   3023  port noarlunga south   tas   \n4080          centaurus street   6168             naremburn   vic   \n5792                      <NA>   4216             toowoobma    wa   \n6218            collier street   6017              brighton  <NA>   \n6618               dovey place   3185                oraneg   vic   \n9653   mainwaring rich circuit   3020             blacktown    wa   \n9718                leal place  467l0           forest hill   nsw   \n11333              leita court   3023          port lincoln   nsw   \n14255      kalgoorlie crescent   6112              ashfield    sa   \n15479            weston street   3181           forest hill  <NA>   \n15575        heidelberg street   3764             toowoomba   nsw   \n18658            hilder street   4214          regents park   qld   \n18784            duigan street   4160             kelmscott  <NA>   \n19150            murphy street   3133            donnybrook   vic   \n\n       date_of_birth   age phone_number    address_2            full_name  \n3976        19991215  <NA>  03 55227740         <NA>    juliana grosvenor  \n4080        19261104    27  08 69584599         <NA>  kirra choi-lundberg  \n5792        19080821    31  02 84630666         <NA>        lochlan blake  \n6218        19640421     8  02 69439226         <NA>         isaac nakoje  \n6618        19151204    23  02 73534391         <NA>          jaden green  \n9653        19760001    22         <NA>         <NA>          andrew ryan  \n9718        19760706    23         <NA>      pangani       tiffany loukes  \n11333       19040401  <NA>  07 84786511         <NA>          hugi pascoe  \n14255           <NA>     9  03 46671647         <NA>          sonia green  \n15479       19660615    26  02 68667816         <NA>            abby yoob  \n15575       19510108  <NA>  03 01075733  laurel bank     isabella beddimg  \n18658       19810913    31  02 92264278         <NA>          jairys dent  \n18784       19760507    27  04 01285849         <NA>            elly webb  \n19150       19070525    24         <NA>         <NA>       nichalas mason  ",
      "text/html": "<div>\n<style scoped>\n    .dataframe tbody tr th:only-of-type {\n        vertical-align: middle;\n    }\n\n    .dataframe tbody tr th {\n        vertical-align: top;\n    }\n\n    .dataframe thead th {\n        text-align: right;\n    }\n</style>\n<table border=\"1\" class=\"dataframe\">\n  <thead>\n    <tr style=\"text-align: right;\">\n      <th></th>\n      <th>patient_id</th>\n      <th>given_name</th>\n      <th>surname</th>\n      <th>street_number</th>\n      <th>address_1</th>\n      <th>suburb</th>\n      <th>postcode</th>\n      <th>state</th>\n      <th>date_of_birth</th>\n      <th>age</th>\n      <th>phone_number</th>\n      <th>address_2</th>\n      <th>full_name</th>\n    </tr>\n  </thead>\n  <tbody>\n    <tr>\n      <th>3976</th>\n      <td>810644</td>\n      <td>juliana</td>\n      <td>grosvenor</td>\n      <td>5</td>\n      <td>connelly pace</td>\n      <td>3023</td>\n      <td>port noarlunga south</td>\n      <td>tas</td>\n      <td>19991215</td>\n      <td>&lt;NA&gt;</td>\n      <td>03 55227740</td>\n      <td>&lt;NA&gt;</td>\n      <td>juliana grosvenor</td>\n    </tr>\n    <tr>\n      <th>4080</th>\n      <td>986559</td>\n      <td>kirra</td>\n      <td>choi-lundberg</td>\n      <td>102</td>\n      <td>centaurus street</td>\n      <td>6168</td>\n      <td>naremburn</td>\n      <td>vic</td>\n      <td>19261104</td>\n      <td>27</td>\n      <td>08 69584599</td>\n      <td>&lt;NA&gt;</td>\n      <td>kirra choi-lundberg</td>\n    </tr>\n    <tr>\n      <th>5792</th>\n      <td>752873</td>\n      <td>lochlan</td>\n      <td>blake</td>\n      <td>258</td>\n      <td>&lt;NA&gt;</td>\n      <td>4216</td>\n      <td>toowoobma</td>\n      <td>wa</td>\n      <td>19080821</td>\n      <td>31</td>\n      <td>02 84630666</td>\n      <td>&lt;NA&gt;</td>\n      <td>lochlan blake</td>\n    </tr>\n    <tr>\n      <th>6218</th>\n      <td>902348</td>\n      <td>isaac</td>\n      <td>nakoje</td>\n      <td>19</td>\n      <td>collier street</td>\n      <td>6017</td>\n      <td>brighton</td>\n      <td>&lt;NA&gt;</td>\n      <td>19640421</td>\n      <td>8</td>\n      <td>02 69439226</td>\n      <td>&lt;NA&gt;</td>\n      <td>isaac nakoje</td>\n    </tr>\n    <tr>\n      <th>6618</th>\n      <td>678110</td>\n      <td>jaden</td>\n      <td>green</td>\n      <td>5</td>\n      <td>dovey place</td>\n      <td>3185</td>\n      <td>oraneg</td>\n      <td>vic</td>\n      <td>19151204</td>\n      <td>23</td>\n      <td>02 73534391</td>\n      <td>&lt;NA&gt;</td>\n      <td>jaden green</td>\n    </tr>\n    <tr>\n      <th>9653</th>\n      <td>690348</td>\n      <td>andrew</td>\n      <td>ryan</td>\n      <td>20</td>\n      <td>mainwaring rich circuit</td>\n      <td>3020</td>\n      <td>blacktown</td>\n      <td>wa</td>\n      <td>19760001</td>\n      <td>22</td>\n      <td>&lt;NA&gt;</td>\n      <td>&lt;NA&gt;</td>\n      <td>andrew ryan</td>\n    </tr>\n    <tr>\n      <th>9718</th>\n      <td>727290</td>\n      <td>tiffany</td>\n      <td>loukes</td>\n      <td>31</td>\n      <td>leal place</td>\n      <td>467l0</td>\n      <td>forest hill</td>\n      <td>nsw</td>\n      <td>19760706</td>\n      <td>23</td>\n      <td>&lt;NA&gt;</td>\n      <td>pangani</td>\n      <td>tiffany loukes</td>\n    </tr>\n    <tr>\n      <th>11333</th>\n      <td>738103</td>\n      <td>hugi</td>\n      <td>pascoe</td>\n      <td>167</td>\n      <td>leita court</td>\n      <td>3023</td>\n      <td>port lincoln</td>\n      <td>nsw</td>\n      <td>19040401</td>\n      <td>&lt;NA&gt;</td>\n      <td>07 84786511</td>\n      <td>&lt;NA&gt;</td>\n      <td>hugi pascoe</td>\n    </tr>\n    <tr>\n      <th>14255</th>\n      <td>684359</td>\n      <td>sonia</td>\n      <td>green</td>\n      <td>50</td>\n      <td>kalgoorlie crescent</td>\n      <td>6112</td>\n      <td>ashfield</td>\n      <td>sa</td>\n      <td>&lt;NA&gt;</td>\n      <td>9</td>\n      <td>03 46671647</td>\n      <td>&lt;NA&gt;</td>\n      <td>sonia green</td>\n    </tr>\n    <tr>\n      <th>15479</th>\n      <td>355033</td>\n      <td>abby</td>\n      <td>yoob</td>\n      <td>243</td>\n      <td>weston street</td>\n      <td>3181</td>\n      <td>forest hill</td>\n      <td>&lt;NA&gt;</td>\n      <td>19660615</td>\n      <td>26</td>\n      <td>02 68667816</td>\n      <td>&lt;NA&gt;</td>\n      <td>abby yoob</td>\n    </tr>\n    <tr>\n      <th>15575</th>\n      <td>572694</td>\n      <td>isabella</td>\n      <td>beddimg</td>\n      <td>17</td>\n      <td>heidelberg street</td>\n      <td>3764</td>\n      <td>toowoomba</td>\n      <td>nsw</td>\n      <td>19510108</td>\n      <td>&lt;NA&gt;</td>\n      <td>03 01075733</td>\n      <td>laurel bank</td>\n      <td>isabella beddimg</td>\n    </tr>\n    <tr>\n      <th>18658</th>\n      <td>132735</td>\n      <td>jairys</td>\n      <td>dent</td>\n      <td>2</td>\n      <td>hilder street</td>\n      <td>4214</td>\n      <td>regents park</td>\n      <td>qld</td>\n      <td>19810913</td>\n      <td>31</td>\n      <td>02 92264278</td>\n      <td>&lt;NA&gt;</td>\n      <td>jairys dent</td>\n    </tr>\n    <tr>\n      <th>18784</th>\n      <td>241868</td>\n      <td>elly</td>\n      <td>webb</td>\n      <td>195</td>\n      <td>duigan street</td>\n      <td>4160</td>\n      <td>kelmscott</td>\n      <td>&lt;NA&gt;</td>\n      <td>19760507</td>\n      <td>27</td>\n      <td>04 01285849</td>\n      <td>&lt;NA&gt;</td>\n      <td>elly webb</td>\n    </tr>\n    <tr>\n      <th>19150</th>\n      <td>674065</td>\n      <td>nichalas</td>\n      <td>mason</td>\n      <td>74</td>\n      <td>murphy street</td>\n      <td>3133</td>\n      <td>donnybrook</td>\n      <td>vic</td>\n      <td>19070525</td>\n      <td>24</td>\n      <td>&lt;NA&gt;</td>\n      <td>&lt;NA&gt;</td>\n      <td>nichalas mason</td>\n    </tr>\n  </tbody>\n</table>\n</div>"
     },
     "metadata": {},
     "execution_count": 158
    }
   ],
   "source": [
    "df_patient.loc[df_patient.suburb.str.contains(r\"\\d\")]"
   ]
  },
  {
   "cell_type": "markdown",
   "metadata": {},
   "source": [
    "Pour ces patients, il faut procéder à l'inversion des valeurs du quartier et du code postal.\n",
    "\n",
    "Le code postal peut contenir un caractère alphabétique qu'il faudra supprimer (exemple `467l0` -> `4670`)."
   ]
  },
  {
   "cell_type": "code",
   "execution_count": 159,
   "metadata": {},
   "outputs": [
    {
     "output_type": "execute_result",
     "data": {
      "text/plain": "       patient_id given_name        surname  street_number  \\\n3976       810644    juliana      grosvenor              5   \n4080       986559      kirra  choi-lundberg            102   \n5792       752873    lochlan          blake            258   \n6218       902348      isaac         nakoje             19   \n6618       678110      jaden          green              5   \n9653       690348     andrew           ryan             20   \n9718       727290    tiffany         loukes             31   \n11333      738103       hugi         pascoe            167   \n14255      684359      sonia          green             50   \n15479      355033       abby           yoob            243   \n15575      572694   isabella        beddimg             17   \n18658      132735     jairys           dent              2   \n18784      241868       elly           webb            195   \n19150      674065   nichalas          mason             74   \n\n                     address_1                suburb postcode state  \\\n3976             connelly pace  port noarlunga south     3023   tas   \n4080          centaurus street             naremburn     6168   vic   \n5792                      <NA>             toowoobma     4216    wa   \n6218            collier street              brighton     6017  <NA>   \n6618               dovey place                oraneg     3185   vic   \n9653   mainwaring rich circuit             blacktown     3020    wa   \n9718                leal place           forest hill     4670   nsw   \n11333              leita court          port lincoln     3023   nsw   \n14255      kalgoorlie crescent              ashfield     6112    sa   \n15479            weston street           forest hill     3181  <NA>   \n15575        heidelberg street             toowoomba     3764   nsw   \n18658            hilder street          regents park     4214   qld   \n18784            duigan street             kelmscott     4160  <NA>   \n19150            murphy street            donnybrook     3133   vic   \n\n       date_of_birth   age phone_number    address_2            full_name  \n3976        19991215  <NA>  03 55227740         <NA>    juliana grosvenor  \n4080        19261104    27  08 69584599         <NA>  kirra choi-lundberg  \n5792        19080821    31  02 84630666         <NA>        lochlan blake  \n6218        19640421     8  02 69439226         <NA>         isaac nakoje  \n6618        19151204    23  02 73534391         <NA>          jaden green  \n9653        19760001    22         <NA>         <NA>          andrew ryan  \n9718        19760706    23         <NA>      pangani       tiffany loukes  \n11333       19040401  <NA>  07 84786511         <NA>          hugi pascoe  \n14255           <NA>     9  03 46671647         <NA>          sonia green  \n15479       19660615    26  02 68667816         <NA>            abby yoob  \n15575       19510108  <NA>  03 01075733  laurel bank     isabella beddimg  \n18658       19810913    31  02 92264278         <NA>          jairys dent  \n18784       19760507    27  04 01285849         <NA>            elly webb  \n19150       19070525    24         <NA>         <NA>       nichalas mason  ",
      "text/html": "<div>\n<style scoped>\n    .dataframe tbody tr th:only-of-type {\n        vertical-align: middle;\n    }\n\n    .dataframe tbody tr th {\n        vertical-align: top;\n    }\n\n    .dataframe thead th {\n        text-align: right;\n    }\n</style>\n<table border=\"1\" class=\"dataframe\">\n  <thead>\n    <tr style=\"text-align: right;\">\n      <th></th>\n      <th>patient_id</th>\n      <th>given_name</th>\n      <th>surname</th>\n      <th>street_number</th>\n      <th>address_1</th>\n      <th>suburb</th>\n      <th>postcode</th>\n      <th>state</th>\n      <th>date_of_birth</th>\n      <th>age</th>\n      <th>phone_number</th>\n      <th>address_2</th>\n      <th>full_name</th>\n    </tr>\n  </thead>\n  <tbody>\n    <tr>\n      <th>3976</th>\n      <td>810644</td>\n      <td>juliana</td>\n      <td>grosvenor</td>\n      <td>5</td>\n      <td>connelly pace</td>\n      <td>port noarlunga south</td>\n      <td>3023</td>\n      <td>tas</td>\n      <td>19991215</td>\n      <td>&lt;NA&gt;</td>\n      <td>03 55227740</td>\n      <td>&lt;NA&gt;</td>\n      <td>juliana grosvenor</td>\n    </tr>\n    <tr>\n      <th>4080</th>\n      <td>986559</td>\n      <td>kirra</td>\n      <td>choi-lundberg</td>\n      <td>102</td>\n      <td>centaurus street</td>\n      <td>naremburn</td>\n      <td>6168</td>\n      <td>vic</td>\n      <td>19261104</td>\n      <td>27</td>\n      <td>08 69584599</td>\n      <td>&lt;NA&gt;</td>\n      <td>kirra choi-lundberg</td>\n    </tr>\n    <tr>\n      <th>5792</th>\n      <td>752873</td>\n      <td>lochlan</td>\n      <td>blake</td>\n      <td>258</td>\n      <td>&lt;NA&gt;</td>\n      <td>toowoobma</td>\n      <td>4216</td>\n      <td>wa</td>\n      <td>19080821</td>\n      <td>31</td>\n      <td>02 84630666</td>\n      <td>&lt;NA&gt;</td>\n      <td>lochlan blake</td>\n    </tr>\n    <tr>\n      <th>6218</th>\n      <td>902348</td>\n      <td>isaac</td>\n      <td>nakoje</td>\n      <td>19</td>\n      <td>collier street</td>\n      <td>brighton</td>\n      <td>6017</td>\n      <td>&lt;NA&gt;</td>\n      <td>19640421</td>\n      <td>8</td>\n      <td>02 69439226</td>\n      <td>&lt;NA&gt;</td>\n      <td>isaac nakoje</td>\n    </tr>\n    <tr>\n      <th>6618</th>\n      <td>678110</td>\n      <td>jaden</td>\n      <td>green</td>\n      <td>5</td>\n      <td>dovey place</td>\n      <td>oraneg</td>\n      <td>3185</td>\n      <td>vic</td>\n      <td>19151204</td>\n      <td>23</td>\n      <td>02 73534391</td>\n      <td>&lt;NA&gt;</td>\n      <td>jaden green</td>\n    </tr>\n    <tr>\n      <th>9653</th>\n      <td>690348</td>\n      <td>andrew</td>\n      <td>ryan</td>\n      <td>20</td>\n      <td>mainwaring rich circuit</td>\n      <td>blacktown</td>\n      <td>3020</td>\n      <td>wa</td>\n      <td>19760001</td>\n      <td>22</td>\n      <td>&lt;NA&gt;</td>\n      <td>&lt;NA&gt;</td>\n      <td>andrew ryan</td>\n    </tr>\n    <tr>\n      <th>9718</th>\n      <td>727290</td>\n      <td>tiffany</td>\n      <td>loukes</td>\n      <td>31</td>\n      <td>leal place</td>\n      <td>forest hill</td>\n      <td>4670</td>\n      <td>nsw</td>\n      <td>19760706</td>\n      <td>23</td>\n      <td>&lt;NA&gt;</td>\n      <td>pangani</td>\n      <td>tiffany loukes</td>\n    </tr>\n    <tr>\n      <th>11333</th>\n      <td>738103</td>\n      <td>hugi</td>\n      <td>pascoe</td>\n      <td>167</td>\n      <td>leita court</td>\n      <td>port lincoln</td>\n      <td>3023</td>\n      <td>nsw</td>\n      <td>19040401</td>\n      <td>&lt;NA&gt;</td>\n      <td>07 84786511</td>\n      <td>&lt;NA&gt;</td>\n      <td>hugi pascoe</td>\n    </tr>\n    <tr>\n      <th>14255</th>\n      <td>684359</td>\n      <td>sonia</td>\n      <td>green</td>\n      <td>50</td>\n      <td>kalgoorlie crescent</td>\n      <td>ashfield</td>\n      <td>6112</td>\n      <td>sa</td>\n      <td>&lt;NA&gt;</td>\n      <td>9</td>\n      <td>03 46671647</td>\n      <td>&lt;NA&gt;</td>\n      <td>sonia green</td>\n    </tr>\n    <tr>\n      <th>15479</th>\n      <td>355033</td>\n      <td>abby</td>\n      <td>yoob</td>\n      <td>243</td>\n      <td>weston street</td>\n      <td>forest hill</td>\n      <td>3181</td>\n      <td>&lt;NA&gt;</td>\n      <td>19660615</td>\n      <td>26</td>\n      <td>02 68667816</td>\n      <td>&lt;NA&gt;</td>\n      <td>abby yoob</td>\n    </tr>\n    <tr>\n      <th>15575</th>\n      <td>572694</td>\n      <td>isabella</td>\n      <td>beddimg</td>\n      <td>17</td>\n      <td>heidelberg street</td>\n      <td>toowoomba</td>\n      <td>3764</td>\n      <td>nsw</td>\n      <td>19510108</td>\n      <td>&lt;NA&gt;</td>\n      <td>03 01075733</td>\n      <td>laurel bank</td>\n      <td>isabella beddimg</td>\n    </tr>\n    <tr>\n      <th>18658</th>\n      <td>132735</td>\n      <td>jairys</td>\n      <td>dent</td>\n      <td>2</td>\n      <td>hilder street</td>\n      <td>regents park</td>\n      <td>4214</td>\n      <td>qld</td>\n      <td>19810913</td>\n      <td>31</td>\n      <td>02 92264278</td>\n      <td>&lt;NA&gt;</td>\n      <td>jairys dent</td>\n    </tr>\n    <tr>\n      <th>18784</th>\n      <td>241868</td>\n      <td>elly</td>\n      <td>webb</td>\n      <td>195</td>\n      <td>duigan street</td>\n      <td>kelmscott</td>\n      <td>4160</td>\n      <td>&lt;NA&gt;</td>\n      <td>19760507</td>\n      <td>27</td>\n      <td>04 01285849</td>\n      <td>&lt;NA&gt;</td>\n      <td>elly webb</td>\n    </tr>\n    <tr>\n      <th>19150</th>\n      <td>674065</td>\n      <td>nichalas</td>\n      <td>mason</td>\n      <td>74</td>\n      <td>murphy street</td>\n      <td>donnybrook</td>\n      <td>3133</td>\n      <td>vic</td>\n      <td>19070525</td>\n      <td>24</td>\n      <td>&lt;NA&gt;</td>\n      <td>&lt;NA&gt;</td>\n      <td>nichalas mason</td>\n    </tr>\n  </tbody>\n</table>\n</div>"
     },
     "metadata": {},
     "execution_count": 159
    }
   ],
   "source": [
    "swapped_suburb_postcode = df_patient.loc[df_patient.suburb.str.contains(r\"\\d\"), [\"suburb\", \"postcode\"]]\n",
    "\n",
    "swapped_suburb_postcode[\"suburb\"], swapped_suburb_postcode[\"postcode\"] = \\\n",
    "    swapped_suburb_postcode[\"postcode\"], swapped_suburb_postcode[\"suburb\"].str.replace(r\"[a-z]\", \"\")\n",
    "\n",
    "df_patient.update(swapped_suburb_postcode)\n",
    "\n",
    "df_patient.iloc[swapped_suburb_postcode.index]"
   ]
  },
  {
   "cell_type": "markdown",
   "metadata": {},
   "source": []
  },
  {
   "cell_type": "markdown",
   "metadata": {},
   "source": [
    "### État"
   ]
  },
  {
   "cell_type": "markdown",
   "metadata": {},
   "source": [
    "Répartition des valeurs"
   ]
  },
  {
   "cell_type": "code",
   "execution_count": 160,
   "metadata": {
    "tags": []
   },
   "outputs": [],
   "source": [
    "state_counts = df_patient.state.value_counts()"
   ]
  },
  {
   "cell_type": "markdown",
   "metadata": {},
   "source": [
    "On retrouve les codes des 8 états de l'Australie."
   ]
  },
  {
   "cell_type": "code",
   "execution_count": 161,
   "metadata": {},
   "outputs": [
    {
     "output_type": "execute_result",
     "data": {
      "text/plain": "nsw    6189\nvic    4382\nqld    3548\nwa     1598\nsa     1397\ntas     511\nact     250\nnt      135\nName: state, dtype: int64"
     },
     "metadata": {},
     "execution_count": 161
    }
   ],
   "source": [
    "state_counts.head(8)"
   ]
  },
  {
   "cell_type": "markdown",
   "metadata": {},
   "source": [
    "Et 94 autres codes d'état à rectifier."
   ]
  },
  {
   "cell_type": "code",
   "execution_count": 162,
   "metadata": {},
   "outputs": [
    {
     "output_type": "execute_result",
     "data": {
      "text/plain": "Series([], Name: state, dtype: int64)"
     },
     "metadata": {},
     "execution_count": 162
    }
   ],
   "source": [
    "state_counts[8:]"
   ]
  },
  {
   "cell_type": "markdown",
   "metadata": {},
   "source": [
    "On effectue un premier rapprochement par une distance d'édition très courte."
   ]
  },
  {
   "cell_type": "code",
   "execution_count": 163,
   "metadata": {},
   "outputs": [
    {
     "output_type": "execute_result",
     "data": {
      "text/plain": "{}"
     },
     "metadata": {},
     "execution_count": 163
    }
   ],
   "source": [
    "from itertools import product\n",
    "from jellyfish import damerau_levenshtein_distance\n",
    "\n",
    "states = state_counts[:8].index.tolist()\n",
    "codes = state_counts[8:].index.tolist()\n",
    "\n",
    "code_to_state = pd.DataFrame(\n",
    "    data=[damerau_levenshtein_distance(c, s) for c, s in product(codes, states)],\n",
    "    index=pd.MultiIndex.from_product([codes, states], names=[\"code\", \"state\"]),\n",
    "    columns=[\"distance\"],\n",
    ")\n",
    "\n",
    "code_to_state = (\n",
    "    code_to_state[code_to_state.distance == 1]\n",
    "        .drop(columns=\"distance\")\n",
    "        .reset_index(\"code\")\n",
    "        .drop_duplicates(\"code\", keep=False)\n",
    "        .reset_index()\n",
    "        .set_index(\"code\")\n",
    ")[\"state\"]\n",
    "\n",
    "code_to_state.to_dict()"
   ]
  },
  {
   "cell_type": "markdown",
   "metadata": {},
   "source": [
    "Correction des états."
   ]
  },
  {
   "cell_type": "code",
   "execution_count": 164,
   "metadata": {},
   "outputs": [],
   "source": [
    "df_patient.state.replace(code_to_state.to_dict(), inplace=True)"
   ]
  },
  {
   "cell_type": "markdown",
   "metadata": {},
   "source": [
    "Liste des codes restant à rapprocher."
   ]
  },
  {
   "cell_type": "code",
   "execution_count": 165,
   "metadata": {},
   "outputs": [
    {
     "output_type": "execute_result",
     "data": {
      "text/plain": "Series([], Name: state, dtype: int64)"
     },
     "metadata": {},
     "execution_count": 165
    }
   ],
   "source": [
    "state_counts = df_patient.state.value_counts()\n",
    "\n",
    "state_counts[8:]"
   ]
  },
  {
   "cell_type": "markdown",
   "metadata": {},
   "source": [
    "On constate qu'ils ont tous un code postal renseigné."
   ]
  },
  {
   "cell_type": "code",
   "execution_count": 166,
   "metadata": {},
   "outputs": [
    {
     "output_type": "execute_result",
     "data": {
      "text/plain": "state       0\npostcode    0\ndtype: int64"
     },
     "metadata": {},
     "execution_count": 166
    }
   ],
   "source": [
    "invalid_states = state_counts[8:].index.to_list()\n",
    "\n",
    "df_patient_with_invalid_state = df_patient.loc[df_patient.state.isin(invalid_states)]\n",
    "\n",
    "df_patient_with_invalid_state[[\"state\", \"postcode\"]].count()"
   ]
  },
  {
   "cell_type": "markdown",
   "metadata": {},
   "source": [
    "Utilisation d'un service de géocodage pour déduire l'état à partir du code postal."
   ]
  },
  {
   "cell_type": "code",
   "execution_count": 167,
   "metadata": {},
   "outputs": [
    {
     "output_type": "error",
     "ename": "ValueError",
     "evalue": "Wrong number of items passed 13, placement implies 1",
     "traceback": [
      "\u001b[0;31m---------------------------------------------------------------------------\u001b[0m",
      "\u001b[0;31mKeyError\u001b[0m                                  Traceback (most recent call last)",
      "\u001b[0;32m~/.local/miniconda3/envs/inria-aphp-assignment/lib/python3.8/site-packages/pandas/core/indexes/base.py\u001b[0m in \u001b[0;36mget_loc\u001b[0;34m(self, key, method, tolerance)\u001b[0m\n\u001b[1;32m   2888\u001b[0m             \u001b[0;32mtry\u001b[0m\u001b[0;34m:\u001b[0m\u001b[0;34m\u001b[0m\u001b[0;34m\u001b[0m\u001b[0m\n\u001b[0;32m-> 2889\u001b[0;31m                 \u001b[0;32mreturn\u001b[0m \u001b[0mself\u001b[0m\u001b[0;34m.\u001b[0m\u001b[0m_engine\u001b[0m\u001b[0;34m.\u001b[0m\u001b[0mget_loc\u001b[0m\u001b[0;34m(\u001b[0m\u001b[0mcasted_key\u001b[0m\u001b[0;34m)\u001b[0m\u001b[0;34m\u001b[0m\u001b[0;34m\u001b[0m\u001b[0m\n\u001b[0m\u001b[1;32m   2890\u001b[0m             \u001b[0;32mexcept\u001b[0m \u001b[0mKeyError\u001b[0m \u001b[0;32mas\u001b[0m \u001b[0merr\u001b[0m\u001b[0;34m:\u001b[0m\u001b[0;34m\u001b[0m\u001b[0;34m\u001b[0m\u001b[0m\n",
      "\u001b[0;32mpandas/_libs/index.pyx\u001b[0m in \u001b[0;36mpandas._libs.index.IndexEngine.get_loc\u001b[0;34m()\u001b[0m\n",
      "\u001b[0;32mpandas/_libs/index.pyx\u001b[0m in \u001b[0;36mpandas._libs.index.IndexEngine.get_loc\u001b[0;34m()\u001b[0m\n",
      "\u001b[0;32mpandas/_libs/hashtable_class_helper.pxi\u001b[0m in \u001b[0;36mpandas._libs.hashtable.PyObjectHashTable.get_item\u001b[0;34m()\u001b[0m\n",
      "\u001b[0;32mpandas/_libs/hashtable_class_helper.pxi\u001b[0m in \u001b[0;36mpandas._libs.hashtable.PyObjectHashTable.get_item\u001b[0;34m()\u001b[0m\n",
      "\u001b[0;31mKeyError\u001b[0m: 'nominatim'",
      "\nThe above exception was the direct cause of the following exception:\n",
      "\u001b[0;31mKeyError\u001b[0m                                  Traceback (most recent call last)",
      "\u001b[0;32m~/.local/miniconda3/envs/inria-aphp-assignment/lib/python3.8/site-packages/pandas/core/generic.py\u001b[0m in \u001b[0;36m_set_item\u001b[0;34m(self, key, value)\u001b[0m\n\u001b[1;32m   3564\u001b[0m         \u001b[0;32mtry\u001b[0m\u001b[0;34m:\u001b[0m\u001b[0;34m\u001b[0m\u001b[0;34m\u001b[0m\u001b[0m\n\u001b[0;32m-> 3565\u001b[0;31m             \u001b[0mloc\u001b[0m \u001b[0;34m=\u001b[0m \u001b[0mself\u001b[0m\u001b[0;34m.\u001b[0m\u001b[0m_info_axis\u001b[0m\u001b[0;34m.\u001b[0m\u001b[0mget_loc\u001b[0m\u001b[0;34m(\u001b[0m\u001b[0mkey\u001b[0m\u001b[0;34m)\u001b[0m\u001b[0;34m\u001b[0m\u001b[0;34m\u001b[0m\u001b[0m\n\u001b[0m\u001b[1;32m   3566\u001b[0m         \u001b[0;32mexcept\u001b[0m \u001b[0mKeyError\u001b[0m\u001b[0;34m:\u001b[0m\u001b[0;34m\u001b[0m\u001b[0;34m\u001b[0m\u001b[0m\n",
      "\u001b[0;32m~/.local/miniconda3/envs/inria-aphp-assignment/lib/python3.8/site-packages/pandas/core/indexes/base.py\u001b[0m in \u001b[0;36mget_loc\u001b[0;34m(self, key, method, tolerance)\u001b[0m\n\u001b[1;32m   2890\u001b[0m             \u001b[0;32mexcept\u001b[0m \u001b[0mKeyError\u001b[0m \u001b[0;32mas\u001b[0m \u001b[0merr\u001b[0m\u001b[0;34m:\u001b[0m\u001b[0;34m\u001b[0m\u001b[0;34m\u001b[0m\u001b[0m\n\u001b[0;32m-> 2891\u001b[0;31m                 \u001b[0;32mraise\u001b[0m \u001b[0mKeyError\u001b[0m\u001b[0;34m(\u001b[0m\u001b[0mkey\u001b[0m\u001b[0;34m)\u001b[0m \u001b[0;32mfrom\u001b[0m \u001b[0merr\u001b[0m\u001b[0;34m\u001b[0m\u001b[0;34m\u001b[0m\u001b[0m\n\u001b[0m\u001b[1;32m   2892\u001b[0m \u001b[0;34m\u001b[0m\u001b[0m\n",
      "\u001b[0;31mKeyError\u001b[0m: 'nominatim'",
      "\nDuring handling of the above exception, another exception occurred:\n",
      "\u001b[0;31mValueError\u001b[0m                                Traceback (most recent call last)",
      "\u001b[0;32m<ipython-input-167-c3ec3bce4d1e>\u001b[0m in \u001b[0;36m<module>\u001b[0;34m\u001b[0m\n\u001b[1;32m      2\u001b[0m \u001b[0;34m\u001b[0m\u001b[0m\n\u001b[1;32m      3\u001b[0m \u001b[0mgeocoder\u001b[0m \u001b[0;34m=\u001b[0m \u001b[0mNominatim\u001b[0m\u001b[0;34m(\u001b[0m\u001b[0muser_agent\u001b[0m\u001b[0;34m=\u001b[0m\u001b[0;34m\"inria-aphp-assignment\"\u001b[0m\u001b[0;34m)\u001b[0m\u001b[0;34m\u001b[0m\u001b[0;34m\u001b[0m\u001b[0m\n\u001b[0;32m----> 4\u001b[0;31m df_patient_with_invalid_state[\"nominatim\"] = df_patient_with_invalid_state.apply(\n\u001b[0m\u001b[1;32m      5\u001b[0m     lambda row: geocoder.geocode(f\"{row.postcode}, australia\").address, axis=1)\n\u001b[1;32m      6\u001b[0m \u001b[0;34m\u001b[0m\u001b[0m\n",
      "\u001b[0;32m~/.local/miniconda3/envs/inria-aphp-assignment/lib/python3.8/site-packages/pandas/core/frame.py\u001b[0m in \u001b[0;36m__setitem__\u001b[0;34m(self, key, value)\u001b[0m\n\u001b[1;32m   3038\u001b[0m         \u001b[0;32melse\u001b[0m\u001b[0;34m:\u001b[0m\u001b[0;34m\u001b[0m\u001b[0;34m\u001b[0m\u001b[0m\n\u001b[1;32m   3039\u001b[0m             \u001b[0;31m# set column\u001b[0m\u001b[0;34m\u001b[0m\u001b[0;34m\u001b[0m\u001b[0;34m\u001b[0m\u001b[0m\n\u001b[0;32m-> 3040\u001b[0;31m             \u001b[0mself\u001b[0m\u001b[0;34m.\u001b[0m\u001b[0m_set_item\u001b[0m\u001b[0;34m(\u001b[0m\u001b[0mkey\u001b[0m\u001b[0;34m,\u001b[0m \u001b[0mvalue\u001b[0m\u001b[0;34m)\u001b[0m\u001b[0;34m\u001b[0m\u001b[0;34m\u001b[0m\u001b[0m\n\u001b[0m\u001b[1;32m   3041\u001b[0m \u001b[0;34m\u001b[0m\u001b[0m\n\u001b[1;32m   3042\u001b[0m     \u001b[0;32mdef\u001b[0m \u001b[0m_setitem_slice\u001b[0m\u001b[0;34m(\u001b[0m\u001b[0mself\u001b[0m\u001b[0;34m,\u001b[0m \u001b[0mkey\u001b[0m\u001b[0;34m:\u001b[0m \u001b[0mslice\u001b[0m\u001b[0;34m,\u001b[0m \u001b[0mvalue\u001b[0m\u001b[0;34m)\u001b[0m\u001b[0;34m:\u001b[0m\u001b[0;34m\u001b[0m\u001b[0;34m\u001b[0m\u001b[0m\n",
      "\u001b[0;32m~/.local/miniconda3/envs/inria-aphp-assignment/lib/python3.8/site-packages/pandas/core/frame.py\u001b[0m in \u001b[0;36m_set_item\u001b[0;34m(self, key, value)\u001b[0m\n\u001b[1;32m   3115\u001b[0m         \u001b[0mself\u001b[0m\u001b[0;34m.\u001b[0m\u001b[0m_ensure_valid_index\u001b[0m\u001b[0;34m(\u001b[0m\u001b[0mvalue\u001b[0m\u001b[0;34m)\u001b[0m\u001b[0;34m\u001b[0m\u001b[0;34m\u001b[0m\u001b[0m\n\u001b[1;32m   3116\u001b[0m         \u001b[0mvalue\u001b[0m \u001b[0;34m=\u001b[0m \u001b[0mself\u001b[0m\u001b[0;34m.\u001b[0m\u001b[0m_sanitize_column\u001b[0m\u001b[0;34m(\u001b[0m\u001b[0mkey\u001b[0m\u001b[0;34m,\u001b[0m \u001b[0mvalue\u001b[0m\u001b[0;34m)\u001b[0m\u001b[0;34m\u001b[0m\u001b[0;34m\u001b[0m\u001b[0m\n\u001b[0;32m-> 3117\u001b[0;31m         \u001b[0mNDFrame\u001b[0m\u001b[0;34m.\u001b[0m\u001b[0m_set_item\u001b[0m\u001b[0;34m(\u001b[0m\u001b[0mself\u001b[0m\u001b[0;34m,\u001b[0m \u001b[0mkey\u001b[0m\u001b[0;34m,\u001b[0m \u001b[0mvalue\u001b[0m\u001b[0;34m)\u001b[0m\u001b[0;34m\u001b[0m\u001b[0;34m\u001b[0m\u001b[0m\n\u001b[0m\u001b[1;32m   3118\u001b[0m \u001b[0;34m\u001b[0m\u001b[0m\n\u001b[1;32m   3119\u001b[0m         \u001b[0;31m# check if we are modifying a copy\u001b[0m\u001b[0;34m\u001b[0m\u001b[0;34m\u001b[0m\u001b[0;34m\u001b[0m\u001b[0m\n",
      "\u001b[0;32m~/.local/miniconda3/envs/inria-aphp-assignment/lib/python3.8/site-packages/pandas/core/generic.py\u001b[0m in \u001b[0;36m_set_item\u001b[0;34m(self, key, value)\u001b[0m\n\u001b[1;32m   3566\u001b[0m         \u001b[0;32mexcept\u001b[0m \u001b[0mKeyError\u001b[0m\u001b[0;34m:\u001b[0m\u001b[0;34m\u001b[0m\u001b[0;34m\u001b[0m\u001b[0m\n\u001b[1;32m   3567\u001b[0m             \u001b[0;31m# This item wasn't present, just insert at end\u001b[0m\u001b[0;34m\u001b[0m\u001b[0;34m\u001b[0m\u001b[0;34m\u001b[0m\u001b[0m\n\u001b[0;32m-> 3568\u001b[0;31m             \u001b[0mself\u001b[0m\u001b[0;34m.\u001b[0m\u001b[0m_mgr\u001b[0m\u001b[0;34m.\u001b[0m\u001b[0minsert\u001b[0m\u001b[0;34m(\u001b[0m\u001b[0mlen\u001b[0m\u001b[0;34m(\u001b[0m\u001b[0mself\u001b[0m\u001b[0;34m.\u001b[0m\u001b[0m_info_axis\u001b[0m\u001b[0;34m)\u001b[0m\u001b[0;34m,\u001b[0m \u001b[0mkey\u001b[0m\u001b[0;34m,\u001b[0m \u001b[0mvalue\u001b[0m\u001b[0;34m)\u001b[0m\u001b[0;34m\u001b[0m\u001b[0;34m\u001b[0m\u001b[0m\n\u001b[0m\u001b[1;32m   3569\u001b[0m             \u001b[0;32mreturn\u001b[0m\u001b[0;34m\u001b[0m\u001b[0;34m\u001b[0m\u001b[0m\n\u001b[1;32m   3570\u001b[0m \u001b[0;34m\u001b[0m\u001b[0m\n",
      "\u001b[0;32m~/.local/miniconda3/envs/inria-aphp-assignment/lib/python3.8/site-packages/pandas/core/internals/managers.py\u001b[0m in \u001b[0;36minsert\u001b[0;34m(self, loc, item, value, allow_duplicates)\u001b[0m\n\u001b[1;32m   1187\u001b[0m             \u001b[0mvalue\u001b[0m \u001b[0;34m=\u001b[0m \u001b[0m_safe_reshape\u001b[0m\u001b[0;34m(\u001b[0m\u001b[0mvalue\u001b[0m\u001b[0;34m,\u001b[0m \u001b[0;34m(\u001b[0m\u001b[0;36m1\u001b[0m\u001b[0;34m,\u001b[0m\u001b[0;34m)\u001b[0m \u001b[0;34m+\u001b[0m \u001b[0mvalue\u001b[0m\u001b[0;34m.\u001b[0m\u001b[0mshape\u001b[0m\u001b[0;34m)\u001b[0m\u001b[0;34m\u001b[0m\u001b[0;34m\u001b[0m\u001b[0m\n\u001b[1;32m   1188\u001b[0m \u001b[0;34m\u001b[0m\u001b[0m\n\u001b[0;32m-> 1189\u001b[0;31m         \u001b[0mblock\u001b[0m \u001b[0;34m=\u001b[0m \u001b[0mmake_block\u001b[0m\u001b[0;34m(\u001b[0m\u001b[0mvalues\u001b[0m\u001b[0;34m=\u001b[0m\u001b[0mvalue\u001b[0m\u001b[0;34m,\u001b[0m \u001b[0mndim\u001b[0m\u001b[0;34m=\u001b[0m\u001b[0mself\u001b[0m\u001b[0;34m.\u001b[0m\u001b[0mndim\u001b[0m\u001b[0;34m,\u001b[0m \u001b[0mplacement\u001b[0m\u001b[0;34m=\u001b[0m\u001b[0mslice\u001b[0m\u001b[0;34m(\u001b[0m\u001b[0mloc\u001b[0m\u001b[0;34m,\u001b[0m \u001b[0mloc\u001b[0m \u001b[0;34m+\u001b[0m \u001b[0;36m1\u001b[0m\u001b[0;34m)\u001b[0m\u001b[0;34m)\u001b[0m\u001b[0;34m\u001b[0m\u001b[0;34m\u001b[0m\u001b[0m\n\u001b[0m\u001b[1;32m   1190\u001b[0m \u001b[0;34m\u001b[0m\u001b[0m\n\u001b[1;32m   1191\u001b[0m         \u001b[0;32mfor\u001b[0m \u001b[0mblkno\u001b[0m\u001b[0;34m,\u001b[0m \u001b[0mcount\u001b[0m \u001b[0;32min\u001b[0m \u001b[0m_fast_count_smallints\u001b[0m\u001b[0;34m(\u001b[0m\u001b[0mself\u001b[0m\u001b[0;34m.\u001b[0m\u001b[0mblknos\u001b[0m\u001b[0;34m[\u001b[0m\u001b[0mloc\u001b[0m\u001b[0;34m:\u001b[0m\u001b[0;34m]\u001b[0m\u001b[0;34m)\u001b[0m\u001b[0;34m:\u001b[0m\u001b[0;34m\u001b[0m\u001b[0;34m\u001b[0m\u001b[0m\n",
      "\u001b[0;32m~/.local/miniconda3/envs/inria-aphp-assignment/lib/python3.8/site-packages/pandas/core/internals/blocks.py\u001b[0m in \u001b[0;36mmake_block\u001b[0;34m(values, placement, klass, ndim, dtype)\u001b[0m\n\u001b[1;32m   2712\u001b[0m         \u001b[0mvalues\u001b[0m \u001b[0;34m=\u001b[0m \u001b[0mDatetimeArray\u001b[0m\u001b[0;34m.\u001b[0m\u001b[0m_simple_new\u001b[0m\u001b[0;34m(\u001b[0m\u001b[0mvalues\u001b[0m\u001b[0;34m,\u001b[0m \u001b[0mdtype\u001b[0m\u001b[0;34m=\u001b[0m\u001b[0mdtype\u001b[0m\u001b[0;34m)\u001b[0m\u001b[0;34m\u001b[0m\u001b[0;34m\u001b[0m\u001b[0m\n\u001b[1;32m   2713\u001b[0m \u001b[0;34m\u001b[0m\u001b[0m\n\u001b[0;32m-> 2714\u001b[0;31m     \u001b[0;32mreturn\u001b[0m \u001b[0mklass\u001b[0m\u001b[0;34m(\u001b[0m\u001b[0mvalues\u001b[0m\u001b[0;34m,\u001b[0m \u001b[0mndim\u001b[0m\u001b[0;34m=\u001b[0m\u001b[0mndim\u001b[0m\u001b[0;34m,\u001b[0m \u001b[0mplacement\u001b[0m\u001b[0;34m=\u001b[0m\u001b[0mplacement\u001b[0m\u001b[0;34m)\u001b[0m\u001b[0;34m\u001b[0m\u001b[0;34m\u001b[0m\u001b[0m\n\u001b[0m\u001b[1;32m   2715\u001b[0m \u001b[0;34m\u001b[0m\u001b[0m\n\u001b[1;32m   2716\u001b[0m \u001b[0;34m\u001b[0m\u001b[0m\n",
      "\u001b[0;32m~/.local/miniconda3/envs/inria-aphp-assignment/lib/python3.8/site-packages/pandas/core/internals/blocks.py\u001b[0m in \u001b[0;36m__init__\u001b[0;34m(self, values, placement, ndim)\u001b[0m\n\u001b[1;32m   2368\u001b[0m             \u001b[0mvalues\u001b[0m \u001b[0;34m=\u001b[0m \u001b[0mnp\u001b[0m\u001b[0;34m.\u001b[0m\u001b[0marray\u001b[0m\u001b[0;34m(\u001b[0m\u001b[0mvalues\u001b[0m\u001b[0;34m,\u001b[0m \u001b[0mdtype\u001b[0m\u001b[0;34m=\u001b[0m\u001b[0mobject\u001b[0m\u001b[0;34m)\u001b[0m\u001b[0;34m\u001b[0m\u001b[0;34m\u001b[0m\u001b[0m\n\u001b[1;32m   2369\u001b[0m \u001b[0;34m\u001b[0m\u001b[0m\n\u001b[0;32m-> 2370\u001b[0;31m         \u001b[0msuper\u001b[0m\u001b[0;34m(\u001b[0m\u001b[0;34m)\u001b[0m\u001b[0;34m.\u001b[0m\u001b[0m__init__\u001b[0m\u001b[0;34m(\u001b[0m\u001b[0mvalues\u001b[0m\u001b[0;34m,\u001b[0m \u001b[0mndim\u001b[0m\u001b[0;34m=\u001b[0m\u001b[0mndim\u001b[0m\u001b[0;34m,\u001b[0m \u001b[0mplacement\u001b[0m\u001b[0;34m=\u001b[0m\u001b[0mplacement\u001b[0m\u001b[0;34m)\u001b[0m\u001b[0;34m\u001b[0m\u001b[0;34m\u001b[0m\u001b[0m\n\u001b[0m\u001b[1;32m   2371\u001b[0m \u001b[0;34m\u001b[0m\u001b[0m\n\u001b[1;32m   2372\u001b[0m     \u001b[0;34m@\u001b[0m\u001b[0mproperty\u001b[0m\u001b[0;34m\u001b[0m\u001b[0;34m\u001b[0m\u001b[0m\n",
      "\u001b[0;32m~/.local/miniconda3/envs/inria-aphp-assignment/lib/python3.8/site-packages/pandas/core/internals/blocks.py\u001b[0m in \u001b[0;36m__init__\u001b[0;34m(self, values, placement, ndim)\u001b[0m\n\u001b[1;32m    127\u001b[0m \u001b[0;34m\u001b[0m\u001b[0m\n\u001b[1;32m    128\u001b[0m         \u001b[0;32mif\u001b[0m \u001b[0mself\u001b[0m\u001b[0;34m.\u001b[0m\u001b[0m_validate_ndim\u001b[0m \u001b[0;32mand\u001b[0m \u001b[0mself\u001b[0m\u001b[0;34m.\u001b[0m\u001b[0mndim\u001b[0m \u001b[0;32mand\u001b[0m \u001b[0mlen\u001b[0m\u001b[0;34m(\u001b[0m\u001b[0mself\u001b[0m\u001b[0;34m.\u001b[0m\u001b[0mmgr_locs\u001b[0m\u001b[0;34m)\u001b[0m \u001b[0;34m!=\u001b[0m \u001b[0mlen\u001b[0m\u001b[0;34m(\u001b[0m\u001b[0mself\u001b[0m\u001b[0;34m.\u001b[0m\u001b[0mvalues\u001b[0m\u001b[0;34m)\u001b[0m\u001b[0;34m:\u001b[0m\u001b[0;34m\u001b[0m\u001b[0;34m\u001b[0m\u001b[0m\n\u001b[0;32m--> 129\u001b[0;31m             raise ValueError(\n\u001b[0m\u001b[1;32m    130\u001b[0m                 \u001b[0;34mf\"Wrong number of items passed {len(self.values)}, \"\u001b[0m\u001b[0;34m\u001b[0m\u001b[0;34m\u001b[0m\u001b[0m\n\u001b[1;32m    131\u001b[0m                 \u001b[0;34mf\"placement implies {len(self.mgr_locs)}\"\u001b[0m\u001b[0;34m\u001b[0m\u001b[0;34m\u001b[0m\u001b[0m\n",
      "\u001b[0;31mValueError\u001b[0m: Wrong number of items passed 13, placement implies 1"
     ]
    }
   ],
   "source": [
    "from geopy.geocoders import Nominatim\n",
    "\n",
    "geocoder = Nominatim(user_agent=\"inria-aphp-assignment\")\n",
    "df_patient_with_invalid_state[\"nominatim\"] = df_patient_with_invalid_state.apply(\n",
    "    lambda row: geocoder.geocode(f\"{row.postcode}, australia\").address, axis=1)\n",
    "\n",
    "df_patient_with_invalid_state[[\"postcode\", \"state\", \"nominatim\"]].head()"
   ]
  },
  {
   "cell_type": "markdown",
   "metadata": {},
   "source": [
    "On utilise `geopy` qui fournit une interface commune vers plusieurs services de géocodage, dont Nominatim (OpenStreetMap) qui est gratuit. Des limites de débits d'appliquent et la réponse de l'API est lente, donc il ne faut pas trop en abuser."
   ]
  },
  {
   "cell_type": "markdown",
   "metadata": {},
   "source": [
    "On extrait le libellé complet de l'état de l'adresse géocodée par Nominatim et le recode."
   ]
  },
  {
   "cell_type": "code",
   "execution_count": 168,
   "metadata": {},
   "outputs": [
    {
     "output_type": "error",
     "ename": "AttributeError",
     "evalue": "'DataFrame' object has no attribute 'nominatim'",
     "traceback": [
      "\u001b[0;31m---------------------------------------------------------------------------\u001b[0m",
      "\u001b[0;31mAttributeError\u001b[0m                            Traceback (most recent call last)",
      "\u001b[0;32m<ipython-input-168-7ce6a9180329>\u001b[0m in \u001b[0;36m<module>\u001b[0;34m\u001b[0m\n\u001b[1;32m      1\u001b[0m df_patient_with_invalid_state[\"state_from_nominatim\"] = (\n\u001b[0;32m----> 2\u001b[0;31m     \u001b[0mdf_patient_with_invalid_state\u001b[0m\u001b[0;34m.\u001b[0m\u001b[0mnominatim\u001b[0m\u001b[0;34m\u001b[0m\u001b[0;34m\u001b[0m\u001b[0m\n\u001b[0m\u001b[1;32m      3\u001b[0m         \u001b[0;34m.\u001b[0m\u001b[0mstr\u001b[0m\u001b[0;34m.\u001b[0m\u001b[0mextract\u001b[0m\u001b[0;34m(\u001b[0m\u001b[0;34mr\"(\\w[\\w\\s]*),\\s\\d{4}\"\u001b[0m\u001b[0;34m,\u001b[0m \u001b[0mexpand\u001b[0m\u001b[0;34m=\u001b[0m\u001b[0;32mFalse\u001b[0m\u001b[0;34m)\u001b[0m\u001b[0;34m\u001b[0m\u001b[0;34m\u001b[0m\u001b[0m\n\u001b[1;32m      4\u001b[0m         \u001b[0;34m.\u001b[0m\u001b[0mstr\u001b[0m\u001b[0;34m.\u001b[0m\u001b[0mlower\u001b[0m\u001b[0;34m(\u001b[0m\u001b[0;34m)\u001b[0m\u001b[0;34m\u001b[0m\u001b[0;34m\u001b[0m\u001b[0m\n\u001b[1;32m      5\u001b[0m         .replace({\n",
      "\u001b[0;32m~/.local/miniconda3/envs/inria-aphp-assignment/lib/python3.8/site-packages/pandas/core/generic.py\u001b[0m in \u001b[0;36m__getattr__\u001b[0;34m(self, name)\u001b[0m\n\u001b[1;32m   5128\u001b[0m             \u001b[0;32mif\u001b[0m \u001b[0mself\u001b[0m\u001b[0;34m.\u001b[0m\u001b[0m_info_axis\u001b[0m\u001b[0;34m.\u001b[0m\u001b[0m_can_hold_identifiers_and_holds_name\u001b[0m\u001b[0;34m(\u001b[0m\u001b[0mname\u001b[0m\u001b[0;34m)\u001b[0m\u001b[0;34m:\u001b[0m\u001b[0;34m\u001b[0m\u001b[0;34m\u001b[0m\u001b[0m\n\u001b[1;32m   5129\u001b[0m                 \u001b[0;32mreturn\u001b[0m \u001b[0mself\u001b[0m\u001b[0;34m[\u001b[0m\u001b[0mname\u001b[0m\u001b[0;34m]\u001b[0m\u001b[0;34m\u001b[0m\u001b[0;34m\u001b[0m\u001b[0m\n\u001b[0;32m-> 5130\u001b[0;31m             \u001b[0;32mreturn\u001b[0m \u001b[0mobject\u001b[0m\u001b[0;34m.\u001b[0m\u001b[0m__getattribute__\u001b[0m\u001b[0;34m(\u001b[0m\u001b[0mself\u001b[0m\u001b[0;34m,\u001b[0m \u001b[0mname\u001b[0m\u001b[0;34m)\u001b[0m\u001b[0;34m\u001b[0m\u001b[0;34m\u001b[0m\u001b[0m\n\u001b[0m\u001b[1;32m   5131\u001b[0m \u001b[0;34m\u001b[0m\u001b[0m\n\u001b[1;32m   5132\u001b[0m     \u001b[0;32mdef\u001b[0m \u001b[0m__setattr__\u001b[0m\u001b[0;34m(\u001b[0m\u001b[0mself\u001b[0m\u001b[0;34m,\u001b[0m \u001b[0mname\u001b[0m\u001b[0;34m:\u001b[0m \u001b[0mstr\u001b[0m\u001b[0;34m,\u001b[0m \u001b[0mvalue\u001b[0m\u001b[0;34m)\u001b[0m \u001b[0;34m->\u001b[0m \u001b[0;32mNone\u001b[0m\u001b[0;34m:\u001b[0m\u001b[0;34m\u001b[0m\u001b[0;34m\u001b[0m\u001b[0m\n",
      "\u001b[0;31mAttributeError\u001b[0m: 'DataFrame' object has no attribute 'nominatim'"
     ]
    }
   ],
   "source": [
    "df_patient_with_invalid_state[\"state_from_nominatim\"] = (\n",
    "    df_patient_with_invalid_state.nominatim\n",
    "        .str.extract(r\"(\\w[\\w\\s]*),\\s\\d{4}\", expand=False)\n",
    "        .str.lower()\n",
    "        .replace({\n",
    "            \"australian capital territory\": \"act\",\n",
    "            \"queensland\": \"qld\",\n",
    "            \"new south wales\": \"nsw\",\n",
    "            \"northern territory\": \"nt\",\n",
    "            \"south australia\": \"sa\",\n",
    "            \"victoria\": \"vic\",\n",
    "            \"tasmania\": \"ta\",\n",
    "            \"western australia\": \"wa\",\n",
    "        })\n",
    ")\n",
    "\n",
    "df_patient_with_invalid_state[[\"postcode\", \"state\", \"state_from_nominatim\"]]"
   ]
  },
  {
   "cell_type": "markdown",
   "metadata": {},
   "source": [
    "Correction des états"
   ]
  },
  {
   "cell_type": "code",
   "execution_count": 169,
   "metadata": {},
   "outputs": [
    {
     "output_type": "error",
     "ename": "AttributeError",
     "evalue": "'DataFrame' object has no attribute 'state_from_nominatim'",
     "traceback": [
      "\u001b[0;31m---------------------------------------------------------------------------\u001b[0m",
      "\u001b[0;31mAttributeError\u001b[0m                            Traceback (most recent call last)",
      "\u001b[0;32m<ipython-input-169-a49b53410a43>\u001b[0m in \u001b[0;36m<module>\u001b[0;34m\u001b[0m\n\u001b[0;32m----> 1\u001b[0;31m \u001b[0mdf_patient\u001b[0m\u001b[0;34m.\u001b[0m\u001b[0mstate\u001b[0m\u001b[0;34m.\u001b[0m\u001b[0miloc\u001b[0m\u001b[0;34m[\u001b[0m\u001b[0mdf_patient_with_invalid_state\u001b[0m\u001b[0;34m.\u001b[0m\u001b[0mindex\u001b[0m\u001b[0;34m]\u001b[0m \u001b[0;34m=\u001b[0m \u001b[0mdf_patient_with_invalid_state\u001b[0m\u001b[0;34m.\u001b[0m\u001b[0mstate_from_nominatim\u001b[0m\u001b[0;34m\u001b[0m\u001b[0;34m\u001b[0m\u001b[0m\n\u001b[0m",
      "\u001b[0;32m~/.local/miniconda3/envs/inria-aphp-assignment/lib/python3.8/site-packages/pandas/core/generic.py\u001b[0m in \u001b[0;36m__getattr__\u001b[0;34m(self, name)\u001b[0m\n\u001b[1;32m   5128\u001b[0m             \u001b[0;32mif\u001b[0m \u001b[0mself\u001b[0m\u001b[0;34m.\u001b[0m\u001b[0m_info_axis\u001b[0m\u001b[0;34m.\u001b[0m\u001b[0m_can_hold_identifiers_and_holds_name\u001b[0m\u001b[0;34m(\u001b[0m\u001b[0mname\u001b[0m\u001b[0;34m)\u001b[0m\u001b[0;34m:\u001b[0m\u001b[0;34m\u001b[0m\u001b[0;34m\u001b[0m\u001b[0m\n\u001b[1;32m   5129\u001b[0m                 \u001b[0;32mreturn\u001b[0m \u001b[0mself\u001b[0m\u001b[0;34m[\u001b[0m\u001b[0mname\u001b[0m\u001b[0;34m]\u001b[0m\u001b[0;34m\u001b[0m\u001b[0;34m\u001b[0m\u001b[0m\n\u001b[0;32m-> 5130\u001b[0;31m             \u001b[0;32mreturn\u001b[0m \u001b[0mobject\u001b[0m\u001b[0;34m.\u001b[0m\u001b[0m__getattribute__\u001b[0m\u001b[0;34m(\u001b[0m\u001b[0mself\u001b[0m\u001b[0;34m,\u001b[0m \u001b[0mname\u001b[0m\u001b[0;34m)\u001b[0m\u001b[0;34m\u001b[0m\u001b[0;34m\u001b[0m\u001b[0m\n\u001b[0m\u001b[1;32m   5131\u001b[0m \u001b[0;34m\u001b[0m\u001b[0m\n\u001b[1;32m   5132\u001b[0m     \u001b[0;32mdef\u001b[0m \u001b[0m__setattr__\u001b[0m\u001b[0;34m(\u001b[0m\u001b[0mself\u001b[0m\u001b[0;34m,\u001b[0m \u001b[0mname\u001b[0m\u001b[0;34m:\u001b[0m \u001b[0mstr\u001b[0m\u001b[0;34m,\u001b[0m \u001b[0mvalue\u001b[0m\u001b[0;34m)\u001b[0m \u001b[0;34m->\u001b[0m \u001b[0;32mNone\u001b[0m\u001b[0;34m:\u001b[0m\u001b[0;34m\u001b[0m\u001b[0;34m\u001b[0m\u001b[0m\n",
      "\u001b[0;31mAttributeError\u001b[0m: 'DataFrame' object has no attribute 'state_from_nominatim'"
     ]
    }
   ],
   "source": [
    "df_patient.state.iloc[df_patient_with_invalid_state.index] = df_patient_with_invalid_state.state_from_nominatim"
   ]
  },
  {
   "cell_type": "markdown",
   "metadata": {},
   "source": [
    "Validation des états"
   ]
  },
  {
   "cell_type": "code",
   "execution_count": 170,
   "metadata": {},
   "outputs": [
    {
     "output_type": "execute_result",
     "data": {
      "text/plain": "nsw    6189\nvic    4382\nqld    3548\nwa     1598\nsa     1397\ntas     511\nact     250\nnt      135\nName: state, dtype: int64"
     },
     "metadata": {},
     "execution_count": 170
    }
   ],
   "source": [
    "df_patient.state.value_counts()"
   ]
  },
  {
   "cell_type": "markdown",
   "metadata": {},
   "source": [
    "Il n'y a plus de codes d'état incorrects."
   ]
  },
  {
   "cell_type": "markdown",
   "metadata": {},
   "source": [
    "### Code postal"
   ]
  },
  {
   "cell_type": "markdown",
   "metadata": {},
   "source": [
    "#### Taux de remplissage dans l'adresse"
   ]
  },
  {
   "cell_type": "code",
   "execution_count": 171,
   "metadata": {},
   "outputs": [
    {
     "output_type": "execute_result",
     "data": {
      "text/plain": "postcode  suburb  state\nFalse     False   True         1\n          True    False       17\n                  True       181\nTrue      False   False       20\n                  True       191\n          True    False     1953\n                  True     17637\ndtype: int64"
     },
     "metadata": {},
     "execution_count": 171
    }
   ],
   "source": [
    "df_patient[[\"postcode\", \"suburb\", \"state\"]].notna().value_counts(sort=False)"
   ]
  },
  {
   "cell_type": "markdown",
   "metadata": {},
   "source": [
    "Le code postal est très souvent renseigné, accompagné du quartier et / ou de l'état.   "
   ]
  },
  {
   "cell_type": "markdown",
   "metadata": {},
   "source": [
    "#### Validation"
   ]
  },
  {
   "cell_type": "code",
   "execution_count": 172,
   "metadata": {},
   "outputs": [
    {
     "output_type": "execute_result",
     "data": {
      "text/plain": "4    19801\nName: postcode, dtype: int64"
     },
     "metadata": {},
     "execution_count": 172
    }
   ],
   "source": [
    "df_patient.postcode.dropna().str.len().value_counts()"
   ]
  },
  {
   "cell_type": "markdown",
   "metadata": {},
   "source": [
    "Chargement du référentiel de codes postaux valides par état.\n",
    "\n",
    "_Compilé des données de cet [article](https://en.wikipedia.org/w/index.php?title=Postcodes_in_Australia)_"
   ]
  },
  {
   "cell_type": "code",
   "execution_count": 192,
   "metadata": {},
   "outputs": [
    {
     "output_type": "execute_result",
     "data": {
      "text/plain": "   state  postcode_min_range  postcode_max_range\n0    act                 200                 299\n1     nt                 800                 999\n2    nsw                1000                1999\n3    nsw                2000                2599\n4    act                2600                2618\n5    nsw                2619                2899\n6    act                2900                2920\n7    nsw                2921                2999\n8    vic                3000                3999\n9    qld                4000                4999\n10    sa                5000                5799\n11    sa                5800                5999\n12    wa                6000                6797\n13    wa                6800                6999\n14   tas                7000                7799\n15   tas                7800                7999\n16   vic                8000                8999\n17   qld                9000                9999",
      "text/html": "<div>\n<style scoped>\n    .dataframe tbody tr th:only-of-type {\n        vertical-align: middle;\n    }\n\n    .dataframe tbody tr th {\n        vertical-align: top;\n    }\n\n    .dataframe thead th {\n        text-align: right;\n    }\n</style>\n<table border=\"1\" class=\"dataframe\">\n  <thead>\n    <tr style=\"text-align: right;\">\n      <th></th>\n      <th>state</th>\n      <th>postcode_min_range</th>\n      <th>postcode_max_range</th>\n    </tr>\n  </thead>\n  <tbody>\n    <tr>\n      <th>0</th>\n      <td>act</td>\n      <td>200</td>\n      <td>299</td>\n    </tr>\n    <tr>\n      <th>1</th>\n      <td>nt</td>\n      <td>800</td>\n      <td>999</td>\n    </tr>\n    <tr>\n      <th>2</th>\n      <td>nsw</td>\n      <td>1000</td>\n      <td>1999</td>\n    </tr>\n    <tr>\n      <th>3</th>\n      <td>nsw</td>\n      <td>2000</td>\n      <td>2599</td>\n    </tr>\n    <tr>\n      <th>4</th>\n      <td>act</td>\n      <td>2600</td>\n      <td>2618</td>\n    </tr>\n    <tr>\n      <th>5</th>\n      <td>nsw</td>\n      <td>2619</td>\n      <td>2899</td>\n    </tr>\n    <tr>\n      <th>6</th>\n      <td>act</td>\n      <td>2900</td>\n      <td>2920</td>\n    </tr>\n    <tr>\n      <th>7</th>\n      <td>nsw</td>\n      <td>2921</td>\n      <td>2999</td>\n    </tr>\n    <tr>\n      <th>8</th>\n      <td>vic</td>\n      <td>3000</td>\n      <td>3999</td>\n    </tr>\n    <tr>\n      <th>9</th>\n      <td>qld</td>\n      <td>4000</td>\n      <td>4999</td>\n    </tr>\n    <tr>\n      <th>10</th>\n      <td>sa</td>\n      <td>5000</td>\n      <td>5799</td>\n    </tr>\n    <tr>\n      <th>11</th>\n      <td>sa</td>\n      <td>5800</td>\n      <td>5999</td>\n    </tr>\n    <tr>\n      <th>12</th>\n      <td>wa</td>\n      <td>6000</td>\n      <td>6797</td>\n    </tr>\n    <tr>\n      <th>13</th>\n      <td>wa</td>\n      <td>6800</td>\n      <td>6999</td>\n    </tr>\n    <tr>\n      <th>14</th>\n      <td>tas</td>\n      <td>7000</td>\n      <td>7799</td>\n    </tr>\n    <tr>\n      <th>15</th>\n      <td>tas</td>\n      <td>7800</td>\n      <td>7999</td>\n    </tr>\n    <tr>\n      <th>16</th>\n      <td>vic</td>\n      <td>8000</td>\n      <td>8999</td>\n    </tr>\n    <tr>\n      <th>17</th>\n      <td>qld</td>\n      <td>9000</td>\n      <td>9999</td>\n    </tr>\n  </tbody>\n</table>\n</div>"
     },
     "metadata": {},
     "execution_count": 192
    }
   ],
   "source": [
    "df_state_postcode_range = pd.read_csv(\"state_postcode.csv\").convert_dtypes()\n",
    "\n",
    "df_state_postcode_range"
   ]
  },
  {
   "cell_type": "markdown",
   "metadata": {},
   "source": [
    "Codes postaux invalides."
   ]
  },
  {
   "cell_type": "code",
   "execution_count": 194,
   "metadata": {},
   "outputs": [
    {
     "output_type": "execute_result",
     "data": {
      "text/plain": "['6798']"
     },
     "metadata": {},
     "execution_count": 194
    }
   ],
   "source": [
    "valid_postcode_ranges = pd.arrays.IntervalArray.from_arrays(\n",
    "    left=df_state_postcode_range.postcode_min_range.astype(int),\n",
    "    right=df_state_postcode_range.postcode_max_range.astype(int),\n",
    "    closed=\"both\",\n",
    ")\n",
    "\n",
    "df_valid_postcode = pd.Series({\n",
    "    postcode: valid_postcode_ranges.contains(int(postcode)).any()\n",
    "    for postcode in df_patient.postcode.dropna().unique()\n",
    "})\n",
    "\n",
    "df_valid_postcode[df_valid_postcode == False].index.to_list()"
   ]
  },
  {
   "cell_type": "markdown",
   "metadata": {},
   "source": [
    "Un seul code postal invalide : `6798`."
   ]
  },
  {
   "cell_type": "markdown",
   "metadata": {},
   "source": [
    "Codes postaux incohérents avec l'état."
   ]
  },
  {
   "cell_type": "code",
   "execution_count": 242,
   "metadata": {},
   "outputs": [
    {
     "output_type": "execute_result",
     "data": {
      "text/plain": "False    0.815445\nTrue     0.184555\ndtype: float64"
     },
     "metadata": {},
     "execution_count": 242
    }
   ],
   "source": [
    "valid_postcode_ranges_per_state = {\n",
    "    state: pd.arrays.IntervalArray.from_arrays(\n",
    "        left=postcode.postcode_min_range,\n",
    "        right=postcode.postcode_max_range,\n",
    "        closed=\"both\",\n",
    "    )\n",
    "    for state, postcode in df_state_postcode.groupby(by=\"state\").agg(tuple).iterrows()\n",
    "}\n",
    "\n",
    "df_valid_state_postcode = pd.Series({\n",
    "    (state, postcode): valid_postcode_ranges_per_state[state].contains(int(postcode)).any()\n",
    "    for (state, postcode) in df_patient[[\"state\", \"postcode\"]].dropna().apply(tuple, axis=1).unique()\n",
    "})\n",
    "\n",
    "df_valid_state_postcode.value_counts(normalize=True)"
   ]
  },
  {
   "cell_type": "markdown",
   "metadata": {},
   "source": [
    "Une large proportion de codes postaux sont incohérents avec l'état renseigné. "
   ]
  },
  {
   "cell_type": "code",
   "execution_count": 246,
   "metadata": {},
   "outputs": [
    {
     "output_type": "execute_result",
     "data": {
      "text/plain": "1    0.236224\n2    0.163776\n3    0.157653\n4    0.143367\n5    0.168367\n6    0.100000\n7    0.026531\n8    0.004082\nName: state, dtype: float64"
     },
     "metadata": {},
     "execution_count": 246
    }
   ],
   "source": [
    "df_postcode_state_counts = (\n",
    "    df_valid_state_postcode.index.to_frame(index=False)\n",
    "        .set_axis([\"state\", \"postcode\"], axis=\"columns\")\n",
    "        .groupby(\"postcode\").count()\n",
    ")\n",
    "\n",
    "(df_postcode_state_counts.state).value_counts(normalize=True).sort_index()"
   ]
  },
  {
   "cell_type": "markdown",
   "metadata": {},
   "source": [
    "Une faible proportion des codes postaux ont une correspondance unique vers l'un des 8 états."
   ]
  }
 ]
}