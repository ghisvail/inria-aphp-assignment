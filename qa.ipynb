{
 "metadata": {
  "language_info": {
   "codemirror_mode": {
    "name": "ipython",
    "version": 3
   },
   "file_extension": ".py",
   "mimetype": "text/x-python",
   "name": "python",
   "nbconvert_exporter": "python",
   "pygments_lexer": "ipython3",
   "version": "3.8.5-final"
  },
  "orig_nbformat": 2,
  "kernelspec": {
   "name": "python3",
   "display_name": "Python 3"
  }
 },
 "nbformat": 4,
 "nbformat_minor": 2,
 "cells": [
  {
   "cell_type": "markdown",
   "metadata": {},
   "source": [
    "# Analyse de la qualité des données"
   ]
  },
  {
   "cell_type": "markdown",
   "metadata": {},
   "source": [
    "## Prise de connaissance avec le jeu de données"
   ]
  },
  {
   "cell_type": "markdown",
   "metadata": {},
   "source": [
    "### Chargement des données brut"
   ]
  },
  {
   "cell_type": "code",
   "execution_count": 1,
   "metadata": {},
   "outputs": [],
   "source": [
    "from getting_started import df_patient, df_pcr"
   ]
  },
  {
   "cell_type": "markdown",
   "metadata": {},
   "source": [
    "Conversion de chaque attribut du référentiel en un type de données plus spécifique."
   ]
  },
  {
   "cell_type": "code",
   "execution_count": 2,
   "metadata": {
    "tags": []
   },
   "outputs": [
    {
     "output_type": "stream",
     "name": "stdout",
     "text": "<class 'pandas.core.frame.DataFrame'>\nRangeIndex: 20000 entries, 0 to 19999\nData columns (total 12 columns):\n #   Column         Non-Null Count  Dtype \n---  ------         --------------  ----- \n 0   patient_id     20000 non-null  Int64 \n 1   given_name     19560 non-null  string\n 2   surname        19575 non-null  string\n 3   street_number  19618 non-null  Int64 \n 4   address_1      19204 non-null  string\n 5   suburb         19788 non-null  string\n 6   postcode       19801 non-null  string\n 7   state          18010 non-null  string\n 8   date_of_birth  17989 non-null  Int64 \n 9   age            16003 non-null  Int64 \n 10  phone_number   19081 non-null  string\n 11  address_2      7893 non-null   string\ndtypes: Int64(4), string(8)\nmemory usage: 1.9 MB\n"
    }
   ],
   "source": [
    "df_patient = df_patient.convert_dtypes()\n",
    "\n",
    "df_patient.info()"
   ]
  },
  {
   "cell_type": "markdown",
   "metadata": {},
   "source": [
    "Conversion de chaque attribut de l'échantillon en un type de données plus spécifique."
   ]
  },
  {
   "cell_type": "code",
   "execution_count": 3,
   "metadata": {
    "tags": []
   },
   "outputs": [
    {
     "output_type": "stream",
     "name": "stdout",
     "text": "<class 'pandas.core.frame.DataFrame'>\nRangeIndex: 8800 entries, 0 to 8799\nData columns (total 2 columns):\n #   Column      Non-Null Count  Dtype \n---  ------      --------------  ----- \n 0   patient_id  8800 non-null   Int64 \n 1   pcr         8800 non-null   string\ndtypes: Int64(1), string(1)\nmemory usage: 146.2 KB\n"
    }
   ],
   "source": [
    "df_pcr = df_pcr.convert_dtypes()\n",
    "\n",
    "df_pcr.info()"
   ]
  },
  {
   "cell_type": "markdown",
   "metadata": {},
   "source": [
    "### Présence de doublons sur l'identifiant"
   ]
  },
  {
   "cell_type": "code",
   "execution_count": 4,
   "metadata": {},
   "outputs": [
    {
     "output_type": "execute_result",
     "data": {
      "text/plain": "       patient_id given_name        surname  street_number  \\\n12117      109304    zachary      farronato             30   \n14839      109304     bailey      donaldson             20   \n4386       110207       toby          brock              4   \n12989      110207       zali          brock             32   \n10184      115791     hannah         clarke             70   \n...           ...        ...            ...            ...   \n10507      990695       erin       braunack             49   \n8764       990936        amy          royle             90   \n12563      990936   samantha          green             21   \n2385       994235      trent  stewart-jones            129   \n7961       994235     teresa      chowdhury             60   \n\n                 address_1        suburb postcode state  date_of_birth   age  \\\n12117       outtrim avenue          como     2196   vic       19090801    31   \n14839       tardent street          ryde     0812   qld       19580310    26   \n4386     merriman crescent      baralaba     3025   nsw       19000424    35   \n12989        hedger street        toorak     5038   act           <NA>    22   \n10184      galmarra street      mayfield     7010   vic       19830828    25   \n...                    ...           ...      ...   ...            ...   ...   \n10507     moondarra street   broken hill     2640   qld       19830122    30   \n8764     whittell crescent       coramba     5032    sa       19950326  <NA>   \n12563       brierly street     ardrossan     2140  <NA>       19380210    29   \n2385   macfarland crescent    wangaratta     2732   nsw           <NA>  <NA>   \n7961                  <NA>  chester hill     2147   vic       19010407    27   \n\n      phone_number       address_2  \n12117  07 22894061       the reefs  \n14839  07 13479210            <NA>  \n4386   08 33842007         leitrim  \n12989  08 96818512            <NA>  \n10184  04 70760611            <NA>  \n...            ...             ...  \n10507  03 69523317         yuulong  \n8764   08 07309295  tewantin plaza  \n12563  02 51600621            <NA>  \n2385   07 98662458       mountview  \n7961   02 83271460            <NA>  \n\n[403 rows x 12 columns]",
      "text/html": "<div>\n<style scoped>\n    .dataframe tbody tr th:only-of-type {\n        vertical-align: middle;\n    }\n\n    .dataframe tbody tr th {\n        vertical-align: top;\n    }\n\n    .dataframe thead th {\n        text-align: right;\n    }\n</style>\n<table border=\"1\" class=\"dataframe\">\n  <thead>\n    <tr style=\"text-align: right;\">\n      <th></th>\n      <th>patient_id</th>\n      <th>given_name</th>\n      <th>surname</th>\n      <th>street_number</th>\n      <th>address_1</th>\n      <th>suburb</th>\n      <th>postcode</th>\n      <th>state</th>\n      <th>date_of_birth</th>\n      <th>age</th>\n      <th>phone_number</th>\n      <th>address_2</th>\n    </tr>\n  </thead>\n  <tbody>\n    <tr>\n      <th>12117</th>\n      <td>109304</td>\n      <td>zachary</td>\n      <td>farronato</td>\n      <td>30</td>\n      <td>outtrim avenue</td>\n      <td>como</td>\n      <td>2196</td>\n      <td>vic</td>\n      <td>19090801</td>\n      <td>31</td>\n      <td>07 22894061</td>\n      <td>the reefs</td>\n    </tr>\n    <tr>\n      <th>14839</th>\n      <td>109304</td>\n      <td>bailey</td>\n      <td>donaldson</td>\n      <td>20</td>\n      <td>tardent street</td>\n      <td>ryde</td>\n      <td>0812</td>\n      <td>qld</td>\n      <td>19580310</td>\n      <td>26</td>\n      <td>07 13479210</td>\n      <td>&lt;NA&gt;</td>\n    </tr>\n    <tr>\n      <th>4386</th>\n      <td>110207</td>\n      <td>toby</td>\n      <td>brock</td>\n      <td>4</td>\n      <td>merriman crescent</td>\n      <td>baralaba</td>\n      <td>3025</td>\n      <td>nsw</td>\n      <td>19000424</td>\n      <td>35</td>\n      <td>08 33842007</td>\n      <td>leitrim</td>\n    </tr>\n    <tr>\n      <th>12989</th>\n      <td>110207</td>\n      <td>zali</td>\n      <td>brock</td>\n      <td>32</td>\n      <td>hedger street</td>\n      <td>toorak</td>\n      <td>5038</td>\n      <td>act</td>\n      <td>&lt;NA&gt;</td>\n      <td>22</td>\n      <td>08 96818512</td>\n      <td>&lt;NA&gt;</td>\n    </tr>\n    <tr>\n      <th>10184</th>\n      <td>115791</td>\n      <td>hannah</td>\n      <td>clarke</td>\n      <td>70</td>\n      <td>galmarra street</td>\n      <td>mayfield</td>\n      <td>7010</td>\n      <td>vic</td>\n      <td>19830828</td>\n      <td>25</td>\n      <td>04 70760611</td>\n      <td>&lt;NA&gt;</td>\n    </tr>\n    <tr>\n      <th>...</th>\n      <td>...</td>\n      <td>...</td>\n      <td>...</td>\n      <td>...</td>\n      <td>...</td>\n      <td>...</td>\n      <td>...</td>\n      <td>...</td>\n      <td>...</td>\n      <td>...</td>\n      <td>...</td>\n      <td>...</td>\n    </tr>\n    <tr>\n      <th>10507</th>\n      <td>990695</td>\n      <td>erin</td>\n      <td>braunack</td>\n      <td>49</td>\n      <td>moondarra street</td>\n      <td>broken hill</td>\n      <td>2640</td>\n      <td>qld</td>\n      <td>19830122</td>\n      <td>30</td>\n      <td>03 69523317</td>\n      <td>yuulong</td>\n    </tr>\n    <tr>\n      <th>8764</th>\n      <td>990936</td>\n      <td>amy</td>\n      <td>royle</td>\n      <td>90</td>\n      <td>whittell crescent</td>\n      <td>coramba</td>\n      <td>5032</td>\n      <td>sa</td>\n      <td>19950326</td>\n      <td>&lt;NA&gt;</td>\n      <td>08 07309295</td>\n      <td>tewantin plaza</td>\n    </tr>\n    <tr>\n      <th>12563</th>\n      <td>990936</td>\n      <td>samantha</td>\n      <td>green</td>\n      <td>21</td>\n      <td>brierly street</td>\n      <td>ardrossan</td>\n      <td>2140</td>\n      <td>&lt;NA&gt;</td>\n      <td>19380210</td>\n      <td>29</td>\n      <td>02 51600621</td>\n      <td>&lt;NA&gt;</td>\n    </tr>\n    <tr>\n      <th>2385</th>\n      <td>994235</td>\n      <td>trent</td>\n      <td>stewart-jones</td>\n      <td>129</td>\n      <td>macfarland crescent</td>\n      <td>wangaratta</td>\n      <td>2732</td>\n      <td>nsw</td>\n      <td>&lt;NA&gt;</td>\n      <td>&lt;NA&gt;</td>\n      <td>07 98662458</td>\n      <td>mountview</td>\n    </tr>\n    <tr>\n      <th>7961</th>\n      <td>994235</td>\n      <td>teresa</td>\n      <td>chowdhury</td>\n      <td>60</td>\n      <td>&lt;NA&gt;</td>\n      <td>chester hill</td>\n      <td>2147</td>\n      <td>vic</td>\n      <td>19010407</td>\n      <td>27</td>\n      <td>02 83271460</td>\n      <td>&lt;NA&gt;</td>\n    </tr>\n  </tbody>\n</table>\n<p>403 rows × 12 columns</p>\n</div>"
     },
     "metadata": {},
     "execution_count": 4
    }
   ],
   "source": [
    "with_duplicated_id = df_patient.patient_id.duplicated(keep=False)\n",
    "\n",
    "df_patient[with_duplicated_id].sort_values(\"patient_id\")"
   ]
  },
  {
   "cell_type": "markdown",
   "metadata": {},
   "source": [
    "Il y a 403 patients qui partagent un identifiant."
   ]
  },
  {
   "cell_type": "markdown",
   "metadata": {},
   "source": [
    "### Présence de doublons sur l'ensemble des attributs"
   ]
  },
  {
   "cell_type": "code",
   "execution_count": 5,
   "metadata": {},
   "outputs": [
    {
     "output_type": "execute_result",
     "data": {
      "text/plain": "       patient_id given_name   surname  street_number         address_1  \\\n6981       804259    charlie    gamlin             33    nungara street   \n12438      107928    charlie    gamlin             33    nungara street   \n15184      744576      freya   jaffres             50        hart place   \n17522      449738      freya   jaffres             50        hart place   \n5729       973030    delaney   kermeen              9      wallen place   \n15337      373129    delaney   kermeen              9      wallen place   \n1052       664037   samantha    laundy              2   mannheim street   \n18867      421721   samantha    laundy              2   mannheim street   \n1863       658924      lewis  matthews             24     allawah flats   \n1944       669936      lewis  matthews             24     allawah flats   \n942        943523     taliah    monaco             15  national circuit   \n1769       437054     taliah    monaco             15  national circuit   \n8900       395901       <NA>     polak             35        jess place   \n16552      279300       <NA>     polak             35        jess place   \n4440       220263      ebony  rawlings             83      spica street   \n9421       950181      ebony  rawlings             83      spica street   \n4819       396208       kyle  sherriff              5   jim pike avenue   \n9724       794186       kyle  sherriff              5   jim pike avenue   \n5393       887301        ava      tsun             75  twamley crescent   \n17752      122873        ava      tsun             75  twamley crescent   \n8228       834172  gabrielle      <NA>             56    langdon avenue   \n17344      369594  gabrielle      <NA>             56    langdon avenue   \n\n               suburb postcode state  date_of_birth   age phone_number  \\\n6981        bayswater     5251   qld       19190111    24  04 33326042   \n12438       bayswater     5251   qld       19190111    24  04 33326042   \n15184  biggera waters     4413    wa           <NA>    33  07 76055136   \n17522  biggera waters     4413    wa           <NA>    33  07 76055136   \n5729    st kilda east     4405   qld       19391226    25  08 37919311   \n15337   st kilda east     4405   qld       19391226    25  08 37919311   \n1052       quairading     4740   qld       19480111  <NA>  02 37735421   \n18867      quairading     4740   qld       19480111  <NA>  02 37735421   \n1863          attunga     3216    wa       19690623    26  03 95122427   \n1944          attunga     3216    wa       19690623    26  03 95122427   \n942          hillside     4211   nsw       19171005    37         <NA>   \n1769         hillside     4211   nsw       19171005    37         <NA>   \n8900        annandale     2250   qld       19531130  <NA>  03 33180608   \n16552       annandale     2250   qld       19531130  <NA>  03 33180608   \n4440     albany creek     3156   qld           <NA>    30         <NA>   \n9421     albany creek     3156   qld           <NA>    30         <NA>   \n4819     bossley park     6111   nsw       19480823  <NA>  02 22087371   \n9724     bossley park     6111   nsw       19480823  <NA>  02 22087371   \n5393            eaton     5109   nsw       19231129    36  07 70215543   \n17752           eaton     5109   nsw       19231129    36  07 70215543   \n8228      castle cove     2564   qld       19350604    14  02 92453197   \n17344     castle cove     2564   qld       19350604    14  02 92453197   \n\n             address_2  \n6981              <NA>  \n12438             <NA>  \n15184             <NA>  \n17522             <NA>  \n5729              <NA>  \n15337             <NA>  \n1052           stanton  \n18867          stanton  \n1863              <NA>  \n1944              <NA>  \n942               <NA>  \n1769              <NA>  \n8900       bonnie doon  \n16552      bonnie doon  \n4440       sunny braes  \n9421       sunny braes  \n4819   cuthberts court  \n9724   cuthberts court  \n5393              <NA>  \n17752             <NA>  \n8228              <NA>  \n17344             <NA>  ",
      "text/html": "<div>\n<style scoped>\n    .dataframe tbody tr th:only-of-type {\n        vertical-align: middle;\n    }\n\n    .dataframe tbody tr th {\n        vertical-align: top;\n    }\n\n    .dataframe thead th {\n        text-align: right;\n    }\n</style>\n<table border=\"1\" class=\"dataframe\">\n  <thead>\n    <tr style=\"text-align: right;\">\n      <th></th>\n      <th>patient_id</th>\n      <th>given_name</th>\n      <th>surname</th>\n      <th>street_number</th>\n      <th>address_1</th>\n      <th>suburb</th>\n      <th>postcode</th>\n      <th>state</th>\n      <th>date_of_birth</th>\n      <th>age</th>\n      <th>phone_number</th>\n      <th>address_2</th>\n    </tr>\n  </thead>\n  <tbody>\n    <tr>\n      <th>6981</th>\n      <td>804259</td>\n      <td>charlie</td>\n      <td>gamlin</td>\n      <td>33</td>\n      <td>nungara street</td>\n      <td>bayswater</td>\n      <td>5251</td>\n      <td>qld</td>\n      <td>19190111</td>\n      <td>24</td>\n      <td>04 33326042</td>\n      <td>&lt;NA&gt;</td>\n    </tr>\n    <tr>\n      <th>12438</th>\n      <td>107928</td>\n      <td>charlie</td>\n      <td>gamlin</td>\n      <td>33</td>\n      <td>nungara street</td>\n      <td>bayswater</td>\n      <td>5251</td>\n      <td>qld</td>\n      <td>19190111</td>\n      <td>24</td>\n      <td>04 33326042</td>\n      <td>&lt;NA&gt;</td>\n    </tr>\n    <tr>\n      <th>15184</th>\n      <td>744576</td>\n      <td>freya</td>\n      <td>jaffres</td>\n      <td>50</td>\n      <td>hart place</td>\n      <td>biggera waters</td>\n      <td>4413</td>\n      <td>wa</td>\n      <td>&lt;NA&gt;</td>\n      <td>33</td>\n      <td>07 76055136</td>\n      <td>&lt;NA&gt;</td>\n    </tr>\n    <tr>\n      <th>17522</th>\n      <td>449738</td>\n      <td>freya</td>\n      <td>jaffres</td>\n      <td>50</td>\n      <td>hart place</td>\n      <td>biggera waters</td>\n      <td>4413</td>\n      <td>wa</td>\n      <td>&lt;NA&gt;</td>\n      <td>33</td>\n      <td>07 76055136</td>\n      <td>&lt;NA&gt;</td>\n    </tr>\n    <tr>\n      <th>5729</th>\n      <td>973030</td>\n      <td>delaney</td>\n      <td>kermeen</td>\n      <td>9</td>\n      <td>wallen place</td>\n      <td>st kilda east</td>\n      <td>4405</td>\n      <td>qld</td>\n      <td>19391226</td>\n      <td>25</td>\n      <td>08 37919311</td>\n      <td>&lt;NA&gt;</td>\n    </tr>\n    <tr>\n      <th>15337</th>\n      <td>373129</td>\n      <td>delaney</td>\n      <td>kermeen</td>\n      <td>9</td>\n      <td>wallen place</td>\n      <td>st kilda east</td>\n      <td>4405</td>\n      <td>qld</td>\n      <td>19391226</td>\n      <td>25</td>\n      <td>08 37919311</td>\n      <td>&lt;NA&gt;</td>\n    </tr>\n    <tr>\n      <th>1052</th>\n      <td>664037</td>\n      <td>samantha</td>\n      <td>laundy</td>\n      <td>2</td>\n      <td>mannheim street</td>\n      <td>quairading</td>\n      <td>4740</td>\n      <td>qld</td>\n      <td>19480111</td>\n      <td>&lt;NA&gt;</td>\n      <td>02 37735421</td>\n      <td>stanton</td>\n    </tr>\n    <tr>\n      <th>18867</th>\n      <td>421721</td>\n      <td>samantha</td>\n      <td>laundy</td>\n      <td>2</td>\n      <td>mannheim street</td>\n      <td>quairading</td>\n      <td>4740</td>\n      <td>qld</td>\n      <td>19480111</td>\n      <td>&lt;NA&gt;</td>\n      <td>02 37735421</td>\n      <td>stanton</td>\n    </tr>\n    <tr>\n      <th>1863</th>\n      <td>658924</td>\n      <td>lewis</td>\n      <td>matthews</td>\n      <td>24</td>\n      <td>allawah flats</td>\n      <td>attunga</td>\n      <td>3216</td>\n      <td>wa</td>\n      <td>19690623</td>\n      <td>26</td>\n      <td>03 95122427</td>\n      <td>&lt;NA&gt;</td>\n    </tr>\n    <tr>\n      <th>1944</th>\n      <td>669936</td>\n      <td>lewis</td>\n      <td>matthews</td>\n      <td>24</td>\n      <td>allawah flats</td>\n      <td>attunga</td>\n      <td>3216</td>\n      <td>wa</td>\n      <td>19690623</td>\n      <td>26</td>\n      <td>03 95122427</td>\n      <td>&lt;NA&gt;</td>\n    </tr>\n    <tr>\n      <th>942</th>\n      <td>943523</td>\n      <td>taliah</td>\n      <td>monaco</td>\n      <td>15</td>\n      <td>national circuit</td>\n      <td>hillside</td>\n      <td>4211</td>\n      <td>nsw</td>\n      <td>19171005</td>\n      <td>37</td>\n      <td>&lt;NA&gt;</td>\n      <td>&lt;NA&gt;</td>\n    </tr>\n    <tr>\n      <th>1769</th>\n      <td>437054</td>\n      <td>taliah</td>\n      <td>monaco</td>\n      <td>15</td>\n      <td>national circuit</td>\n      <td>hillside</td>\n      <td>4211</td>\n      <td>nsw</td>\n      <td>19171005</td>\n      <td>37</td>\n      <td>&lt;NA&gt;</td>\n      <td>&lt;NA&gt;</td>\n    </tr>\n    <tr>\n      <th>8900</th>\n      <td>395901</td>\n      <td>&lt;NA&gt;</td>\n      <td>polak</td>\n      <td>35</td>\n      <td>jess place</td>\n      <td>annandale</td>\n      <td>2250</td>\n      <td>qld</td>\n      <td>19531130</td>\n      <td>&lt;NA&gt;</td>\n      <td>03 33180608</td>\n      <td>bonnie doon</td>\n    </tr>\n    <tr>\n      <th>16552</th>\n      <td>279300</td>\n      <td>&lt;NA&gt;</td>\n      <td>polak</td>\n      <td>35</td>\n      <td>jess place</td>\n      <td>annandale</td>\n      <td>2250</td>\n      <td>qld</td>\n      <td>19531130</td>\n      <td>&lt;NA&gt;</td>\n      <td>03 33180608</td>\n      <td>bonnie doon</td>\n    </tr>\n    <tr>\n      <th>4440</th>\n      <td>220263</td>\n      <td>ebony</td>\n      <td>rawlings</td>\n      <td>83</td>\n      <td>spica street</td>\n      <td>albany creek</td>\n      <td>3156</td>\n      <td>qld</td>\n      <td>&lt;NA&gt;</td>\n      <td>30</td>\n      <td>&lt;NA&gt;</td>\n      <td>sunny braes</td>\n    </tr>\n    <tr>\n      <th>9421</th>\n      <td>950181</td>\n      <td>ebony</td>\n      <td>rawlings</td>\n      <td>83</td>\n      <td>spica street</td>\n      <td>albany creek</td>\n      <td>3156</td>\n      <td>qld</td>\n      <td>&lt;NA&gt;</td>\n      <td>30</td>\n      <td>&lt;NA&gt;</td>\n      <td>sunny braes</td>\n    </tr>\n    <tr>\n      <th>4819</th>\n      <td>396208</td>\n      <td>kyle</td>\n      <td>sherriff</td>\n      <td>5</td>\n      <td>jim pike avenue</td>\n      <td>bossley park</td>\n      <td>6111</td>\n      <td>nsw</td>\n      <td>19480823</td>\n      <td>&lt;NA&gt;</td>\n      <td>02 22087371</td>\n      <td>cuthberts court</td>\n    </tr>\n    <tr>\n      <th>9724</th>\n      <td>794186</td>\n      <td>kyle</td>\n      <td>sherriff</td>\n      <td>5</td>\n      <td>jim pike avenue</td>\n      <td>bossley park</td>\n      <td>6111</td>\n      <td>nsw</td>\n      <td>19480823</td>\n      <td>&lt;NA&gt;</td>\n      <td>02 22087371</td>\n      <td>cuthberts court</td>\n    </tr>\n    <tr>\n      <th>5393</th>\n      <td>887301</td>\n      <td>ava</td>\n      <td>tsun</td>\n      <td>75</td>\n      <td>twamley crescent</td>\n      <td>eaton</td>\n      <td>5109</td>\n      <td>nsw</td>\n      <td>19231129</td>\n      <td>36</td>\n      <td>07 70215543</td>\n      <td>&lt;NA&gt;</td>\n    </tr>\n    <tr>\n      <th>17752</th>\n      <td>122873</td>\n      <td>ava</td>\n      <td>tsun</td>\n      <td>75</td>\n      <td>twamley crescent</td>\n      <td>eaton</td>\n      <td>5109</td>\n      <td>nsw</td>\n      <td>19231129</td>\n      <td>36</td>\n      <td>07 70215543</td>\n      <td>&lt;NA&gt;</td>\n    </tr>\n    <tr>\n      <th>8228</th>\n      <td>834172</td>\n      <td>gabrielle</td>\n      <td>&lt;NA&gt;</td>\n      <td>56</td>\n      <td>langdon avenue</td>\n      <td>castle cove</td>\n      <td>2564</td>\n      <td>qld</td>\n      <td>19350604</td>\n      <td>14</td>\n      <td>02 92453197</td>\n      <td>&lt;NA&gt;</td>\n    </tr>\n    <tr>\n      <th>17344</th>\n      <td>369594</td>\n      <td>gabrielle</td>\n      <td>&lt;NA&gt;</td>\n      <td>56</td>\n      <td>langdon avenue</td>\n      <td>castle cove</td>\n      <td>2564</td>\n      <td>qld</td>\n      <td>19350604</td>\n      <td>14</td>\n      <td>02 92453197</td>\n      <td>&lt;NA&gt;</td>\n    </tr>\n  </tbody>\n</table>\n</div>"
     },
     "metadata": {},
     "execution_count": 5
    }
   ],
   "source": [
    "with_same_attributes = df_patient.drop(columns=\"patient_id\").duplicated(keep=False)\n",
    "\n",
    "df_patient[with_same_attributes].sort_values(by=[\"surname\", \"given_name\"])"
   ]
  },
  {
   "cell_type": "markdown",
   "metadata": {},
   "source": [
    "Il y 22 patients qui sont des doublons parfaits hors identifiant."
   ]
  },
  {
   "cell_type": "markdown",
   "metadata": {},
   "source": [
    "Ces deux dernières observations justifient une analyse approfondie sur le référenciel de patients afin de définir une stratégie de dédoublonnage et de réconciliation de données adaptée en préambule de l'analyse exploratoire."
   ]
  },
  {
   "cell_type": "markdown",
   "metadata": {},
   "source": [
    "## Analyse de l'échantillon de tests PCR"
   ]
  },
  {
   "cell_type": "markdown",
   "metadata": {},
   "source": [
    "### Répartition des valeurs du test PCR"
   ]
  },
  {
   "cell_type": "code",
   "execution_count": 6,
   "metadata": {},
   "outputs": [
    {
     "output_type": "execute_result",
     "data": {
      "text/plain": "N           3482\nNegative    3134\nPositive    1283\nP            901\nName: pcr, dtype: Int64"
     },
     "metadata": {},
     "execution_count": 6
    }
   ],
   "source": [
    "df_pcr.pcr.value_counts()"
   ]
  },
  {
   "cell_type": "markdown",
   "metadata": {},
   "source": [
    "Deux conventions sont utilisées pour représenter les deux valeurs possibles d'un test PCR (négatif ou positif) : `N / P` et `Negative / Positive`.\n",
    "\n",
    "Il faudra normaliser ces résultats dans une variable catégorielle ordonnée."
   ]
  },
  {
   "cell_type": "markdown",
   "metadata": {},
   "source": [
    "### Exhaustivité du référentiel"
   ]
  },
  {
   "cell_type": "code",
   "execution_count": 7,
   "metadata": {},
   "outputs": [
    {
     "output_type": "execute_result",
     "data": {
      "text/plain": "True"
     },
     "metadata": {},
     "execution_count": 7
    }
   ],
   "source": [
    "df_pcr.patient_id.isin(df_patient.patient_id).all()"
   ]
  },
  {
   "cell_type": "markdown",
   "metadata": {},
   "source": [
    "L'intégralité des identifiants associés à chaque test de l'échantillon sont présents dans le référenciel."
   ]
  },
  {
   "cell_type": "markdown",
   "metadata": {},
   "source": [
    "## Analyse du référenciel de patients"
   ]
  },
  {
   "cell_type": "markdown",
   "metadata": {},
   "source": [
    "### Nom et prénom"
   ]
  },
  {
   "cell_type": "markdown",
   "metadata": {},
   "source": [
    "#### Valeurs manquantes"
   ]
  },
  {
   "cell_type": "code",
   "execution_count": 8,
   "metadata": {},
   "outputs": [
    {
     "output_type": "execute_result",
     "data": {
      "text/plain": "surname  given_name\nFalse    False         19139\n         True            436\nTrue     False           421\n         True              4\ndtype: int64"
     },
     "metadata": {},
     "execution_count": 8
    }
   ],
   "source": [
    "df_na_in_patient_name = df_patient[[\"surname\", \"given_name\"]].isna()\n",
    "\n",
    "df_na_in_patient_name.value_counts()"
   ]
  },
  {
   "cell_type": "markdown",
   "metadata": {},
   "source": [
    "Il y a 861 patients dont le nom et / ou prénom ne sont pas renseignés."
   ]
  },
  {
   "cell_type": "markdown",
   "metadata": {},
   "source": [
    "Répartition des valeurs :"
   ]
  },
  {
   "cell_type": "code",
   "execution_count": 9,
   "metadata": {
    "tags": []
   },
   "outputs": [
    {
     "output_type": "execute_result",
     "data": {
      "text/plain": "surname   given_name\nwhite     emiily        14\ngreen     emiily        12\nwhite     joshua        11\ncampbell  joshua        11\nryan      emiily        10\n                        ..\nnewberry  jack           1\n          hannah         1\n          dominic        1\n          daniel         1\naaberg    charlotte      1\nLength: 16681, dtype: int64"
     },
     "metadata": {},
     "execution_count": 9
    }
   ],
   "source": [
    "df_patient_full_name = df_patient[[\"surname\", \"given_name\"]].dropna()\n",
    "\n",
    "df_patient_full_name.value_counts()"
   ]
  },
  {
   "cell_type": "markdown",
   "metadata": {},
   "source": [
    "#### Fautes typographiques"
   ]
  },
  {
   "cell_type": "code",
   "execution_count": 22,
   "metadata": {},
   "outputs": [
    {
     "output_type": "execute_result",
     "data": {
      "text/plain": "      patient_id_x     full_name_x phone_number  patient_id_y     full_name_y  \\\n4192        311830     taaila <NA>  02 00325977        210155     taalia <NA>   \n4193        311830     taaila <NA>  02 00325977        525466     taalia <NA>   \n985         431593   adam schumann  02 01272164        123387  adam schumajnn   \n991         123387  adam schumajnn  02 01272164        375877   adam schumann   \n990         123387  adam schumajnn  02 01272164        505218   adam schumann   \n1827        489678   jacob svenson  02 03546747        909797    jaob svenson   \n1831        669354   jacob svenson  02 03546747        909797    jaob svenson   \n1835        576055   jacob svenson  02 03546747        909797    jaob svenson   \n579         399260  <NA> peterssen  02 03687263        776651   <NA> petersen   \n574         950122   <NA> petersen  02 03687263        399260  <NA> peterssen   \n\n            linked_ids  similarity  \n4192  (210155, 311830)           1  \n4193  (311830, 525466)           1  \n985   (123387, 431593)           1  \n991   (123387, 375877)           1  \n990   (123387, 505218)           1  \n1827  (489678, 909797)           1  \n1831  (669354, 909797)           1  \n1835  (576055, 909797)           1  \n579   (399260, 776651)           1  \n574   (399260, 950122)           1  ",
      "text/html": "<div>\n<style scoped>\n    .dataframe tbody tr th:only-of-type {\n        vertical-align: middle;\n    }\n\n    .dataframe tbody tr th {\n        vertical-align: top;\n    }\n\n    .dataframe thead th {\n        text-align: right;\n    }\n</style>\n<table border=\"1\" class=\"dataframe\">\n  <thead>\n    <tr style=\"text-align: right;\">\n      <th></th>\n      <th>patient_id_x</th>\n      <th>full_name_x</th>\n      <th>phone_number</th>\n      <th>patient_id_y</th>\n      <th>full_name_y</th>\n      <th>linked_ids</th>\n      <th>similarity</th>\n    </tr>\n  </thead>\n  <tbody>\n    <tr>\n      <th>4192</th>\n      <td>311830</td>\n      <td>taaila &lt;NA&gt;</td>\n      <td>02 00325977</td>\n      <td>210155</td>\n      <td>taalia &lt;NA&gt;</td>\n      <td>(210155, 311830)</td>\n      <td>1</td>\n    </tr>\n    <tr>\n      <th>4193</th>\n      <td>311830</td>\n      <td>taaila &lt;NA&gt;</td>\n      <td>02 00325977</td>\n      <td>525466</td>\n      <td>taalia &lt;NA&gt;</td>\n      <td>(311830, 525466)</td>\n      <td>1</td>\n    </tr>\n    <tr>\n      <th>985</th>\n      <td>431593</td>\n      <td>adam schumann</td>\n      <td>02 01272164</td>\n      <td>123387</td>\n      <td>adam schumajnn</td>\n      <td>(123387, 431593)</td>\n      <td>1</td>\n    </tr>\n    <tr>\n      <th>991</th>\n      <td>123387</td>\n      <td>adam schumajnn</td>\n      <td>02 01272164</td>\n      <td>375877</td>\n      <td>adam schumann</td>\n      <td>(123387, 375877)</td>\n      <td>1</td>\n    </tr>\n    <tr>\n      <th>990</th>\n      <td>123387</td>\n      <td>adam schumajnn</td>\n      <td>02 01272164</td>\n      <td>505218</td>\n      <td>adam schumann</td>\n      <td>(123387, 505218)</td>\n      <td>1</td>\n    </tr>\n    <tr>\n      <th>1827</th>\n      <td>489678</td>\n      <td>jacob svenson</td>\n      <td>02 03546747</td>\n      <td>909797</td>\n      <td>jaob svenson</td>\n      <td>(489678, 909797)</td>\n      <td>1</td>\n    </tr>\n    <tr>\n      <th>1831</th>\n      <td>669354</td>\n      <td>jacob svenson</td>\n      <td>02 03546747</td>\n      <td>909797</td>\n      <td>jaob svenson</td>\n      <td>(669354, 909797)</td>\n      <td>1</td>\n    </tr>\n    <tr>\n      <th>1835</th>\n      <td>576055</td>\n      <td>jacob svenson</td>\n      <td>02 03546747</td>\n      <td>909797</td>\n      <td>jaob svenson</td>\n      <td>(576055, 909797)</td>\n      <td>1</td>\n    </tr>\n    <tr>\n      <th>579</th>\n      <td>399260</td>\n      <td>&lt;NA&gt; peterssen</td>\n      <td>02 03687263</td>\n      <td>776651</td>\n      <td>&lt;NA&gt; petersen</td>\n      <td>(399260, 776651)</td>\n      <td>1</td>\n    </tr>\n    <tr>\n      <th>574</th>\n      <td>950122</td>\n      <td>&lt;NA&gt; petersen</td>\n      <td>02 03687263</td>\n      <td>399260</td>\n      <td>&lt;NA&gt; peterssen</td>\n      <td>(399260, 950122)</td>\n      <td>1</td>\n    </tr>\n  </tbody>\n</table>\n</div>"
     },
     "metadata": {},
     "execution_count": 22
    }
   ],
   "source": [
    "from jellyfish import damerau_levenshtein_distance\n",
    "from pandas import merge\n",
    "\n",
    "df_patient[\"full_name\"] = df_patient.agg(\n",
    "    lambda x: f\"{x.given_name} {x.surname}\", axis=\"columns\")\n",
    "\n",
    "df_full_name = df_patient[[\"patient_id\", \"full_name\", \"phone_number\"]].dropna()\n",
    "df_full_name = df_full_name.merge(df_full_name, on=\"phone_number\")\n",
    "df_full_name = df_full_name[df_full_name.patient_id_x != df_full_name.patient_id_y]\n",
    "df_full_name[\"linked_ids\"] = df_full_name[[\"patient_id_x\", \"patient_id_y\"]].apply(\n",
    "    lambda x: tuple(sorted(x)), axis=\"columns\")\n",
    "df_full_name.drop_duplicates(\"linked_ids\", inplace=True)\n",
    "df_full_name[\"similarity\"] = df_full_name.apply(\n",
    "    lambda row: damerau_levenshtein_distance(row.full_name_x, row.full_name_y), axis=\"columns\")\n",
    "\n",
    "df_full_name[df_full_name.similarity == 1].sort_values(\"phone_number\").head(10)"
   ]
  },
  {
   "cell_type": "code",
   "execution_count": 23,
   "metadata": {},
   "outputs": [
    {
     "output_type": "execute_result",
     "data": {
      "text/plain": "       patient_id_x        full_name_x phone_number  patient_id_y  \\\n6144         953966         to godfrey  02 01871708        405442   \n16219        382081         james <NA>  02 03755662        687453   \n589          471602    briekle tippuns  02 04356284        106764   \n585          718467    brielle tippins  02 04356284        471602   \n5705         496474      stacia seddon  02 05657798        963018   \n5702         970678      stacia seddon  02 05657798        963018   \n4075         131348    timothy britten  02 08766786        646113   \n10877        898204  jordan ballantyne  02 13710140        494861   \n10881        740337  jordan ballantyne  02 13710140        494861   \n10882        740337  jordan ballantyne  02 13710140        219095   \n\n             full_name_y        linked_ids  similarity  \n6144      thomas godfrey  (405442, 953966)           4  \n16219           jim <NA>  (382081, 687453)           3  \n589      brielle tippins  (106764, 471602)           2  \n585      briekle tippuns  (471602, 718467)           2  \n5705    anastasia seddon  (496474, 963018)           4  \n5702    anastasia seddon  (963018, 970678)           4  \n4075      timothy bripen  (131348, 646113)           2  \n10877  ballantyne jordan  (494861, 898204)          14  \n10881  ballantyne jordan  (494861, 740337)          14  \n10882    <NA> ballantyne  (219095, 740337)           6  ",
      "text/html": "<div>\n<style scoped>\n    .dataframe tbody tr th:only-of-type {\n        vertical-align: middle;\n    }\n\n    .dataframe tbody tr th {\n        vertical-align: top;\n    }\n\n    .dataframe thead th {\n        text-align: right;\n    }\n</style>\n<table border=\"1\" class=\"dataframe\">\n  <thead>\n    <tr style=\"text-align: right;\">\n      <th></th>\n      <th>patient_id_x</th>\n      <th>full_name_x</th>\n      <th>phone_number</th>\n      <th>patient_id_y</th>\n      <th>full_name_y</th>\n      <th>linked_ids</th>\n      <th>similarity</th>\n    </tr>\n  </thead>\n  <tbody>\n    <tr>\n      <th>6144</th>\n      <td>953966</td>\n      <td>to godfrey</td>\n      <td>02 01871708</td>\n      <td>405442</td>\n      <td>thomas godfrey</td>\n      <td>(405442, 953966)</td>\n      <td>4</td>\n    </tr>\n    <tr>\n      <th>16219</th>\n      <td>382081</td>\n      <td>james &lt;NA&gt;</td>\n      <td>02 03755662</td>\n      <td>687453</td>\n      <td>jim &lt;NA&gt;</td>\n      <td>(382081, 687453)</td>\n      <td>3</td>\n    </tr>\n    <tr>\n      <th>589</th>\n      <td>471602</td>\n      <td>briekle tippuns</td>\n      <td>02 04356284</td>\n      <td>106764</td>\n      <td>brielle tippins</td>\n      <td>(106764, 471602)</td>\n      <td>2</td>\n    </tr>\n    <tr>\n      <th>585</th>\n      <td>718467</td>\n      <td>brielle tippins</td>\n      <td>02 04356284</td>\n      <td>471602</td>\n      <td>briekle tippuns</td>\n      <td>(471602, 718467)</td>\n      <td>2</td>\n    </tr>\n    <tr>\n      <th>5705</th>\n      <td>496474</td>\n      <td>stacia seddon</td>\n      <td>02 05657798</td>\n      <td>963018</td>\n      <td>anastasia seddon</td>\n      <td>(496474, 963018)</td>\n      <td>4</td>\n    </tr>\n    <tr>\n      <th>5702</th>\n      <td>970678</td>\n      <td>stacia seddon</td>\n      <td>02 05657798</td>\n      <td>963018</td>\n      <td>anastasia seddon</td>\n      <td>(963018, 970678)</td>\n      <td>4</td>\n    </tr>\n    <tr>\n      <th>4075</th>\n      <td>131348</td>\n      <td>timothy britten</td>\n      <td>02 08766786</td>\n      <td>646113</td>\n      <td>timothy bripen</td>\n      <td>(131348, 646113)</td>\n      <td>2</td>\n    </tr>\n    <tr>\n      <th>10877</th>\n      <td>898204</td>\n      <td>jordan ballantyne</td>\n      <td>02 13710140</td>\n      <td>494861</td>\n      <td>ballantyne jordan</td>\n      <td>(494861, 898204)</td>\n      <td>14</td>\n    </tr>\n    <tr>\n      <th>10881</th>\n      <td>740337</td>\n      <td>jordan ballantyne</td>\n      <td>02 13710140</td>\n      <td>494861</td>\n      <td>ballantyne jordan</td>\n      <td>(494861, 740337)</td>\n      <td>14</td>\n    </tr>\n    <tr>\n      <th>10882</th>\n      <td>740337</td>\n      <td>jordan ballantyne</td>\n      <td>02 13710140</td>\n      <td>219095</td>\n      <td>&lt;NA&gt; ballantyne</td>\n      <td>(219095, 740337)</td>\n      <td>6</td>\n    </tr>\n  </tbody>\n</table>\n</div>"
     },
     "metadata": {},
     "execution_count": 23
    }
   ],
   "source": [
    "df_full_name[df_full_name.similarity > 1].sort_values(\"phone_number\").head(10)"
   ]
  },
  {
   "cell_type": "markdown",
   "metadata": {},
   "source": [
    "Valeurs manquantes :"
   ]
  },
  {
   "cell_type": "code",
   "execution_count": null,
   "metadata": {},
   "outputs": [],
   "source": [
    "df_patient[[\"age\", \"date_of_birth\"]].isna().value_counts()"
   ]
  },
  {
   "cell_type": "markdown",
   "metadata": {},
   "source": [
    "Dates de naissance invalides :"
   ]
  },
  {
   "cell_type": "code",
   "execution_count": null,
   "metadata": {},
   "outputs": [],
   "source": [
    "from pandas import to_datetime\n",
    "\n",
    "df_patient[\"dob_datetime\"] = to_datetime(\n",
    "    df_patient.date_of_birth,\n",
    "    errors=\"coerce\",\n",
    "    format=\"%Y%M%d\",\n",
    ")\n",
    "\n",
    "df_patient[[\"age\", \"date_of_birth\", \"dob_datetime\"]].sample(10, random_state=42)"
   ]
  },
  {
   "cell_type": "markdown",
   "metadata": {},
   "source": [
    "Incohérences entre âge déclaré et calculé : "
   ]
  },
  {
   "cell_type": "code",
   "execution_count": null,
   "metadata": {},
   "outputs": [],
   "source": [
    "from datetime import datetime\n",
    "df_patient[\"age_from_dob\"] = ((datetime.today() - df_patient[\"dob_datetime\"].dropna()).dt.days).floordiv(365)\n",
    "\n",
    "df_patient.head(20)"
   ]
  },
  {
   "cell_type": "markdown",
   "metadata": {},
   "source": [
    "## Analyse des états et codes postaux"
   ]
  },
  {
   "cell_type": "markdown",
   "metadata": {},
   "source": [
    "Valeurs manquantes"
   ]
  },
  {
   "cell_type": "code",
   "execution_count": null,
   "metadata": {},
   "outputs": [],
   "source": [
    "df_patient[[\"state\", \"postcode\"]].isna().value_counts()"
   ]
  },
  {
   "cell_type": "markdown",
   "metadata": {},
   "source": [
    "Valeurs des états"
   ]
  },
  {
   "cell_type": "code",
   "execution_count": null,
   "metadata": {
    "tags": []
   },
   "outputs": [],
   "source": [
    "states = df_patient.state.dropna().value_counts()\n",
    "\n",
    "print(states[:8])\n",
    "print(states[8:])\n",
    "print(states[8:].sum())"
   ]
  },
  {
   "cell_type": "markdown",
   "metadata": {},
   "source": [
    "Incohérence état / postcode"
   ]
  },
  {
   "cell_type": "code",
   "execution_count": null,
   "metadata": {},
   "outputs": [],
   "source": [
    "postcodes = df_patient.postcode.dropna().value_counts()"
   ]
  },
  {
   "cell_type": "markdown",
   "metadata": {},
   "source": [
    "Inversion postcode / quartier"
   ]
  },
  {
   "cell_type": "code",
   "execution_count": null,
   "metadata": {},
   "outputs": [],
   "source": [
    "df_patient.loc[df_patient.suburb.str.isnumeric()]"
   ]
  },
  {
   "cell_type": "markdown",
   "metadata": {},
   "source": [
    "## Sanitize postcode and state\n",
    "\n",
    "Assume postcode is more reliable than state.\n",
    "Test all postcodes are valid.\n",
    "Case postcode invalid, try swap with suburb.\n",
    "Test some state are invalid.\n",
    "Normalize state with typos.\n",
    "For missing or invalid states, guess from postcode.\n",
    "Keep state if postcode invalid.\n"
   ]
  },
  {
   "cell_type": "code",
   "execution_count": null,
   "metadata": {},
   "outputs": [],
   "source": [
    "df_patient.state = df_patient.state.str.upper()\n",
    "df_patient_invalid_postcode = df_patient[df_patient.state.isin([\"NSW\", \"VIC\", \"QLD\", \"WA\", \"SA\", \"TAS\", \"ACT\", \"NT\"])]\n",
    "df_patient_vic = df_patient_invalid_postcode.loc[df_patient_invalid_postcode.state == \"VIC\"]\n",
    "df_patient_vic.loc[~df_patient_vic.postcode.str.match(r\"[3|8]\\d{3}\")].head()"
   ]
  },
  {
   "cell_type": "markdown",
   "metadata": {},
   "source": [
    "## Sanitize phone numbers\n",
    "\n",
    "- Format XX XXXXXXXX, 04 if mobile\n",
    "- Must be coherent with postcode\n"
   ]
  },
  {
   "cell_type": "code",
   "execution_count": null,
   "metadata": {},
   "outputs": [],
   "source": [
    "df_patient.loc[~df_patient.phone_number.str.match(r\"\\d{2}\\s\\d{8}\")].phone_number.count()"
   ]
  }
 ]
}