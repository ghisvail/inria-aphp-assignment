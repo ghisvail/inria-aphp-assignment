{
 "metadata": {
  "language_info": {
   "codemirror_mode": {
    "name": "ipython",
    "version": 3
   },
   "file_extension": ".py",
   "mimetype": "text/x-python",
   "name": "python",
   "nbconvert_exporter": "python",
   "pygments_lexer": "ipython3",
   "version": "3.8.5-final"
  },
  "orig_nbformat": 2,
  "kernelspec": {
   "name": "python3",
   "display_name": "Python 3"
  }
 },
 "nbformat": 4,
 "nbformat_minor": 2,
 "cells": [
  {
   "cell_type": "markdown",
   "metadata": {},
   "source": [
    "# Analyse de la qualité des données"
   ]
  },
  {
   "cell_type": "markdown",
   "metadata": {},
   "source": [
    "## Prise de connaissance avec le jeu de données"
   ]
  },
  {
   "cell_type": "markdown",
   "metadata": {},
   "source": [
    "### Chargement des données brut"
   ]
  },
  {
   "cell_type": "code",
   "execution_count": null,
   "metadata": {},
   "outputs": [],
   "source": [
    "from getting_started import df_patient, df_pcr, pd"
   ]
  },
  {
   "cell_type": "markdown",
   "metadata": {},
   "source": [
    "Conversion de chaque attribut du référentiel en un type de données plus spécifique."
   ]
  },
  {
   "cell_type": "code",
   "execution_count": null,
   "metadata": {
    "tags": []
   },
   "outputs": [],
   "source": [
    "df_patient = df_patient.convert_dtypes()\n",
    "\n",
    "df_patient.info()"
   ]
  },
  {
   "cell_type": "markdown",
   "metadata": {},
   "source": [
    "Conversion de chaque attribut de l'échantillon en un type de données plus spécifique."
   ]
  },
  {
   "cell_type": "code",
   "execution_count": null,
   "metadata": {
    "tags": []
   },
   "outputs": [],
   "source": [
    "df_pcr = df_pcr.convert_dtypes()\n",
    "\n",
    "df_pcr.info()"
   ]
  },
  {
   "cell_type": "markdown",
   "metadata": {},
   "source": [
    "### Présence de doublons sur l'identifiant"
   ]
  },
  {
   "cell_type": "code",
   "execution_count": null,
   "metadata": {},
   "outputs": [],
   "source": [
    "with_duplicated_id = df_patient.patient_id.duplicated(keep=False)\n",
    "\n",
    "df_patient[with_duplicated_id].sort_values(\"patient_id\")"
   ]
  },
  {
   "cell_type": "markdown",
   "metadata": {},
   "source": [
    "Il y a 403 patients qui doublonnent sur l'identifiant."
   ]
  },
  {
   "cell_type": "markdown",
   "metadata": {},
   "source": [
    "### Présence de doublons sur l'ensemble des attributs"
   ]
  },
  {
   "cell_type": "code",
   "execution_count": null,
   "metadata": {},
   "outputs": [],
   "source": [
    "with_same_attributes = df_patient.drop(columns=\"patient_id\").duplicated(keep=False)\n",
    "\n",
    "df_patient[with_same_attributes].sort_values(by=[\"surname\", \"given_name\"])"
   ]
  },
  {
   "cell_type": "markdown",
   "metadata": {},
   "source": [
    "Il y 22 patients qui doublonnent sur tous les attributs hors identifiant."
   ]
  },
  {
   "cell_type": "markdown",
   "metadata": {},
   "source": [
    "### Nombre d'attributs non renseignés par patient"
   ]
  },
  {
   "cell_type": "code",
   "execution_count": null,
   "metadata": {},
   "outputs": [],
   "source": [
    "df_patient.isna().sum(axis=\"columns\").value_counts().sort_index().plot.bar(xlabel=\"attributs non renseignés\", ylabel=\"patients\")"
   ]
  },
  {
   "cell_type": "markdown",
   "metadata": {},
   "source": [
    "La majorité des patients ont jusqu'à 2 attributs non renseignés.\n",
    "\n",
    "Il y aura des cas extrêmes à rapprocher avec 5 voire 6 attributs manquants."
   ]
  },
  {
   "cell_type": "markdown",
   "metadata": {},
   "source": [
    "### Répartition des valeurs du test PCR"
   ]
  },
  {
   "cell_type": "code",
   "execution_count": null,
   "metadata": {},
   "outputs": [],
   "source": [
    "df_pcr.pcr.value_counts()"
   ]
  },
  {
   "cell_type": "markdown",
   "metadata": {},
   "source": [
    "Deux conventions sont utilisées pour représenter les deux valeurs possibles d'un test PCR (négatif ou positif) : `N / P` et `Negative / Positive`.\n",
    "\n",
    "Il faudra normaliser ces résultats dans une variable catégorielle ordonnée."
   ]
  },
  {
   "cell_type": "markdown",
   "metadata": {},
   "source": [
    "### Exhaustivité du référentiel"
   ]
  },
  {
   "cell_type": "code",
   "execution_count": null,
   "metadata": {},
   "outputs": [],
   "source": [
    "df_pcr.patient_id.isin(df_patient.patient_id).all()"
   ]
  },
  {
   "cell_type": "markdown",
   "metadata": {},
   "source": [
    "L'intégralité des identifiants associés aux tests de l'échantillon sont présents dans le référenciel."
   ]
  },
  {
   "cell_type": "markdown",
   "metadata": {},
   "source": [
    "## Analyse du référenciel de patients"
   ]
  },
  {
   "cell_type": "markdown",
   "metadata": {},
   "source": [
    "### Nom et prénom"
   ]
  },
  {
   "cell_type": "markdown",
   "metadata": {},
   "source": [
    "#### Valeurs manquantes"
   ]
  },
  {
   "cell_type": "code",
   "execution_count": null,
   "metadata": {},
   "outputs": [],
   "source": [
    "df_na_in_patient_name = df_patient[[\"surname\", \"given_name\"]].isna()\n",
    "\n",
    "df_na_in_patient_name.value_counts()"
   ]
  },
  {
   "cell_type": "markdown",
   "metadata": {},
   "source": [
    "Il y a 861 patients dont le nom et / ou prénom ne sont pas renseignés."
   ]
  },
  {
   "cell_type": "markdown",
   "metadata": {},
   "source": [
    "#### Fautes typographiques"
   ]
  },
  {
   "cell_type": "code",
   "execution_count": null,
   "metadata": {},
   "outputs": [],
   "source": [
    "from jellyfish import damerau_levenshtein_distance\n",
    "\n",
    "df_patient[\"full_name\"] = df_patient.agg(\n",
    "    lambda x: f\"{x.given_name} {x.surname}\", axis=\"columns\")\n",
    "\n",
    "df_full_name = df_patient[[\"patient_id\", \"full_name\", \"phone_number\"]].dropna()\n",
    "df_full_name = df_full_name.merge(df_full_name, on=\"phone_number\")\n",
    "df_full_name = df_full_name[df_full_name.patient_id_x != df_full_name.patient_id_y]\n",
    "df_full_name[\"linked_ids\"] = df_full_name[[\"patient_id_x\", \"patient_id_y\"]].apply(\n",
    "    lambda row: tuple(sorted(row)), axis=\"columns\")\n",
    "df_full_name.drop_duplicates(\"linked_ids\", inplace=True)\n",
    "df_full_name[\"distance\"] = df_full_name.apply(\n",
    "    lambda row: damerau_levenshtein_distance(row.full_name_x, row.full_name_y), axis=\"columns\")\n",
    "\n",
    "df_full_name = df_full_name[df_full_name.distance >= 1]"
   ]
  },
  {
   "cell_type": "markdown",
   "metadata": {},
   "source": [
    "Cette cellule procède à un rapprochement des patients partageant un même numéro de téléphone et calcule la similarité entre leurs noms complets sous forme d'une distance.\n",
    "\n",
    "Le numéro de téléphone, quand il est fourni, est un attribut à forte valeur distinctive d'où son utilisation dans le cross-join.\n",
    "\n",
    "La distance choisie est Damerau-Levenshtein car elle est particulièrement adaptée pour détecter les fautes humaines qui peuvent arriver lors de la saisie répétée de texte brut."
   ]
  },
  {
   "cell_type": "code",
   "execution_count": null,
   "metadata": {},
   "outputs": [],
   "source": [
    "df_full_name[df_full_name.distance <= 2].sort_values(\"phone_number\").head(20)"
   ]
  },
  {
   "cell_type": "markdown",
   "metadata": {},
   "source": [
    "Dans le cas d'une distance faible, on retrouve les fautes typographiques suivantes :\n",
    "\n",
    "- Ajout de caractère (schumajnn -> schumann)\n",
    "- Omission de caractère (jaob -> jacob)\n",
    "- Substitution de caractère (martincvic -> martinovic)\n",
    "- Transposition de caractère (taaila -> taalia)"
   ]
  },
  {
   "cell_type": "markdown",
   "metadata": {},
   "source": [
    "### Autres différences"
   ]
  },
  {
   "cell_type": "code",
   "execution_count": null,
   "metadata": {},
   "outputs": [],
   "source": [
    "df_full_name[df_full_name.distance > 2].sort_values(\"phone_number\").head(20)"
   ]
  },
  {
   "cell_type": "markdown",
   "metadata": {},
   "source": [
    "Pour les cas où la distance est plus forte, on relève d'autres différences :\n",
    "\n",
    "- Faute lexicale (wight -> white)\n",
    "- Diminutif du prénom (thomas -> to, anastasia -> stacia)\n",
    "- Substitution du prénom (james -> jim, emiily -> millie)\n",
    "- Inversion des nom et prénom\n",
    "- Omission du prénom ou du nom"
   ]
  },
  {
   "cell_type": "markdown",
   "metadata": {},
   "source": [
    "## Âge et date de naissance"
   ]
  },
  {
   "cell_type": "markdown",
   "metadata": {},
   "source": [
    "### Valeurs manquantes"
   ]
  },
  {
   "cell_type": "code",
   "execution_count": null,
   "metadata": {},
   "outputs": [],
   "source": [
    "df_patient[[\"date_of_birth\", \"age\"]].isna().value_counts()"
   ]
  },
  {
   "cell_type": "markdown",
   "metadata": {},
   "source": [
    "### Répartition des âges"
   ]
  },
  {
   "cell_type": "code",
   "execution_count": null,
   "metadata": {},
   "outputs": [],
   "source": [
    "df_patient.age.describe()"
   ]
  },
  {
   "cell_type": "code",
   "execution_count": null,
   "metadata": {},
   "outputs": [],
   "source": [
    "df_patient_age = pd.cut(df_patient.age.dropna(), bins=range(0, 101, 10), right=False)\n",
    "\n",
    "df_patient_age.value_counts().sort_index().plot.bar(xlabel=\"catégorie d'âge\", ylabel=\"patients\")"
   ]
  },
  {
   "cell_type": "code",
   "execution_count": null,
   "metadata": {},
   "outputs": [],
   "source": [
    "df_patient[df_patient.age < 10].age.value_counts().sort_index().plot.bar(xlabel=\"âge\", ylabel=\"patients\")"
   ]
  },
  {
   "cell_type": "markdown",
   "metadata": {},
   "source": [
    "On remarquera la présence de quelques patients en très bas âge (inférieur à 6 ans).\n",
    "\n",
    "Je n'ai pas connaissance d'un quelconque âge minimum pour effectuer un test PCR (à confirmer auprès d'un expert)."
   ]
  },
  {
   "cell_type": "markdown",
   "metadata": {},
   "source": [
    "### Dates de naissance invalides"
   ]
  },
  {
   "cell_type": "markdown",
   "metadata": {},
   "source": [
    "La date de naissance est stockée au format `YYYYMMDD` dans une valeur entière.\n",
    "\n",
    "On la convertit en `datetime` afin de la valider."
   ]
  },
  {
   "cell_type": "code",
   "execution_count": null,
   "metadata": {},
   "outputs": [],
   "source": [
    "dob_datetime = pd.to_datetime(df_patient.date_of_birth, format=\"%Y%M%d\", errors=\"coerce\")\n"
   ]
  },
  {
   "cell_type": "markdown",
   "metadata": {},
   "source": [
    "Pour celles qui ne passent pas la conversion, on procède manuellement à l'extraction de l'année, du mois et du jour."
   ]
  },
  {
   "cell_type": "code",
   "execution_count": null,
   "metadata": {},
   "outputs": [],
   "source": [
    "dob_invalid = (\n",
    "    df_patient[dob_datetime.isna()].date_of_birth.dropna().astype(str)\n",
    "        .str.extract(r\"(\\d{4})(\\d{2})(\\d{2})\", expand=True)\n",
    "        .rename(columns={0: \"year\", 1: \"month\", 2: \"day\"})\n",
    ")\n",
    "\n",
    "dob_invalid.sample(10, random_state=42)"
   ]
  },
  {
   "cell_type": "markdown",
   "metadata": {},
   "source": [
    "L'échantillon montre la présence de valeurs aberrantes pour le mois et / ou le jour.\n",
    "\n",
    "Il y a 106 patients pour lesquels la date de naissance est non conforme."
   ]
  },
  {
   "cell_type": "code",
   "execution_count": null,
   "metadata": {},
   "outputs": [],
   "source": [
    "len(dob_invalid)"
   ]
  },
  {
   "cell_type": "markdown",
   "metadata": {},
   "source": [
    "### Incohérence entre date de naissance et âge renseigné"
   ]
  },
  {
   "cell_type": "markdown",
   "metadata": {},
   "source": [
    "Pour les patients dont la date de naissance est valide, on calcule l'âge en fin d'année 2020."
   ]
  },
  {
   "cell_type": "code",
   "execution_count": null,
   "metadata": {},
   "outputs": [],
   "source": [
    "age_from_dob = (pd.Timestamp(\"2020-12-31\") - dob_datetime).dt.days.floordiv(365.25).rename(\"age_from_dob\")\n",
    "\n",
    "dob_and_ages = (\n",
    "    df_patient[[\"date_of_birth\", \"age\"]]\n",
    "        .merge(age_from_dob, left_index=True, right_index=True)\n",
    "        .dropna().convert_dtypes()\n",
    ")\n",
    "\n",
    "dob_and_ages.sample(10, random_state=42)"
   ]
  },
  {
   "cell_type": "markdown",
   "metadata": {},
   "source": [
    "L'échantillon montre une absence de cohérence entre l'âge renseigné et l'âge calculé à partir de la date de naissance.\n",
    "\n",
    "Même avec une tolérance d'une année, seuls 342 d'entre eux ont un âge cohérent."
   ]
  },
  {
   "cell_type": "code",
   "execution_count": null,
   "metadata": {},
   "outputs": [],
   "source": [
    "from numpy import isclose\n",
    "\n",
    "isclose(dob_and_ages.age.astype(int), dob_and_ages.age_from_dob.astype(int), atol=1).sum()"
   ]
  },
  {
   "cell_type": "markdown",
   "metadata": {},
   "source": [
    "## Numéro de téléphone"
   ]
  },
  {
   "cell_type": "markdown",
   "metadata": {},
   "source": [
    "En [Australie](https://info.australia.gov.au/about-australia/facts-and-figures/telephone-country-and-area-codes), les numéro de téléphone sont composés d'un indicatif de zone géographique sur 2 chiffres, suivi d'un indicatif local sur 8 chiffres."
   ]
  },
  {
   "cell_type": "markdown",
   "metadata": {},
   "source": [
    "Extraction des indicatifs de zone et locaux."
   ]
  },
  {
   "cell_type": "code",
   "execution_count": null,
   "metadata": {},
   "outputs": [],
   "source": [
    "df_patient_phone_number = df_patient.phone_number.dropna().str.extract(r\"(\\d{2})\\s(\\d{8})\", expand=True).rename(columns={0: \"area\", 1: \"local\"})\n",
    "\n",
    "df_patient_phone_number.sample(10, random_state=42)"
   ]
  },
  {
   "cell_type": "markdown",
   "metadata": {},
   "source": [
    "Tous les numéro de téléphone renseignés ont un indicatif de zone correct."
   ]
  },
  {
   "cell_type": "code",
   "execution_count": null,
   "metadata": {},
   "outputs": [],
   "source": [
    "df_patient_phone_number.area.isin([\"02\", \"03\", \"04\", \"07\", \"08\"]).all()"
   ]
  },
  {
   "cell_type": "markdown",
   "metadata": {},
   "source": [
    "## Adresse personnelle"
   ]
  },
  {
   "cell_type": "markdown",
   "metadata": {},
   "source": [
    "### Numéro de rue"
   ]
  },
  {
   "cell_type": "markdown",
   "metadata": {},
   "source": [
    "La numérotation des rues démarrent à 1. Le minimum de 0 est une valeur erronée."
   ]
  },
  {
   "cell_type": "code",
   "execution_count": null,
   "metadata": {},
   "outputs": [],
   "source": [
    "df_patient.street_number.dropna().astype(int).describe()"
   ]
  },
  {
   "cell_type": "markdown",
   "metadata": {},
   "source": [
    "Analyse du nombre de chiffres composant le numéro de rue."
   ]
  },
  {
   "cell_type": "code",
   "execution_count": null,
   "metadata": {
    "tags": []
   },
   "outputs": [],
   "source": [
    "street_number = df_patient.street_number.fillna(0).dropna().astype(int)\n",
    "street_number[\"number_of_digits\"] = street_number.astype(str).str.len()\n",
    "\n",
    "street_number.number_of_digits.value_counts().sort_index().plot.bar(xlabel=\"digits in street number\", ylabel=\"patients\")\n"
   ]
  },
  {
   "cell_type": "markdown",
   "metadata": {},
   "source": [
    "Il y a quelques patients avec un numéro de rue exceptionnellement élevé (nombre de chiffres >= 5).\n",
    "\n",
    "On analyse les patients correspondant."
   ]
  },
  {
   "cell_type": "code",
   "execution_count": null,
   "metadata": {},
   "outputs": [],
   "source": [
    "df_patient_with_large_street_number = df_patient.loc[street_number.number_of_digits >= 5]\n",
    "\n",
    "df_patient_with_large_street_number[[\"patient_id\", \"street_number\", \"address_1\", \"phone_number\"]]"
   ]
  },
  {
   "cell_type": "markdown",
   "metadata": {},
   "source": [
    "Les patients ont tous un numéro de téléphone renseigné.\n",
    "\n",
    "On peut donc effectuer un rapprochement par celui-ci afin d'identifier une possible erreur de saisie."
   ]
  },
  {
   "cell_type": "code",
   "execution_count": null,
   "metadata": {},
   "outputs": [],
   "source": [
    "df = df_patient_with_large_street_number[\n",
    "    [\"patient_id\", \"street_number\", \"address_1\", \"phone_number\"]\n",
    "].merge(\n",
    "    df_patient[[\"patient_id\", \"street_number\", \"address_1\", \"phone_number\"]],\n",
    "    on=\"phone_number\"\n",
    ")\n",
    "df.loc[df.patient_id_x != df.patient_id_y]"
   ]
  },
  {
   "cell_type": "markdown",
   "metadata": {},
   "source": [
    "Le numéro de rue à 6 chiffres est une erreur de saisie (342951 -> 3429).\n",
    "\n",
    "Idem pour l'un des numéro de rue à 5 chiffres (10030 -> 1000)."
   ]
  },
  {
   "cell_type": "markdown",
   "metadata": {},
   "source": [
    "### Adresse"
   ]
  },
  {
   "cell_type": "markdown",
   "metadata": {},
   "source": [
    "#### Taux de remplissage"
   ]
  },
  {
   "cell_type": "code",
   "execution_count": null,
   "metadata": {},
   "outputs": [],
   "source": [
    "df_patient[[\"address_1\", \"address_2\"]].notna().value_counts(normalize=True).sort_index()"
   ]
  },
  {
   "cell_type": "markdown",
   "metadata": {},
   "source": [
    "- 96% des adresses ont au moins le premier champ d'adresse renseigné\n",
    "- 38% ont les deux champs renseignés"
   ]
  },
  {
   "cell_type": "markdown",
   "metadata": {},
   "source": [
    "#### Fautes de saisie"
   ]
  },
  {
   "cell_type": "markdown",
   "metadata": {},
   "source": [
    "Rapprochement des adresses de patient partageant un même numéro de téléphone."
   ]
  },
  {
   "cell_type": "code",
   "execution_count": null,
   "metadata": {},
   "outputs": [],
   "source": [
    "address = (\n",
    "    df_patient[[\"patient_id\", \"address_1\", \"address_2\", \"phone_number\"]]\n",
    "        .dropna(subset=[\"phone_number\"])\n",
    "        .fillna(\"<NA>\")\n",
    ")\n",
    "address[\"full_address\"] = address[[\"address_1\", \"address_2\"]].apply(\", \".join, axis=1)\n",
    "address = address.merge(address, on=\"phone_number\")\n",
    "address = address.loc[\n",
    "    (address.patient_id_x != address.patient_id_y) & \\\n",
    "    (address.full_address_x != address.full_address_y)\n",
    "]\n",
    "\n",
    "address.sort_values(by=[\"phone_number\", \"patient_id_x\"]).head(10)"
   ]
  },
  {
   "cell_type": "markdown",
   "metadata": {},
   "source": [
    "Calcul de la distance d'édition."
   ]
  },
  {
   "cell_type": "code",
   "execution_count": null,
   "metadata": {
    "tags": []
   },
   "outputs": [],
   "source": [
    "address[\"distance\"] = address.apply(\n",
    "    lambda x: damerau_levenshtein_distance(x.full_address_x, x.full_address_y),\n",
    "    axis=1\n",
    ")\n",
    "\n",
    "address.distance.value_counts().sort_index().plot.bar()"
   ]
  },
  {
   "cell_type": "markdown",
   "metadata": {},
   "source": [
    "Fautes typographiques."
   ]
  },
  {
   "cell_type": "code",
   "execution_count": null,
   "metadata": {},
   "outputs": [],
   "source": [
    "address.loc[address.distance <= 2, [\"full_address_x\", \"full_address_y\", \"distance\"]].sample(20, random_state=42)"
   ]
  },
  {
   "cell_type": "code",
   "execution_count": null,
   "metadata": {},
   "outputs": [],
   "source": [
    "address.loc[address.distance == 3, [\"full_address_x\", \"full_address_y\", \"distance\"]]"
   ]
  },
  {
   "cell_type": "code",
   "execution_count": null,
   "metadata": {},
   "outputs": [],
   "source": [
    "address.loc[address.distance == 4, [\"full_address_x\", \"full_address_y\", \"distance\"]]"
   ]
  },
  {
   "cell_type": "markdown",
   "metadata": {},
   "source": [
    "Autres fautes.\n"
   ]
  },
  {
   "cell_type": "code",
   "execution_count": null,
   "metadata": {},
   "outputs": [],
   "source": [
    "address.loc[address.distance > 4, [\"full_address_x\", \"full_address_y\", \"distance\"]].sample(30, random_state=42)"
   ]
  },
  {
   "cell_type": "markdown",
   "metadata": {},
   "source": [
    "Omission du premier champ d'adresse."
   ]
  },
  {
   "cell_type": "code",
   "execution_count": null,
   "metadata": {},
   "outputs": [],
   "source": [
    "address.loc[8818, [\"full_address_x\", \"full_address_y\"]].to_list()"
   ]
  },
  {
   "cell_type": "markdown",
   "metadata": {},
   "source": [
    "Omission du second champ d'adresse."
   ]
  },
  {
   "cell_type": "code",
   "execution_count": null,
   "metadata": {},
   "outputs": [],
   "source": [
    "address.loc[940, [\"full_address_x\", \"full_address_y\"]].to_list()"
   ]
  },
  {
   "cell_type": "markdown",
   "metadata": {},
   "source": [
    "Second champ d'adresse différent."
   ]
  },
  {
   "cell_type": "code",
   "execution_count": null,
   "metadata": {},
   "outputs": [],
   "source": [
    "address.loc[1572, [\"full_address_x\", \"full_address_y\"]].to_list()"
   ]
  },
  {
   "cell_type": "markdown",
   "metadata": {},
   "source": [
    "Adresse complète différente."
   ]
  },
  {
   "cell_type": "code",
   "execution_count": null,
   "metadata": {},
   "outputs": [],
   "source": [
    "address.loc[3535, [\"full_address_x\", \"full_address_y\"]].to_list()"
   ]
  },
  {
   "cell_type": "markdown",
   "metadata": {},
   "source": [
    "### Quartier"
   ]
  },
  {
   "cell_type": "markdown",
   "metadata": {},
   "source": [
    "#### Taux de remplissage dans l'adresse"
   ]
  },
  {
   "cell_type": "code",
   "execution_count": null,
   "metadata": {},
   "outputs": [],
   "source": [
    "df_patient[[\"suburb\", \"address_1\", \"address_2\"]].notna().value_counts(normalize=True).sort_index()"
   ]
  },
  {
   "cell_type": "markdown",
   "metadata": {},
   "source": [
    "Le quartier est le plus souvent renseigné en complément du premier champ d'adresse.\n",
    "\n",
    "Il y a quelques rares cas où il est fourni seul, ou avec le second champ d'adresse seulement."
   ]
  },
  {
   "cell_type": "markdown",
   "metadata": {},
   "source": [
    "#### Fautes de saisie"
   ]
  },
  {
   "cell_type": "markdown",
   "metadata": {},
   "source": [
    "Certains couples quartier / postcode ont été inversées lors de la saisie."
   ]
  },
  {
   "cell_type": "code",
   "execution_count": null,
   "metadata": {},
   "outputs": [],
   "source": [
    "df_patient.loc[df_patient.suburb.str.contains(r\"\\d\")]"
   ]
  },
  {
   "cell_type": "markdown",
   "metadata": {},
   "source": [
    "Pour ces patients, il faut procéder à l'inversion des valeurs du quartier et du code postal.\n",
    "\n",
    "Le code postal peut contenir un caractère alphabétique qu'il faudra supprimer (exemple `467l0` -> `4670`)."
   ]
  },
  {
   "cell_type": "code",
   "execution_count": null,
   "metadata": {},
   "outputs": [],
   "source": [
    "swapped_suburb_postcode = df_patient.loc[df_patient.suburb.str.contains(r\"\\d\"), [\"suburb\", \"postcode\"]]\n",
    "\n",
    "swapped_suburb_postcode[\"suburb\"], swapped_suburb_postcode[\"postcode\"] = \\\n",
    "    swapped_suburb_postcode[\"postcode\"], swapped_suburb_postcode[\"suburb\"].str.replace(r\"[a-z]\", \"\")\n",
    "\n",
    "df_patient.update(swapped_suburb_postcode)\n",
    "\n",
    "df_patient.iloc[swapped_suburb_postcode.index]"
   ]
  },
  {
   "cell_type": "markdown",
   "metadata": {},
   "source": []
  },
  {
   "cell_type": "markdown",
   "metadata": {},
   "source": [
    "### Code postal"
   ]
  },
  {
   "cell_type": "markdown",
   "metadata": {},
   "source": [
    "#### Taux de remplissage dans l'adresse"
   ]
  },
  {
   "cell_type": "code",
   "execution_count": null,
   "metadata": {},
   "outputs": [],
   "source": [
    "df_patient[[\"postcode\", \"suburb\", \"state\"]].notna().value_counts(sort=False)"
   ]
  },
  {
   "cell_type": "markdown",
   "metadata": {},
   "source": [
    "Le code postal est très souvent renseigné, accompagné du quartier et / ou de l'état.   "
   ]
  },
  {
   "cell_type": "markdown",
   "metadata": {},
   "source": [
    "#### Validation"
   ]
  },
  {
   "cell_type": "code",
   "execution_count": null,
   "metadata": {},
   "outputs": [],
   "source": [
    "df_patient.postcode.dropna().str.len().value_counts()"
   ]
  },
  {
   "cell_type": "markdown",
   "metadata": {},
   "source": [
    "Chargement du référenciel de codes postaux valides par état."
   ]
  },
  {
   "cell_type": "code",
   "execution_count": null,
   "metadata": {},
   "outputs": [],
   "source": [
    "df_state_postcode = pd.read_csv(\"state_postcode.csv\").convert_dtypes()\n",
    "\n",
    "df_state_postcode"
   ]
  },
  {
   "cell_type": "markdown",
   "metadata": {},
   "source": [
    "Validation des valeurs de codes postaux."
   ]
  },
  {
   "cell_type": "code",
   "execution_count": null,
   "metadata": {},
   "outputs": [],
   "source": [
    "valid_postcode = pd.arrays.IntervalArray.from_arrays(\n",
    "    left=df_state_postcode.postcode_min_range.astype(int),\n",
    "    right=df_state_postcode.postcode_max_range.astype(int),\n",
    "    closed=\"both\",\n",
    ")\n",
    "\n",
    "df_postcode = df_patient[[\"patient_id\", \"postcode\"]].dropna(subset=[\"postcode\"])\n",
    "\n",
    "df_postcode[\"is_valid\"] = df_postcode.postcode.apply(\n",
    "    lambda x: valid_postcode.contains(int(x)).any()\n",
    ")\n",
    "\n",
    "df_postcode[~df_postcode.is_valid]"
   ]
  },
  {
   "cell_type": "markdown",
   "metadata": {},
   "source": [
    "Cohérence avec l'état renseigné."
   ]
  },
  {
   "cell_type": "code",
   "execution_count": null,
   "metadata": {},
   "outputs": [],
   "source": [
    "valid_postcode_per_state = {\n",
    "    state: pd.arrays.IntervalArray.from_arrays(\n",
    "        left=postcode.postcode_min_range,\n",
    "        right=postcode.postcode_max_range,\n",
    "        closed=\"both\",\n",
    "    )\n",
    "    for state, postcode in df_state_postcode.groupby(by=\"state\").agg(tuple).iterrows()\n",
    "}\n",
    "\n",
    "df_patient_state_postcode = (\n",
    "    df_patient[[\"patient_id\", \"state\", \"postcode\"]]\n",
    "        .dropna(subset=[\"state\", \"postcode\"])\n",
    ")\n",
    "\n",
    "df_patient_state_postcode[\"is_coherent_with_postcode\"] = df_patient_state_postcode.apply(\n",
    "    lambda x: valid_postcode_per_state[x.state].contains(int(x.postcode)).any(),\n",
    "    axis=1,\n",
    ")"
   ]
  },
  {
   "cell_type": "markdown",
   "metadata": {},
   "source": [
    "### État"
   ]
  },
  {
   "cell_type": "markdown",
   "metadata": {},
   "source": [
    "Répartition des valeurs"
   ]
  },
  {
   "cell_type": "code",
   "execution_count": null,
   "metadata": {
    "tags": []
   },
   "outputs": [],
   "source": [
    "state_counts = df_patient.state.value_counts()"
   ]
  },
  {
   "cell_type": "markdown",
   "metadata": {},
   "source": [
    "On retrouve les codes des 8 états de l'Australie."
   ]
  },
  {
   "cell_type": "code",
   "execution_count": null,
   "metadata": {},
   "outputs": [],
   "source": [
    "state_counts.head(8)"
   ]
  },
  {
   "cell_type": "markdown",
   "metadata": {},
   "source": [
    "Et 94 autres codes d'état à rectifier."
   ]
  },
  {
   "cell_type": "code",
   "execution_count": null,
   "metadata": {},
   "outputs": [],
   "source": [
    "state_counts[8:]"
   ]
  },
  {
   "cell_type": "markdown",
   "metadata": {},
   "source": [
    "On effectue un premier rapprochement par une distance d'édition très courte."
   ]
  },
  {
   "cell_type": "code",
   "execution_count": null,
   "metadata": {},
   "outputs": [],
   "source": [
    "from itertools import product\n",
    "from jellyfish import damerau_levenshtein_distance\n",
    "\n",
    "states = state_counts[:8].index.tolist()\n",
    "codes = state_counts[8:].index.tolist()\n",
    "\n",
    "code_to_state = pd.DataFrame(\n",
    "    data=[damerau_levenshtein_distance(c, s) for c, s in product(codes, states)],\n",
    "    index=pd.MultiIndex.from_product([codes, states], names=[\"code\", \"state\"]),\n",
    "    columns=[\"distance\"],\n",
    ")\n",
    "\n",
    "code_to_state = (\n",
    "    code_to_state[code_to_state.distance == 1]\n",
    "        .drop(columns=\"distance\")\n",
    "        .reset_index(\"code\")\n",
    "        .drop_duplicates(\"code\", keep=False)\n",
    "        .reset_index()\n",
    "        .set_index(\"code\")\n",
    ")[\"state\"]\n",
    "\n",
    "code_to_state.to_dict()"
   ]
  },
  {
   "cell_type": "markdown",
   "metadata": {},
   "source": [
    "Correction des états."
   ]
  },
  {
   "cell_type": "code",
   "execution_count": null,
   "metadata": {},
   "outputs": [],
   "source": [
    "df_patient.state.replace(code_to_state.to_dict(), inplace=True)"
   ]
  },
  {
   "cell_type": "markdown",
   "metadata": {},
   "source": [
    "Liste des codes restant à rapprocher."
   ]
  },
  {
   "cell_type": "code",
   "execution_count": null,
   "metadata": {},
   "outputs": [],
   "source": [
    "state_counts = df_patient.state.value_counts()\n",
    "\n",
    "state_counts[8:]"
   ]
  },
  {
   "cell_type": "markdown",
   "metadata": {},
   "source": [
    "On constate qu'ils ont tous un code postal renseigné."
   ]
  },
  {
   "cell_type": "code",
   "execution_count": null,
   "metadata": {},
   "outputs": [],
   "source": [
    "invalid_states = state_counts[8:].index.to_list()\n",
    "\n",
    "df_patient_with_invalid_state = df_patient.loc[df_patient.state.isin(invalid_states)]\n",
    "\n",
    "df_patient_with_invalid_state[[\"state\", \"postcode\"]].count()"
   ]
  },
  {
   "cell_type": "markdown",
   "metadata": {},
   "source": [
    "Utilisation d'un service de géocodage pour déduire l'état à partir du code postal."
   ]
  },
  {
   "cell_type": "code",
   "execution_count": null,
   "metadata": {},
   "outputs": [],
   "source": [
    "from geopy.geocoders import Nominatim\n",
    "\n",
    "geocoder = Nominatim(user_agent=\"inria-aphp-assignment\")\n",
    "df_patient_with_invalid_state[\"nominatim\"] = df_patient_with_invalid_state.apply(\n",
    "    lambda row: geocoder.geocode(f\"{row.postcode}, australia\").address, axis=1)\n",
    "\n",
    "df_patient_with_invalid_state[[\"postcode\", \"state\", \"nominatim\"]].head()"
   ]
  },
  {
   "cell_type": "markdown",
   "metadata": {},
   "source": [
    "On utilise `geopy` qui fournit une interface commune vers plusieurs services de géocodage, dont Nominatim (OpenStreetMap) qui est gratuit. Des limites de débits d'appliquent et la réponse de l'API est lente, donc il ne faut pas trop en abuser."
   ]
  },
  {
   "cell_type": "markdown",
   "metadata": {},
   "source": [
    "On extrait le libellé complet de l'état de l'adresse géocodée par Nominatim et le recode."
   ]
  },
  {
   "cell_type": "code",
   "execution_count": null,
   "metadata": {},
   "outputs": [],
   "source": [
    "df_patient_with_invalid_state[\"state_from_nominatim\"] = (\n",
    "    df_patient_with_invalid_state.nominatim\n",
    "        .str.extract(r\"(\\w[\\w\\s]*),\\s\\d{4}\", expand=False)\n",
    "        .str.lower()\n",
    "        .replace({\n",
    "            \"australian capital territory\": \"act\",\n",
    "            \"queensland\": \"qld\",\n",
    "            \"new south wales\": \"nsw\",\n",
    "            \"northern territory\": \"nt\",\n",
    "            \"south australia\": \"sa\",\n",
    "            \"victoria\": \"vic\",\n",
    "            \"tasmania\": \"ta\",\n",
    "            \"western australia\": \"wa\",\n",
    "        })\n",
    ")\n",
    "\n",
    "df_patient_with_invalid_state[[\"postcode\", \"state\", \"state_from_nominatim\"]]"
   ]
  },
  {
   "cell_type": "markdown",
   "metadata": {},
   "source": [
    "Correction des états"
   ]
  },
  {
   "cell_type": "code",
   "execution_count": null,
   "metadata": {},
   "outputs": [],
   "source": [
    "df_patient.state.iloc[df_patient_with_invalid_state.index] = df_patient_with_invalid_state.state_from_nominatim"
   ]
  },
  {
   "cell_type": "markdown",
   "metadata": {},
   "source": [
    "Validation des états"
   ]
  },
  {
   "cell_type": "code",
   "execution_count": null,
   "metadata": {},
   "outputs": [],
   "source": [
    "df_patient.state.value_counts()"
   ]
  },
  {
   "cell_type": "markdown",
   "metadata": {},
   "source": [
    "Il n'y a plus de codes d'état incorrects."
   ]
  },
  {
   "cell_type": "markdown",
   "metadata": {},
   "source": [
    "## Sanitize postcode and state\n",
    "\n",
    "Assume postcode is more reliable than state.\n",
    "Test all postcodes are valid.\n",
    "Case postcode invalid, try swap with suburb.\n",
    "Test some state are invalid.\n",
    "Normalize state with typos.\n",
    "For missing or invalid states, guess from postcode.\n",
    "Keep state if postcode invalid.\n"
   ]
  },
  {
   "cell_type": "code",
   "execution_count": null,
   "metadata": {},
   "outputs": [],
   "source": [
    "df_patient.state = df_patient.state.str.upper()\n",
    "df_patient_invalid_postcode = df_patient[df_patient.state.isin([\"NSW\", \"VIC\", \"QLD\", \"WA\", \"SA\", \"TAS\", \"ACT\", \"NT\"])]\n",
    "df_patient_vic = df_patient_invalid_postcode.loc[df_patient_invalid_postcode.state == \"VIC\"]\n",
    "df_patient_vic.loc[~df_patient_vic.postcode.str.match(r\"[3|8]\\d{3}\")].head()"
   ]
  }
 ]
}