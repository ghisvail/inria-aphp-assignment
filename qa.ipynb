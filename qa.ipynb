{
 "metadata": {
  "language_info": {
   "codemirror_mode": {
    "name": "ipython",
    "version": 3
   },
   "file_extension": ".py",
   "mimetype": "text/x-python",
   "name": "python",
   "nbconvert_exporter": "python",
   "pygments_lexer": "ipython3",
   "version": "3.8.5-final"
  },
  "orig_nbformat": 2,
  "kernelspec": {
   "name": "python3",
   "display_name": "Python 3"
  }
 },
 "nbformat": 4,
 "nbformat_minor": 2,
 "cells": [
  {
   "cell_type": "markdown",
   "metadata": {},
   "source": [
    "# Analyse de la qualité des données"
   ]
  },
  {
   "cell_type": "markdown",
   "metadata": {},
   "source": [
    "## Chargement des données brut"
   ]
  },
  {
   "cell_type": "code",
   "execution_count": 128,
   "metadata": {},
   "outputs": [
    {
     "output_type": "execute_result",
     "data": {
      "text/plain": "       patient_id given_name      surname  street_number            address_1  \\\n10000      724152     emiily   normandale           30.0       bentham street   \n10001      248620   chevonne      xepapas           22.0  strzelecki crescent   \n10002      508294     nathan        huddy           45.0     catchpole street   \n10003      498635     damien  albert-ward           49.0       wangara street   \n10004      266562     thomas        wynne           17.0       bollard street   \n10005      307158     fraser       cuming           71.0      namadgi circuit   \n10006      739446    michael        blake            5.0      gang gang court   \n10007      101468      riley        liddy           93.0        symers street   \n10008      386453      blake       huxley           27.0       burrell street   \n10009      172255     rachel    mosmondor            3.0      badimara street   \n\n            suburb postcode state  date_of_birth   age phone_number  \\\n10000      wingham     2630   nsw     19880310.0  26.0  04 35932541   \n10001     coniston     5034   tas     19381119.0  30.0  08 46573033   \n10002     brighton     2020   nsw     19210106.0  30.0  04 79805505   \n10003    hawthorne     2284    wa     19740925.0  33.0  02 53766926   \n10004  baddaginnie     5022   nsw     19000221.0  24.0  08 70262669   \n10005    pemberton     3082   qld     19811227.0   NaN  07 12997176   \n10006       mosman     4300    sa     19060126.0  31.0  04 81256468   \n10007         None     4660   vic     19971109.0  36.0  07 61650835   \n10008        miami     None   nsw     19630527.0  27.0  02 09031240   \n10009    frankston     4551   nsw     19940407.0  39.0  07 90052168   \n\n                address_2  \n10000                None  \n10001           pine dale  \n10002                None  \n10003   sec 1 hd molineux  \n10004                None  \n10005                None  \n10006                None  \n10007  marshanti arabians  \n10008         warrion rsd  \n10009         sydney road  ",
      "text/html": "<div>\n<style scoped>\n    .dataframe tbody tr th:only-of-type {\n        vertical-align: middle;\n    }\n\n    .dataframe tbody tr th {\n        vertical-align: top;\n    }\n\n    .dataframe thead th {\n        text-align: right;\n    }\n</style>\n<table border=\"1\" class=\"dataframe\">\n  <thead>\n    <tr style=\"text-align: right;\">\n      <th></th>\n      <th>patient_id</th>\n      <th>given_name</th>\n      <th>surname</th>\n      <th>street_number</th>\n      <th>address_1</th>\n      <th>suburb</th>\n      <th>postcode</th>\n      <th>state</th>\n      <th>date_of_birth</th>\n      <th>age</th>\n      <th>phone_number</th>\n      <th>address_2</th>\n    </tr>\n  </thead>\n  <tbody>\n    <tr>\n      <th>10000</th>\n      <td>724152</td>\n      <td>emiily</td>\n      <td>normandale</td>\n      <td>30.0</td>\n      <td>bentham street</td>\n      <td>wingham</td>\n      <td>2630</td>\n      <td>nsw</td>\n      <td>19880310.0</td>\n      <td>26.0</td>\n      <td>04 35932541</td>\n      <td>None</td>\n    </tr>\n    <tr>\n      <th>10001</th>\n      <td>248620</td>\n      <td>chevonne</td>\n      <td>xepapas</td>\n      <td>22.0</td>\n      <td>strzelecki crescent</td>\n      <td>coniston</td>\n      <td>5034</td>\n      <td>tas</td>\n      <td>19381119.0</td>\n      <td>30.0</td>\n      <td>08 46573033</td>\n      <td>pine dale</td>\n    </tr>\n    <tr>\n      <th>10002</th>\n      <td>508294</td>\n      <td>nathan</td>\n      <td>huddy</td>\n      <td>45.0</td>\n      <td>catchpole street</td>\n      <td>brighton</td>\n      <td>2020</td>\n      <td>nsw</td>\n      <td>19210106.0</td>\n      <td>30.0</td>\n      <td>04 79805505</td>\n      <td>None</td>\n    </tr>\n    <tr>\n      <th>10003</th>\n      <td>498635</td>\n      <td>damien</td>\n      <td>albert-ward</td>\n      <td>49.0</td>\n      <td>wangara street</td>\n      <td>hawthorne</td>\n      <td>2284</td>\n      <td>wa</td>\n      <td>19740925.0</td>\n      <td>33.0</td>\n      <td>02 53766926</td>\n      <td>sec 1 hd molineux</td>\n    </tr>\n    <tr>\n      <th>10004</th>\n      <td>266562</td>\n      <td>thomas</td>\n      <td>wynne</td>\n      <td>17.0</td>\n      <td>bollard street</td>\n      <td>baddaginnie</td>\n      <td>5022</td>\n      <td>nsw</td>\n      <td>19000221.0</td>\n      <td>24.0</td>\n      <td>08 70262669</td>\n      <td>None</td>\n    </tr>\n    <tr>\n      <th>10005</th>\n      <td>307158</td>\n      <td>fraser</td>\n      <td>cuming</td>\n      <td>71.0</td>\n      <td>namadgi circuit</td>\n      <td>pemberton</td>\n      <td>3082</td>\n      <td>qld</td>\n      <td>19811227.0</td>\n      <td>NaN</td>\n      <td>07 12997176</td>\n      <td>None</td>\n    </tr>\n    <tr>\n      <th>10006</th>\n      <td>739446</td>\n      <td>michael</td>\n      <td>blake</td>\n      <td>5.0</td>\n      <td>gang gang court</td>\n      <td>mosman</td>\n      <td>4300</td>\n      <td>sa</td>\n      <td>19060126.0</td>\n      <td>31.0</td>\n      <td>04 81256468</td>\n      <td>None</td>\n    </tr>\n    <tr>\n      <th>10007</th>\n      <td>101468</td>\n      <td>riley</td>\n      <td>liddy</td>\n      <td>93.0</td>\n      <td>symers street</td>\n      <td>None</td>\n      <td>4660</td>\n      <td>vic</td>\n      <td>19971109.0</td>\n      <td>36.0</td>\n      <td>07 61650835</td>\n      <td>marshanti arabians</td>\n    </tr>\n    <tr>\n      <th>10008</th>\n      <td>386453</td>\n      <td>blake</td>\n      <td>huxley</td>\n      <td>27.0</td>\n      <td>burrell street</td>\n      <td>miami</td>\n      <td>None</td>\n      <td>nsw</td>\n      <td>19630527.0</td>\n      <td>27.0</td>\n      <td>02 09031240</td>\n      <td>warrion rsd</td>\n    </tr>\n    <tr>\n      <th>10009</th>\n      <td>172255</td>\n      <td>rachel</td>\n      <td>mosmondor</td>\n      <td>3.0</td>\n      <td>badimara street</td>\n      <td>frankston</td>\n      <td>4551</td>\n      <td>nsw</td>\n      <td>19940407.0</td>\n      <td>39.0</td>\n      <td>07 90052168</td>\n      <td>sydney road</td>\n    </tr>\n  </tbody>\n</table>\n</div>"
     },
     "metadata": {},
     "execution_count": 128
    }
   ],
   "source": [
    "from getting_started import df_patient, df_pcr\n",
    "\n",
    "df_patient[10000:10010]"
   ]
  },
  {
   "cell_type": "code",
   "execution_count": 96,
   "metadata": {
    "tags": []
   },
   "outputs": [
    {
     "output_type": "stream",
     "name": "stdout",
     "text": "<class 'pandas.core.frame.DataFrame'>\nRangeIndex: 20000 entries, 0 to 19999\nData columns (total 12 columns):\n #   Column         Non-Null Count  Dtype \n---  ------         --------------  ----- \n 0   patient_id     20000 non-null  Int64 \n 1   given_name     19560 non-null  string\n 2   surname        19575 non-null  string\n 3   street_number  19618 non-null  Int64 \n 4   address_1      19204 non-null  string\n 5   suburb         19788 non-null  string\n 6   postcode       19801 non-null  string\n 7   state          18010 non-null  string\n 8   date_of_birth  17989 non-null  Int64 \n 9   age            16003 non-null  Int64 \n 10  phone_number   19081 non-null  string\n 11  address_2      7893 non-null   string\ndtypes: Int64(4), string(8)\nmemory usage: 1.9 MB\n"
    }
   ],
   "source": [
    "df_patient = df_patient.convert_dtypes()\n",
    "df_patient.info()"
   ]
  },
  {
   "cell_type": "code",
   "execution_count": 97,
   "metadata": {
    "tags": []
   },
   "outputs": [
    {
     "output_type": "stream",
     "name": "stdout",
     "text": "<class 'pandas.core.frame.DataFrame'>\nRangeIndex: 8800 entries, 0 to 8799\nData columns (total 2 columns):\n #   Column      Non-Null Count  Dtype \n---  ------      --------------  ----- \n 0   patient_id  8800 non-null   Int64 \n 1   pcr         8800 non-null   string\ndtypes: Int64(1), string(1)\nmemory usage: 146.2 KB\n"
    }
   ],
   "source": [
    "df_pcr = df_pcr.convert_dtypes()\n",
    "df_pcr.info()"
   ]
  },
  {
   "cell_type": "code",
   "execution_count": 98,
   "metadata": {},
   "outputs": [
    {
     "output_type": "execute_result",
     "data": {
      "text/plain": "   patient_id given_name    surname  street_number            address_1  \\\n0      221958    matisse     clarke             13          rene street   \n1      771155     joshua     elrick             23         andrea place   \n2      231932      alice     conboy             35     mountain circuit   \n3      465838     sienna   craswell             39  cumberlegeicrescent   \n4      359178     joshua  bastiaans            144        lowrie street   \n5      744167         ky      laing            448          nyawi place   \n6      210268    matthew      laing             11         barnes place   \n7      832180       jack    renfrey             27        osmand street   \n8      154886      adele       ryan             76        house circuit   \n9      237337   breeanne      wynne             12        cowper street   \n\n          suburb postcode state  date_of_birth  age phone_number    address_2  \n0     ellenbrook     2527    wa       19710708   32  08 86018809     westella  \n1   east preston     2074   nsw       19120921   34  02 97793152      foxdown  \n2       prospect     2305   nsw       19810905   22  02 20403934         <NA>  \n3          henty     3620    wa       19840809   30  02 62832318       jodane  \n4  campbell town     4051   nsw       19340430   31  03 69359594         <NA>  \n5        barmera     3556   qld       19050919   32  03 59872070         <NA>  \n6      laurieton     2160   nsw       19061018   29  02 86925029         <NA>  \n7    maribyrnong     2170   qld       19610518   31  03 15575583  dhurringill  \n8       new farm     2200   qld       19430102   33  07 37444521         <NA>  \n9     bonnet bay     2062   qld       19030606   35  08 24888117         <NA>  ",
      "text/html": "<div>\n<style scoped>\n    .dataframe tbody tr th:only-of-type {\n        vertical-align: middle;\n    }\n\n    .dataframe tbody tr th {\n        vertical-align: top;\n    }\n\n    .dataframe thead th {\n        text-align: right;\n    }\n</style>\n<table border=\"1\" class=\"dataframe\">\n  <thead>\n    <tr style=\"text-align: right;\">\n      <th></th>\n      <th>patient_id</th>\n      <th>given_name</th>\n      <th>surname</th>\n      <th>street_number</th>\n      <th>address_1</th>\n      <th>suburb</th>\n      <th>postcode</th>\n      <th>state</th>\n      <th>date_of_birth</th>\n      <th>age</th>\n      <th>phone_number</th>\n      <th>address_2</th>\n    </tr>\n  </thead>\n  <tbody>\n    <tr>\n      <th>0</th>\n      <td>221958</td>\n      <td>matisse</td>\n      <td>clarke</td>\n      <td>13</td>\n      <td>rene street</td>\n      <td>ellenbrook</td>\n      <td>2527</td>\n      <td>wa</td>\n      <td>19710708</td>\n      <td>32</td>\n      <td>08 86018809</td>\n      <td>westella</td>\n    </tr>\n    <tr>\n      <th>1</th>\n      <td>771155</td>\n      <td>joshua</td>\n      <td>elrick</td>\n      <td>23</td>\n      <td>andrea place</td>\n      <td>east preston</td>\n      <td>2074</td>\n      <td>nsw</td>\n      <td>19120921</td>\n      <td>34</td>\n      <td>02 97793152</td>\n      <td>foxdown</td>\n    </tr>\n    <tr>\n      <th>2</th>\n      <td>231932</td>\n      <td>alice</td>\n      <td>conboy</td>\n      <td>35</td>\n      <td>mountain circuit</td>\n      <td>prospect</td>\n      <td>2305</td>\n      <td>nsw</td>\n      <td>19810905</td>\n      <td>22</td>\n      <td>02 20403934</td>\n      <td>&lt;NA&gt;</td>\n    </tr>\n    <tr>\n      <th>3</th>\n      <td>465838</td>\n      <td>sienna</td>\n      <td>craswell</td>\n      <td>39</td>\n      <td>cumberlegeicrescent</td>\n      <td>henty</td>\n      <td>3620</td>\n      <td>wa</td>\n      <td>19840809</td>\n      <td>30</td>\n      <td>02 62832318</td>\n      <td>jodane</td>\n    </tr>\n    <tr>\n      <th>4</th>\n      <td>359178</td>\n      <td>joshua</td>\n      <td>bastiaans</td>\n      <td>144</td>\n      <td>lowrie street</td>\n      <td>campbell town</td>\n      <td>4051</td>\n      <td>nsw</td>\n      <td>19340430</td>\n      <td>31</td>\n      <td>03 69359594</td>\n      <td>&lt;NA&gt;</td>\n    </tr>\n    <tr>\n      <th>5</th>\n      <td>744167</td>\n      <td>ky</td>\n      <td>laing</td>\n      <td>448</td>\n      <td>nyawi place</td>\n      <td>barmera</td>\n      <td>3556</td>\n      <td>qld</td>\n      <td>19050919</td>\n      <td>32</td>\n      <td>03 59872070</td>\n      <td>&lt;NA&gt;</td>\n    </tr>\n    <tr>\n      <th>6</th>\n      <td>210268</td>\n      <td>matthew</td>\n      <td>laing</td>\n      <td>11</td>\n      <td>barnes place</td>\n      <td>laurieton</td>\n      <td>2160</td>\n      <td>nsw</td>\n      <td>19061018</td>\n      <td>29</td>\n      <td>02 86925029</td>\n      <td>&lt;NA&gt;</td>\n    </tr>\n    <tr>\n      <th>7</th>\n      <td>832180</td>\n      <td>jack</td>\n      <td>renfrey</td>\n      <td>27</td>\n      <td>osmand street</td>\n      <td>maribyrnong</td>\n      <td>2170</td>\n      <td>qld</td>\n      <td>19610518</td>\n      <td>31</td>\n      <td>03 15575583</td>\n      <td>dhurringill</td>\n    </tr>\n    <tr>\n      <th>8</th>\n      <td>154886</td>\n      <td>adele</td>\n      <td>ryan</td>\n      <td>76</td>\n      <td>house circuit</td>\n      <td>new farm</td>\n      <td>2200</td>\n      <td>qld</td>\n      <td>19430102</td>\n      <td>33</td>\n      <td>07 37444521</td>\n      <td>&lt;NA&gt;</td>\n    </tr>\n    <tr>\n      <th>9</th>\n      <td>237337</td>\n      <td>breeanne</td>\n      <td>wynne</td>\n      <td>12</td>\n      <td>cowper street</td>\n      <td>bonnet bay</td>\n      <td>2062</td>\n      <td>qld</td>\n      <td>19030606</td>\n      <td>35</td>\n      <td>08 24888117</td>\n      <td>&lt;NA&gt;</td>\n    </tr>\n  </tbody>\n</table>\n</div>"
     },
     "metadata": {},
     "execution_count": 98
    }
   ],
   "source": [
    "df_patient.head(10)"
   ]
  },
  {
   "cell_type": "code",
   "execution_count": 99,
   "metadata": {},
   "outputs": [
    {
     "output_type": "execute_result",
     "data": {
      "text/plain": "   patient_id       pcr\n0      653091         N\n1      347667  Negative\n2      708481  Positive\n3      148825  Negative\n4      150081  Negative\n5      876796         N\n6      169224  Negative\n7      755915         P\n8      374486         N\n9      634003         N",
      "text/html": "<div>\n<style scoped>\n    .dataframe tbody tr th:only-of-type {\n        vertical-align: middle;\n    }\n\n    .dataframe tbody tr th {\n        vertical-align: top;\n    }\n\n    .dataframe thead th {\n        text-align: right;\n    }\n</style>\n<table border=\"1\" class=\"dataframe\">\n  <thead>\n    <tr style=\"text-align: right;\">\n      <th></th>\n      <th>patient_id</th>\n      <th>pcr</th>\n    </tr>\n  </thead>\n  <tbody>\n    <tr>\n      <th>0</th>\n      <td>653091</td>\n      <td>N</td>\n    </tr>\n    <tr>\n      <th>1</th>\n      <td>347667</td>\n      <td>Negative</td>\n    </tr>\n    <tr>\n      <th>2</th>\n      <td>708481</td>\n      <td>Positive</td>\n    </tr>\n    <tr>\n      <th>3</th>\n      <td>148825</td>\n      <td>Negative</td>\n    </tr>\n    <tr>\n      <th>4</th>\n      <td>150081</td>\n      <td>Negative</td>\n    </tr>\n    <tr>\n      <th>5</th>\n      <td>876796</td>\n      <td>N</td>\n    </tr>\n    <tr>\n      <th>6</th>\n      <td>169224</td>\n      <td>Negative</td>\n    </tr>\n    <tr>\n      <th>7</th>\n      <td>755915</td>\n      <td>P</td>\n    </tr>\n    <tr>\n      <th>8</th>\n      <td>374486</td>\n      <td>N</td>\n    </tr>\n    <tr>\n      <th>9</th>\n      <td>634003</td>\n      <td>N</td>\n    </tr>\n  </tbody>\n</table>\n</div>"
     },
     "metadata": {},
     "execution_count": 99
    }
   ],
   "source": [
    "df_pcr.head(10)"
   ]
  },
  {
   "cell_type": "code",
   "execution_count": 23,
   "metadata": {},
   "outputs": [
    {
     "output_type": "execute_result",
     "data": {
      "text/plain": "N           3482\nNegative    3134\nPositive    1283\nP            901\nName: pcr, dtype: Int64"
     },
     "metadata": {},
     "execution_count": 23
    }
   ],
   "source": [
    "df_pcr.pcr.value_counts()"
   ]
  },
  {
   "cell_type": "markdown",
   "metadata": {},
   "source": [
    "## Index métier `patient_id` unique ?"
   ]
  },
  {
   "cell_type": "markdown",
   "metadata": {},
   "source": [
    "Nombre de patients avec `patient_id` dupliqué"
   ]
  },
  {
   "cell_type": "code",
   "execution_count": 26,
   "metadata": {},
   "outputs": [
    {
     "output_type": "execute_result",
     "data": {
      "text/plain": "202"
     },
     "metadata": {},
     "execution_count": 26
    }
   ],
   "source": [
    "df_patient.patient_id.duplicated().sum()"
   ]
  },
  {
   "cell_type": "markdown",
   "metadata": {},
   "source": [
    "Nombre de tests PCR associés à un `patient_id` dupliqué"
   ]
  },
  {
   "cell_type": "code",
   "execution_count": 29,
   "metadata": {},
   "outputs": [
    {
     "output_type": "execute_result",
     "data": {
      "text/plain": "168"
     },
     "metadata": {},
     "execution_count": 29
    }
   ],
   "source": [
    "df_pcr.patient_id.isin(df_patient[df_patient.patient_id.duplicated()].patient_id).sum()"
   ]
  },
  {
   "cell_type": "markdown",
   "metadata": {},
   "source": [
    "## Analyse des noms et prénoms"
   ]
  },
  {
   "cell_type": "markdown",
   "metadata": {},
   "source": [
    "Valeurs manquantes :"
   ]
  },
  {
   "cell_type": "code",
   "execution_count": 61,
   "metadata": {},
   "outputs": [
    {
     "output_type": "execute_result",
     "data": {
      "text/plain": "given_name  surname\nFalse       False      19139\nTrue        False        436\nFalse       True         421\nTrue        True           4\ndtype: int64"
     },
     "metadata": {},
     "execution_count": 61
    }
   ],
   "source": [
    "df_patient[[\"given_name\", \"surname\"]].isna().value_counts()"
   ]
  },
  {
   "cell_type": "markdown",
   "metadata": {},
   "source": [
    "## Analyse des âges et dates de naissance"
   ]
  },
  {
   "cell_type": "markdown",
   "metadata": {},
   "source": [
    "Valeurs manquantes :"
   ]
  },
  {
   "cell_type": "code",
   "execution_count": 64,
   "metadata": {},
   "outputs": [
    {
     "output_type": "execute_result",
     "data": {
      "text/plain": "age    date_of_birth\nFalse  False            14391\nTrue   False             3598\nFalse  True              1612\nTrue   True               399\ndtype: int64"
     },
     "metadata": {},
     "execution_count": 64
    }
   ],
   "source": [
    "df_patient[[\"age\", \"date_of_birth\"]].isna().value_counts()"
   ]
  },
  {
   "cell_type": "markdown",
   "metadata": {},
   "source": [
    "Dates de naissance invalides :"
   ]
  },
  {
   "cell_type": "code",
   "execution_count": 125,
   "metadata": {},
   "outputs": [
    {
     "output_type": "error",
     "ename": "OutOfBoundsDatetime",
     "evalue": "Out of bounds nanosecond timestamp: 55936-02-02 00:00:00",
     "traceback": [
      "\u001b[0;31m---------------------------------------------------------------------------\u001b[0m",
      "\u001b[0;31mOutOfBoundsDatetime\u001b[0m                       Traceback (most recent call last)",
      "\u001b[0;32m<ipython-input-125-62dee15ea425>\u001b[0m in \u001b[0;36m<module>\u001b[0;34m\u001b[0m\n\u001b[1;32m      1\u001b[0m \u001b[0;32mfrom\u001b[0m \u001b[0mpandas\u001b[0m \u001b[0;32mimport\u001b[0m \u001b[0mto_datetime\u001b[0m\u001b[0;34m\u001b[0m\u001b[0;34m\u001b[0m\u001b[0m\n\u001b[1;32m      2\u001b[0m \u001b[0;34m\u001b[0m\u001b[0m\n\u001b[0;32m----> 3\u001b[0;31m df_patient[\"dob_datetime\"] = to_datetime(\n\u001b[0m\u001b[1;32m      4\u001b[0m     \u001b[0mdf_patient\u001b[0m\u001b[0;34m.\u001b[0m\u001b[0mdate_of_birth\u001b[0m\u001b[0;34m,\u001b[0m\u001b[0;34m\u001b[0m\u001b[0;34m\u001b[0m\u001b[0m\n\u001b[1;32m      5\u001b[0m     \u001b[0merrors\u001b[0m\u001b[0;34m=\u001b[0m\u001b[0;34m\"coerce\"\u001b[0m\u001b[0;34m,\u001b[0m\u001b[0;34m\u001b[0m\u001b[0;34m\u001b[0m\u001b[0m\n",
      "\u001b[0;32m~/.local/miniconda3/envs/inria-aphp-assignment/lib/python3.8/site-packages/pandas/core/tools/datetimes.py\u001b[0m in \u001b[0;36mto_datetime\u001b[0;34m(arg, errors, dayfirst, yearfirst, utc, format, exact, unit, infer_datetime_format, origin, cache)\u001b[0m\n\u001b[1;32m    801\u001b[0m             \u001b[0mresult\u001b[0m \u001b[0;34m=\u001b[0m \u001b[0marg\u001b[0m\u001b[0;34m.\u001b[0m\u001b[0mmap\u001b[0m\u001b[0;34m(\u001b[0m\u001b[0mcache_array\u001b[0m\u001b[0;34m)\u001b[0m\u001b[0;34m\u001b[0m\u001b[0;34m\u001b[0m\u001b[0m\n\u001b[1;32m    802\u001b[0m         \u001b[0;32melse\u001b[0m\u001b[0;34m:\u001b[0m\u001b[0;34m\u001b[0m\u001b[0;34m\u001b[0m\u001b[0m\n\u001b[0;32m--> 803\u001b[0;31m             \u001b[0mvalues\u001b[0m \u001b[0;34m=\u001b[0m \u001b[0mconvert_listlike\u001b[0m\u001b[0;34m(\u001b[0m\u001b[0marg\u001b[0m\u001b[0;34m.\u001b[0m\u001b[0m_values\u001b[0m\u001b[0;34m,\u001b[0m \u001b[0mformat\u001b[0m\u001b[0;34m)\u001b[0m\u001b[0;34m\u001b[0m\u001b[0;34m\u001b[0m\u001b[0m\n\u001b[0m\u001b[1;32m    804\u001b[0m             \u001b[0mresult\u001b[0m \u001b[0;34m=\u001b[0m \u001b[0marg\u001b[0m\u001b[0;34m.\u001b[0m\u001b[0m_constructor\u001b[0m\u001b[0;34m(\u001b[0m\u001b[0mvalues\u001b[0m\u001b[0;34m,\u001b[0m \u001b[0mindex\u001b[0m\u001b[0;34m=\u001b[0m\u001b[0marg\u001b[0m\u001b[0;34m.\u001b[0m\u001b[0mindex\u001b[0m\u001b[0;34m,\u001b[0m \u001b[0mname\u001b[0m\u001b[0;34m=\u001b[0m\u001b[0marg\u001b[0m\u001b[0;34m.\u001b[0m\u001b[0mname\u001b[0m\u001b[0;34m)\u001b[0m\u001b[0;34m\u001b[0m\u001b[0;34m\u001b[0m\u001b[0m\n\u001b[1;32m    805\u001b[0m     \u001b[0;32melif\u001b[0m \u001b[0misinstance\u001b[0m\u001b[0;34m(\u001b[0m\u001b[0marg\u001b[0m\u001b[0;34m,\u001b[0m \u001b[0;34m(\u001b[0m\u001b[0mABCDataFrame\u001b[0m\u001b[0;34m,\u001b[0m \u001b[0mabc\u001b[0m\u001b[0;34m.\u001b[0m\u001b[0mMutableMapping\u001b[0m\u001b[0;34m)\u001b[0m\u001b[0;34m)\u001b[0m\u001b[0;34m:\u001b[0m\u001b[0;34m\u001b[0m\u001b[0;34m\u001b[0m\u001b[0m\n",
      "\u001b[0;32m~/.local/miniconda3/envs/inria-aphp-assignment/lib/python3.8/site-packages/pandas/core/tools/datetimes.py\u001b[0m in \u001b[0;36m_convert_listlike_datetimes\u001b[0;34m(arg, format, name, tz, unit, errors, infer_datetime_format, dayfirst, yearfirst, exact)\u001b[0m\n\u001b[1;32m    345\u001b[0m             \u001b[0mresult\u001b[0m \u001b[0;34m=\u001b[0m \u001b[0mIndex\u001b[0m\u001b[0;34m(\u001b[0m\u001b[0mresult\u001b[0m\u001b[0;34m,\u001b[0m \u001b[0mname\u001b[0m\u001b[0;34m=\u001b[0m\u001b[0mname\u001b[0m\u001b[0;34m)\u001b[0m\u001b[0;34m\u001b[0m\u001b[0;34m\u001b[0m\u001b[0m\n\u001b[1;32m    346\u001b[0m         \u001b[0;32melse\u001b[0m\u001b[0;34m:\u001b[0m\u001b[0;34m\u001b[0m\u001b[0;34m\u001b[0m\u001b[0m\n\u001b[0;32m--> 347\u001b[0;31m             \u001b[0mresult\u001b[0m \u001b[0;34m=\u001b[0m \u001b[0mDatetimeIndex\u001b[0m\u001b[0;34m(\u001b[0m\u001b[0mresult\u001b[0m\u001b[0;34m,\u001b[0m \u001b[0mname\u001b[0m\u001b[0;34m=\u001b[0m\u001b[0mname\u001b[0m\u001b[0;34m)\u001b[0m\u001b[0;34m\u001b[0m\u001b[0;34m\u001b[0m\u001b[0m\n\u001b[0m\u001b[1;32m    348\u001b[0m         \u001b[0;31m# GH 23758: We may still need to localize the result with tz\u001b[0m\u001b[0;34m\u001b[0m\u001b[0;34m\u001b[0m\u001b[0;34m\u001b[0m\u001b[0m\n\u001b[1;32m    349\u001b[0m         \u001b[0;31m# GH 25546: Apply tz_parsed first (from arg), then tz (from caller)\u001b[0m\u001b[0;34m\u001b[0m\u001b[0;34m\u001b[0m\u001b[0;34m\u001b[0m\u001b[0m\n",
      "\u001b[0;32m~/.local/miniconda3/envs/inria-aphp-assignment/lib/python3.8/site-packages/pandas/core/indexes/datetimes.py\u001b[0m in \u001b[0;36m__new__\u001b[0;34m(cls, data, freq, tz, normalize, closed, ambiguous, dayfirst, yearfirst, dtype, copy, name)\u001b[0m\n\u001b[1;32m    269\u001b[0m         \u001b[0mname\u001b[0m \u001b[0;34m=\u001b[0m \u001b[0mmaybe_extract_name\u001b[0m\u001b[0;34m(\u001b[0m\u001b[0mname\u001b[0m\u001b[0;34m,\u001b[0m \u001b[0mdata\u001b[0m\u001b[0;34m,\u001b[0m \u001b[0mcls\u001b[0m\u001b[0;34m)\u001b[0m\u001b[0;34m\u001b[0m\u001b[0;34m\u001b[0m\u001b[0m\n\u001b[1;32m    270\u001b[0m \u001b[0;34m\u001b[0m\u001b[0m\n\u001b[0;32m--> 271\u001b[0;31m         dtarr = DatetimeArray._from_sequence(\n\u001b[0m\u001b[1;32m    272\u001b[0m             \u001b[0mdata\u001b[0m\u001b[0;34m,\u001b[0m\u001b[0;34m\u001b[0m\u001b[0;34m\u001b[0m\u001b[0m\n\u001b[1;32m    273\u001b[0m             \u001b[0mdtype\u001b[0m\u001b[0;34m=\u001b[0m\u001b[0mdtype\u001b[0m\u001b[0;34m,\u001b[0m\u001b[0;34m\u001b[0m\u001b[0;34m\u001b[0m\u001b[0m\n",
      "\u001b[0;32m~/.local/miniconda3/envs/inria-aphp-assignment/lib/python3.8/site-packages/pandas/core/arrays/datetimes.py\u001b[0m in \u001b[0;36m_from_sequence\u001b[0;34m(cls, data, dtype, copy, tz, freq, dayfirst, yearfirst, ambiguous)\u001b[0m\n\u001b[1;32m    314\u001b[0m         \u001b[0mfreq\u001b[0m\u001b[0;34m,\u001b[0m \u001b[0mfreq_infer\u001b[0m \u001b[0;34m=\u001b[0m \u001b[0mdtl\u001b[0m\u001b[0;34m.\u001b[0m\u001b[0mmaybe_infer_freq\u001b[0m\u001b[0;34m(\u001b[0m\u001b[0mfreq\u001b[0m\u001b[0;34m)\u001b[0m\u001b[0;34m\u001b[0m\u001b[0;34m\u001b[0m\u001b[0m\n\u001b[1;32m    315\u001b[0m \u001b[0;34m\u001b[0m\u001b[0m\n\u001b[0;32m--> 316\u001b[0;31m         subarr, tz, inferred_freq = sequence_to_dt64ns(\n\u001b[0m\u001b[1;32m    317\u001b[0m             \u001b[0mdata\u001b[0m\u001b[0;34m,\u001b[0m\u001b[0;34m\u001b[0m\u001b[0;34m\u001b[0m\u001b[0m\n\u001b[1;32m    318\u001b[0m             \u001b[0mdtype\u001b[0m\u001b[0;34m=\u001b[0m\u001b[0mdtype\u001b[0m\u001b[0;34m,\u001b[0m\u001b[0;34m\u001b[0m\u001b[0;34m\u001b[0m\u001b[0m\n",
      "\u001b[0;32m~/.local/miniconda3/envs/inria-aphp-assignment/lib/python3.8/site-packages/pandas/core/arrays/datetimes.py\u001b[0m in \u001b[0;36msequence_to_dt64ns\u001b[0;34m(data, dtype, copy, tz, dayfirst, yearfirst, ambiguous)\u001b[0m\n\u001b[1;32m   1964\u001b[0m         \u001b[0mdata\u001b[0m \u001b[0;34m=\u001b[0m \u001b[0mgetattr\u001b[0m\u001b[0;34m(\u001b[0m\u001b[0mdata\u001b[0m\u001b[0;34m,\u001b[0m \u001b[0;34m\"_data\"\u001b[0m\u001b[0;34m,\u001b[0m \u001b[0mdata\u001b[0m\u001b[0;34m)\u001b[0m\u001b[0;34m\u001b[0m\u001b[0;34m\u001b[0m\u001b[0m\n\u001b[1;32m   1965\u001b[0m         \u001b[0;32mif\u001b[0m \u001b[0mdata\u001b[0m\u001b[0;34m.\u001b[0m\u001b[0mdtype\u001b[0m \u001b[0;34m!=\u001b[0m \u001b[0mDT64NS_DTYPE\u001b[0m\u001b[0;34m:\u001b[0m\u001b[0;34m\u001b[0m\u001b[0;34m\u001b[0m\u001b[0m\n\u001b[0;32m-> 1966\u001b[0;31m             \u001b[0mdata\u001b[0m \u001b[0;34m=\u001b[0m \u001b[0mconversion\u001b[0m\u001b[0;34m.\u001b[0m\u001b[0mensure_datetime64ns\u001b[0m\u001b[0;34m(\u001b[0m\u001b[0mdata\u001b[0m\u001b[0;34m)\u001b[0m\u001b[0;34m\u001b[0m\u001b[0;34m\u001b[0m\u001b[0m\n\u001b[0m\u001b[1;32m   1967\u001b[0m \u001b[0;34m\u001b[0m\u001b[0m\n\u001b[1;32m   1968\u001b[0m         \u001b[0;32mif\u001b[0m \u001b[0mtz\u001b[0m \u001b[0;32mis\u001b[0m \u001b[0;32mnot\u001b[0m \u001b[0;32mNone\u001b[0m\u001b[0;34m:\u001b[0m\u001b[0;34m\u001b[0m\u001b[0;34m\u001b[0m\u001b[0m\n",
      "\u001b[0;32mpandas/_libs/tslibs/conversion.pyx\u001b[0m in \u001b[0;36mpandas._libs.tslibs.conversion.ensure_datetime64ns\u001b[0;34m()\u001b[0m\n",
      "\u001b[0;32mpandas/_libs/tslibs/np_datetime.pyx\u001b[0m in \u001b[0;36mpandas._libs.tslibs.np_datetime.check_dts_bounds\u001b[0;34m()\u001b[0m\n",
      "\u001b[0;31mOutOfBoundsDatetime\u001b[0m: Out of bounds nanosecond timestamp: 55936-02-02 00:00:00"
     ]
    }
   ],
   "source": [
    "from pandas import to_datetime\n",
    "\n",
    "df_patient[\"dob_datetime\"] = to_datetime(\n",
    "    df_patient.date_of_birth,\n",
    "    errors=\"coerce\",\n",
    "    unit=\"D\",\n",
    "    origin=\"unix\",\n",
    "    utc=False,\n",
    ")\n",
    "\n",
    "df_patient[1000:1010]"
   ]
  },
  {
   "cell_type": "code",
   "execution_count": 75,
   "metadata": {},
   "outputs": [
    {
     "output_type": "execute_result",
     "data": {
      "text/plain": "40       19030539\n145      19179318\n244      19541242\n481      19990353\n539      19328814\n           ...   \n19843    19181527\n19875    19339919\n19928    19550480\n19949    19910237\n19952    19120978\nName: date_of_birth, Length: 174, dtype: Int64"
     },
     "metadata": {},
     "execution_count": 75
    }
   ],
   "source": [
    "df_patient.date_of_birth[\n",
    "    df_patient.date_of_birth.notna() & \\\n",
    "    df_patient.dob_datetime.isna()\n",
    "]"
   ]
  },
  {
   "cell_type": "markdown",
   "metadata": {},
   "source": [
    "Incohérences entre âge déclaré et calculé : "
   ]
  },
  {
   "cell_type": "code",
   "execution_count": 93,
   "metadata": {},
   "outputs": [
    {
     "output_type": "execute_result",
     "data": {
      "text/plain": "    patient_id given_name      surname  street_number              address_1  \\\n0       221958    matisse       clarke             13            rene street   \n1       771155     joshua       elrick             23           andrea place   \n2       231932      alice       conboy             35       mountain circuit   \n3       465838     sienna     craswell             39    cumberlegeicrescent   \n4       359178     joshua    bastiaans            144          lowrie street   \n5       744167         ky        laing            448            nyawi place   \n6       210268    matthew        laing             11           barnes place   \n7       832180       jack      renfrey             27          osmand street   \n8       154886      adele         ryan             76          house circuit   \n9       237337   breeanne        wynne             12          cowper street   \n10      621430    michael        white             17          farrer street   \n11      187498       <NA>        mason             20         padbury street   \n12      999159     joshua      bristow             21            thake place   \n13      275203        max      godfrey            166          givens street   \n14      291335    mikayla     paterson             20  freda bennett circuit   \n15      378167       cain      scarles             58           reader court   \n16      141090    georgia        white            117          burston place   \n17      429365       <NA>       coffey           1409           musson close   \n18      164820        lia        wilde             30           elsey street   \n19      887201   mitchekl  stephenskon             58         rosman circuit   \n\n                suburb postcode state  date_of_birth   age phone_number  \\\n0           ellenbrook     2527    wa       19710708    32  08 86018809   \n1         east preston     2074   nsw       19120921    34  02 97793152   \n2             prospect     2305   nsw       19810905    22  02 20403934   \n3                henty     3620    wa       19840809    30  02 62832318   \n4        campbell town     4051   nsw       19340430    31  03 69359594   \n5              barmera     3556   qld       19050919    32  03 59872070   \n6            laurieton     2160   nsw       19061018    29  02 86925029   \n7          maribyrnong     2170   qld       19610518    31  03 15575583   \n8             new farm     2200   qld       19430102    33  07 37444521   \n9           bonnet bay     2062   qld       19030606    35  08 24888117   \n10      flagstaff hill     3971    nt       19830308    30  08 61399758   \n11           granville     6239   qld       19201021    38  03 85186450   \n12          oxley vale     7004   nsw       19650125    33  08 93848698   \n13          leichhardt     4152   nsw       19860908     6  07 88425978   \n14       dover heights     4670   qld       19810810  <NA>  08 88377793   \n15             dorrigo     2428   qld           <NA>    31  03 67476384   \n16              conder     4127   nsw       19920702    40  07 53985196   \n17  beaconsfield upper     5019    wa           <NA>    30  03 13369308   \n18                <NA>     3109   qld       19070704  <NA>  03 98048163   \n19            eastwood     2359    sa       19320814    39  03 85151806   \n\n        address_2 dob_datetime  age_from_dob  \n0        westella   1971-07-08          49.0  \n1         foxdown   1912-09-21         108.0  \n2            <NA>   1981-09-05          39.0  \n3          jodane   1984-08-09          36.0  \n4            <NA>   1934-04-30          86.0  \n5            <NA>   1905-09-19         115.0  \n6            <NA>   1906-10-18         113.0  \n7     dhurringill   1961-05-18          59.0  \n8            <NA>   1943-01-02          77.0  \n9            <NA>   1903-06-06         117.0  \n10           <NA>   1983-03-08          37.0  \n11  pioneer lodge   1920-10-21          99.0  \n12           <NA>   1965-01-25          55.0  \n13           <NA>   1986-09-08          34.0  \n14           <NA>   1981-08-10          39.0  \n15         jorobe          NaT           NaN  \n16           <NA>   1992-07-02          28.0  \n17     silverweir          NaT           NaN  \n18           <NA>   1907-07-04         113.0  \n19           <NA>   1932-08-14          88.0  ",
      "text/html": "<div>\n<style scoped>\n    .dataframe tbody tr th:only-of-type {\n        vertical-align: middle;\n    }\n\n    .dataframe tbody tr th {\n        vertical-align: top;\n    }\n\n    .dataframe thead th {\n        text-align: right;\n    }\n</style>\n<table border=\"1\" class=\"dataframe\">\n  <thead>\n    <tr style=\"text-align: right;\">\n      <th></th>\n      <th>patient_id</th>\n      <th>given_name</th>\n      <th>surname</th>\n      <th>street_number</th>\n      <th>address_1</th>\n      <th>suburb</th>\n      <th>postcode</th>\n      <th>state</th>\n      <th>date_of_birth</th>\n      <th>age</th>\n      <th>phone_number</th>\n      <th>address_2</th>\n      <th>dob_datetime</th>\n      <th>age_from_dob</th>\n    </tr>\n  </thead>\n  <tbody>\n    <tr>\n      <th>0</th>\n      <td>221958</td>\n      <td>matisse</td>\n      <td>clarke</td>\n      <td>13</td>\n      <td>rene street</td>\n      <td>ellenbrook</td>\n      <td>2527</td>\n      <td>wa</td>\n      <td>19710708</td>\n      <td>32</td>\n      <td>08 86018809</td>\n      <td>westella</td>\n      <td>1971-07-08</td>\n      <td>49.0</td>\n    </tr>\n    <tr>\n      <th>1</th>\n      <td>771155</td>\n      <td>joshua</td>\n      <td>elrick</td>\n      <td>23</td>\n      <td>andrea place</td>\n      <td>east preston</td>\n      <td>2074</td>\n      <td>nsw</td>\n      <td>19120921</td>\n      <td>34</td>\n      <td>02 97793152</td>\n      <td>foxdown</td>\n      <td>1912-09-21</td>\n      <td>108.0</td>\n    </tr>\n    <tr>\n      <th>2</th>\n      <td>231932</td>\n      <td>alice</td>\n      <td>conboy</td>\n      <td>35</td>\n      <td>mountain circuit</td>\n      <td>prospect</td>\n      <td>2305</td>\n      <td>nsw</td>\n      <td>19810905</td>\n      <td>22</td>\n      <td>02 20403934</td>\n      <td>&lt;NA&gt;</td>\n      <td>1981-09-05</td>\n      <td>39.0</td>\n    </tr>\n    <tr>\n      <th>3</th>\n      <td>465838</td>\n      <td>sienna</td>\n      <td>craswell</td>\n      <td>39</td>\n      <td>cumberlegeicrescent</td>\n      <td>henty</td>\n      <td>3620</td>\n      <td>wa</td>\n      <td>19840809</td>\n      <td>30</td>\n      <td>02 62832318</td>\n      <td>jodane</td>\n      <td>1984-08-09</td>\n      <td>36.0</td>\n    </tr>\n    <tr>\n      <th>4</th>\n      <td>359178</td>\n      <td>joshua</td>\n      <td>bastiaans</td>\n      <td>144</td>\n      <td>lowrie street</td>\n      <td>campbell town</td>\n      <td>4051</td>\n      <td>nsw</td>\n      <td>19340430</td>\n      <td>31</td>\n      <td>03 69359594</td>\n      <td>&lt;NA&gt;</td>\n      <td>1934-04-30</td>\n      <td>86.0</td>\n    </tr>\n    <tr>\n      <th>5</th>\n      <td>744167</td>\n      <td>ky</td>\n      <td>laing</td>\n      <td>448</td>\n      <td>nyawi place</td>\n      <td>barmera</td>\n      <td>3556</td>\n      <td>qld</td>\n      <td>19050919</td>\n      <td>32</td>\n      <td>03 59872070</td>\n      <td>&lt;NA&gt;</td>\n      <td>1905-09-19</td>\n      <td>115.0</td>\n    </tr>\n    <tr>\n      <th>6</th>\n      <td>210268</td>\n      <td>matthew</td>\n      <td>laing</td>\n      <td>11</td>\n      <td>barnes place</td>\n      <td>laurieton</td>\n      <td>2160</td>\n      <td>nsw</td>\n      <td>19061018</td>\n      <td>29</td>\n      <td>02 86925029</td>\n      <td>&lt;NA&gt;</td>\n      <td>1906-10-18</td>\n      <td>113.0</td>\n    </tr>\n    <tr>\n      <th>7</th>\n      <td>832180</td>\n      <td>jack</td>\n      <td>renfrey</td>\n      <td>27</td>\n      <td>osmand street</td>\n      <td>maribyrnong</td>\n      <td>2170</td>\n      <td>qld</td>\n      <td>19610518</td>\n      <td>31</td>\n      <td>03 15575583</td>\n      <td>dhurringill</td>\n      <td>1961-05-18</td>\n      <td>59.0</td>\n    </tr>\n    <tr>\n      <th>8</th>\n      <td>154886</td>\n      <td>adele</td>\n      <td>ryan</td>\n      <td>76</td>\n      <td>house circuit</td>\n      <td>new farm</td>\n      <td>2200</td>\n      <td>qld</td>\n      <td>19430102</td>\n      <td>33</td>\n      <td>07 37444521</td>\n      <td>&lt;NA&gt;</td>\n      <td>1943-01-02</td>\n      <td>77.0</td>\n    </tr>\n    <tr>\n      <th>9</th>\n      <td>237337</td>\n      <td>breeanne</td>\n      <td>wynne</td>\n      <td>12</td>\n      <td>cowper street</td>\n      <td>bonnet bay</td>\n      <td>2062</td>\n      <td>qld</td>\n      <td>19030606</td>\n      <td>35</td>\n      <td>08 24888117</td>\n      <td>&lt;NA&gt;</td>\n      <td>1903-06-06</td>\n      <td>117.0</td>\n    </tr>\n    <tr>\n      <th>10</th>\n      <td>621430</td>\n      <td>michael</td>\n      <td>white</td>\n      <td>17</td>\n      <td>farrer street</td>\n      <td>flagstaff hill</td>\n      <td>3971</td>\n      <td>nt</td>\n      <td>19830308</td>\n      <td>30</td>\n      <td>08 61399758</td>\n      <td>&lt;NA&gt;</td>\n      <td>1983-03-08</td>\n      <td>37.0</td>\n    </tr>\n    <tr>\n      <th>11</th>\n      <td>187498</td>\n      <td>&lt;NA&gt;</td>\n      <td>mason</td>\n      <td>20</td>\n      <td>padbury street</td>\n      <td>granville</td>\n      <td>6239</td>\n      <td>qld</td>\n      <td>19201021</td>\n      <td>38</td>\n      <td>03 85186450</td>\n      <td>pioneer lodge</td>\n      <td>1920-10-21</td>\n      <td>99.0</td>\n    </tr>\n    <tr>\n      <th>12</th>\n      <td>999159</td>\n      <td>joshua</td>\n      <td>bristow</td>\n      <td>21</td>\n      <td>thake place</td>\n      <td>oxley vale</td>\n      <td>7004</td>\n      <td>nsw</td>\n      <td>19650125</td>\n      <td>33</td>\n      <td>08 93848698</td>\n      <td>&lt;NA&gt;</td>\n      <td>1965-01-25</td>\n      <td>55.0</td>\n    </tr>\n    <tr>\n      <th>13</th>\n      <td>275203</td>\n      <td>max</td>\n      <td>godfrey</td>\n      <td>166</td>\n      <td>givens street</td>\n      <td>leichhardt</td>\n      <td>4152</td>\n      <td>nsw</td>\n      <td>19860908</td>\n      <td>6</td>\n      <td>07 88425978</td>\n      <td>&lt;NA&gt;</td>\n      <td>1986-09-08</td>\n      <td>34.0</td>\n    </tr>\n    <tr>\n      <th>14</th>\n      <td>291335</td>\n      <td>mikayla</td>\n      <td>paterson</td>\n      <td>20</td>\n      <td>freda bennett circuit</td>\n      <td>dover heights</td>\n      <td>4670</td>\n      <td>qld</td>\n      <td>19810810</td>\n      <td>&lt;NA&gt;</td>\n      <td>08 88377793</td>\n      <td>&lt;NA&gt;</td>\n      <td>1981-08-10</td>\n      <td>39.0</td>\n    </tr>\n    <tr>\n      <th>15</th>\n      <td>378167</td>\n      <td>cain</td>\n      <td>scarles</td>\n      <td>58</td>\n      <td>reader court</td>\n      <td>dorrigo</td>\n      <td>2428</td>\n      <td>qld</td>\n      <td>&lt;NA&gt;</td>\n      <td>31</td>\n      <td>03 67476384</td>\n      <td>jorobe</td>\n      <td>NaT</td>\n      <td>NaN</td>\n    </tr>\n    <tr>\n      <th>16</th>\n      <td>141090</td>\n      <td>georgia</td>\n      <td>white</td>\n      <td>117</td>\n      <td>burston place</td>\n      <td>conder</td>\n      <td>4127</td>\n      <td>nsw</td>\n      <td>19920702</td>\n      <td>40</td>\n      <td>07 53985196</td>\n      <td>&lt;NA&gt;</td>\n      <td>1992-07-02</td>\n      <td>28.0</td>\n    </tr>\n    <tr>\n      <th>17</th>\n      <td>429365</td>\n      <td>&lt;NA&gt;</td>\n      <td>coffey</td>\n      <td>1409</td>\n      <td>musson close</td>\n      <td>beaconsfield upper</td>\n      <td>5019</td>\n      <td>wa</td>\n      <td>&lt;NA&gt;</td>\n      <td>30</td>\n      <td>03 13369308</td>\n      <td>silverweir</td>\n      <td>NaT</td>\n      <td>NaN</td>\n    </tr>\n    <tr>\n      <th>18</th>\n      <td>164820</td>\n      <td>lia</td>\n      <td>wilde</td>\n      <td>30</td>\n      <td>elsey street</td>\n      <td>&lt;NA&gt;</td>\n      <td>3109</td>\n      <td>qld</td>\n      <td>19070704</td>\n      <td>&lt;NA&gt;</td>\n      <td>03 98048163</td>\n      <td>&lt;NA&gt;</td>\n      <td>1907-07-04</td>\n      <td>113.0</td>\n    </tr>\n    <tr>\n      <th>19</th>\n      <td>887201</td>\n      <td>mitchekl</td>\n      <td>stephenskon</td>\n      <td>58</td>\n      <td>rosman circuit</td>\n      <td>eastwood</td>\n      <td>2359</td>\n      <td>sa</td>\n      <td>19320814</td>\n      <td>39</td>\n      <td>03 85151806</td>\n      <td>&lt;NA&gt;</td>\n      <td>1932-08-14</td>\n      <td>88.0</td>\n    </tr>\n  </tbody>\n</table>\n</div>"
     },
     "metadata": {},
     "execution_count": 93
    }
   ],
   "source": [
    "from datetime import datetime\n",
    "df_patient[\"age_from_dob\"] = ((datetime.today() - df_patient[\"dob_datetime\"].dropna()).dt.days).floordiv(365)\n",
    "\n",
    "df_patient.head(20)"
   ]
  },
  {
   "cell_type": "markdown",
   "metadata": {},
   "source": [
    "Sanitize date of birth"
   ]
  },
  {
   "cell_type": "code",
   "execution_count": 51,
   "metadata": {
    "tags": []
   },
   "outputs": [],
   "source": [
    "df_patient_dob_age_not_sanitized = df_patient.loc[df_patient.date_of_birth.notna() & df_patient.dob_sanitized.isna(), [\"patient_id\", \"date_of_birth\", \"age\"]]"
   ]
  },
  {
   "cell_type": "code",
   "execution_count": 57,
   "metadata": {},
   "outputs": [
    {
     "output_type": "execute_result",
     "data": {
      "text/plain": "     patient_id  age\n40       627035   36\n145      921654   24\n244      691460   39\n539      200235   39\n635      431593   23",
      "text/html": "<div>\n<style scoped>\n    .dataframe tbody tr th:only-of-type {\n        vertical-align: middle;\n    }\n\n    .dataframe tbody tr th {\n        vertical-align: top;\n    }\n\n    .dataframe thead th {\n        text-align: right;\n    }\n</style>\n<table border=\"1\" class=\"dataframe\">\n  <thead>\n    <tr style=\"text-align: right;\">\n      <th></th>\n      <th>patient_id</th>\n      <th>age</th>\n    </tr>\n  </thead>\n  <tbody>\n    <tr>\n      <th>40</th>\n      <td>627035</td>\n      <td>36</td>\n    </tr>\n    <tr>\n      <th>145</th>\n      <td>921654</td>\n      <td>24</td>\n    </tr>\n    <tr>\n      <th>244</th>\n      <td>691460</td>\n      <td>39</td>\n    </tr>\n    <tr>\n      <th>539</th>\n      <td>200235</td>\n      <td>39</td>\n    </tr>\n    <tr>\n      <th>635</th>\n      <td>431593</td>\n      <td>23</td>\n    </tr>\n  </tbody>\n</table>\n</div>"
     },
     "metadata": {},
     "execution_count": 57
    }
   ],
   "source": [
    "df_patient_dob_with_age = df_patient_dob_not_sanitized.loc[df_patient_dob_age_not_sanitized.age.notna(), [\"patient_id\", \"age\"]]\n",
    "df_patient_dob_with_age.head()"
   ]
  },
  {
   "cell_type": "code",
   "execution_count": 63,
   "metadata": {},
   "outputs": [
    {
     "output_type": "execute_result",
     "data": {
      "text/plain": "     patient_id  age dob_sanitized\n40       627035   36    1984-01-01\n145      921654   24    1996-01-01\n244      691460   39    1981-01-01\n539      200235   39    1981-01-01\n635      431593   23    1997-01-01",
      "text/html": "<div>\n<style scoped>\n    .dataframe tbody tr th:only-of-type {\n        vertical-align: middle;\n    }\n\n    .dataframe tbody tr th {\n        vertical-align: top;\n    }\n\n    .dataframe thead th {\n        text-align: right;\n    }\n</style>\n<table border=\"1\" class=\"dataframe\">\n  <thead>\n    <tr style=\"text-align: right;\">\n      <th></th>\n      <th>patient_id</th>\n      <th>age</th>\n      <th>dob_sanitized</th>\n    </tr>\n  </thead>\n  <tbody>\n    <tr>\n      <th>40</th>\n      <td>627035</td>\n      <td>36</td>\n      <td>1984-01-01</td>\n    </tr>\n    <tr>\n      <th>145</th>\n      <td>921654</td>\n      <td>24</td>\n      <td>1996-01-01</td>\n    </tr>\n    <tr>\n      <th>244</th>\n      <td>691460</td>\n      <td>39</td>\n      <td>1981-01-01</td>\n    </tr>\n    <tr>\n      <th>539</th>\n      <td>200235</td>\n      <td>39</td>\n      <td>1981-01-01</td>\n    </tr>\n    <tr>\n      <th>635</th>\n      <td>431593</td>\n      <td>23</td>\n      <td>1997-01-01</td>\n    </tr>\n  </tbody>\n</table>\n</div>"
     },
     "metadata": {},
     "execution_count": 63
    }
   ],
   "source": [
    "from datetime import datetime\n",
    "df_patient_dob_with_age[\"dob_sanitized\"] = pd.to_datetime(datetime.today().year - df_patient_dob_with_age.age, format=\"%Y\")\n",
    "\n",
    "df_patient_dob_with_age.head()"
   ]
  },
  {
   "cell_type": "code",
   "execution_count": 95,
   "metadata": {},
   "outputs": [
    {
     "output_type": "execute_result",
     "data": {
      "text/plain": "      patient_id  date_of_birth dob_sanitized  age_sanitized\n481       584299       19990353    1999-01-01             21\n1047      211195       19918215    1991-01-01             29\n2591      805475       19303111    1930-01-01             90\n2706      293510       19803504    1980-01-01             40\n3149      279830       19512201    1951-01-01             69",
      "text/html": "<div>\n<style scoped>\n    .dataframe tbody tr th:only-of-type {\n        vertical-align: middle;\n    }\n\n    .dataframe tbody tr th {\n        vertical-align: top;\n    }\n\n    .dataframe thead th {\n        text-align: right;\n    }\n</style>\n<table border=\"1\" class=\"dataframe\">\n  <thead>\n    <tr style=\"text-align: right;\">\n      <th></th>\n      <th>patient_id</th>\n      <th>date_of_birth</th>\n      <th>dob_sanitized</th>\n      <th>age_sanitized</th>\n    </tr>\n  </thead>\n  <tbody>\n    <tr>\n      <th>481</th>\n      <td>584299</td>\n      <td>19990353</td>\n      <td>1999-01-01</td>\n      <td>21</td>\n    </tr>\n    <tr>\n      <th>1047</th>\n      <td>211195</td>\n      <td>19918215</td>\n      <td>1991-01-01</td>\n      <td>29</td>\n    </tr>\n    <tr>\n      <th>2591</th>\n      <td>805475</td>\n      <td>19303111</td>\n      <td>1930-01-01</td>\n      <td>90</td>\n    </tr>\n    <tr>\n      <th>2706</th>\n      <td>293510</td>\n      <td>19803504</td>\n      <td>1980-01-01</td>\n      <td>40</td>\n    </tr>\n    <tr>\n      <th>3149</th>\n      <td>279830</td>\n      <td>19512201</td>\n      <td>1951-01-01</td>\n      <td>69</td>\n    </tr>\n  </tbody>\n</table>\n</div>"
     },
     "metadata": {},
     "execution_count": 95
    }
   ],
   "source": [
    "df_patient_dob_without_age = df_patient_dob_age_not_sanitized.loc[df_patient_dob_age_not_sanitized.age.isna(), [\"patient_id\", \"date_of_birth\"]]\n",
    "\n",
    "df_patient_dob_without_age[\"dob_sanitized\"] = pd.to_datetime(df_patient_dob_without_age.date_of_birth.astype(\"string\").str[:4], format=\"%Y\")\n",
    "\n",
    "df_patient_dob_without_age[\"age_sanitized\"] = ((datetime.today() - df_patient_dob_without_age.dob_sanitized).dt.days / 365).astype(\"int\")\n",
    "\n",
    "df_patient_dob_without_age.head()"
   ]
  },
  {
   "cell_type": "code",
   "execution_count": 98,
   "metadata": {},
   "outputs": [],
   "source": [
    "df = df_patient\\\n",
    "    .combine_first(df_patient_dob_with_age)\\\n",
    "    .combine_first(df_patient_dob_without_age)"
   ]
  },
  {
   "cell_type": "code",
   "execution_count": 101,
   "metadata": {},
   "outputs": [
    {
     "output_type": "execute_result",
     "data": {
      "text/plain": "address_1            cantor crescent\naddress_2                       <NA>\nage                             <NA>\nage_sanitized                     21\ndate_of_birth               19990353\ndob_sanitized    1999-01-01 00:00:00\ngiven_name                     ethan\npatient_id                    584299\nphone_number             04 43439217\npostcode                        3419\nstate                            nsw\nstreet_number                     20\nsuburb                     westfield\nsurname                      girdler\nName: 481, dtype: object"
     },
     "metadata": {},
     "execution_count": 101
    }
   ],
   "source": [
    "df.iloc[481]"
   ]
  },
  {
   "cell_type": "code",
   "execution_count": 104,
   "metadata": {},
   "outputs": [
    {
     "output_type": "execute_result",
     "data": {
      "text/plain": "      patient_id dob_sanitized\n15        378167           NaT\n17        429365           NaT\n22        427069           NaT\n29        284779           NaT\n34        600186           NaT\n...          ...           ...\n19968     902251           NaT\n19975     752160           NaT\n19984     134889           NaT\n19994     912344           NaT\n19997     511885           NaT\n\n[2011 rows x 2 columns]",
      "text/html": "<div>\n<style scoped>\n    .dataframe tbody tr th:only-of-type {\n        vertical-align: middle;\n    }\n\n    .dataframe tbody tr th {\n        vertical-align: top;\n    }\n\n    .dataframe thead th {\n        text-align: right;\n    }\n</style>\n<table border=\"1\" class=\"dataframe\">\n  <thead>\n    <tr style=\"text-align: right;\">\n      <th></th>\n      <th>patient_id</th>\n      <th>dob_sanitized</th>\n    </tr>\n  </thead>\n  <tbody>\n    <tr>\n      <th>15</th>\n      <td>378167</td>\n      <td>NaT</td>\n    </tr>\n    <tr>\n      <th>17</th>\n      <td>429365</td>\n      <td>NaT</td>\n    </tr>\n    <tr>\n      <th>22</th>\n      <td>427069</td>\n      <td>NaT</td>\n    </tr>\n    <tr>\n      <th>29</th>\n      <td>284779</td>\n      <td>NaT</td>\n    </tr>\n    <tr>\n      <th>34</th>\n      <td>600186</td>\n      <td>NaT</td>\n    </tr>\n    <tr>\n      <th>...</th>\n      <td>...</td>\n      <td>...</td>\n    </tr>\n    <tr>\n      <th>19968</th>\n      <td>902251</td>\n      <td>NaT</td>\n    </tr>\n    <tr>\n      <th>19975</th>\n      <td>752160</td>\n      <td>NaT</td>\n    </tr>\n    <tr>\n      <th>19984</th>\n      <td>134889</td>\n      <td>NaT</td>\n    </tr>\n    <tr>\n      <th>19994</th>\n      <td>912344</td>\n      <td>NaT</td>\n    </tr>\n    <tr>\n      <th>19997</th>\n      <td>511885</td>\n      <td>NaT</td>\n    </tr>\n  </tbody>\n</table>\n<p>2011 rows × 2 columns</p>\n</div>"
     },
     "metadata": {},
     "execution_count": 104
    }
   ],
   "source": [
    "df.loc[df.dob_sanitized.fillna(df.date_of_birth).isna(), [\"patient_id\", \"dob_sanitized\"]]"
   ]
  },
  {
   "cell_type": "markdown",
   "metadata": {},
   "source": [
    "## Duplication"
   ]
  },
  {
   "cell_type": "code",
   "execution_count": 128,
   "metadata": {},
   "outputs": [],
   "source": [
    "df_patient_duplicated_id = df_patient[df_patient.duplicated(subset=\"patient_id\", keep=False)].sort_values(by=\"patient_id\")"
   ]
  },
  {
   "cell_type": "code",
   "execution_count": 151,
   "metadata": {},
   "outputs": [
    {
     "output_type": "execute_result",
     "data": {
      "text/plain": "139"
     },
     "metadata": {},
     "execution_count": 151
    }
   ],
   "source": [
    "df_patient_invalid_state = df_patient[~df_patient.state.str.upper().isin([\"NSW\", \"VIC\", \"QLD\", \"WA\", \"SA\", \"TAS\", \"ACT\", \"NT\"])]\n",
    "\n",
    "df_patient_invalid_state.state.count()"
   ]
  },
  {
   "cell_type": "markdown",
   "metadata": {},
   "source": [
    "## Sanitize postcode and state\n",
    "\n",
    "Assume postcode is more reliable than state.\n",
    "Test all postcodes are valid.\n",
    "Case postcode invalid, try swap with suburb.\n",
    "Test some state are invalid.\n",
    "Normalize state with typos.\n",
    "For missing or invalid states, guess from postcode.\n",
    "Keep state if postcode invalid.\n"
   ]
  },
  {
   "cell_type": "code",
   "execution_count": 161,
   "metadata": {},
   "outputs": [
    {
     "output_type": "execute_result",
     "data": {
      "text/plain": "    patient_id given_name      surname  street_number           address_1  \\\n24      299041   harrison      neumann             60  eggleston crescent   \n35      256730       xani   soulemezis             34   macrossan rescent   \n37      484681      chloe     gimbrere             53    o'connor circuit   \n42      552366      dylan        leane            158        byrne street   \n48      428947      abbie  fitzpatrick              7      jacka crescent   \n\n               suburb postcode state  date_of_birth   age phone_number  \\\n24        tweed heads     2560   VIC       19700617    22  04 13196831   \n35  mullumbimby creek     2192   VIC       19890205  <NA>  07 24955924   \n37        wynnum west     2317   VIC       19130421    28  08 69503221   \n42       landsborough     2528   VIC           <NA>  <NA>  07 12047561   \n48           prospect     5091   VIC       19700122    35  03 41475097   \n\n   address_2 dob_sanitized  \n24      <NA>    1970-06-17  \n35     sec 1    1989-02-05  \n37      <NA>    1913-04-21  \n42      <NA>           NaT  \n48      <NA>    1970-01-22  ",
      "text/html": "<div>\n<style scoped>\n    .dataframe tbody tr th:only-of-type {\n        vertical-align: middle;\n    }\n\n    .dataframe tbody tr th {\n        vertical-align: top;\n    }\n\n    .dataframe thead th {\n        text-align: right;\n    }\n</style>\n<table border=\"1\" class=\"dataframe\">\n  <thead>\n    <tr style=\"text-align: right;\">\n      <th></th>\n      <th>patient_id</th>\n      <th>given_name</th>\n      <th>surname</th>\n      <th>street_number</th>\n      <th>address_1</th>\n      <th>suburb</th>\n      <th>postcode</th>\n      <th>state</th>\n      <th>date_of_birth</th>\n      <th>age</th>\n      <th>phone_number</th>\n      <th>address_2</th>\n      <th>dob_sanitized</th>\n    </tr>\n  </thead>\n  <tbody>\n    <tr>\n      <th>24</th>\n      <td>299041</td>\n      <td>harrison</td>\n      <td>neumann</td>\n      <td>60</td>\n      <td>eggleston crescent</td>\n      <td>tweed heads</td>\n      <td>2560</td>\n      <td>VIC</td>\n      <td>19700617</td>\n      <td>22</td>\n      <td>04 13196831</td>\n      <td>&lt;NA&gt;</td>\n      <td>1970-06-17</td>\n    </tr>\n    <tr>\n      <th>35</th>\n      <td>256730</td>\n      <td>xani</td>\n      <td>soulemezis</td>\n      <td>34</td>\n      <td>macrossan rescent</td>\n      <td>mullumbimby creek</td>\n      <td>2192</td>\n      <td>VIC</td>\n      <td>19890205</td>\n      <td>&lt;NA&gt;</td>\n      <td>07 24955924</td>\n      <td>sec 1</td>\n      <td>1989-02-05</td>\n    </tr>\n    <tr>\n      <th>37</th>\n      <td>484681</td>\n      <td>chloe</td>\n      <td>gimbrere</td>\n      <td>53</td>\n      <td>o'connor circuit</td>\n      <td>wynnum west</td>\n      <td>2317</td>\n      <td>VIC</td>\n      <td>19130421</td>\n      <td>28</td>\n      <td>08 69503221</td>\n      <td>&lt;NA&gt;</td>\n      <td>1913-04-21</td>\n    </tr>\n    <tr>\n      <th>42</th>\n      <td>552366</td>\n      <td>dylan</td>\n      <td>leane</td>\n      <td>158</td>\n      <td>byrne street</td>\n      <td>landsborough</td>\n      <td>2528</td>\n      <td>VIC</td>\n      <td>&lt;NA&gt;</td>\n      <td>&lt;NA&gt;</td>\n      <td>07 12047561</td>\n      <td>&lt;NA&gt;</td>\n      <td>NaT</td>\n    </tr>\n    <tr>\n      <th>48</th>\n      <td>428947</td>\n      <td>abbie</td>\n      <td>fitzpatrick</td>\n      <td>7</td>\n      <td>jacka crescent</td>\n      <td>prospect</td>\n      <td>5091</td>\n      <td>VIC</td>\n      <td>19700122</td>\n      <td>35</td>\n      <td>03 41475097</td>\n      <td>&lt;NA&gt;</td>\n      <td>1970-01-22</td>\n    </tr>\n  </tbody>\n</table>\n</div>"
     },
     "metadata": {},
     "execution_count": 161
    }
   ],
   "source": [
    "df_patient.state = df_patient.state.str.upper()\n",
    "df_patient_invalid_postcode = df_patient[df_patient.state.isin([\"NSW\", \"VIC\", \"QLD\", \"WA\", \"SA\", \"TAS\", \"ACT\", \"NT\"])]\n",
    "df_patient_vic = df_patient_invalid_postcode.loc[df_patient_invalid_postcode.state == \"VIC\"]\n",
    "df_patient_vic.loc[~df_patient_vic.postcode.str.match(r\"[3|8]\\d{3}\")].head()"
   ]
  },
  {
   "cell_type": "markdown",
   "metadata": {},
   "source": [
    "## Sanitize phone numbers\n",
    "\n",
    "- Format XX XXXXXXXX, 04 if mobile\n",
    "- Must be coherent with postcode\n"
   ]
  },
  {
   "cell_type": "code",
   "execution_count": 170,
   "metadata": {},
   "outputs": [
    {
     "output_type": "execute_result",
     "data": {
      "text/plain": "0"
     },
     "metadata": {},
     "execution_count": 170
    }
   ],
   "source": [
    "df_patient.loc[~df_patient.phone_number.str.match(r\"\\d{2}\\s\\d{8}\")].phone_number.count()"
   ]
  },
  {
   "cell_type": "markdown",
   "metadata": {},
   "source": [
    "## Phone number as possible identifier"
   ]
  },
  {
   "cell_type": "code",
   "execution_count": 176,
   "metadata": {},
   "outputs": [
    {
     "output_type": "execute_result",
     "data": {
      "text/plain": "       patient_id given_name    surname  street_number             address_1  \\\n2634       311830     taaila       <NA>             16        mcnicoll place   \n3872       210155     taalia       <NA>             19        mcnicollyplace   \n16605      525466     taalia       <NA>             19        mcnicoll place   \n248        870746      tyler       able             15  marcus clarke street   \n4986       268616      tyler       able            154  marcus clarke street   \n2706       293510      tyler       able            154  marcus clarke street   \n3173       123387       adam  schumajnn              4        bunurung close   \n635        431593       adam   schumann             20        bunurung close   \n16029      375877       adam   schumann             20        bunurung close   \n12604      505218       adam   schumann             20       bunurunqaqclose   \n4055       953966         to    godfrey             26       jefferis street   \n7141       405442     thomas    godfrey             26       jefferis street   \n561        814998     tahlia    coleman             24          furey street   \n7101       340011     tahlia    coleman             24          furey street   \n6086       669354      jacob    svenson             48          wagga soreet   \n13795      909797       jaob    svenson             48          wagga smreet   \n7365       576055      jacob    svenson             98          wagga street   \n1201       489678      jacob    svenson             48          wagga street   \n12943      950122       <NA>   petersen             19        thomsoj street   \n17544      399260       <NA>  peterssen             10        thomson street   \n\n          suburb postcode state  date_of_birth   age phone_number  \\\n2634      orange     6230   VIC       19180603  <NA>  02 00325977   \n3872      orange     6230   VIC       19180603    64  02 00325977   \n16605     orange     6230   VIC       19180603    26  02 00325977   \n248     wannissa     3333   NSW       19830504  <NA>  02 00493853   \n4986   wanniassa     3333   NSW       19830504  <NA>  02 00493853   \n2706    wanniasa     3333   NSW       19803504  <NA>  02 00493853   \n3173    bonython     2289   NSW       19270326    23  02 01272164   \n635     bonython     2289   NSW       19279326    23  02 01272164   \n16029   bonython     2289   NSW       19270326    23  02 01272164   \n12604   bonython     2289   NSW       19270326    23  02 01272164   \n4055    dimboola     3939    WS       19780806    32  02 01871708   \n7141    dimboola     3939    WA       19780806    32  02 01871708   \n561     boondall     3163   NSW       19000310    24  02 02079822   \n7101    boondall     3163   NSW       19000310    19  02 02079822   \n6086     kempsey     2009   QOD       19431221    31  02 03546747   \n13795    kempsey     2009   QLD       19431221    31  02 03546747   \n7365     kempsey     2009   QLF           <NA>    31  02 03546747   \n1201     kempsey     2009   QLD       19431221    31  02 03546747   \n12943     botany     5108   NSS       19170329    41  02 03687263   \n17544     botany     5108   NSW       19173029    41  02 03687263   \n\n                        address_2 dob_sanitized  \n2634                         <NA>    1918-06-03  \n3872                         <NA>    1918-06-03  \n16605                        <NA>    1918-06-03  \n248                          <NA>    1983-05-04  \n4986                         <NA>    1983-05-04  \n2706                         <NA>           NaT  \n3173                         <NA>    1927-03-26  \n635                          <NA>           NaT  \n16029                        <NA>    1927-03-26  \n12604                        <NA>    1927-03-26  \n4055                         <NA>    1978-08-06  \n7141                         <NA>    1978-08-06  \n561                          <NA>    1900-03-10  \n7101                         <NA>    1900-03-10  \n6086                     walhalla    1943-12-21  \n13795                    walhalla    1943-12-21  \n7365                     walhalla           NaT  \n1201                     walhalla    1943-12-21  \n12943  solitary split caravn park    1917-03-29  \n17544  split solitary caravn park           NaT  ",
      "text/html": "<div>\n<style scoped>\n    .dataframe tbody tr th:only-of-type {\n        vertical-align: middle;\n    }\n\n    .dataframe tbody tr th {\n        vertical-align: top;\n    }\n\n    .dataframe thead th {\n        text-align: right;\n    }\n</style>\n<table border=\"1\" class=\"dataframe\">\n  <thead>\n    <tr style=\"text-align: right;\">\n      <th></th>\n      <th>patient_id</th>\n      <th>given_name</th>\n      <th>surname</th>\n      <th>street_number</th>\n      <th>address_1</th>\n      <th>suburb</th>\n      <th>postcode</th>\n      <th>state</th>\n      <th>date_of_birth</th>\n      <th>age</th>\n      <th>phone_number</th>\n      <th>address_2</th>\n      <th>dob_sanitized</th>\n    </tr>\n  </thead>\n  <tbody>\n    <tr>\n      <th>2634</th>\n      <td>311830</td>\n      <td>taaila</td>\n      <td>&lt;NA&gt;</td>\n      <td>16</td>\n      <td>mcnicoll place</td>\n      <td>orange</td>\n      <td>6230</td>\n      <td>VIC</td>\n      <td>19180603</td>\n      <td>&lt;NA&gt;</td>\n      <td>02 00325977</td>\n      <td>&lt;NA&gt;</td>\n      <td>1918-06-03</td>\n    </tr>\n    <tr>\n      <th>3872</th>\n      <td>210155</td>\n      <td>taalia</td>\n      <td>&lt;NA&gt;</td>\n      <td>19</td>\n      <td>mcnicollyplace</td>\n      <td>orange</td>\n      <td>6230</td>\n      <td>VIC</td>\n      <td>19180603</td>\n      <td>64</td>\n      <td>02 00325977</td>\n      <td>&lt;NA&gt;</td>\n      <td>1918-06-03</td>\n    </tr>\n    <tr>\n      <th>16605</th>\n      <td>525466</td>\n      <td>taalia</td>\n      <td>&lt;NA&gt;</td>\n      <td>19</td>\n      <td>mcnicoll place</td>\n      <td>orange</td>\n      <td>6230</td>\n      <td>VIC</td>\n      <td>19180603</td>\n      <td>26</td>\n      <td>02 00325977</td>\n      <td>&lt;NA&gt;</td>\n      <td>1918-06-03</td>\n    </tr>\n    <tr>\n      <th>248</th>\n      <td>870746</td>\n      <td>tyler</td>\n      <td>able</td>\n      <td>15</td>\n      <td>marcus clarke street</td>\n      <td>wannissa</td>\n      <td>3333</td>\n      <td>NSW</td>\n      <td>19830504</td>\n      <td>&lt;NA&gt;</td>\n      <td>02 00493853</td>\n      <td>&lt;NA&gt;</td>\n      <td>1983-05-04</td>\n    </tr>\n    <tr>\n      <th>4986</th>\n      <td>268616</td>\n      <td>tyler</td>\n      <td>able</td>\n      <td>154</td>\n      <td>marcus clarke street</td>\n      <td>wanniassa</td>\n      <td>3333</td>\n      <td>NSW</td>\n      <td>19830504</td>\n      <td>&lt;NA&gt;</td>\n      <td>02 00493853</td>\n      <td>&lt;NA&gt;</td>\n      <td>1983-05-04</td>\n    </tr>\n    <tr>\n      <th>2706</th>\n      <td>293510</td>\n      <td>tyler</td>\n      <td>able</td>\n      <td>154</td>\n      <td>marcus clarke street</td>\n      <td>wanniasa</td>\n      <td>3333</td>\n      <td>NSW</td>\n      <td>19803504</td>\n      <td>&lt;NA&gt;</td>\n      <td>02 00493853</td>\n      <td>&lt;NA&gt;</td>\n      <td>NaT</td>\n    </tr>\n    <tr>\n      <th>3173</th>\n      <td>123387</td>\n      <td>adam</td>\n      <td>schumajnn</td>\n      <td>4</td>\n      <td>bunurung close</td>\n      <td>bonython</td>\n      <td>2289</td>\n      <td>NSW</td>\n      <td>19270326</td>\n      <td>23</td>\n      <td>02 01272164</td>\n      <td>&lt;NA&gt;</td>\n      <td>1927-03-26</td>\n    </tr>\n    <tr>\n      <th>635</th>\n      <td>431593</td>\n      <td>adam</td>\n      <td>schumann</td>\n      <td>20</td>\n      <td>bunurung close</td>\n      <td>bonython</td>\n      <td>2289</td>\n      <td>NSW</td>\n      <td>19279326</td>\n      <td>23</td>\n      <td>02 01272164</td>\n      <td>&lt;NA&gt;</td>\n      <td>NaT</td>\n    </tr>\n    <tr>\n      <th>16029</th>\n      <td>375877</td>\n      <td>adam</td>\n      <td>schumann</td>\n      <td>20</td>\n      <td>bunurung close</td>\n      <td>bonython</td>\n      <td>2289</td>\n      <td>NSW</td>\n      <td>19270326</td>\n      <td>23</td>\n      <td>02 01272164</td>\n      <td>&lt;NA&gt;</td>\n      <td>1927-03-26</td>\n    </tr>\n    <tr>\n      <th>12604</th>\n      <td>505218</td>\n      <td>adam</td>\n      <td>schumann</td>\n      <td>20</td>\n      <td>bunurunqaqclose</td>\n      <td>bonython</td>\n      <td>2289</td>\n      <td>NSW</td>\n      <td>19270326</td>\n      <td>23</td>\n      <td>02 01272164</td>\n      <td>&lt;NA&gt;</td>\n      <td>1927-03-26</td>\n    </tr>\n    <tr>\n      <th>4055</th>\n      <td>953966</td>\n      <td>to</td>\n      <td>godfrey</td>\n      <td>26</td>\n      <td>jefferis street</td>\n      <td>dimboola</td>\n      <td>3939</td>\n      <td>WS</td>\n      <td>19780806</td>\n      <td>32</td>\n      <td>02 01871708</td>\n      <td>&lt;NA&gt;</td>\n      <td>1978-08-06</td>\n    </tr>\n    <tr>\n      <th>7141</th>\n      <td>405442</td>\n      <td>thomas</td>\n      <td>godfrey</td>\n      <td>26</td>\n      <td>jefferis street</td>\n      <td>dimboola</td>\n      <td>3939</td>\n      <td>WA</td>\n      <td>19780806</td>\n      <td>32</td>\n      <td>02 01871708</td>\n      <td>&lt;NA&gt;</td>\n      <td>1978-08-06</td>\n    </tr>\n    <tr>\n      <th>561</th>\n      <td>814998</td>\n      <td>tahlia</td>\n      <td>coleman</td>\n      <td>24</td>\n      <td>furey street</td>\n      <td>boondall</td>\n      <td>3163</td>\n      <td>NSW</td>\n      <td>19000310</td>\n      <td>24</td>\n      <td>02 02079822</td>\n      <td>&lt;NA&gt;</td>\n      <td>1900-03-10</td>\n    </tr>\n    <tr>\n      <th>7101</th>\n      <td>340011</td>\n      <td>tahlia</td>\n      <td>coleman</td>\n      <td>24</td>\n      <td>furey street</td>\n      <td>boondall</td>\n      <td>3163</td>\n      <td>NSW</td>\n      <td>19000310</td>\n      <td>19</td>\n      <td>02 02079822</td>\n      <td>&lt;NA&gt;</td>\n      <td>1900-03-10</td>\n    </tr>\n    <tr>\n      <th>6086</th>\n      <td>669354</td>\n      <td>jacob</td>\n      <td>svenson</td>\n      <td>48</td>\n      <td>wagga soreet</td>\n      <td>kempsey</td>\n      <td>2009</td>\n      <td>QOD</td>\n      <td>19431221</td>\n      <td>31</td>\n      <td>02 03546747</td>\n      <td>walhalla</td>\n      <td>1943-12-21</td>\n    </tr>\n    <tr>\n      <th>13795</th>\n      <td>909797</td>\n      <td>jaob</td>\n      <td>svenson</td>\n      <td>48</td>\n      <td>wagga smreet</td>\n      <td>kempsey</td>\n      <td>2009</td>\n      <td>QLD</td>\n      <td>19431221</td>\n      <td>31</td>\n      <td>02 03546747</td>\n      <td>walhalla</td>\n      <td>1943-12-21</td>\n    </tr>\n    <tr>\n      <th>7365</th>\n      <td>576055</td>\n      <td>jacob</td>\n      <td>svenson</td>\n      <td>98</td>\n      <td>wagga street</td>\n      <td>kempsey</td>\n      <td>2009</td>\n      <td>QLF</td>\n      <td>&lt;NA&gt;</td>\n      <td>31</td>\n      <td>02 03546747</td>\n      <td>walhalla</td>\n      <td>NaT</td>\n    </tr>\n    <tr>\n      <th>1201</th>\n      <td>489678</td>\n      <td>jacob</td>\n      <td>svenson</td>\n      <td>48</td>\n      <td>wagga street</td>\n      <td>kempsey</td>\n      <td>2009</td>\n      <td>QLD</td>\n      <td>19431221</td>\n      <td>31</td>\n      <td>02 03546747</td>\n      <td>walhalla</td>\n      <td>1943-12-21</td>\n    </tr>\n    <tr>\n      <th>12943</th>\n      <td>950122</td>\n      <td>&lt;NA&gt;</td>\n      <td>petersen</td>\n      <td>19</td>\n      <td>thomsoj street</td>\n      <td>botany</td>\n      <td>5108</td>\n      <td>NSS</td>\n      <td>19170329</td>\n      <td>41</td>\n      <td>02 03687263</td>\n      <td>solitary split caravn park</td>\n      <td>1917-03-29</td>\n    </tr>\n    <tr>\n      <th>17544</th>\n      <td>399260</td>\n      <td>&lt;NA&gt;</td>\n      <td>peterssen</td>\n      <td>10</td>\n      <td>thomson street</td>\n      <td>botany</td>\n      <td>5108</td>\n      <td>NSW</td>\n      <td>19173029</td>\n      <td>41</td>\n      <td>02 03687263</td>\n      <td>split solitary caravn park</td>\n      <td>NaT</td>\n    </tr>\n  </tbody>\n</table>\n</div>"
     },
     "metadata": {},
     "execution_count": 176
    }
   ],
   "source": [
    "df_patient[df_patient.phone_number.duplicated(keep=False)].sort_values(by=\"phone_number\").head(20)"
   ]
  },
  {
   "cell_type": "code",
   "execution_count": 189,
   "metadata": {},
   "outputs": [
    {
     "output_type": "execute_result",
     "data": {
      "text/plain": "                     phone_number\ngiven_name surname               \nemiily     white               14\n           green               12\njoshua     campbell            10\nemiily     ryan                10\nwilliam    white               10\njoshua     white               10\nemiily     nguyen               9\nthomas     webb                 9\nliam       clarke               9\nemiily     clarke               9\nthomas     white                8\njoshua     green                8\nriley      white                8\nlachlan    clarke               8\nliam       white                7\njames      webb                 7\nmatthew    white                7\nconnor     clarke               7\nlachlan    white                7\nbrianna    nguyen               7",
      "text/html": "<div>\n<style scoped>\n    .dataframe tbody tr th:only-of-type {\n        vertical-align: middle;\n    }\n\n    .dataframe tbody tr th {\n        vertical-align: top;\n    }\n\n    .dataframe thead th {\n        text-align: right;\n    }\n</style>\n<table border=\"1\" class=\"dataframe\">\n  <thead>\n    <tr style=\"text-align: right;\">\n      <th></th>\n      <th></th>\n      <th>phone_number</th>\n    </tr>\n    <tr>\n      <th>given_name</th>\n      <th>surname</th>\n      <th></th>\n    </tr>\n  </thead>\n  <tbody>\n    <tr>\n      <th rowspan=\"2\" valign=\"top\">emiily</th>\n      <th>white</th>\n      <td>14</td>\n    </tr>\n    <tr>\n      <th>green</th>\n      <td>12</td>\n    </tr>\n    <tr>\n      <th>joshua</th>\n      <th>campbell</th>\n      <td>10</td>\n    </tr>\n    <tr>\n      <th>emiily</th>\n      <th>ryan</th>\n      <td>10</td>\n    </tr>\n    <tr>\n      <th>william</th>\n      <th>white</th>\n      <td>10</td>\n    </tr>\n    <tr>\n      <th>joshua</th>\n      <th>white</th>\n      <td>10</td>\n    </tr>\n    <tr>\n      <th>emiily</th>\n      <th>nguyen</th>\n      <td>9</td>\n    </tr>\n    <tr>\n      <th>thomas</th>\n      <th>webb</th>\n      <td>9</td>\n    </tr>\n    <tr>\n      <th>liam</th>\n      <th>clarke</th>\n      <td>9</td>\n    </tr>\n    <tr>\n      <th>emiily</th>\n      <th>clarke</th>\n      <td>9</td>\n    </tr>\n    <tr>\n      <th>thomas</th>\n      <th>white</th>\n      <td>8</td>\n    </tr>\n    <tr>\n      <th>joshua</th>\n      <th>green</th>\n      <td>8</td>\n    </tr>\n    <tr>\n      <th>riley</th>\n      <th>white</th>\n      <td>8</td>\n    </tr>\n    <tr>\n      <th>lachlan</th>\n      <th>clarke</th>\n      <td>8</td>\n    </tr>\n    <tr>\n      <th>liam</th>\n      <th>white</th>\n      <td>7</td>\n    </tr>\n    <tr>\n      <th>james</th>\n      <th>webb</th>\n      <td>7</td>\n    </tr>\n    <tr>\n      <th>matthew</th>\n      <th>white</th>\n      <td>7</td>\n    </tr>\n    <tr>\n      <th>connor</th>\n      <th>clarke</th>\n      <td>7</td>\n    </tr>\n    <tr>\n      <th>lachlan</th>\n      <th>white</th>\n      <td>7</td>\n    </tr>\n    <tr>\n      <th>brianna</th>\n      <th>nguyen</th>\n      <td>7</td>\n    </tr>\n  </tbody>\n</table>\n</div>"
     },
     "metadata": {},
     "execution_count": 189
    }
   ],
   "source": [
    "df_patient.loc[\n",
    "    df_patient.duplicated(subset=[\"given_name\", \"surname\"], keep=False),\n",
    "    [\"given_name\", \"surname\", \"phone_number\"]\n",
    "].groupby(\n",
    "    [\"given_name\", \"surname\"]\n",
    ").count().sort_values(by=[\"phone_number\"], ascending=False).head(20)"
   ]
  },
  {
   "cell_type": "code",
   "execution_count": null,
   "metadata": {},
   "outputs": [],
   "source": []
  },
  {
   "cell_type": "code",
   "execution_count": null,
   "metadata": {},
   "outputs": [],
   "source": []
  }
 ]
}