{
 "metadata": {
  "language_info": {
   "codemirror_mode": {
    "name": "ipython",
    "version": 3
   },
   "file_extension": ".py",
   "mimetype": "text/x-python",
   "name": "python",
   "nbconvert_exporter": "python",
   "pygments_lexer": "ipython3",
   "version": "3.8.5-final"
  },
  "orig_nbformat": 2,
  "kernelspec": {
   "name": "python3",
   "display_name": "Python 3"
  }
 },
 "nbformat": 4,
 "nbformat_minor": 2,
 "cells": [
  {
   "cell_type": "markdown",
   "metadata": {},
   "source": [
    "# Analyse de la qualité des données"
   ]
  },
  {
   "cell_type": "markdown",
   "metadata": {},
   "source": [
    "## Chargement des données brut"
   ]
  },
  {
   "cell_type": "code",
   "execution_count": 1,
   "metadata": {},
   "outputs": [],
   "source": [
    "from getting_started import df_patient, df_pcr\n",
    "\n",
    "df_patient = df_patient.convert_dtypes()\n",
    "df_pcr = df_pcr.convert_dtypes()"
   ]
  },
  {
   "cell_type": "code",
   "execution_count": 2,
   "metadata": {
    "tags": []
   },
   "outputs": [
    {
     "output_type": "stream",
     "name": "stdout",
     "text": "<class 'pandas.core.frame.DataFrame'>\nRangeIndex: 20000 entries, 0 to 19999\nData columns (total 12 columns):\n #   Column         Non-Null Count  Dtype \n---  ------         --------------  ----- \n 0   patient_id     20000 non-null  Int64 \n 1   given_name     19560 non-null  string\n 2   surname        19575 non-null  string\n 3   street_number  19618 non-null  Int64 \n 4   address_1      19204 non-null  string\n 5   suburb         19788 non-null  string\n 6   postcode       19801 non-null  string\n 7   state          18010 non-null  string\n 8   date_of_birth  17989 non-null  Int64 \n 9   age            16003 non-null  Int64 \n 10  phone_number   19081 non-null  string\n 11  address_2      7893 non-null   string\ndtypes: Int64(4), string(8)\nmemory usage: 1.9 MB\n"
    }
   ],
   "source": [
    "df_patient.info()"
   ]
  },
  {
   "cell_type": "code",
   "execution_count": 3,
   "metadata": {},
   "outputs": [
    {
     "output_type": "execute_result",
     "data": {
      "text/plain": "       patient_id given_name     surname  street_number             address_1  \\\n10650      303462       <NA>    drilling              7          chant street   \n2041       614257       luke     hammill            107    northbourne avenue   \n8668       795416   nicholas        <NA>             22     hillebrand street   \n1114       101062    cameron    wheatley              7         orchard place   \n13902      989589     emiily     wagnitz             17           rapke place   \n11963      634140     emiily   tremellen             44                  <NA>   \n11072      168274  madeleine      brammy             63         newlop street   \n3002       728419     alyssa     buckoke              3     totterdell street   \n19771      124996     rachel       green             61         neville place   \n8115       298159     emiily      priest             54                  <NA>   \n3525       148777       erin       fleet             18         copland drive   \n7879       369745      chloe       beams             51  port jackson circuit   \n16441      531965      casey      hulley             27          rumker place   \n16296      527345       <NA>       hanks            123       hewlett circuit   \n12566      992081      tiana      heenan             23         boolee street   \n5252       450373     shelby     bobroff              3       wyangala street   \n19393      970142     robbie      nguyen             15  beaurepaire crescent   \n16796      678706      alisa   sailsbury             46        vickery street   \n8094       987935    caitlin  mccausland             23     mcclelland avenue   \n322        570587    georgia     bitmead             29        bentham street   \n\n              suburb postcode state  date_of_birth   age phone_number  \\\n10650    sippy downs     2600    wa       19650127    23  04 71886806   \n2041     long plains     2446   qld       19840526  <NA>         <NA>   \n8668    melton south     2035   tas       19841020    35  08 75018121   \n1114        coodanup     4878   qld       19260905    34  08 42055982   \n13902  helena valley     2031   vic       19730214    25  08 01184523   \n11963      willetton     3163   vic       19361231    33         <NA>   \n11072       cronulla     2031   nsw       19090301    32  07 38164479   \n3002      safety bay     4216   vic       19870126    28  02 53294110   \n19771        campsie     2120   qld       19090604    23  03 87755699   \n8115          orelia     5374   vic       19041129    32  02 97502729   \n3525          mosman     2151   nsw       19540714    25  08 42123553   \n7879         emerald     3055   nsw           <NA>    10  04 75349772   \n16441      toowoomba     2290   vic       19210624    38  02 20949747   \n16296    forest hill     4720   vic       19150118    31  03 89400549   \n12566   ivanhoe east     2170   nsw       19531120    24         <NA>   \n5252       beechboro     3167   vic       19600122  <NA>  07 64742031   \n19393        mentone     3165   nsw           <NA>    29  08 41067643   \n16796    charlestown     5523    sa       19290816    24  02 37735964   \n8094          deagon     5154   vic       19031006    24  02 99896831   \n322        rostrevor     3151   qld       19511010  <NA>  07 52240804   \n\n            address_2  \n10650            <NA>  \n2041       silverweir  \n8668             <NA>  \n1114             <NA>  \n13902      templemore  \n11963    gannet house  \n11072            <NA>  \n3002   homefield home  \n19771      mlc centre  \n8115             <NA>  \n3525    goyder centre  \n7879             <NA>  \n16441            <NA>  \n16296    stoney creek  \n12566          melita  \n5252        inglewood  \n19393            <NA>  \n16796            <NA>  \n8094             <NA>  \n322              <NA>  ",
      "text/html": "<div>\n<style scoped>\n    .dataframe tbody tr th:only-of-type {\n        vertical-align: middle;\n    }\n\n    .dataframe tbody tr th {\n        vertical-align: top;\n    }\n\n    .dataframe thead th {\n        text-align: right;\n    }\n</style>\n<table border=\"1\" class=\"dataframe\">\n  <thead>\n    <tr style=\"text-align: right;\">\n      <th></th>\n      <th>patient_id</th>\n      <th>given_name</th>\n      <th>surname</th>\n      <th>street_number</th>\n      <th>address_1</th>\n      <th>suburb</th>\n      <th>postcode</th>\n      <th>state</th>\n      <th>date_of_birth</th>\n      <th>age</th>\n      <th>phone_number</th>\n      <th>address_2</th>\n    </tr>\n  </thead>\n  <tbody>\n    <tr>\n      <th>10650</th>\n      <td>303462</td>\n      <td>&lt;NA&gt;</td>\n      <td>drilling</td>\n      <td>7</td>\n      <td>chant street</td>\n      <td>sippy downs</td>\n      <td>2600</td>\n      <td>wa</td>\n      <td>19650127</td>\n      <td>23</td>\n      <td>04 71886806</td>\n      <td>&lt;NA&gt;</td>\n    </tr>\n    <tr>\n      <th>2041</th>\n      <td>614257</td>\n      <td>luke</td>\n      <td>hammill</td>\n      <td>107</td>\n      <td>northbourne avenue</td>\n      <td>long plains</td>\n      <td>2446</td>\n      <td>qld</td>\n      <td>19840526</td>\n      <td>&lt;NA&gt;</td>\n      <td>&lt;NA&gt;</td>\n      <td>silverweir</td>\n    </tr>\n    <tr>\n      <th>8668</th>\n      <td>795416</td>\n      <td>nicholas</td>\n      <td>&lt;NA&gt;</td>\n      <td>22</td>\n      <td>hillebrand street</td>\n      <td>melton south</td>\n      <td>2035</td>\n      <td>tas</td>\n      <td>19841020</td>\n      <td>35</td>\n      <td>08 75018121</td>\n      <td>&lt;NA&gt;</td>\n    </tr>\n    <tr>\n      <th>1114</th>\n      <td>101062</td>\n      <td>cameron</td>\n      <td>wheatley</td>\n      <td>7</td>\n      <td>orchard place</td>\n      <td>coodanup</td>\n      <td>4878</td>\n      <td>qld</td>\n      <td>19260905</td>\n      <td>34</td>\n      <td>08 42055982</td>\n      <td>&lt;NA&gt;</td>\n    </tr>\n    <tr>\n      <th>13902</th>\n      <td>989589</td>\n      <td>emiily</td>\n      <td>wagnitz</td>\n      <td>17</td>\n      <td>rapke place</td>\n      <td>helena valley</td>\n      <td>2031</td>\n      <td>vic</td>\n      <td>19730214</td>\n      <td>25</td>\n      <td>08 01184523</td>\n      <td>templemore</td>\n    </tr>\n    <tr>\n      <th>11963</th>\n      <td>634140</td>\n      <td>emiily</td>\n      <td>tremellen</td>\n      <td>44</td>\n      <td>&lt;NA&gt;</td>\n      <td>willetton</td>\n      <td>3163</td>\n      <td>vic</td>\n      <td>19361231</td>\n      <td>33</td>\n      <td>&lt;NA&gt;</td>\n      <td>gannet house</td>\n    </tr>\n    <tr>\n      <th>11072</th>\n      <td>168274</td>\n      <td>madeleine</td>\n      <td>brammy</td>\n      <td>63</td>\n      <td>newlop street</td>\n      <td>cronulla</td>\n      <td>2031</td>\n      <td>nsw</td>\n      <td>19090301</td>\n      <td>32</td>\n      <td>07 38164479</td>\n      <td>&lt;NA&gt;</td>\n    </tr>\n    <tr>\n      <th>3002</th>\n      <td>728419</td>\n      <td>alyssa</td>\n      <td>buckoke</td>\n      <td>3</td>\n      <td>totterdell street</td>\n      <td>safety bay</td>\n      <td>4216</td>\n      <td>vic</td>\n      <td>19870126</td>\n      <td>28</td>\n      <td>02 53294110</td>\n      <td>homefield home</td>\n    </tr>\n    <tr>\n      <th>19771</th>\n      <td>124996</td>\n      <td>rachel</td>\n      <td>green</td>\n      <td>61</td>\n      <td>neville place</td>\n      <td>campsie</td>\n      <td>2120</td>\n      <td>qld</td>\n      <td>19090604</td>\n      <td>23</td>\n      <td>03 87755699</td>\n      <td>mlc centre</td>\n    </tr>\n    <tr>\n      <th>8115</th>\n      <td>298159</td>\n      <td>emiily</td>\n      <td>priest</td>\n      <td>54</td>\n      <td>&lt;NA&gt;</td>\n      <td>orelia</td>\n      <td>5374</td>\n      <td>vic</td>\n      <td>19041129</td>\n      <td>32</td>\n      <td>02 97502729</td>\n      <td>&lt;NA&gt;</td>\n    </tr>\n    <tr>\n      <th>3525</th>\n      <td>148777</td>\n      <td>erin</td>\n      <td>fleet</td>\n      <td>18</td>\n      <td>copland drive</td>\n      <td>mosman</td>\n      <td>2151</td>\n      <td>nsw</td>\n      <td>19540714</td>\n      <td>25</td>\n      <td>08 42123553</td>\n      <td>goyder centre</td>\n    </tr>\n    <tr>\n      <th>7879</th>\n      <td>369745</td>\n      <td>chloe</td>\n      <td>beams</td>\n      <td>51</td>\n      <td>port jackson circuit</td>\n      <td>emerald</td>\n      <td>3055</td>\n      <td>nsw</td>\n      <td>&lt;NA&gt;</td>\n      <td>10</td>\n      <td>04 75349772</td>\n      <td>&lt;NA&gt;</td>\n    </tr>\n    <tr>\n      <th>16441</th>\n      <td>531965</td>\n      <td>casey</td>\n      <td>hulley</td>\n      <td>27</td>\n      <td>rumker place</td>\n      <td>toowoomba</td>\n      <td>2290</td>\n      <td>vic</td>\n      <td>19210624</td>\n      <td>38</td>\n      <td>02 20949747</td>\n      <td>&lt;NA&gt;</td>\n    </tr>\n    <tr>\n      <th>16296</th>\n      <td>527345</td>\n      <td>&lt;NA&gt;</td>\n      <td>hanks</td>\n      <td>123</td>\n      <td>hewlett circuit</td>\n      <td>forest hill</td>\n      <td>4720</td>\n      <td>vic</td>\n      <td>19150118</td>\n      <td>31</td>\n      <td>03 89400549</td>\n      <td>stoney creek</td>\n    </tr>\n    <tr>\n      <th>12566</th>\n      <td>992081</td>\n      <td>tiana</td>\n      <td>heenan</td>\n      <td>23</td>\n      <td>boolee street</td>\n      <td>ivanhoe east</td>\n      <td>2170</td>\n      <td>nsw</td>\n      <td>19531120</td>\n      <td>24</td>\n      <td>&lt;NA&gt;</td>\n      <td>melita</td>\n    </tr>\n    <tr>\n      <th>5252</th>\n      <td>450373</td>\n      <td>shelby</td>\n      <td>bobroff</td>\n      <td>3</td>\n      <td>wyangala street</td>\n      <td>beechboro</td>\n      <td>3167</td>\n      <td>vic</td>\n      <td>19600122</td>\n      <td>&lt;NA&gt;</td>\n      <td>07 64742031</td>\n      <td>inglewood</td>\n    </tr>\n    <tr>\n      <th>19393</th>\n      <td>970142</td>\n      <td>robbie</td>\n      <td>nguyen</td>\n      <td>15</td>\n      <td>beaurepaire crescent</td>\n      <td>mentone</td>\n      <td>3165</td>\n      <td>nsw</td>\n      <td>&lt;NA&gt;</td>\n      <td>29</td>\n      <td>08 41067643</td>\n      <td>&lt;NA&gt;</td>\n    </tr>\n    <tr>\n      <th>16796</th>\n      <td>678706</td>\n      <td>alisa</td>\n      <td>sailsbury</td>\n      <td>46</td>\n      <td>vickery street</td>\n      <td>charlestown</td>\n      <td>5523</td>\n      <td>sa</td>\n      <td>19290816</td>\n      <td>24</td>\n      <td>02 37735964</td>\n      <td>&lt;NA&gt;</td>\n    </tr>\n    <tr>\n      <th>8094</th>\n      <td>987935</td>\n      <td>caitlin</td>\n      <td>mccausland</td>\n      <td>23</td>\n      <td>mcclelland avenue</td>\n      <td>deagon</td>\n      <td>5154</td>\n      <td>vic</td>\n      <td>19031006</td>\n      <td>24</td>\n      <td>02 99896831</td>\n      <td>&lt;NA&gt;</td>\n    </tr>\n    <tr>\n      <th>322</th>\n      <td>570587</td>\n      <td>georgia</td>\n      <td>bitmead</td>\n      <td>29</td>\n      <td>bentham street</td>\n      <td>rostrevor</td>\n      <td>3151</td>\n      <td>qld</td>\n      <td>19511010</td>\n      <td>&lt;NA&gt;</td>\n      <td>07 52240804</td>\n      <td>&lt;NA&gt;</td>\n    </tr>\n  </tbody>\n</table>\n</div>"
     },
     "metadata": {},
     "execution_count": 3
    }
   ],
   "source": [
    "df_patient.sample(20, random_state=42)"
   ]
  },
  {
   "cell_type": "code",
   "execution_count": 4,
   "metadata": {
    "tags": []
   },
   "outputs": [
    {
     "output_type": "stream",
     "name": "stdout",
     "text": "<class 'pandas.core.frame.DataFrame'>\nRangeIndex: 8800 entries, 0 to 8799\nData columns (total 2 columns):\n #   Column      Non-Null Count  Dtype \n---  ------      --------------  ----- \n 0   patient_id  8800 non-null   Int64 \n 1   pcr         8800 non-null   string\ndtypes: Int64(1), string(1)\nmemory usage: 146.2 KB\n"
    }
   ],
   "source": [
    "df_pcr.info()"
   ]
  },
  {
   "cell_type": "code",
   "execution_count": 5,
   "metadata": {},
   "outputs": [
    {
     "output_type": "execute_result",
     "data": {
      "text/plain": "      patient_id       pcr\n95        887071         N\n592       391464         P\n4990      247603         N\n8330      905428         N\n360       126015         N\n3501      579885  Negative\n1780      820785  Negative\n6815      352515  Positive\n4098      471233         N\n6633      424464         N\n994       606964  Negative\n80        606453         N\n4546      170934         P\n5257      589572  Positive\n4387      518443  Negative\n5761      209996  Positive\n2864      624608         N\n4453      621396         N\n1783      200417  Negative\n567       738873  Negative",
      "text/html": "<div>\n<style scoped>\n    .dataframe tbody tr th:only-of-type {\n        vertical-align: middle;\n    }\n\n    .dataframe tbody tr th {\n        vertical-align: top;\n    }\n\n    .dataframe thead th {\n        text-align: right;\n    }\n</style>\n<table border=\"1\" class=\"dataframe\">\n  <thead>\n    <tr style=\"text-align: right;\">\n      <th></th>\n      <th>patient_id</th>\n      <th>pcr</th>\n    </tr>\n  </thead>\n  <tbody>\n    <tr>\n      <th>95</th>\n      <td>887071</td>\n      <td>N</td>\n    </tr>\n    <tr>\n      <th>592</th>\n      <td>391464</td>\n      <td>P</td>\n    </tr>\n    <tr>\n      <th>4990</th>\n      <td>247603</td>\n      <td>N</td>\n    </tr>\n    <tr>\n      <th>8330</th>\n      <td>905428</td>\n      <td>N</td>\n    </tr>\n    <tr>\n      <th>360</th>\n      <td>126015</td>\n      <td>N</td>\n    </tr>\n    <tr>\n      <th>3501</th>\n      <td>579885</td>\n      <td>Negative</td>\n    </tr>\n    <tr>\n      <th>1780</th>\n      <td>820785</td>\n      <td>Negative</td>\n    </tr>\n    <tr>\n      <th>6815</th>\n      <td>352515</td>\n      <td>Positive</td>\n    </tr>\n    <tr>\n      <th>4098</th>\n      <td>471233</td>\n      <td>N</td>\n    </tr>\n    <tr>\n      <th>6633</th>\n      <td>424464</td>\n      <td>N</td>\n    </tr>\n    <tr>\n      <th>994</th>\n      <td>606964</td>\n      <td>Negative</td>\n    </tr>\n    <tr>\n      <th>80</th>\n      <td>606453</td>\n      <td>N</td>\n    </tr>\n    <tr>\n      <th>4546</th>\n      <td>170934</td>\n      <td>P</td>\n    </tr>\n    <tr>\n      <th>5257</th>\n      <td>589572</td>\n      <td>Positive</td>\n    </tr>\n    <tr>\n      <th>4387</th>\n      <td>518443</td>\n      <td>Negative</td>\n    </tr>\n    <tr>\n      <th>5761</th>\n      <td>209996</td>\n      <td>Positive</td>\n    </tr>\n    <tr>\n      <th>2864</th>\n      <td>624608</td>\n      <td>N</td>\n    </tr>\n    <tr>\n      <th>4453</th>\n      <td>621396</td>\n      <td>N</td>\n    </tr>\n    <tr>\n      <th>1783</th>\n      <td>200417</td>\n      <td>Negative</td>\n    </tr>\n    <tr>\n      <th>567</th>\n      <td>738873</td>\n      <td>Negative</td>\n    </tr>\n  </tbody>\n</table>\n</div>"
     },
     "metadata": {},
     "execution_count": 5
    }
   ],
   "source": [
    "df_pcr.sample(20, random_state=42)"
   ]
  },
  {
   "cell_type": "markdown",
   "metadata": {},
   "source": [
    "## Analyse de l'identifiant métier `patient_id`"
   ]
  },
  {
   "cell_type": "markdown",
   "metadata": {},
   "source": [
    "Nombre de patients avec un `patient_id` doublonné"
   ]
  },
  {
   "cell_type": "code",
   "execution_count": 6,
   "metadata": {
    "tags": []
   },
   "outputs": [
    {
     "output_type": "execute_result",
     "data": {
      "text/plain": "403"
     },
     "metadata": {},
     "execution_count": 6
    }
   ],
   "source": [
    "df_patient.duplicated(subset=\"patient_id\", keep=False).sum()"
   ]
  },
  {
   "cell_type": "markdown",
   "metadata": {},
   "source": [
    "Nombre de tests PCR associés à un `patient_id` doublonné"
   ]
  },
  {
   "cell_type": "code",
   "execution_count": 7,
   "metadata": {
    "tags": []
   },
   "outputs": [
    {
     "output_type": "execute_result",
     "data": {
      "text/plain": "168"
     },
     "metadata": {},
     "execution_count": 7
    }
   ],
   "source": [
    "patient_id_duplicated = df_patient.loc[\n",
    "    df_patient.duplicated(subset=\"patient_id\"),\n",
    "    \"patient_id\"\n",
    "]\n",
    "df_pcr.patient_id.isin(patient_id_duplicated).sum()"
   ]
  },
  {
   "cell_type": "markdown",
   "metadata": {},
   "source": [
    "## Analyse des tests PCR"
   ]
  },
  {
   "cell_type": "markdown",
   "metadata": {},
   "source": [
    "Liste des valeurs du test PCR"
   ]
  },
  {
   "cell_type": "code",
   "execution_count": 8,
   "metadata": {},
   "outputs": [
    {
     "output_type": "execute_result",
     "data": {
      "text/plain": "N           3482\nNegative    3134\nPositive    1283\nP            901\nName: pcr, dtype: Int64"
     },
     "metadata": {},
     "execution_count": 8
    }
   ],
   "source": [
    "df_pcr.pcr.value_counts()"
   ]
  },
  {
   "cell_type": "markdown",
   "metadata": {},
   "source": [
    "Un test PCR peut être positif (valeurs `Positive` ou `P`) ou négatif (valeurs `Negative` ou `N`). Il faut passer par une étape de normalisation."
   ]
  },
  {
   "cell_type": "code",
   "execution_count": 9,
   "metadata": {},
   "outputs": [
    {
     "output_type": "execute_result",
     "data": {
      "text/plain": "      patient_id       pcr  is_positive\n95        887071         N        False\n592       391464         P         True\n4990      247603         N        False\n8330      905428         N        False\n360       126015         N        False\n3501      579885  Negative        False\n1780      820785  Negative        False\n6815      352515  Positive         True\n4098      471233         N        False\n6633      424464         N        False",
      "text/html": "<div>\n<style scoped>\n    .dataframe tbody tr th:only-of-type {\n        vertical-align: middle;\n    }\n\n    .dataframe tbody tr th {\n        vertical-align: top;\n    }\n\n    .dataframe thead th {\n        text-align: right;\n    }\n</style>\n<table border=\"1\" class=\"dataframe\">\n  <thead>\n    <tr style=\"text-align: right;\">\n      <th></th>\n      <th>patient_id</th>\n      <th>pcr</th>\n      <th>is_positive</th>\n    </tr>\n  </thead>\n  <tbody>\n    <tr>\n      <th>95</th>\n      <td>887071</td>\n      <td>N</td>\n      <td>False</td>\n    </tr>\n    <tr>\n      <th>592</th>\n      <td>391464</td>\n      <td>P</td>\n      <td>True</td>\n    </tr>\n    <tr>\n      <th>4990</th>\n      <td>247603</td>\n      <td>N</td>\n      <td>False</td>\n    </tr>\n    <tr>\n      <th>8330</th>\n      <td>905428</td>\n      <td>N</td>\n      <td>False</td>\n    </tr>\n    <tr>\n      <th>360</th>\n      <td>126015</td>\n      <td>N</td>\n      <td>False</td>\n    </tr>\n    <tr>\n      <th>3501</th>\n      <td>579885</td>\n      <td>Negative</td>\n      <td>False</td>\n    </tr>\n    <tr>\n      <th>1780</th>\n      <td>820785</td>\n      <td>Negative</td>\n      <td>False</td>\n    </tr>\n    <tr>\n      <th>6815</th>\n      <td>352515</td>\n      <td>Positive</td>\n      <td>True</td>\n    </tr>\n    <tr>\n      <th>4098</th>\n      <td>471233</td>\n      <td>N</td>\n      <td>False</td>\n    </tr>\n    <tr>\n      <th>6633</th>\n      <td>424464</td>\n      <td>N</td>\n      <td>False</td>\n    </tr>\n  </tbody>\n</table>\n</div>"
     },
     "metadata": {},
     "execution_count": 9
    }
   ],
   "source": [
    "df_pcr[\"is_positive\"] = df_pcr.pcr.str[0] == \"P\"\n",
    "\n",
    "df_pcr.sample(10, random_state=42)"
   ]
  },
  {
   "cell_type": "markdown",
   "metadata": {},
   "source": [
    "## Analyse des noms et prénoms"
   ]
  },
  {
   "cell_type": "markdown",
   "metadata": {},
   "source": [
    "Répartition des valeurs :"
   ]
  },
  {
   "cell_type": "code",
   "execution_count": 28,
   "metadata": {
    "tags": []
   },
   "outputs": [
    {
     "output_type": "execute_result",
     "data": {
      "text/plain": "given_name  surname   \nemiily      white         14\n            green         12\njoshua      campbell      11\n            white         11\nwilliam     white         10\n                          ..\nlukas       hanna          1\n            gilbertson     1\n            frahn          1\n            clarke         1\naaliyah     bartel         1\nLength: 16681, dtype: int64"
     },
     "metadata": {},
     "execution_count": 28
    }
   ],
   "source": [
    "df_patient[[\"given_name\", \"surname\"]].value_counts()"
   ]
  },
  {
   "cell_type": "markdown",
   "metadata": {},
   "source": [
    "Valeurs manquantes :"
   ]
  },
  {
   "cell_type": "code",
   "execution_count": 137,
   "metadata": {},
   "outputs": [
    {
     "output_type": "execute_result",
     "data": {
      "text/plain": "given_name  surname\nFalse       False      19139\nTrue        False        436\nFalse       True         421\nTrue        True           4\ndtype: int64"
     },
     "metadata": {},
     "execution_count": 137
    }
   ],
   "source": [
    "df_patient[[\"given_name\", \"surname\"]].isna().value_counts()"
   ]
  },
  {
   "cell_type": "markdown",
   "metadata": {},
   "source": [
    "## Analyse des âges et dates de naissance"
   ]
  },
  {
   "cell_type": "markdown",
   "metadata": {},
   "source": [
    "Valeurs manquantes :"
   ]
  },
  {
   "cell_type": "code",
   "execution_count": 138,
   "metadata": {},
   "outputs": [
    {
     "output_type": "execute_result",
     "data": {
      "text/plain": "age    date_of_birth\nFalse  False            14391\nTrue   False             3598\nFalse  True              1612\nTrue   True               399\ndtype: int64"
     },
     "metadata": {},
     "execution_count": 138
    }
   ],
   "source": [
    "df_patient[[\"age\", \"date_of_birth\"]].isna().value_counts()"
   ]
  },
  {
   "cell_type": "markdown",
   "metadata": {},
   "source": [
    "Dates de naissance invalides :"
   ]
  },
  {
   "cell_type": "code",
   "execution_count": 40,
   "metadata": {},
   "outputs": [
    {
     "output_type": "execute_result",
     "data": {
      "text/plain": "        age  date_of_birth        dob_datetime\n10650    23       19650127 1965-01-27 00:01:00\n2041   <NA>       19840526 1984-01-26 00:05:00\n8668     35       19841020 1984-01-20 00:10:00\n1114     34       19260905 1926-01-05 00:09:00\n13902    25       19730214 1973-01-14 00:02:00\n11963    33       19361231 1936-01-31 00:12:00\n11072    32       19090301 1909-01-01 00:03:00\n3002     28       19870126 1987-01-26 00:01:00\n19771    23       19090604 1909-01-04 00:06:00\n8115     32       19041129 1904-01-29 00:11:00",
      "text/html": "<div>\n<style scoped>\n    .dataframe tbody tr th:only-of-type {\n        vertical-align: middle;\n    }\n\n    .dataframe tbody tr th {\n        vertical-align: top;\n    }\n\n    .dataframe thead th {\n        text-align: right;\n    }\n</style>\n<table border=\"1\" class=\"dataframe\">\n  <thead>\n    <tr style=\"text-align: right;\">\n      <th></th>\n      <th>age</th>\n      <th>date_of_birth</th>\n      <th>dob_datetime</th>\n    </tr>\n  </thead>\n  <tbody>\n    <tr>\n      <th>10650</th>\n      <td>23</td>\n      <td>19650127</td>\n      <td>1965-01-27 00:01:00</td>\n    </tr>\n    <tr>\n      <th>2041</th>\n      <td>&lt;NA&gt;</td>\n      <td>19840526</td>\n      <td>1984-01-26 00:05:00</td>\n    </tr>\n    <tr>\n      <th>8668</th>\n      <td>35</td>\n      <td>19841020</td>\n      <td>1984-01-20 00:10:00</td>\n    </tr>\n    <tr>\n      <th>1114</th>\n      <td>34</td>\n      <td>19260905</td>\n      <td>1926-01-05 00:09:00</td>\n    </tr>\n    <tr>\n      <th>13902</th>\n      <td>25</td>\n      <td>19730214</td>\n      <td>1973-01-14 00:02:00</td>\n    </tr>\n    <tr>\n      <th>11963</th>\n      <td>33</td>\n      <td>19361231</td>\n      <td>1936-01-31 00:12:00</td>\n    </tr>\n    <tr>\n      <th>11072</th>\n      <td>32</td>\n      <td>19090301</td>\n      <td>1909-01-01 00:03:00</td>\n    </tr>\n    <tr>\n      <th>3002</th>\n      <td>28</td>\n      <td>19870126</td>\n      <td>1987-01-26 00:01:00</td>\n    </tr>\n    <tr>\n      <th>19771</th>\n      <td>23</td>\n      <td>19090604</td>\n      <td>1909-01-04 00:06:00</td>\n    </tr>\n    <tr>\n      <th>8115</th>\n      <td>32</td>\n      <td>19041129</td>\n      <td>1904-01-29 00:11:00</td>\n    </tr>\n  </tbody>\n</table>\n</div>"
     },
     "metadata": {},
     "execution_count": 40
    }
   ],
   "source": [
    "from pandas import to_datetime\n",
    "\n",
    "df_patient[\"dob_datetime\"] = to_datetime(\n",
    "    df_patient.date_of_birth,\n",
    "    errors=\"coerce\",\n",
    "    format=\"%Y%M%d\",\n",
    ")\n",
    "\n",
    "df_patient[[\"age\", \"date_of_birth\", \"dob_datetime\"]].sample(10, random_state=42)"
   ]
  },
  {
   "cell_type": "markdown",
   "metadata": {},
   "source": [
    "Incohérences entre âge déclaré et calculé : "
   ]
  },
  {
   "cell_type": "code",
   "execution_count": 93,
   "metadata": {},
   "outputs": [
    {
     "output_type": "execute_result",
     "data": {
      "text/plain": "    patient_id given_name      surname  street_number              address_1  \\\n0       221958    matisse       clarke             13            rene street   \n1       771155     joshua       elrick             23           andrea place   \n2       231932      alice       conboy             35       mountain circuit   \n3       465838     sienna     craswell             39    cumberlegeicrescent   \n4       359178     joshua    bastiaans            144          lowrie street   \n5       744167         ky        laing            448            nyawi place   \n6       210268    matthew        laing             11           barnes place   \n7       832180       jack      renfrey             27          osmand street   \n8       154886      adele         ryan             76          house circuit   \n9       237337   breeanne        wynne             12          cowper street   \n10      621430    michael        white             17          farrer street   \n11      187498       <NA>        mason             20         padbury street   \n12      999159     joshua      bristow             21            thake place   \n13      275203        max      godfrey            166          givens street   \n14      291335    mikayla     paterson             20  freda bennett circuit   \n15      378167       cain      scarles             58           reader court   \n16      141090    georgia        white            117          burston place   \n17      429365       <NA>       coffey           1409           musson close   \n18      164820        lia        wilde             30           elsey street   \n19      887201   mitchekl  stephenskon             58         rosman circuit   \n\n                suburb postcode state  date_of_birth   age phone_number  \\\n0           ellenbrook     2527    wa       19710708    32  08 86018809   \n1         east preston     2074   nsw       19120921    34  02 97793152   \n2             prospect     2305   nsw       19810905    22  02 20403934   \n3                henty     3620    wa       19840809    30  02 62832318   \n4        campbell town     4051   nsw       19340430    31  03 69359594   \n5              barmera     3556   qld       19050919    32  03 59872070   \n6            laurieton     2160   nsw       19061018    29  02 86925029   \n7          maribyrnong     2170   qld       19610518    31  03 15575583   \n8             new farm     2200   qld       19430102    33  07 37444521   \n9           bonnet bay     2062   qld       19030606    35  08 24888117   \n10      flagstaff hill     3971    nt       19830308    30  08 61399758   \n11           granville     6239   qld       19201021    38  03 85186450   \n12          oxley vale     7004   nsw       19650125    33  08 93848698   \n13          leichhardt     4152   nsw       19860908     6  07 88425978   \n14       dover heights     4670   qld       19810810  <NA>  08 88377793   \n15             dorrigo     2428   qld           <NA>    31  03 67476384   \n16              conder     4127   nsw       19920702    40  07 53985196   \n17  beaconsfield upper     5019    wa           <NA>    30  03 13369308   \n18                <NA>     3109   qld       19070704  <NA>  03 98048163   \n19            eastwood     2359    sa       19320814    39  03 85151806   \n\n        address_2 dob_datetime  age_from_dob  \n0        westella   1971-07-08          49.0  \n1         foxdown   1912-09-21         108.0  \n2            <NA>   1981-09-05          39.0  \n3          jodane   1984-08-09          36.0  \n4            <NA>   1934-04-30          86.0  \n5            <NA>   1905-09-19         115.0  \n6            <NA>   1906-10-18         113.0  \n7     dhurringill   1961-05-18          59.0  \n8            <NA>   1943-01-02          77.0  \n9            <NA>   1903-06-06         117.0  \n10           <NA>   1983-03-08          37.0  \n11  pioneer lodge   1920-10-21          99.0  \n12           <NA>   1965-01-25          55.0  \n13           <NA>   1986-09-08          34.0  \n14           <NA>   1981-08-10          39.0  \n15         jorobe          NaT           NaN  \n16           <NA>   1992-07-02          28.0  \n17     silverweir          NaT           NaN  \n18           <NA>   1907-07-04         113.0  \n19           <NA>   1932-08-14          88.0  ",
      "text/html": "<div>\n<style scoped>\n    .dataframe tbody tr th:only-of-type {\n        vertical-align: middle;\n    }\n\n    .dataframe tbody tr th {\n        vertical-align: top;\n    }\n\n    .dataframe thead th {\n        text-align: right;\n    }\n</style>\n<table border=\"1\" class=\"dataframe\">\n  <thead>\n    <tr style=\"text-align: right;\">\n      <th></th>\n      <th>patient_id</th>\n      <th>given_name</th>\n      <th>surname</th>\n      <th>street_number</th>\n      <th>address_1</th>\n      <th>suburb</th>\n      <th>postcode</th>\n      <th>state</th>\n      <th>date_of_birth</th>\n      <th>age</th>\n      <th>phone_number</th>\n      <th>address_2</th>\n      <th>dob_datetime</th>\n      <th>age_from_dob</th>\n    </tr>\n  </thead>\n  <tbody>\n    <tr>\n      <th>0</th>\n      <td>221958</td>\n      <td>matisse</td>\n      <td>clarke</td>\n      <td>13</td>\n      <td>rene street</td>\n      <td>ellenbrook</td>\n      <td>2527</td>\n      <td>wa</td>\n      <td>19710708</td>\n      <td>32</td>\n      <td>08 86018809</td>\n      <td>westella</td>\n      <td>1971-07-08</td>\n      <td>49.0</td>\n    </tr>\n    <tr>\n      <th>1</th>\n      <td>771155</td>\n      <td>joshua</td>\n      <td>elrick</td>\n      <td>23</td>\n      <td>andrea place</td>\n      <td>east preston</td>\n      <td>2074</td>\n      <td>nsw</td>\n      <td>19120921</td>\n      <td>34</td>\n      <td>02 97793152</td>\n      <td>foxdown</td>\n      <td>1912-09-21</td>\n      <td>108.0</td>\n    </tr>\n    <tr>\n      <th>2</th>\n      <td>231932</td>\n      <td>alice</td>\n      <td>conboy</td>\n      <td>35</td>\n      <td>mountain circuit</td>\n      <td>prospect</td>\n      <td>2305</td>\n      <td>nsw</td>\n      <td>19810905</td>\n      <td>22</td>\n      <td>02 20403934</td>\n      <td>&lt;NA&gt;</td>\n      <td>1981-09-05</td>\n      <td>39.0</td>\n    </tr>\n    <tr>\n      <th>3</th>\n      <td>465838</td>\n      <td>sienna</td>\n      <td>craswell</td>\n      <td>39</td>\n      <td>cumberlegeicrescent</td>\n      <td>henty</td>\n      <td>3620</td>\n      <td>wa</td>\n      <td>19840809</td>\n      <td>30</td>\n      <td>02 62832318</td>\n      <td>jodane</td>\n      <td>1984-08-09</td>\n      <td>36.0</td>\n    </tr>\n    <tr>\n      <th>4</th>\n      <td>359178</td>\n      <td>joshua</td>\n      <td>bastiaans</td>\n      <td>144</td>\n      <td>lowrie street</td>\n      <td>campbell town</td>\n      <td>4051</td>\n      <td>nsw</td>\n      <td>19340430</td>\n      <td>31</td>\n      <td>03 69359594</td>\n      <td>&lt;NA&gt;</td>\n      <td>1934-04-30</td>\n      <td>86.0</td>\n    </tr>\n    <tr>\n      <th>5</th>\n      <td>744167</td>\n      <td>ky</td>\n      <td>laing</td>\n      <td>448</td>\n      <td>nyawi place</td>\n      <td>barmera</td>\n      <td>3556</td>\n      <td>qld</td>\n      <td>19050919</td>\n      <td>32</td>\n      <td>03 59872070</td>\n      <td>&lt;NA&gt;</td>\n      <td>1905-09-19</td>\n      <td>115.0</td>\n    </tr>\n    <tr>\n      <th>6</th>\n      <td>210268</td>\n      <td>matthew</td>\n      <td>laing</td>\n      <td>11</td>\n      <td>barnes place</td>\n      <td>laurieton</td>\n      <td>2160</td>\n      <td>nsw</td>\n      <td>19061018</td>\n      <td>29</td>\n      <td>02 86925029</td>\n      <td>&lt;NA&gt;</td>\n      <td>1906-10-18</td>\n      <td>113.0</td>\n    </tr>\n    <tr>\n      <th>7</th>\n      <td>832180</td>\n      <td>jack</td>\n      <td>renfrey</td>\n      <td>27</td>\n      <td>osmand street</td>\n      <td>maribyrnong</td>\n      <td>2170</td>\n      <td>qld</td>\n      <td>19610518</td>\n      <td>31</td>\n      <td>03 15575583</td>\n      <td>dhurringill</td>\n      <td>1961-05-18</td>\n      <td>59.0</td>\n    </tr>\n    <tr>\n      <th>8</th>\n      <td>154886</td>\n      <td>adele</td>\n      <td>ryan</td>\n      <td>76</td>\n      <td>house circuit</td>\n      <td>new farm</td>\n      <td>2200</td>\n      <td>qld</td>\n      <td>19430102</td>\n      <td>33</td>\n      <td>07 37444521</td>\n      <td>&lt;NA&gt;</td>\n      <td>1943-01-02</td>\n      <td>77.0</td>\n    </tr>\n    <tr>\n      <th>9</th>\n      <td>237337</td>\n      <td>breeanne</td>\n      <td>wynne</td>\n      <td>12</td>\n      <td>cowper street</td>\n      <td>bonnet bay</td>\n      <td>2062</td>\n      <td>qld</td>\n      <td>19030606</td>\n      <td>35</td>\n      <td>08 24888117</td>\n      <td>&lt;NA&gt;</td>\n      <td>1903-06-06</td>\n      <td>117.0</td>\n    </tr>\n    <tr>\n      <th>10</th>\n      <td>621430</td>\n      <td>michael</td>\n      <td>white</td>\n      <td>17</td>\n      <td>farrer street</td>\n      <td>flagstaff hill</td>\n      <td>3971</td>\n      <td>nt</td>\n      <td>19830308</td>\n      <td>30</td>\n      <td>08 61399758</td>\n      <td>&lt;NA&gt;</td>\n      <td>1983-03-08</td>\n      <td>37.0</td>\n    </tr>\n    <tr>\n      <th>11</th>\n      <td>187498</td>\n      <td>&lt;NA&gt;</td>\n      <td>mason</td>\n      <td>20</td>\n      <td>padbury street</td>\n      <td>granville</td>\n      <td>6239</td>\n      <td>qld</td>\n      <td>19201021</td>\n      <td>38</td>\n      <td>03 85186450</td>\n      <td>pioneer lodge</td>\n      <td>1920-10-21</td>\n      <td>99.0</td>\n    </tr>\n    <tr>\n      <th>12</th>\n      <td>999159</td>\n      <td>joshua</td>\n      <td>bristow</td>\n      <td>21</td>\n      <td>thake place</td>\n      <td>oxley vale</td>\n      <td>7004</td>\n      <td>nsw</td>\n      <td>19650125</td>\n      <td>33</td>\n      <td>08 93848698</td>\n      <td>&lt;NA&gt;</td>\n      <td>1965-01-25</td>\n      <td>55.0</td>\n    </tr>\n    <tr>\n      <th>13</th>\n      <td>275203</td>\n      <td>max</td>\n      <td>godfrey</td>\n      <td>166</td>\n      <td>givens street</td>\n      <td>leichhardt</td>\n      <td>4152</td>\n      <td>nsw</td>\n      <td>19860908</td>\n      <td>6</td>\n      <td>07 88425978</td>\n      <td>&lt;NA&gt;</td>\n      <td>1986-09-08</td>\n      <td>34.0</td>\n    </tr>\n    <tr>\n      <th>14</th>\n      <td>291335</td>\n      <td>mikayla</td>\n      <td>paterson</td>\n      <td>20</td>\n      <td>freda bennett circuit</td>\n      <td>dover heights</td>\n      <td>4670</td>\n      <td>qld</td>\n      <td>19810810</td>\n      <td>&lt;NA&gt;</td>\n      <td>08 88377793</td>\n      <td>&lt;NA&gt;</td>\n      <td>1981-08-10</td>\n      <td>39.0</td>\n    </tr>\n    <tr>\n      <th>15</th>\n      <td>378167</td>\n      <td>cain</td>\n      <td>scarles</td>\n      <td>58</td>\n      <td>reader court</td>\n      <td>dorrigo</td>\n      <td>2428</td>\n      <td>qld</td>\n      <td>&lt;NA&gt;</td>\n      <td>31</td>\n      <td>03 67476384</td>\n      <td>jorobe</td>\n      <td>NaT</td>\n      <td>NaN</td>\n    </tr>\n    <tr>\n      <th>16</th>\n      <td>141090</td>\n      <td>georgia</td>\n      <td>white</td>\n      <td>117</td>\n      <td>burston place</td>\n      <td>conder</td>\n      <td>4127</td>\n      <td>nsw</td>\n      <td>19920702</td>\n      <td>40</td>\n      <td>07 53985196</td>\n      <td>&lt;NA&gt;</td>\n      <td>1992-07-02</td>\n      <td>28.0</td>\n    </tr>\n    <tr>\n      <th>17</th>\n      <td>429365</td>\n      <td>&lt;NA&gt;</td>\n      <td>coffey</td>\n      <td>1409</td>\n      <td>musson close</td>\n      <td>beaconsfield upper</td>\n      <td>5019</td>\n      <td>wa</td>\n      <td>&lt;NA&gt;</td>\n      <td>30</td>\n      <td>03 13369308</td>\n      <td>silverweir</td>\n      <td>NaT</td>\n      <td>NaN</td>\n    </tr>\n    <tr>\n      <th>18</th>\n      <td>164820</td>\n      <td>lia</td>\n      <td>wilde</td>\n      <td>30</td>\n      <td>elsey street</td>\n      <td>&lt;NA&gt;</td>\n      <td>3109</td>\n      <td>qld</td>\n      <td>19070704</td>\n      <td>&lt;NA&gt;</td>\n      <td>03 98048163</td>\n      <td>&lt;NA&gt;</td>\n      <td>1907-07-04</td>\n      <td>113.0</td>\n    </tr>\n    <tr>\n      <th>19</th>\n      <td>887201</td>\n      <td>mitchekl</td>\n      <td>stephenskon</td>\n      <td>58</td>\n      <td>rosman circuit</td>\n      <td>eastwood</td>\n      <td>2359</td>\n      <td>sa</td>\n      <td>19320814</td>\n      <td>39</td>\n      <td>03 85151806</td>\n      <td>&lt;NA&gt;</td>\n      <td>1932-08-14</td>\n      <td>88.0</td>\n    </tr>\n  </tbody>\n</table>\n</div>"
     },
     "metadata": {},
     "execution_count": 93
    }
   ],
   "source": [
    "from datetime import datetime\n",
    "df_patient[\"age_from_dob\"] = ((datetime.today() - df_patient[\"dob_datetime\"].dropna()).dt.days).floordiv(365)\n",
    "\n",
    "df_patient.head(20)"
   ]
  },
  {
   "cell_type": "markdown",
   "metadata": {},
   "source": [
    "## Analyse des états et codes postaux"
   ]
  },
  {
   "cell_type": "markdown",
   "metadata": {},
   "source": [
    "Valeurs manquantes"
   ]
  },
  {
   "cell_type": "code",
   "execution_count": 41,
   "metadata": {},
   "outputs": [
    {
     "output_type": "execute_result",
     "data": {
      "text/plain": "state  postcode\nFalse  False       17828\nTrue   False        1973\nFalse  True          182\nTrue   True           17\ndtype: int64"
     },
     "metadata": {},
     "execution_count": 41
    }
   ],
   "source": [
    "df_patient[[\"state\", \"postcode\"]].isna().value_counts()"
   ]
  },
  {
   "cell_type": "markdown",
   "metadata": {},
   "source": [
    "Valeurs des états"
   ]
  },
  {
   "cell_type": "code",
   "execution_count": 48,
   "metadata": {
    "tags": []
   },
   "outputs": [
    {
     "output_type": "stream",
     "name": "stdout",
     "text": "nsw    6143\nvic    4352\nqld    3516\nwa     1580\nsa     1391\ntas     507\nact     250\nnt      132\nName: state, dtype: Int64\nnss    7\nws     6\nns     6\nql     5\nnsq    4\n      ..\nnze    1\nai     1\nvi     1\nw      1\nnfw    1\nName: state, Length: 94, dtype: Int64\n139\n"
    }
   ],
   "source": [
    "states = df_patient.state.dropna().value_counts()\n",
    "\n",
    "print(states[:8])\n",
    "print(states[8:])\n",
    "print(states[8:].sum())"
   ]
  },
  {
   "cell_type": "markdown",
   "metadata": {},
   "source": [
    "Incohérence état / postcode"
   ]
  },
  {
   "cell_type": "code",
   "execution_count": 50,
   "metadata": {},
   "outputs": [],
   "source": [
    "postcodes = df_patient.postcode.dropna().value_counts()"
   ]
  },
  {
   "cell_type": "markdown",
   "metadata": {},
   "source": [
    "Inversion postcode / quartier"
   ]
  },
  {
   "cell_type": "code",
   "execution_count": 53,
   "metadata": {},
   "outputs": [
    {
     "output_type": "execute_result",
     "data": {
      "text/plain": "       patient_id given_name        surname  street_number  \\\n3976       810644    juliana      grosvenor              5   \n4080       986559      kirra  choi-lundberg            102   \n5792       752873    lochlan          blake            258   \n6218       902348      isaac         nakoje             19   \n6618       678110      jaden          green              5   \n9653       690348     andrew           ryan             20   \n11333      738103       hugi         pascoe            167   \n14255      684359      sonia          green             50   \n15479      355033       abby           yoob            243   \n15575      572694   isabella        beddimg             17   \n18658      132735     jairys           dent              2   \n18784      241868       elly           webb            195   \n19150      674065   nichalas          mason             74   \n\n                     address_1 suburb              postcode state  \\\n3976             connelly pace   3023  port noarlunga south   tas   \n4080          centaurus street   6168             naremburn   vic   \n5792                      <NA>   4216             toowoobma    wa   \n6218            collier street   6017              brighton  <NA>   \n6618               dovey place   3185                oraneg   vic   \n9653   mainwaring rich circuit   3020             blacktown    wa   \n11333              leita court   3023          port lincoln   nsw   \n14255      kalgoorlie crescent   6112              ashfield    sa   \n15479            weston street   3181           forest hill  <NA>   \n15575        heidelberg street   3764             toowoomba   nsw   \n18658            hilder street   4214          regents park   qld   \n18784            duigan street   4160             kelmscott  <NA>   \n19150            murphy street   3133            donnybrook   vic   \n\n       date_of_birth   age phone_number    address_2        dob_datetime  \n3976        19991215  <NA>  03 55227740         <NA> 1999-01-15 00:12:00  \n4080        19261104    27  08 69584599         <NA> 1926-01-04 00:11:00  \n5792        19080821    31  02 84630666         <NA> 1908-01-21 00:08:00  \n6218        19640421     8  02 69439226         <NA> 1964-01-21 00:04:00  \n6618        19151204    23  02 73534391         <NA> 1915-01-04 00:12:00  \n9653        19760001    22         <NA>         <NA> 1976-01-01 00:00:00  \n11333       19040401  <NA>  07 84786511         <NA> 1904-01-01 00:04:00  \n14255           <NA>     9  03 46671647         <NA>                 NaT  \n15479       19660615    26  02 68667816         <NA> 1966-01-15 00:06:00  \n15575       19510108  <NA>  03 01075733  laurel bank 1951-01-08 00:01:00  \n18658       19810913    31  02 92264278         <NA> 1981-01-13 00:09:00  \n18784       19760507    27  04 01285849         <NA> 1976-01-07 00:05:00  \n19150       19070525    24         <NA>         <NA> 1907-01-25 00:05:00  ",
      "text/html": "<div>\n<style scoped>\n    .dataframe tbody tr th:only-of-type {\n        vertical-align: middle;\n    }\n\n    .dataframe tbody tr th {\n        vertical-align: top;\n    }\n\n    .dataframe thead th {\n        text-align: right;\n    }\n</style>\n<table border=\"1\" class=\"dataframe\">\n  <thead>\n    <tr style=\"text-align: right;\">\n      <th></th>\n      <th>patient_id</th>\n      <th>given_name</th>\n      <th>surname</th>\n      <th>street_number</th>\n      <th>address_1</th>\n      <th>suburb</th>\n      <th>postcode</th>\n      <th>state</th>\n      <th>date_of_birth</th>\n      <th>age</th>\n      <th>phone_number</th>\n      <th>address_2</th>\n      <th>dob_datetime</th>\n    </tr>\n  </thead>\n  <tbody>\n    <tr>\n      <th>3976</th>\n      <td>810644</td>\n      <td>juliana</td>\n      <td>grosvenor</td>\n      <td>5</td>\n      <td>connelly pace</td>\n      <td>3023</td>\n      <td>port noarlunga south</td>\n      <td>tas</td>\n      <td>19991215</td>\n      <td>&lt;NA&gt;</td>\n      <td>03 55227740</td>\n      <td>&lt;NA&gt;</td>\n      <td>1999-01-15 00:12:00</td>\n    </tr>\n    <tr>\n      <th>4080</th>\n      <td>986559</td>\n      <td>kirra</td>\n      <td>choi-lundberg</td>\n      <td>102</td>\n      <td>centaurus street</td>\n      <td>6168</td>\n      <td>naremburn</td>\n      <td>vic</td>\n      <td>19261104</td>\n      <td>27</td>\n      <td>08 69584599</td>\n      <td>&lt;NA&gt;</td>\n      <td>1926-01-04 00:11:00</td>\n    </tr>\n    <tr>\n      <th>5792</th>\n      <td>752873</td>\n      <td>lochlan</td>\n      <td>blake</td>\n      <td>258</td>\n      <td>&lt;NA&gt;</td>\n      <td>4216</td>\n      <td>toowoobma</td>\n      <td>wa</td>\n      <td>19080821</td>\n      <td>31</td>\n      <td>02 84630666</td>\n      <td>&lt;NA&gt;</td>\n      <td>1908-01-21 00:08:00</td>\n    </tr>\n    <tr>\n      <th>6218</th>\n      <td>902348</td>\n      <td>isaac</td>\n      <td>nakoje</td>\n      <td>19</td>\n      <td>collier street</td>\n      <td>6017</td>\n      <td>brighton</td>\n      <td>&lt;NA&gt;</td>\n      <td>19640421</td>\n      <td>8</td>\n      <td>02 69439226</td>\n      <td>&lt;NA&gt;</td>\n      <td>1964-01-21 00:04:00</td>\n    </tr>\n    <tr>\n      <th>6618</th>\n      <td>678110</td>\n      <td>jaden</td>\n      <td>green</td>\n      <td>5</td>\n      <td>dovey place</td>\n      <td>3185</td>\n      <td>oraneg</td>\n      <td>vic</td>\n      <td>19151204</td>\n      <td>23</td>\n      <td>02 73534391</td>\n      <td>&lt;NA&gt;</td>\n      <td>1915-01-04 00:12:00</td>\n    </tr>\n    <tr>\n      <th>9653</th>\n      <td>690348</td>\n      <td>andrew</td>\n      <td>ryan</td>\n      <td>20</td>\n      <td>mainwaring rich circuit</td>\n      <td>3020</td>\n      <td>blacktown</td>\n      <td>wa</td>\n      <td>19760001</td>\n      <td>22</td>\n      <td>&lt;NA&gt;</td>\n      <td>&lt;NA&gt;</td>\n      <td>1976-01-01 00:00:00</td>\n    </tr>\n    <tr>\n      <th>11333</th>\n      <td>738103</td>\n      <td>hugi</td>\n      <td>pascoe</td>\n      <td>167</td>\n      <td>leita court</td>\n      <td>3023</td>\n      <td>port lincoln</td>\n      <td>nsw</td>\n      <td>19040401</td>\n      <td>&lt;NA&gt;</td>\n      <td>07 84786511</td>\n      <td>&lt;NA&gt;</td>\n      <td>1904-01-01 00:04:00</td>\n    </tr>\n    <tr>\n      <th>14255</th>\n      <td>684359</td>\n      <td>sonia</td>\n      <td>green</td>\n      <td>50</td>\n      <td>kalgoorlie crescent</td>\n      <td>6112</td>\n      <td>ashfield</td>\n      <td>sa</td>\n      <td>&lt;NA&gt;</td>\n      <td>9</td>\n      <td>03 46671647</td>\n      <td>&lt;NA&gt;</td>\n      <td>NaT</td>\n    </tr>\n    <tr>\n      <th>15479</th>\n      <td>355033</td>\n      <td>abby</td>\n      <td>yoob</td>\n      <td>243</td>\n      <td>weston street</td>\n      <td>3181</td>\n      <td>forest hill</td>\n      <td>&lt;NA&gt;</td>\n      <td>19660615</td>\n      <td>26</td>\n      <td>02 68667816</td>\n      <td>&lt;NA&gt;</td>\n      <td>1966-01-15 00:06:00</td>\n    </tr>\n    <tr>\n      <th>15575</th>\n      <td>572694</td>\n      <td>isabella</td>\n      <td>beddimg</td>\n      <td>17</td>\n      <td>heidelberg street</td>\n      <td>3764</td>\n      <td>toowoomba</td>\n      <td>nsw</td>\n      <td>19510108</td>\n      <td>&lt;NA&gt;</td>\n      <td>03 01075733</td>\n      <td>laurel bank</td>\n      <td>1951-01-08 00:01:00</td>\n    </tr>\n    <tr>\n      <th>18658</th>\n      <td>132735</td>\n      <td>jairys</td>\n      <td>dent</td>\n      <td>2</td>\n      <td>hilder street</td>\n      <td>4214</td>\n      <td>regents park</td>\n      <td>qld</td>\n      <td>19810913</td>\n      <td>31</td>\n      <td>02 92264278</td>\n      <td>&lt;NA&gt;</td>\n      <td>1981-01-13 00:09:00</td>\n    </tr>\n    <tr>\n      <th>18784</th>\n      <td>241868</td>\n      <td>elly</td>\n      <td>webb</td>\n      <td>195</td>\n      <td>duigan street</td>\n      <td>4160</td>\n      <td>kelmscott</td>\n      <td>&lt;NA&gt;</td>\n      <td>19760507</td>\n      <td>27</td>\n      <td>04 01285849</td>\n      <td>&lt;NA&gt;</td>\n      <td>1976-01-07 00:05:00</td>\n    </tr>\n    <tr>\n      <th>19150</th>\n      <td>674065</td>\n      <td>nichalas</td>\n      <td>mason</td>\n      <td>74</td>\n      <td>murphy street</td>\n      <td>3133</td>\n      <td>donnybrook</td>\n      <td>vic</td>\n      <td>19070525</td>\n      <td>24</td>\n      <td>&lt;NA&gt;</td>\n      <td>&lt;NA&gt;</td>\n      <td>1907-01-25 00:05:00</td>\n    </tr>\n  </tbody>\n</table>\n</div>"
     },
     "metadata": {},
     "execution_count": 53
    }
   ],
   "source": [
    "df_patient.loc[df_patient.suburb.str.isnumeric()]"
   ]
  },
  {
   "cell_type": "markdown",
   "metadata": {},
   "source": [
    "## Sanitize postcode and state\n",
    "\n",
    "Assume postcode is more reliable than state.\n",
    "Test all postcodes are valid.\n",
    "Case postcode invalid, try swap with suburb.\n",
    "Test some state are invalid.\n",
    "Normalize state with typos.\n",
    "For missing or invalid states, guess from postcode.\n",
    "Keep state if postcode invalid.\n"
   ]
  },
  {
   "cell_type": "code",
   "execution_count": 161,
   "metadata": {},
   "outputs": [
    {
     "output_type": "execute_result",
     "data": {
      "text/plain": "    patient_id given_name      surname  street_number           address_1  \\\n24      299041   harrison      neumann             60  eggleston crescent   \n35      256730       xani   soulemezis             34   macrossan rescent   \n37      484681      chloe     gimbrere             53    o'connor circuit   \n42      552366      dylan        leane            158        byrne street   \n48      428947      abbie  fitzpatrick              7      jacka crescent   \n\n               suburb postcode state  date_of_birth   age phone_number  \\\n24        tweed heads     2560   VIC       19700617    22  04 13196831   \n35  mullumbimby creek     2192   VIC       19890205  <NA>  07 24955924   \n37        wynnum west     2317   VIC       19130421    28  08 69503221   \n42       landsborough     2528   VIC           <NA>  <NA>  07 12047561   \n48           prospect     5091   VIC       19700122    35  03 41475097   \n\n   address_2 dob_sanitized  \n24      <NA>    1970-06-17  \n35     sec 1    1989-02-05  \n37      <NA>    1913-04-21  \n42      <NA>           NaT  \n48      <NA>    1970-01-22  ",
      "text/html": "<div>\n<style scoped>\n    .dataframe tbody tr th:only-of-type {\n        vertical-align: middle;\n    }\n\n    .dataframe tbody tr th {\n        vertical-align: top;\n    }\n\n    .dataframe thead th {\n        text-align: right;\n    }\n</style>\n<table border=\"1\" class=\"dataframe\">\n  <thead>\n    <tr style=\"text-align: right;\">\n      <th></th>\n      <th>patient_id</th>\n      <th>given_name</th>\n      <th>surname</th>\n      <th>street_number</th>\n      <th>address_1</th>\n      <th>suburb</th>\n      <th>postcode</th>\n      <th>state</th>\n      <th>date_of_birth</th>\n      <th>age</th>\n      <th>phone_number</th>\n      <th>address_2</th>\n      <th>dob_sanitized</th>\n    </tr>\n  </thead>\n  <tbody>\n    <tr>\n      <th>24</th>\n      <td>299041</td>\n      <td>harrison</td>\n      <td>neumann</td>\n      <td>60</td>\n      <td>eggleston crescent</td>\n      <td>tweed heads</td>\n      <td>2560</td>\n      <td>VIC</td>\n      <td>19700617</td>\n      <td>22</td>\n      <td>04 13196831</td>\n      <td>&lt;NA&gt;</td>\n      <td>1970-06-17</td>\n    </tr>\n    <tr>\n      <th>35</th>\n      <td>256730</td>\n      <td>xani</td>\n      <td>soulemezis</td>\n      <td>34</td>\n      <td>macrossan rescent</td>\n      <td>mullumbimby creek</td>\n      <td>2192</td>\n      <td>VIC</td>\n      <td>19890205</td>\n      <td>&lt;NA&gt;</td>\n      <td>07 24955924</td>\n      <td>sec 1</td>\n      <td>1989-02-05</td>\n    </tr>\n    <tr>\n      <th>37</th>\n      <td>484681</td>\n      <td>chloe</td>\n      <td>gimbrere</td>\n      <td>53</td>\n      <td>o'connor circuit</td>\n      <td>wynnum west</td>\n      <td>2317</td>\n      <td>VIC</td>\n      <td>19130421</td>\n      <td>28</td>\n      <td>08 69503221</td>\n      <td>&lt;NA&gt;</td>\n      <td>1913-04-21</td>\n    </tr>\n    <tr>\n      <th>42</th>\n      <td>552366</td>\n      <td>dylan</td>\n      <td>leane</td>\n      <td>158</td>\n      <td>byrne street</td>\n      <td>landsborough</td>\n      <td>2528</td>\n      <td>VIC</td>\n      <td>&lt;NA&gt;</td>\n      <td>&lt;NA&gt;</td>\n      <td>07 12047561</td>\n      <td>&lt;NA&gt;</td>\n      <td>NaT</td>\n    </tr>\n    <tr>\n      <th>48</th>\n      <td>428947</td>\n      <td>abbie</td>\n      <td>fitzpatrick</td>\n      <td>7</td>\n      <td>jacka crescent</td>\n      <td>prospect</td>\n      <td>5091</td>\n      <td>VIC</td>\n      <td>19700122</td>\n      <td>35</td>\n      <td>03 41475097</td>\n      <td>&lt;NA&gt;</td>\n      <td>1970-01-22</td>\n    </tr>\n  </tbody>\n</table>\n</div>"
     },
     "metadata": {},
     "execution_count": 161
    }
   ],
   "source": [
    "df_patient.state = df_patient.state.str.upper()\n",
    "df_patient_invalid_postcode = df_patient[df_patient.state.isin([\"NSW\", \"VIC\", \"QLD\", \"WA\", \"SA\", \"TAS\", \"ACT\", \"NT\"])]\n",
    "df_patient_vic = df_patient_invalid_postcode.loc[df_patient_invalid_postcode.state == \"VIC\"]\n",
    "df_patient_vic.loc[~df_patient_vic.postcode.str.match(r\"[3|8]\\d{3}\")].head()"
   ]
  },
  {
   "cell_type": "markdown",
   "metadata": {},
   "source": [
    "## Sanitize phone numbers\n",
    "\n",
    "- Format XX XXXXXXXX, 04 if mobile\n",
    "- Must be coherent with postcode\n"
   ]
  },
  {
   "cell_type": "code",
   "execution_count": 170,
   "metadata": {},
   "outputs": [
    {
     "output_type": "execute_result",
     "data": {
      "text/plain": "0"
     },
     "metadata": {},
     "execution_count": 170
    }
   ],
   "source": [
    "df_patient.loc[~df_patient.phone_number.str.match(r\"\\d{2}\\s\\d{8}\")].phone_number.count()"
   ]
  }
 ]
}