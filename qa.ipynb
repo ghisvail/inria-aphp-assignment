{
 "cells": [
  {
   "cell_type": "markdown",
   "metadata": {},
   "source": [
    "# Analyse de la qualité des données"
   ]
  },
  {
   "source": [
    "Préambule"
   ],
   "cell_type": "markdown",
   "metadata": {}
  },
  {
   "cell_type": "code",
   "execution_count": null,
   "metadata": {},
   "outputs": [],
   "source": [
    "import matplotlib.pyplot as plt\n",
    "%matplotlib inline\n",
    "\n",
    "plt.rcParams[\"figure.figsize\"] = (12, 8)\n",
    "plt.rcParams['figure.dpi'] = 100"
   ]
  },
  {
   "cell_type": "markdown",
   "metadata": {},
   "source": [
    "## Prise de connaissance avec le jeu de données"
   ]
  },
  {
   "cell_type": "markdown",
   "metadata": {},
   "source": [
    "### Chargement des données brut"
   ]
  },
  {
   "cell_type": "code",
   "execution_count": null,
   "metadata": {},
   "outputs": [],
   "source": [
    "from getting_started import df_patient, df_pcr, pd\n",
    "\n",
    "df_patient = df_patient.convert_dtypes()\n",
    "df_pcr = df_pcr.convert_dtypes()"
   ]
  },
  {
   "cell_type": "code",
   "execution_count": null,
   "metadata": {
    "tags": []
   },
   "outputs": [],
   "source": [
    "df_patient.info()"
   ]
  },
  {
   "cell_type": "code",
   "execution_count": null,
   "metadata": {
    "tags": []
   },
   "outputs": [],
   "source": [
    "df_pcr.info()"
   ]
  },
  {
   "cell_type": "markdown",
   "metadata": {},
   "source": [
    "On définit l'identifiant métier `patient_id` comme index du référentiel."
   ]
  },
  {
   "cell_type": "code",
   "execution_count": null,
   "metadata": {},
   "outputs": [],
   "source": [
    "df_patient.set_index(\"patient_id\", inplace=True, verify_integrity=True)"
   ]
  },
  {
   "cell_type": "markdown",
   "metadata": {},
   "source": [
    "La définition de l'index échoue ce qui indique la présence de doublons dans l'identifiant.\n",
    "\n",
    "Cela justifie une analyse approfondie de la qualité du référentiel."
   ]
  },
  {
   "cell_type": "markdown",
   "metadata": {},
   "source": [
    "### Doublons dans l'identifiant"
   ]
  },
  {
   "cell_type": "code",
   "execution_count": null,
   "metadata": {},
   "outputs": [],
   "source": [
    "df_patient[df_patient.duplicated(\"patient_id\", keep=False)].sort_values(\"patient_id\")"
   ]
  },
  {
   "cell_type": "markdown",
   "metadata": {},
   "source": [
    "Il y a 403 patients qui doublonnent sur l'identifiant. Ils seront supprimés pour le reste de l'analyse."
   ]
  },
  {
   "cell_type": "code",
   "execution_count": null,
   "metadata": {
    "tags": []
   },
   "outputs": [],
   "source": [
    "df_patient.drop_duplicates(\"patient_id\", keep=False, inplace=True)\n",
    "df_patient.set_index(\"patient_id\", inplace=True)\n",
    "\n",
    "df_patient.info()"
   ]
  },
  {
   "cell_type": "markdown",
   "metadata": {},
   "source": [
    "### Doublons sur l'ensemble des attributs"
   ]
  },
  {
   "cell_type": "code",
   "execution_count": null,
   "metadata": {},
   "outputs": [],
   "source": [
    "df_patient[df_patient.duplicated(keep=False)].sort_values(\"surname\")"
   ]
  },
  {
   "cell_type": "markdown",
   "metadata": {},
   "source": [
    "Il y 22 patients qui doublonnent sur l'ensemble des attributs, mais qui ont un identifiant différent."
   ]
  },
  {
   "cell_type": "markdown",
   "metadata": {},
   "source": [
    "### Attributs non renseignés"
   ]
  },
  {
   "cell_type": "code",
   "execution_count": null,
   "metadata": {},
   "outputs": [],
   "source": [
    "df_patient.notna().sum() / len(df_patient)"
   ]
  },
  {
   "cell_type": "markdown",
   "metadata": {},
   "source": [
    "Le second champ d'adresse est très peu renseigné (~40%) par rapport aux autres."
   ]
  },
  {
   "cell_type": "code",
   "execution_count": null,
   "metadata": {},
   "outputs": [],
   "source": [
    "df_patient_isna = df_patient.isna()\n",
    "\n",
    "df_patient_isna.sum(axis=\"columns\").value_counts().sort_index().plot.bar(xlabel=\"attributs non renseignés\", ylabel=\"patients\", rot=False)"
   ]
  },
  {
   "cell_type": "markdown",
   "metadata": {},
   "source": [
    "La majorité des patients ont jusqu'à 2 attributs non renseignés.\n",
    "\n"
   ]
  },
  {
   "cell_type": "markdown",
   "metadata": {},
   "source": [
    "Distribution des attributs non renseignés pour les cas extêmes (plus de 3 attributs):"
   ]
  },
  {
   "cell_type": "code",
   "execution_count": null,
   "metadata": {},
   "outputs": [],
   "source": [
    "import matplotlib.pyplot as plt\n",
    "from seaborn import heatmap\n",
    "\n",
    "plot_kwargs = dict(cmap=\"Paired\", cbar=False, yticklabels=False)\n",
    "\n",
    "fig, ax = plt.subplots(1, 3)\n",
    "fig.set_size_inches(20, 6)\n",
    "heatmap(df_patient_isna[df_patient_isna.sum(axis=\"columns\") == 3], ax=ax[0], **plot_kwargs)\n",
    "ax[0].set_title(\"3 attributs non renseignés\")\n",
    "heatmap(df_patient_isna[df_patient_isna.sum(axis=\"columns\") == 4], ax=ax[1], **plot_kwargs)\n",
    "ax[1].set_title(\"4 attributs non renseignés\")\n",
    "heatmap(df_patient_isna[df_patient_isna.sum(axis=\"columns\") > 4], ax=ax[2], **plot_kwargs)\n",
    "ax[2].set_title(\"Plus de 4 attributs non renseignés\")\n",
    "plt.show()"
   ]
  },
  {
   "cell_type": "code",
   "execution_count": null,
   "metadata": {},
   "outputs": [],
   "source": [
    "df_patient[[\"surname\", \"postcode\", \"phone_number\"]].isna().all(axis=1).any()"
   ]
  },
  {
   "cell_type": "markdown",
   "metadata": {},
   "source": [
    "## Analyse de l'échantillon de tests PCR"
   ]
  },
  {
   "cell_type": "markdown",
   "metadata": {},
   "source": [
    "### Répartition des valeurs"
   ]
  },
  {
   "cell_type": "code",
   "execution_count": null,
   "metadata": {},
   "outputs": [],
   "source": [
    "df_pcr.pcr.value_counts()"
   ]
  },
  {
   "cell_type": "markdown",
   "metadata": {},
   "source": [
    "Deux conventions sont utilisées pour représenter les deux valeurs possibles d'un test PCR (négatif ou positif) : `N / P` et `Negative / Positive`.\n",
    "\n",
    "On préfèrera normaliser ces résultats dans une variable catégorielle."
   ]
  },
  {
   "cell_type": "code",
   "execution_count": null,
   "metadata": {},
   "outputs": [],
   "source": [
    "df_pcr.pcr = df_pcr.pcr.str[0].astype(pd.CategoricalDtype(categories={\"N\", \"P\"}))\n",
    "\n",
    "df_pcr.pcr.value_counts()"
   ]
  },
  {
   "cell_type": "markdown",
   "metadata": {},
   "source": [
    "### Exhaustivité du référentiel"
   ]
  },
  {
   "cell_type": "markdown",
   "metadata": {},
   "source": [
    "Le référentiel de patients n'est pas exhaustif."
   ]
  },
  {
   "cell_type": "code",
   "execution_count": null,
   "metadata": {},
   "outputs": [],
   "source": [
    "df_pcr.patient_id.drop_duplicates().isin(df_patient.index).all()"
   ]
  },
  {
   "cell_type": "markdown",
   "metadata": {},
   "source": [
    "Il y aura 168 tests supprimés à l'issue de la jointure avec le référentiel, dont 43 positifs."
   ]
  },
  {
   "cell_type": "code",
   "execution_count": null,
   "metadata": {},
   "outputs": [],
   "source": [
    "df_pcr[~df_pcr.patient_id.isin(df_patient.index)].pcr.value_counts()"
   ]
  },
  {
   "cell_type": "markdown",
   "metadata": {},
   "source": [
    "## Analyse du référenciel de patients"
   ]
  },
  {
   "cell_type": "markdown",
   "metadata": {},
   "source": [
    "### Numéro de téléphone"
   ]
  },
  {
   "cell_type": "markdown",
   "metadata": {},
   "source": [
    "En [Australie](https://info.australia.gov.au/about-australia/facts-and-figures/telephone-country-and-area-codes), les numéro de téléphone sont composés d'un indicatif régional sur 2 chiffres, suivi d'un indicatif local sur 8 chiffres."
   ]
  },
  {
   "cell_type": "markdown",
   "metadata": {},
   "source": [
    "Séparation des indicatifs régionaux et locaux :"
   ]
  },
  {
   "cell_type": "code",
   "execution_count": null,
   "metadata": {},
   "outputs": [],
   "source": [
    "df_patient_phone_number = (\n",
    "    df_patient.phone_number.dropna()\n",
    "    .str.extract(r\"(\\d{2})\\s(\\d{8})\", expand=True)\n",
    "    .rename(columns={0: \"area\", 1: \"local\"})\n",
    ")\n",
    "\n",
    "df_patient_phone_number.sample(10, random_state=42)"
   ]
  },
  {
   "cell_type": "markdown",
   "metadata": {},
   "source": [
    "Vérification de la validité des indicatifs régionaux :"
   ]
  },
  {
   "cell_type": "code",
   "execution_count": null,
   "metadata": {},
   "outputs": [],
   "source": [
    "df_patient_phone_number.area.isin([\"02\", \"03\", \"04\", \"07\", \"08\"]).all()"
   ]
  },
  {
   "cell_type": "markdown",
   "metadata": {},
   "source": [
    "Le numéro de téléphone est fiable, a une forte valeur d'identification et est souvent renseigné.\n",
    "\n",
    "On s'en servira pour les rapprochements flous."
   ]
  },
  {
   "cell_type": "markdown",
   "metadata": {},
   "source": [
    "### Nom et prénom"
   ]
  },
  {
   "cell_type": "markdown",
   "metadata": {},
   "source": [
    "#### Valeurs manquantes"
   ]
  },
  {
   "cell_type": "code",
   "execution_count": null,
   "metadata": {},
   "outputs": [],
   "source": [
    "df_patient[[\"surname\", \"given_name\"]].isna().value_counts()"
   ]
  },
  {
   "cell_type": "markdown",
   "metadata": {},
   "source": [
    "Il y a 861 patients dont le nom et / ou le prénom ne sont pas renseignés."
   ]
  },
  {
   "cell_type": "markdown",
   "metadata": {},
   "source": [
    "#### Fautes de saisie"
   ]
  },
  {
   "cell_type": "markdown",
   "metadata": {},
   "source": [
    "On procède à un rapprochement via le numéro de téléphone et calcule la similarité entre les nom et prénom renseignés.\n",
    "\n",
    "La mesure de similarité choisie est la distance de Damerau-Levenshtein car elle est particulièrement adaptée pour détecter les fautes humaines qui peuvent arriver lors de la saisie répétée de texte brut, dont l'inversion ou la substitution de caractères.\n",
    "\n",
    "L'hypothèse est qu'une distance faible corresponde à une faute typographique. Une distance élévée soulèvera d'autres fautes de saisie."
   ]
  },
  {
   "cell_type": "markdown",
   "metadata": {},
   "source": [
    "Rapprochement des patients doublonnés sur leur numéro de téléphone"
   ]
  },
  {
   "cell_type": "code",
   "execution_count": null,
   "metadata": {},
   "outputs": [],
   "source": [
    "where_phone_number_duplicated = df_patient.phone_number.duplicated(keep=False)\n",
    "\n",
    "df = df_patient[where_phone_number_duplicated].dropna(subset={\"phone_number\"})\n",
    "\n",
    "df = (\n",
    "    df[[\"given_name\", \"surname\", \"phone_number\"]]\n",
    "    .dropna(subset={\"phone_number\"})\n",
    "    .reset_index()\n",
    ")\n",
    "\n",
    "df[\"full_name\"] = df[[\"given_name\", \"surname\"]].fillna(\"\").sum(axis=1)\n",
    "\n",
    "df = df.merge(df, on=\"phone_number\").drop_duplicates(\"patient_id_x\")"
   ]
  },
  {
   "cell_type": "markdown",
   "metadata": {},
   "source": [
    "Calcul de la distance d'édition"
   ]
  },
  {
   "cell_type": "code",
   "execution_count": null,
   "metadata": {},
   "outputs": [],
   "source": [
    "from jellyfish import damerau_levenshtein_distance\n",
    "\n",
    "df[\"distance\"] = df.apply(lambda x: damerau_levenshtein_distance(x.full_name_x, x.full_name_y), axis=1)\n",
    "\n",
    "df = df[df.distance >= 1]"
   ]
  },
  {
   "cell_type": "markdown",
   "metadata": {},
   "source": [
    "Distribution de la similarité"
   ]
  },
  {
   "cell_type": "code",
   "execution_count": null,
   "metadata": {},
   "outputs": [],
   "source": [
    "df.distance.value_counts(normalize=True).sort_index().plot.bar()"
   ]
  },
  {
   "cell_type": "markdown",
   "metadata": {},
   "source": [
    "Une forte proportion des patients rapprochés ont une faible distance d'édition.\n",
    "\n",
    "J'évalue la valeur charnière distinguant les fautes typographiques des autres erreurs à 4"
   ]
  },
  {
   "cell_type": "code",
   "execution_count": null,
   "metadata": {},
   "outputs": [],
   "source": [
    "df[df.distance < 4].sample(10, random_state=42)"
   ]
  },
  {
   "cell_type": "markdown",
   "metadata": {},
   "source": [
    "On retrouve les fautes typographiques classiques:\n",
    "- Substitution de un ou plusieurs caractères\n",
    "- Ajout ou suppression de caractères"
   ]
  },
  {
   "cell_type": "code",
   "execution_count": null,
   "metadata": {},
   "outputs": [],
   "source": [
    "df[df.distance == 4].sample(20, random_state=42)"
   ]
  },
  {
   "cell_type": "markdown",
   "metadata": {},
   "source": [
    "On retrouve un mélange de fautes typographiques plus importantes sur le nom et le prénom, mais aussi des subsitutions de prénom au profit d'une version plus courte ou plus familière (olivia -> livvie, anastasia -> stacia)."
   ]
  },
  {
   "cell_type": "code",
   "execution_count": null,
   "metadata": {},
   "outputs": [],
   "source": [
    "df[df.distance > 4].sample(20, random_state=42)"
   ]
  },
  {
   "cell_type": "markdown",
   "metadata": {},
   "source": [
    "Pour les fortes distances, on retrouve des inversions de nom et prénom et des noms différents."
   ]
  },
  {
   "cell_type": "markdown",
   "metadata": {},
   "source": [
    "## Âge et date de naissance"
   ]
  },
  {
   "cell_type": "markdown",
   "metadata": {},
   "source": [
    "### Valeurs manquantes"
   ]
  },
  {
   "cell_type": "code",
   "execution_count": null,
   "metadata": {},
   "outputs": [],
   "source": [
    "df_patient[[\"date_of_birth\", \"age\"]].isna().value_counts()"
   ]
  },
  {
   "cell_type": "markdown",
   "metadata": {},
   "source": [
    "### Répartition des âges"
   ]
  },
  {
   "cell_type": "code",
   "execution_count": null,
   "metadata": {},
   "outputs": [],
   "source": [
    "df_patient.age.describe()"
   ]
  },
  {
   "cell_type": "code",
   "execution_count": null,
   "metadata": {},
   "outputs": [],
   "source": [
    "df_patient_age = pd.cut(df_patient.age.dropna(), bins=range(0, 101, 10), right=False)\n",
    "\n",
    "df_patient_age.value_counts().sort_index().plot.bar(xlabel=\"catégorie d'âge\", ylabel=\"patients\")"
   ]
  },
  {
   "cell_type": "code",
   "execution_count": null,
   "metadata": {},
   "outputs": [],
   "source": [
    "df_patient[df_patient.age < 10].age.value_counts().sort_index().plot.bar(xlabel=\"âge\", ylabel=\"patients\")"
   ]
  },
  {
   "cell_type": "markdown",
   "metadata": {},
   "source": [
    "On remarquera la présence de quelques patients en très bas âge (inférieur à 6 ans).\n",
    "\n",
    "Je n'ai pas connaissance d'un quelconque âge minimum pour effectuer un test PCR (à confirmer auprès d'un expert)."
   ]
  },
  {
   "cell_type": "markdown",
   "metadata": {},
   "source": [
    "### Dates de naissance invalides"
   ]
  },
  {
   "cell_type": "markdown",
   "metadata": {},
   "source": [
    "La date de naissance est stockée au format `YYYYMMDD` dans une valeur entière.\n",
    "\n",
    "On la convertit en `datetime` afin de la valider."
   ]
  },
  {
   "cell_type": "code",
   "execution_count": null,
   "metadata": {},
   "outputs": [],
   "source": [
    "date_of_birth = df_patient.date_of_birth.copy()\n",
    "\n",
    "df_patient.date_of_birth = pd.to_datetime(df_patient.date_of_birth, format=\"%Y%M%d\", errors=\"coerce\")\n",
    "\n",
    "dob_invalid = date_of_birth[df_patient.date_of_birth.isna()].dropna()\n",
    "\n",
    "dob_invalid"
   ]
  },
  {
   "cell_type": "markdown",
   "metadata": {},
   "source": [
    "Il y a 106 patients dont la date de naissance est non conforme."
   ]
  },
  {
   "cell_type": "code",
   "execution_count": null,
   "metadata": {},
   "outputs": [],
   "source": [
    "dob_invalid_split = (\n",
    "    dob_invalid.astype(str)\n",
    "    .str.extract(r\"(\\d{4})(\\d{2})(\\d{2})\", expand=True)\n",
    "    .rename(columns={0: \"year\", 1: \"month\", 2: \"day\"})\n",
    "    .astype(int)\n",
    ")\n",
    "\n",
    "dob_invalid_split.sample(10, random_state=42)"
   ]
  },
  {
   "cell_type": "markdown",
   "metadata": {},
   "source": [
    "L'échantillon montre la présence de valeurs aberrantes pour l'année, le mois et le jour."
   ]
  },
  {
   "cell_type": "code",
   "execution_count": null,
   "metadata": {},
   "outputs": [],
   "source": [
    "import matplotlib.pyplot as plt\n",
    "\n",
    "fig, ax = plt.subplots(1, 3)\n",
    "fig.set_size_inches(20, 6)\n",
    "dob_invalid_split.year.plot.hist(title=\"year\", ax=ax[0], sharey=True)\n",
    "dob_invalid_split.month.plot.hist(title=\"month\", ax=ax[1], sharey=True)\n",
    "dob_invalid_split.day.plot.hist(title=\"day\", ax=ax[2], sharey=True)\n",
    "plt.show()"
   ]
  },
  {
   "cell_type": "markdown",
   "metadata": {},
   "source": [
    "### Incohérence entre date de naissance et âge renseigné"
   ]
  },
  {
   "cell_type": "code",
   "execution_count": null,
   "metadata": {},
   "outputs": [],
   "source": [
    "import matplotlib.pyplot as plt\n",
    "\n",
    "fig, ax = plt.subplots(1, 2)\n",
    "fig.set_size_inches(20, 6)\n",
    "df_patient.date_of_birth.dt.year.plot.hist(bins=12, title=\"year of birth\", ax=ax[0], sharey=True)\n",
    "df_patient.age.plot.hist(bins=12, title=\"age\", ax=ax[1], sharey=True)\n",
    "\n",
    "plt.show()"
   ]
  },
  {
   "cell_type": "markdown",
   "metadata": {},
   "source": [
    "Les distributions de l'année de naissance et de l'âge ne concordent pas. La date de naissance est incohérente avec l'âge renseigné.\n",
    "\n",
    "La distribution de la date de naissance ressemble au résultat d'un tirage aléatoire sur une loi uniforme."
   ]
  },
  {
   "cell_type": "markdown",
   "metadata": {},
   "source": [
    "## Adresse personnelle"
   ]
  },
  {
   "cell_type": "markdown",
   "metadata": {},
   "source": [
    "### Numéro de rue"
   ]
  },
  {
   "cell_type": "markdown",
   "metadata": {},
   "source": [
    "La numérotation des rues démarrent à 1. Le minimum de 0 est une valeur erronée."
   ]
  },
  {
   "cell_type": "code",
   "execution_count": null,
   "metadata": {},
   "outputs": [],
   "source": [
    "df_patient.street_number.dropna().astype(int).describe()"
   ]
  },
  {
   "cell_type": "markdown",
   "metadata": {},
   "source": [
    "Analyse du nombre de chiffres composant le numéro de rue."
   ]
  },
  {
   "cell_type": "code",
   "execution_count": null,
   "metadata": {
    "tags": []
   },
   "outputs": [],
   "source": [
    "street_number = df_patient.street_number.fillna(0).dropna().astype(int)\n",
    "street_number[\"number_of_digits\"] = street_number.astype(str).str.len()\n",
    "\n",
    "street_number.number_of_digits.value_counts().sort_index().plot.bar(xlabel=\"digits in street number\", ylabel=\"patients\")\n"
   ]
  },
  {
   "cell_type": "markdown",
   "metadata": {},
   "source": [
    "Il y a quelques patients avec un numéro de rue exceptionnellement élevé (nombre de chiffres >= 5).\n",
    "\n",
    "On analyse les patients correspondant."
   ]
  },
  {
   "cell_type": "code",
   "execution_count": null,
   "metadata": {},
   "outputs": [],
   "source": [
    "df_patient_with_large_street_number = df_patient.loc[street_number.number_of_digits >= 5]\n",
    "\n",
    "df_patient_with_large_street_number[[\"street_number\", \"address_1\", \"phone_number\"]]"
   ]
  },
  {
   "cell_type": "markdown",
   "metadata": {},
   "source": [
    "Les patients ont tous un numéro de téléphone renseigné.\n",
    "\n",
    "On peut donc effectuer un rapprochement par celui-ci afin d'identifier une possible erreur de saisie."
   ]
  },
  {
   "cell_type": "code",
   "execution_count": null,
   "metadata": {},
   "outputs": [],
   "source": [
    "df1 = df_patient_with_large_street_number[\n",
    "    [\"street_number\", \"address_1\", \"phone_number\"]\n",
    "].reset_index()\n",
    "\n",
    "df2 = df_patient[\n",
    "    [\"street_number\", \"address_1\", \"phone_number\"]\n",
    "].reset_index()\n",
    "\n",
    "df1 = df1.merge(df2, on=\"phone_number\")\n",
    "\n",
    "df1.loc[df1.patient_id_x != df1.patient_id_y]"
   ]
  },
  {
   "cell_type": "markdown",
   "metadata": {},
   "source": [
    "Le numéro de rue à 6 chiffres est une erreur de saisie (342951 -> 3429).\n",
    "\n",
    "Idem pour l'un des numéro de rue à 5 chiffres (10030 -> 1000)."
   ]
  },
  {
   "cell_type": "markdown",
   "metadata": {},
   "source": [
    "### Adresse"
   ]
  },
  {
   "cell_type": "markdown",
   "metadata": {},
   "source": [
    "#### Taux de remplissage"
   ]
  },
  {
   "cell_type": "code",
   "execution_count": null,
   "metadata": {},
   "outputs": [],
   "source": [
    "df_patient[[\"address_1\", \"address_2\"]].notna().value_counts(normalize=True).sort_index()"
   ]
  },
  {
   "cell_type": "markdown",
   "metadata": {},
   "source": [
    "- 96% des adresses ont au moins le premier champ d'adresse renseigné\n",
    "- 38% ont les deux champs renseignés"
   ]
  },
  {
   "cell_type": "markdown",
   "metadata": {},
   "source": [
    "#### Fautes de saisie"
   ]
  },
  {
   "cell_type": "markdown",
   "metadata": {},
   "source": [
    "Rapprochement des adresses de patient partageant un même numéro de téléphone."
   ]
  },
  {
   "cell_type": "code",
   "execution_count": null,
   "metadata": {},
   "outputs": [],
   "source": [
    "address = (\n",
    "    df_patient[[\"address_1\", \"address_2\", \"phone_number\"]]\n",
    "        .reset_index()\n",
    "        .dropna(subset=[\"phone_number\"])\n",
    "        .fillna(\"<NA>\")\n",
    ")\n",
    "address[\"full_address\"] = address[[\"address_1\", \"address_2\"]].apply(\", \".join, axis=1)\n",
    "address = address.merge(address, on=\"phone_number\")\n",
    "address = address.loc[\n",
    "    (address.patient_id_x != address.patient_id_y) & \\\n",
    "    (address.full_address_x != address.full_address_y)\n",
    "]\n",
    "\n",
    "address.sort_values(by=[\"phone_number\", \"patient_id_x\"]).head(10)"
   ]
  },
  {
   "cell_type": "markdown",
   "metadata": {},
   "source": [
    "Calcul de la distance d'édition."
   ]
  },
  {
   "cell_type": "code",
   "execution_count": null,
   "metadata": {
    "tags": []
   },
   "outputs": [],
   "source": [
    "address[\"distance\"] = address.apply(\n",
    "    lambda x: damerau_levenshtein_distance(x.full_address_x, x.full_address_y),\n",
    "    axis=1\n",
    ")\n",
    "\n",
    "address.distance.value_counts().sort_index().plot.bar()"
   ]
  },
  {
   "cell_type": "markdown",
   "metadata": {},
   "source": [
    "Fautes typographiques."
   ]
  },
  {
   "cell_type": "code",
   "execution_count": null,
   "metadata": {},
   "outputs": [],
   "source": [
    "address.loc[address.distance <= 2, [\"full_address_x\", \"full_address_y\", \"distance\"]].sample(20, random_state=42)"
   ]
  },
  {
   "cell_type": "code",
   "execution_count": null,
   "metadata": {},
   "outputs": [],
   "source": [
    "address.loc[address.distance == 3, [\"full_address_x\", \"full_address_y\", \"distance\"]]"
   ]
  },
  {
   "cell_type": "code",
   "execution_count": null,
   "metadata": {},
   "outputs": [],
   "source": [
    "address.loc[address.distance == 4, [\"full_address_x\", \"full_address_y\", \"distance\"]]"
   ]
  },
  {
   "cell_type": "markdown",
   "metadata": {},
   "source": [
    "Autres fautes.\n"
   ]
  },
  {
   "cell_type": "code",
   "execution_count": null,
   "metadata": {},
   "outputs": [],
   "source": [
    "address.loc[address.distance > 4, [\"full_address_x\", \"full_address_y\", \"distance\"]].sample(30, random_state=42)"
   ]
  },
  {
   "cell_type": "markdown",
   "metadata": {},
   "source": [
    "### Quartier"
   ]
  },
  {
   "cell_type": "markdown",
   "metadata": {},
   "source": [
    "Certains couples quartier / postcode ont été inversées lors de la saisie."
   ]
  },
  {
   "cell_type": "code",
   "execution_count": null,
   "metadata": {},
   "outputs": [],
   "source": [
    "df_patient.loc[df_patient.suburb.str.contains(r\"\\d\")]"
   ]
  },
  {
   "cell_type": "markdown",
   "metadata": {},
   "source": [
    "Pour ces patients, il faut procéder à l'inversion des valeurs du quartier et du code postal.\n",
    "\n",
    "Le code postal peut contenir un caractère alphabétique qu'il faudra supprimer (exemple `467l0` -> `4670`)."
   ]
  },
  {
   "cell_type": "code",
   "execution_count": null,
   "metadata": {},
   "outputs": [],
   "source": [
    "to_swap = df_patient.loc[df_patient.suburb.str.contains(r\"\\d\"), [\"suburb\", \"postcode\"]]\n",
    "\n",
    "to_swap[\"suburb\"], to_swap[\"postcode\"] = to_swap[\"postcode\"], to_swap[\"suburb\"]\n",
    "\n",
    "to_swap[\"postcode\"] = to_swap[\"postcode\"].str.replace(r\"[a-z]\", \"\")\n",
    "\n",
    "df_patient.update(to_swap)\n",
    "\n",
    "df_patient.loc[to_swap.index, [\"suburb\", \"postcode\"]]"
   ]
  },
  {
   "cell_type": "markdown",
   "metadata": {},
   "source": [
    "### État"
   ]
  },
  {
   "cell_type": "markdown",
   "metadata": {},
   "source": [
    "L'Australie compte 8 états et territoires codés de la manière suivante :"
   ]
  },
  {
   "cell_type": "code",
   "execution_count": null,
   "metadata": {},
   "outputs": [],
   "source": [
    "STATES = {'act', 'nsw', 'nt', 'qld', 'sa', 'tas', 'vic', 'wa'}"
   ]
  },
  {
   "cell_type": "markdown",
   "metadata": {},
   "source": [
    "Répartition des valeurs de code d'état."
   ]
  },
  {
   "cell_type": "code",
   "execution_count": null,
   "metadata": {
    "tags": []
   },
   "outputs": [],
   "source": [
    "state_counts = df_patient.state.value_counts()"
   ]
  },
  {
   "cell_type": "markdown",
   "metadata": {},
   "source": [
    "On retrouve les codes des 8 états de l'Australie."
   ]
  },
  {
   "cell_type": "code",
   "execution_count": null,
   "metadata": {},
   "outputs": [],
   "source": [
    "state_counts.head(8)"
   ]
  },
  {
   "cell_type": "markdown",
   "metadata": {},
   "source": [
    "Et d'autres codes d'état à rectifier."
   ]
  },
  {
   "cell_type": "code",
   "execution_count": null,
   "metadata": {},
   "outputs": [],
   "source": [
    "state_counts[8:]"
   ]
  },
  {
   "cell_type": "markdown",
   "metadata": {},
   "source": [
    "On effectue un premier rapprochement flou sur une distance d'édition très courte.\n",
    "\n",
    "Les rapprochements ambigüs (code -> \\[état\\]) seront supprimés."
   ]
  },
  {
   "cell_type": "code",
   "execution_count": null,
   "metadata": {},
   "outputs": [],
   "source": [
    "from itertools import product\n",
    "from jellyfish import damerau_levenshtein_distance\n",
    "\n",
    "states = STATES\n",
    "codes = set(state_counts.index) - STATES\n",
    "\n",
    "df_distance = pd.Series(\n",
    "    data=[damerau_levenshtein_distance(c, s) for c, s in product(codes, states)],\n",
    "    index=pd.MultiIndex.from_product([codes, states], names=[\"code\", \"state\"]),\n",
    "    name=\"distance\",\n",
    ")\n",
    "\n",
    "code_to_state = dict(\n",
    "    df_distance[df_distance == 1].index.to_frame()\n",
    "    .drop_duplicates(subset=\"code\", keep=False).index\n",
    ")\n",
    "\n",
    "code_to_state"
   ]
  },
  {
   "cell_type": "markdown",
   "metadata": {},
   "source": [
    "Codes d'état non rapprochés"
   ]
  },
  {
   "cell_type": "code",
   "execution_count": null,
   "metadata": {},
   "outputs": [],
   "source": [
    "codes_to_na = codes - set(code_to_state.keys())\n",
    "\n",
    "codes_to_na"
   ]
  },
  {
   "cell_type": "markdown",
   "metadata": {},
   "source": [
    "Correction des états."
   ]
  },
  {
   "cell_type": "code",
   "execution_count": null,
   "metadata": {},
   "outputs": [],
   "source": [
    "code_to_state.update({c: pd.NA for c in codes_to_na})\n",
    "df_patient.state.replace(code_to_state, inplace=True)\n",
    "\n",
    "df_patient.state.value_counts()"
   ]
  },
  {
   "cell_type": "markdown",
   "metadata": {},
   "source": [
    "### Code postal"
   ]
  },
  {
   "cell_type": "markdown",
   "metadata": {},
   "source": [
    "#### Taux de remplissage dans l'adresse"
   ]
  },
  {
   "cell_type": "code",
   "execution_count": null,
   "metadata": {},
   "outputs": [],
   "source": [
    "df_patient[[\"postcode\", \"suburb\", \"state\"]].notna().value_counts(sort=False)"
   ]
  },
  {
   "cell_type": "markdown",
   "metadata": {},
   "source": [
    "Le code postal est très souvent renseigné, accompagné du quartier et / ou de l'état.   "
   ]
  },
  {
   "cell_type": "markdown",
   "metadata": {},
   "source": [
    "#### Validation"
   ]
  },
  {
   "cell_type": "markdown",
   "metadata": {},
   "source": [
    "Tous les code postaux renseignés respectent le format Australien sur 4 chiffres."
   ]
  },
  {
   "cell_type": "code",
   "execution_count": null,
   "metadata": {},
   "outputs": [],
   "source": [
    "(~df_patient.dropna().postcode.str.contains(r\"\\d{4}\")).sum()"
   ]
  },
  {
   "cell_type": "markdown",
   "metadata": {},
   "source": [
    "Chargement du référentiel de codes postaux valides par état.\n",
    "\n",
    "_Compilé des données de cet [article](https://en.wikipedia.org/w/index.php?title=Postcodes_in_Australia)_"
   ]
  },
  {
   "cell_type": "code",
   "execution_count": null,
   "metadata": {},
   "outputs": [],
   "source": [
    "state_postcode_ranges = pd.read_csv(\"state_postcode.csv\").convert_dtypes()\n",
    "\n",
    "state_postcode_ranges"
   ]
  },
  {
   "cell_type": "markdown",
   "metadata": {},
   "source": [
    "Codes postaux invalides hors considération de l'état"
   ]
  },
  {
   "cell_type": "code",
   "execution_count": null,
   "metadata": {},
   "outputs": [],
   "source": [
    "postcodes = df_patient.postcode.dropna().unique()\n",
    "\n",
    "postcode_range = pd.arrays.IntervalArray.from_arrays(\n",
    "    left=state_postcode_ranges.postcode_min_range.astype(int),\n",
    "    right=state_postcode_ranges.postcode_max_range.astype(int),\n",
    "    closed=\"both\",\n",
    ")\n",
    "\n",
    "validate_postcode = lambda p: postcode_range.contains(int(p)).any()\n",
    "\n",
    "invalid_postcodes = [p for p in postcodes if not validate_postcode(p)]\n",
    "\n",
    "df_patient.postcode.replace({p: pd.NA for p in invalid_postcodes})\n",
    "\n",
    "invalid_postcodes"
   ]
  },
  {
   "cell_type": "markdown",
   "metadata": {},
   "source": [
    "Codes postaux invalides avec considération de l'état"
   ]
  },
  {
   "cell_type": "code",
   "execution_count": null,
   "metadata": {},
   "outputs": [],
   "source": [
    "postcode_ranges_per_state = {\n",
    "    state: pd.arrays.IntervalArray.from_arrays(\n",
    "        left=postcode.postcode_min_range,\n",
    "        right=postcode.postcode_max_range,\n",
    "        closed=\"both\",\n",
    "    )\n",
    "    for state, postcode\n",
    "    in state_postcode_ranges.groupby(by=\"state\").agg(tuple).iterrows()\n",
    "}\n",
    "\n",
    "validate_state_postcode = lambda s, p: postcode_ranges_per_state[s].contains(int(p)).any()\n",
    "\n",
    "df_patient[[\"state\", \"postcode\"]].dropna().apply(\n",
    "    lambda x: not validate_state_postcode(x.state, x.postcode),\n",
    "    axis=\"columns\"\n",
    ").value_counts(normalize=True)"
   ]
  },
  {
   "cell_type": "markdown",
   "metadata": {},
   "source": [
    "Une large proportion de codes postaux sont incohérents avec l'état renseigné (77%).\n",
    "\n",
    "Il sera nécessaire de corriger l'état renseigné avec le code postal."
   ]
  }
 ],
 "metadata": {
  "kernelspec": {
   "display_name": "Python 3",
   "name": "python3"
  },
  "language_info": {
   "codemirror_mode": {
    "name": "ipython",
    "version": 3
   },
   "file_extension": ".py",
   "mimetype": "text/x-python",
   "name": "python",
   "nbconvert_exporter": "python",
   "pygments_lexer": "ipython3",
   "version": "3.8.5-final"
  }
 },
 "nbformat": 4,
 "nbformat_minor": 2
}