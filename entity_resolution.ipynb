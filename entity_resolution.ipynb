{
 "metadata": {
  "language_info": {
   "codemirror_mode": {
    "name": "ipython",
    "version": 3
   },
   "file_extension": ".py",
   "mimetype": "text/x-python",
   "name": "python",
   "nbconvert_exporter": "python",
   "pygments_lexer": "ipython3",
   "version": "3.8.5-final"
  },
  "orig_nbformat": 2,
  "kernelspec": {
   "name": "python3",
   "display_name": "Python 3"
  }
 },
 "nbformat": 4,
 "nbformat_minor": 2,
 "cells": [
  {
   "cell_type": "code",
   "execution_count": 19,
   "metadata": {
    "tags": []
   },
   "outputs": [
    {
     "output_type": "stream",
     "name": "stdout",
     "text": "<class 'pandas.core.frame.DataFrame'>\nRangeIndex: 20000 entries, 0 to 19999\nData columns (total 12 columns):\n #   Column         Non-Null Count  Dtype \n---  ------         --------------  ----- \n 0   patient_id     20000 non-null  Int64 \n 1   given_name     19560 non-null  string\n 2   surname        19575 non-null  string\n 3   street_number  19618 non-null  Int64 \n 4   address_1      19204 non-null  string\n 5   suburb         19788 non-null  string\n 6   postcode       19801 non-null  string\n 7   state          18010 non-null  string\n 8   date_of_birth  17989 non-null  Int64 \n 9   age            16003 non-null  Int64 \n 10  phone_number   19081 non-null  string\n 11  address_2      7893 non-null   string\ndtypes: Int64(4), string(8)\nmemory usage: 1.9 MB\n"
    }
   ],
   "source": [
    "from getting_started import df_patient, pd\n",
    "\n",
    "df_patient = df_patient.convert_dtypes()\n",
    "\n",
    "df_patient.info()"
   ]
  },
  {
   "cell_type": "markdown",
   "metadata": {},
   "source": [
    "Suppression des patiens avec identifiant dupliqué"
   ]
  },
  {
   "cell_type": "code",
   "execution_count": 20,
   "metadata": {
    "tags": []
   },
   "outputs": [
    {
     "output_type": "stream",
     "name": "stdout",
     "text": "<class 'pandas.core.frame.DataFrame'>\nIndex: 19798 entries, 221958 to 925217\nData columns (total 11 columns):\n #   Column         Non-Null Count  Dtype \n---  ------         --------------  ----- \n 0   given_name     19361 non-null  string\n 1   surname        19375 non-null  string\n 2   street_number  19422 non-null  Int64 \n 3   address_1      19012 non-null  string\n 4   suburb         19588 non-null  string\n 5   postcode       19602 non-null  string\n 6   state          17831 non-null  string\n 7   date_of_birth  17802 non-null  Int64 \n 8   age            15842 non-null  Int64 \n 9   phone_number   18888 non-null  string\n 10  address_2      7813 non-null   string\ndtypes: Int64(3), string(8)\nmemory usage: 1.9+ MB\n"
    }
   ],
   "source": [
    "df_patient.drop_duplicates(subset={\"patient_id\"}, inplace=True)\n",
    "\n",
    "df_patient.set_index(\"patient_id\", inplace=True, verify_integrity=True)\n",
    "\n",
    "df_patient.info()"
   ]
  },
  {
   "cell_type": "markdown",
   "metadata": {},
   "source": [
    "Assainissement de la date de naissance"
   ]
  },
  {
   "cell_type": "code",
   "execution_count": 21,
   "metadata": {},
   "outputs": [
    {
     "output_type": "execute_result",
     "data": {
      "text/plain": "count                   17628\nunique                  13387\ntop       1904-04-01 00:00:00\nfreq                        7\nfirst     1900-01-05 00:00:00\nlast      1999-12-29 00:00:00\nName: date_of_birth, dtype: object"
     },
     "metadata": {},
     "execution_count": 21
    }
   ],
   "source": [
    "df_patient.date_of_birth = pd.to_datetime(df_patient.date_of_birth, format=\"%Y%m%d\", errors=\"coerce\")\n",
    "\n",
    "df_patient.date_of_birth.describe()"
   ]
  },
  {
   "cell_type": "markdown",
   "metadata": {},
   "source": [
    "Assainissement du numéro de rue"
   ]
  },
  {
   "cell_type": "code",
   "execution_count": 22,
   "metadata": {
    "tags": []
   },
   "outputs": [
    {
     "output_type": "execute_result",
     "data": {
      "text/plain": "count     19416.000000\nmean         98.924856\nstd        2494.481245\nmin           1.000000\n25%          10.000000\n50%          24.000000\n75%          60.000000\nmax      342951.000000\nName: street_number, dtype: float64"
     },
     "metadata": {},
     "execution_count": 22
    }
   ],
   "source": [
    "df_patient.street_number = df_patient.street_number.replace({0: pd.NA}).astype(\"Int64\")\n",
    "\n",
    "df_patient.street_number.describe()"
   ]
  },
  {
   "cell_type": "markdown",
   "metadata": {},
   "source": [
    "Inversion quartier - code postal"
   ]
  },
  {
   "cell_type": "code",
   "execution_count": 23,
   "metadata": {},
   "outputs": [
    {
     "output_type": "execute_result",
     "data": {
      "text/plain": "           given_name        surname  street_number                address_1  \\\npatient_id                                                                     \n810644        juliana      grosvenor              5            connelly pace   \n986559          kirra  choi-lundberg            102         centaurus street   \n752873        lochlan          blake            258                     <NA>   \n902348          isaac         nakoje             19           collier street   \n678110          jaden          green              5              dovey place   \n690348         andrew           ryan             20  mainwaring rich circuit   \n727290        tiffany         loukes             31               leal place   \n738103           hugi         pascoe            167              leita court   \n684359          sonia          green             50      kalgoorlie crescent   \n355033           abby           yoob            243            weston street   \n572694       isabella        beddimg             17        heidelberg street   \n132735         jairys           dent              2            hilder street   \n241868           elly           webb            195            duigan street   \n674065       nichalas          mason             74            murphy street   \n\n                          suburb postcode state date_of_birth   age  \\\npatient_id                                                            \n810644      port noarlunga south     3023   tas    1999-12-15  <NA>   \n986559                 naremburn     6168   vic    1926-11-04    27   \n752873                 toowoobma     4216    wa    1908-08-21    31   \n902348                  brighton     6017  <NA>    1964-04-21     8   \n678110                    oraneg     3185   vic    1915-12-04    23   \n690348                 blacktown     3020    wa           NaT    22   \n727290               forest hill     4670   nsw    1976-07-06    23   \n738103              port lincoln     3023   nsw    1904-04-01  <NA>   \n684359                  ashfield     6112    sa           NaT     9   \n355033               forest hill     3181  <NA>    1966-06-15    26   \n572694                 toowoomba     3764   nsw    1951-01-08  <NA>   \n132735              regents park     4214   qld    1981-09-13    31   \n241868                 kelmscott     4160  <NA>    1976-05-07    27   \n674065                donnybrook     3133   vic    1907-05-25    24   \n\n           phone_number    address_2  \npatient_id                            \n810644      03 55227740         <NA>  \n986559      08 69584599         <NA>  \n752873      02 84630666         <NA>  \n902348      02 69439226         <NA>  \n678110      02 73534391         <NA>  \n690348             <NA>         <NA>  \n727290             <NA>      pangani  \n738103      07 84786511         <NA>  \n684359      03 46671647         <NA>  \n355033      02 68667816         <NA>  \n572694      03 01075733  laurel bank  \n132735      02 92264278         <NA>  \n241868      04 01285849         <NA>  \n674065             <NA>         <NA>  ",
      "text/html": "<div>\n<style scoped>\n    .dataframe tbody tr th:only-of-type {\n        vertical-align: middle;\n    }\n\n    .dataframe tbody tr th {\n        vertical-align: top;\n    }\n\n    .dataframe thead th {\n        text-align: right;\n    }\n</style>\n<table border=\"1\" class=\"dataframe\">\n  <thead>\n    <tr style=\"text-align: right;\">\n      <th></th>\n      <th>given_name</th>\n      <th>surname</th>\n      <th>street_number</th>\n      <th>address_1</th>\n      <th>suburb</th>\n      <th>postcode</th>\n      <th>state</th>\n      <th>date_of_birth</th>\n      <th>age</th>\n      <th>phone_number</th>\n      <th>address_2</th>\n    </tr>\n    <tr>\n      <th>patient_id</th>\n      <th></th>\n      <th></th>\n      <th></th>\n      <th></th>\n      <th></th>\n      <th></th>\n      <th></th>\n      <th></th>\n      <th></th>\n      <th></th>\n      <th></th>\n    </tr>\n  </thead>\n  <tbody>\n    <tr>\n      <th>810644</th>\n      <td>juliana</td>\n      <td>grosvenor</td>\n      <td>5</td>\n      <td>connelly pace</td>\n      <td>port noarlunga south</td>\n      <td>3023</td>\n      <td>tas</td>\n      <td>1999-12-15</td>\n      <td>&lt;NA&gt;</td>\n      <td>03 55227740</td>\n      <td>&lt;NA&gt;</td>\n    </tr>\n    <tr>\n      <th>986559</th>\n      <td>kirra</td>\n      <td>choi-lundberg</td>\n      <td>102</td>\n      <td>centaurus street</td>\n      <td>naremburn</td>\n      <td>6168</td>\n      <td>vic</td>\n      <td>1926-11-04</td>\n      <td>27</td>\n      <td>08 69584599</td>\n      <td>&lt;NA&gt;</td>\n    </tr>\n    <tr>\n      <th>752873</th>\n      <td>lochlan</td>\n      <td>blake</td>\n      <td>258</td>\n      <td>&lt;NA&gt;</td>\n      <td>toowoobma</td>\n      <td>4216</td>\n      <td>wa</td>\n      <td>1908-08-21</td>\n      <td>31</td>\n      <td>02 84630666</td>\n      <td>&lt;NA&gt;</td>\n    </tr>\n    <tr>\n      <th>902348</th>\n      <td>isaac</td>\n      <td>nakoje</td>\n      <td>19</td>\n      <td>collier street</td>\n      <td>brighton</td>\n      <td>6017</td>\n      <td>&lt;NA&gt;</td>\n      <td>1964-04-21</td>\n      <td>8</td>\n      <td>02 69439226</td>\n      <td>&lt;NA&gt;</td>\n    </tr>\n    <tr>\n      <th>678110</th>\n      <td>jaden</td>\n      <td>green</td>\n      <td>5</td>\n      <td>dovey place</td>\n      <td>oraneg</td>\n      <td>3185</td>\n      <td>vic</td>\n      <td>1915-12-04</td>\n      <td>23</td>\n      <td>02 73534391</td>\n      <td>&lt;NA&gt;</td>\n    </tr>\n    <tr>\n      <th>690348</th>\n      <td>andrew</td>\n      <td>ryan</td>\n      <td>20</td>\n      <td>mainwaring rich circuit</td>\n      <td>blacktown</td>\n      <td>3020</td>\n      <td>wa</td>\n      <td>NaT</td>\n      <td>22</td>\n      <td>&lt;NA&gt;</td>\n      <td>&lt;NA&gt;</td>\n    </tr>\n    <tr>\n      <th>727290</th>\n      <td>tiffany</td>\n      <td>loukes</td>\n      <td>31</td>\n      <td>leal place</td>\n      <td>forest hill</td>\n      <td>4670</td>\n      <td>nsw</td>\n      <td>1976-07-06</td>\n      <td>23</td>\n      <td>&lt;NA&gt;</td>\n      <td>pangani</td>\n    </tr>\n    <tr>\n      <th>738103</th>\n      <td>hugi</td>\n      <td>pascoe</td>\n      <td>167</td>\n      <td>leita court</td>\n      <td>port lincoln</td>\n      <td>3023</td>\n      <td>nsw</td>\n      <td>1904-04-01</td>\n      <td>&lt;NA&gt;</td>\n      <td>07 84786511</td>\n      <td>&lt;NA&gt;</td>\n    </tr>\n    <tr>\n      <th>684359</th>\n      <td>sonia</td>\n      <td>green</td>\n      <td>50</td>\n      <td>kalgoorlie crescent</td>\n      <td>ashfield</td>\n      <td>6112</td>\n      <td>sa</td>\n      <td>NaT</td>\n      <td>9</td>\n      <td>03 46671647</td>\n      <td>&lt;NA&gt;</td>\n    </tr>\n    <tr>\n      <th>355033</th>\n      <td>abby</td>\n      <td>yoob</td>\n      <td>243</td>\n      <td>weston street</td>\n      <td>forest hill</td>\n      <td>3181</td>\n      <td>&lt;NA&gt;</td>\n      <td>1966-06-15</td>\n      <td>26</td>\n      <td>02 68667816</td>\n      <td>&lt;NA&gt;</td>\n    </tr>\n    <tr>\n      <th>572694</th>\n      <td>isabella</td>\n      <td>beddimg</td>\n      <td>17</td>\n      <td>heidelberg street</td>\n      <td>toowoomba</td>\n      <td>3764</td>\n      <td>nsw</td>\n      <td>1951-01-08</td>\n      <td>&lt;NA&gt;</td>\n      <td>03 01075733</td>\n      <td>laurel bank</td>\n    </tr>\n    <tr>\n      <th>132735</th>\n      <td>jairys</td>\n      <td>dent</td>\n      <td>2</td>\n      <td>hilder street</td>\n      <td>regents park</td>\n      <td>4214</td>\n      <td>qld</td>\n      <td>1981-09-13</td>\n      <td>31</td>\n      <td>02 92264278</td>\n      <td>&lt;NA&gt;</td>\n    </tr>\n    <tr>\n      <th>241868</th>\n      <td>elly</td>\n      <td>webb</td>\n      <td>195</td>\n      <td>duigan street</td>\n      <td>kelmscott</td>\n      <td>4160</td>\n      <td>&lt;NA&gt;</td>\n      <td>1976-05-07</td>\n      <td>27</td>\n      <td>04 01285849</td>\n      <td>&lt;NA&gt;</td>\n    </tr>\n    <tr>\n      <th>674065</th>\n      <td>nichalas</td>\n      <td>mason</td>\n      <td>74</td>\n      <td>murphy street</td>\n      <td>donnybrook</td>\n      <td>3133</td>\n      <td>vic</td>\n      <td>1907-05-25</td>\n      <td>24</td>\n      <td>&lt;NA&gt;</td>\n      <td>&lt;NA&gt;</td>\n    </tr>\n  </tbody>\n</table>\n</div>"
     },
     "metadata": {},
     "execution_count": 23
    }
   ],
   "source": [
    "where = df_patient.suburb.str.contains(r\"\\d\")\n",
    "df = df_patient.loc[where, [\"suburb\", \"postcode\"]]\n",
    "df.suburb, df.postcode = df.postcode, df.suburb\n",
    "df.postcode = df.postcode.str.replace(r\"[a-z]\", \"\")\n",
    "df_patient.update(df)\n",
    "\n",
    "df_patient[where]"
   ]
  },
  {
   "cell_type": "markdown",
   "metadata": {},
   "source": [
    "Assainissement du code postal"
   ]
  },
  {
   "cell_type": "code",
   "execution_count": 24,
   "metadata": {},
   "outputs": [],
   "source": [
    "state_postcode = (\n",
    "    pd.read_csv(\"state_postcode.csv\")\n",
    "    .convert_dtypes()\n",
    "    .astype({\n",
    "        \"postcode_min_range\": int,\n",
    "        \"postcode_max_range\": int,\n",
    "    })\n",
    ")\n",
    "\n",
    "postcode_ranges = pd.arrays.IntervalArray.from_arrays(\n",
    "    left=state_postcode.postcode_min_range,\n",
    "    right=state_postcode.postcode_max_range,\n",
    "    closed=\"both\",\n",
    ")\n",
    "\n",
    "validate_postcode = lambda p: postcode_ranges.contains(int(p)).any()\n",
    "\n",
    "postcode_ranges_per_state = {\n",
    "    state: pd.arrays.IntervalArray.from_arrays(\n",
    "        left=postcode.postcode_min_range,\n",
    "        right=postcode.postcode_max_range,\n",
    "        closed=\"both\",\n",
    "    )\n",
    "    for state, postcode\n",
    "    in state_postcode.groupby(by=\"state\").agg(tuple).iterrows()\n",
    "}\n",
    "\n",
    "validate_state_postcode = lambda s, p: postcode_ranges_per_state[s].contains(int(p)).any()"
   ]
  },
  {
   "cell_type": "code",
   "execution_count": 25,
   "metadata": {},
   "outputs": [
    {
     "output_type": "execute_result",
     "data": {
      "text/plain": "count     19599\nunique     2005\ntop        4350\nfreq         94\nName: postcode, dtype: object"
     },
     "metadata": {},
     "execution_count": 25
    }
   ],
   "source": [
    "postcodes = df_patient.postcode.dropna().unique()\n",
    "\n",
    "to_replace = {p: pd.NA for p in postcodes if not validate_postcode(p)}\n",
    "\n",
    "df_patient.postcode.replace(to_replace, inplace=True)\n",
    "\n",
    "df_patient.postcode.describe()"
   ]
  },
  {
   "cell_type": "markdown",
   "metadata": {},
   "source": [
    "Assainissement de l'attribut état"
   ]
  },
  {
   "cell_type": "code",
   "execution_count": 26,
   "metadata": {},
   "outputs": [
    {
     "output_type": "execute_result",
     "data": {
      "text/plain": "nsw    6129\nvic    4324\nqld    3507\nwa     1580\nsa     1380\ntas     508\nact     243\nnt      134\nName: state, dtype: int64"
     },
     "metadata": {},
     "execution_count": 26
    }
   ],
   "source": [
    "from itertools import product\n",
    "from textdistance import damerau_levenshtein\n",
    "\n",
    "states = {'act', 'nsw', 'nt', 'qld', 'sa', 'tas', 'vic', 'wa'}\n",
    "codes = set(df_patient.state.dropna().unique()) - states\n",
    "\n",
    "df = pd.Series(\n",
    "    data=[damerau_levenshtein(c, s) for c, s in product(codes, states)],\n",
    "    index=pd.MultiIndex.from_product([codes, states], names=[\"code\", \"state\"]),\n",
    "    name=\"distance\",\n",
    ")\n",
    "\n",
    "to_replace = dict(\n",
    "    df[df == 1].index.to_frame()\n",
    "    .drop_duplicates(subset=\"code\", keep=False).index\n",
    ")\n",
    "\n",
    "codes_na = codes - set(to_replace.keys())\n",
    "\n",
    "to_replace.update({s: pd.NA for s in codes_na})\n",
    "\n",
    "df_patient.state.replace(to_replace, inplace=True)\n",
    "\n",
    "df_patient.state.value_counts()"
   ]
  },
  {
   "cell_type": "markdown",
   "metadata": {},
   "source": [
    "Nettoyage des états incohérents avec le code postal"
   ]
  },
  {
   "cell_type": "code",
   "execution_count": 27,
   "metadata": {},
   "outputs": [
    {
     "output_type": "execute_result",
     "data": {
      "text/plain": "nsw    2087\nvic    1086\nqld     765\nwa      158\nsa      108\ntas      19\nact       6\nnt        3\nName: state, dtype: int64"
     },
     "metadata": {},
     "execution_count": 27
    }
   ],
   "source": [
    "df = df_patient[[\"postcode\", \"state\"]].dropna()\n",
    "\n",
    "where_incoherent = df.apply(\n",
    "    lambda x: not validate_state_postcode(x.state, x.postcode),\n",
    "    axis=\"columns\",\n",
    ")\n",
    "\n",
    "df_patient.loc[df[where_incoherent].index, \"state\"] = pd.NA\n",
    "\n",
    "df_patient.state.value_counts()"
   ]
  },
  {
   "cell_type": "markdown",
   "metadata": {},
   "source": [
    "Imputation des états manquants avec le code postal"
   ]
  },
  {
   "cell_type": "code",
   "execution_count": 28,
   "metadata": {},
   "outputs": [
    {
     "output_type": "execute_result",
     "data": {
      "text/plain": "nsw    6649\nvic    4882\nqld    3786\nwa     1838\nsa     1555\ntas     530\nact     365\nnt      176\nName: state, dtype: int64"
     },
     "metadata": {},
     "execution_count": 28
    }
   ],
   "source": [
    "df = df_patient[df_patient.state.isna()].postcode.dropna()\n",
    "\n",
    "postcodes = df.unique()\n",
    "\n",
    "to_replace = pd.Series(\n",
    "    data={\n",
    "        postcode: state\n",
    "        for postcode, state in product(postcodes, states)\n",
    "        if validate_state_postcode(state, postcode)\n",
    "    },\n",
    ").to_dict()\n",
    "\n",
    "df = df.replace(to_replace).rename(\"state\")\n",
    "\n",
    "df_patient.update(df)\n",
    "\n",
    "df_patient.state.value_counts()"
   ]
  },
  {
   "cell_type": "markdown",
   "metadata": {},
   "source": [
    "Dedup exact matches"
   ]
  },
  {
   "cell_type": "code",
   "execution_count": null,
   "metadata": {},
   "outputs": [],
   "source": [
    "df_dup = df_patient.loc[df_patient.drop(columns=[\"patient_id\"]).duplicated(keep=False)]\n",
    "df_nodup = df_patient.loc[df_patient.drop(columns=[\"patient_id\"]).duplicated()]"
   ]
  },
  {
   "cell_type": "code",
   "execution_count": null,
   "metadata": {},
   "outputs": [],
   "source": [
    "df = df_dup.merge(df_nodup, on=\"phone_number\")[[\"phone_number\", \"patient_id_x\", \"patient_id_y\"]]\\\n",
    "    .dropna().drop(columns=[\"phone_number\"]).set_axis(labels=[\"patient_id\", \"dedup_id\"], axis=\"columns\")\n",
    "\n",
    "df_patient_dedup = df.copy()\n",
    "df.sort_values(\"dedup_id\")"
   ]
  },
  {
   "cell_type": "code",
   "execution_count": null,
   "metadata": {},
   "outputs": [],
   "source": [
    "df = df_dup.merge(df_nodup, on=\"date_of_birth\")[[\"date_of_birth\", \"patient_id_x\", \"patient_id_y\"]]\\\n",
    "    .dropna().drop(columns=[\"date_of_birth\"]).set_axis(labels=[\"patient_id\", \"dedup_id\"], axis=\"columns\")\n",
    "\n",
    "df_patient_dedup.combine_first(df)"
   ]
  },
  {
   "cell_type": "code",
   "execution_count": null,
   "metadata": {},
   "outputs": [],
   "source": []
  }
 ]
}